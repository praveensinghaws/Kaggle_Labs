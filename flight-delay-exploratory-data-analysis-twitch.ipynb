{
 "cells": [
  {
   "cell_type": "markdown",
   "id": "0a5d4759",
   "metadata": {
    "papermill": {
     "duration": 0.009911,
     "end_time": "2024-03-18T09:11:05.689494",
     "exception": false,
     "start_time": "2024-03-18T09:11:05.679583",
     "status": "completed"
    },
    "tags": []
   },
   "source": [
    "# Flight Data Exploration\n",
    "\n",
    "* Created live on stream.\n",
    "Watch the video here: https://youtu.be/xs_L6z9QNYY"
   ]
  },
  {
   "cell_type": "code",
   "execution_count": 1,
   "id": "6319cff3",
   "metadata": {
    "execution": {
     "iopub.execute_input": "2024-03-18T09:11:05.709328Z",
     "iopub.status.busy": "2024-03-18T09:11:05.708565Z",
     "iopub.status.idle": "2024-03-18T09:11:06.844020Z",
     "shell.execute_reply": "2024-03-18T09:11:06.842878Z"
    },
    "papermill": {
     "duration": 1.148742,
     "end_time": "2024-03-18T09:11:06.847088",
     "exception": false,
     "start_time": "2024-03-18T09:11:05.698346",
     "status": "completed"
    },
    "tags": []
   },
   "outputs": [],
   "source": [
    "import pandas as pd\n",
    "import numpy as np\n",
    "import matplotlib.pyplot as plt\n",
    "import seaborn as sns\n",
    "from glob import glob\n",
    "\n",
    "pd.set_option(\"display.max_columns\", 500)\n",
    "plt.style.use(\"seaborn-colorblind\")\n",
    "pal = sns.color_palette()"
   ]
  },
  {
   "cell_type": "code",
   "execution_count": 2,
   "id": "9f387901",
   "metadata": {
    "execution": {
     "iopub.execute_input": "2024-03-18T09:11:06.868592Z",
     "iopub.status.busy": "2024-03-18T09:11:06.868172Z",
     "iopub.status.idle": "2024-03-18T09:11:07.902984Z",
     "shell.execute_reply": "2024-03-18T09:11:07.901440Z"
    },
    "papermill": {
     "duration": 1.047798,
     "end_time": "2024-03-18T09:11:07.905850",
     "exception": false,
     "start_time": "2024-03-18T09:11:06.858052",
     "status": "completed"
    },
    "tags": []
   },
   "outputs": [
    {
     "name": "stdout",
     "output_type": "stream",
     "text": [
      "216M -rw-r--r-- 1 nobody 216M Mar 11 22:55 Combined_Flights_2018.parquet\r\n",
      "295M -rw-r--r-- 1 nobody 295M Mar 11 22:55 Combined_Flights_2019.parquet\r\n",
      "175M -rw-r--r-- 1 nobody 175M Mar 11 22:55 Combined_Flights_2020.parquet\r\n",
      "232M -rw-r--r-- 1 nobody 232M Mar 11 22:55 Combined_Flights_2021.parquet\r\n",
      "143M -rw-r--r-- 1 nobody 143M Mar 11 22:55 Combined_Flights_2022.parquet\r\n"
     ]
    }
   ],
   "source": [
    "!ls -GFlash ../input/flight-delay-dataset-20182022/ | grep parquet"
   ]
  },
  {
   "cell_type": "code",
   "execution_count": 3,
   "id": "e5a86143",
   "metadata": {
    "execution": {
     "iopub.execute_input": "2024-03-18T09:11:07.925364Z",
     "iopub.status.busy": "2024-03-18T09:11:07.924903Z",
     "iopub.status.idle": "2024-03-18T09:11:08.941672Z",
     "shell.execute_reply": "2024-03-18T09:11:08.940317Z"
    },
    "papermill": {
     "duration": 1.02976,
     "end_time": "2024-03-18T09:11:08.944264",
     "exception": false,
     "start_time": "2024-03-18T09:11:07.914504",
     "status": "completed"
    },
    "tags": []
   },
   "outputs": [
    {
     "name": "stdout",
     "output_type": "stream",
     "text": [
      " 40K -rw-r--r-- 1 nobody  39K Mar 11 22:54 Airlines.csv\r\n",
      "1.9G -rw-r--r-- 1 nobody 1.9G Mar 11 22:56 Combined_Flights_2018.csv\r\n",
      "2.7G -rw-r--r-- 1 nobody 2.7G Mar 11 22:56 Combined_Flights_2019.csv\r\n",
      "1.7G -rw-r--r-- 1 nobody 1.7G Mar 11 22:56 Combined_Flights_2020.csv\r\n",
      "2.1G -rw-r--r-- 1 nobody 2.1G Mar 11 22:56 Combined_Flights_2021.csv\r\n",
      "1.4G -rw-r--r-- 1 nobody 1.4G Mar 11 22:56 Combined_Flights_2022.csv\r\n"
     ]
    }
   ],
   "source": [
    "!ls -GFlash ../input/flight-delay-dataset-20182022/ | grep csv"
   ]
  },
  {
   "cell_type": "markdown",
   "id": "e61cacb5",
   "metadata": {
    "papermill": {
     "duration": 0.010057,
     "end_time": "2024-03-18T09:11:08.963024",
     "exception": false,
     "start_time": "2024-03-18T09:11:08.952967",
     "status": "completed"
    },
    "tags": []
   },
   "source": [
    "# Read in and Format Data"
   ]
  },
  {
   "cell_type": "code",
   "execution_count": 4,
   "id": "72327411",
   "metadata": {
    "execution": {
     "iopub.execute_input": "2024-03-18T09:11:08.983269Z",
     "iopub.status.busy": "2024-03-18T09:11:08.982620Z",
     "iopub.status.idle": "2024-03-18T09:11:08.989320Z",
     "shell.execute_reply": "2024-03-18T09:11:08.987883Z"
    },
    "papermill": {
     "duration": 0.020052,
     "end_time": "2024-03-18T09:11:08.992003",
     "exception": false,
     "start_time": "2024-03-18T09:11:08.971951",
     "status": "completed"
    },
    "tags": []
   },
   "outputs": [],
   "source": [
    "parquet_files = glob(\"../input/flight-delay-dataset-20182022/*.parquet\")"
   ]
  },
  {
   "cell_type": "code",
   "execution_count": 5,
   "id": "2a0e26e4",
   "metadata": {
    "execution": {
     "iopub.execute_input": "2024-03-18T09:11:09.012364Z",
     "iopub.status.busy": "2024-03-18T09:11:09.011595Z",
     "iopub.status.idle": "2024-03-18T09:12:16.762934Z",
     "shell.execute_reply": "2024-03-18T09:12:16.761511Z"
    },
    "papermill": {
     "duration": 67.7653,
     "end_time": "2024-03-18T09:12:16.765969",
     "exception": false,
     "start_time": "2024-03-18T09:11:09.000669",
     "status": "completed"
    },
    "tags": []
   },
   "outputs": [],
   "source": [
    "column_subset = [\n",
    "    \"FlightDate\",\n",
    "    \"Airline\",\n",
    "    \"Flight_Number_Marketing_Airline\",\n",
    "    \"Origin\",\n",
    "    \"Dest\",\n",
    "    \"Cancelled\",\n",
    "    \"Diverted\",\n",
    "    \"CRSDepTime\",\n",
    "    \"DepTime\",\n",
    "    \"DepDelayMinutes\",\n",
    "    \"OriginAirportID\",\n",
    "    \"OriginCityName\",\n",
    "    \"OriginStateName\",\n",
    "    \"DestAirportID\",\n",
    "    \"DestCityName\",\n",
    "    \"DestStateName\",\n",
    "    \"TaxiOut\",\n",
    "    \"TaxiIn\",\n",
    "    \"CRSArrTime\",\n",
    "    \"ArrTime\",\n",
    "    \"ArrDelayMinutes\",\n",
    "]\n",
    "\n",
    "dfs = []\n",
    "for f in parquet_files:\n",
    "    dfs.append(pd.read_parquet(f, columns=column_subset))\n",
    "df = pd.concat(dfs).reset_index(drop=True)\n",
    "\n",
    "cat_cols = [\"Airline\", \"Origin\", \"Dest\", \"OriginStateName\", \"DestStateName\"]\n",
    "for c in cat_cols:\n",
    "    df[c] = df[c].astype(\"category\")"
   ]
  },
  {
   "cell_type": "markdown",
   "id": "603e39e9",
   "metadata": {
    "papermill": {
     "duration": 0.008446,
     "end_time": "2024-03-18T09:12:16.783576",
     "exception": false,
     "start_time": "2024-03-18T09:12:16.775130",
     "status": "completed"
    },
    "tags": []
   },
   "source": [
    "# Understand the `DepDelayMinutes` Variable"
   ]
  },
  {
   "cell_type": "code",
   "execution_count": 6,
   "id": "80cac595",
   "metadata": {
    "execution": {
     "iopub.execute_input": "2024-03-18T09:12:16.803932Z",
     "iopub.status.busy": "2024-03-18T09:12:16.802652Z",
     "iopub.status.idle": "2024-03-18T09:12:24.297525Z",
     "shell.execute_reply": "2024-03-18T09:12:24.296293Z"
    },
    "papermill": {
     "duration": 7.508085,
     "end_time": "2024-03-18T09:12:24.300424",
     "exception": false,
     "start_time": "2024-03-18T09:12:16.792339",
     "status": "completed"
    },
    "tags": []
   },
   "outputs": [
    {
     "data": {
      "image/png": "[encoded data removed]",
      "text/plain": [
       "<Figure size 432x288 with 1 Axes>"
      ]
     },
     "metadata": {
      "needs_background": "light"
     },
     "output_type": "display_data"
    }
   ],
   "source": [
    "df.query(\"DepDelayMinutes < 30\")[\"DepDelayMinutes\"].plot(\n",
    "    kind=\"hist\", bins=30, title=\"Distribution of Flight Delays < 30 Min\"\n",
    ")\n",
    "plt.show()"
   ]
  },
  {
   "cell_type": "code",
   "execution_count": 7,
   "id": "2c3a622b",
   "metadata": {
    "execution": {
     "iopub.execute_input": "2024-03-18T09:12:24.320708Z",
     "iopub.status.busy": "2024-03-18T09:12:24.320159Z",
     "iopub.status.idle": "2024-03-18T09:12:27.091575Z",
     "shell.execute_reply": "2024-03-18T09:12:27.090743Z"
    },
    "papermill": {
     "duration": 2.784687,
     "end_time": "2024-03-18T09:12:27.094264",
     "exception": false,
     "start_time": "2024-03-18T09:12:24.309577",
     "status": "completed"
    },
    "tags": []
   },
   "outputs": [
    {
     "data": {
      "image/png": "[encoded data removed]",
      "text/plain": [
       "<Figure size 432x288 with 1 Axes>"
      ]
     },
     "metadata": {
      "needs_background": "light"
     },
     "output_type": "display_data"
    }
   ],
   "source": [
    "df.query(\"DepDelayMinutes > 1 and DepDelayMinutes < 61\")[\"DepDelayMinutes\"].plot(\n",
    "    kind=\"hist\", bins=30, title=\"Distribution of Flight Delays < 30 Min\"\n",
    ")\n",
    "plt.show()"
   ]
  },
  {
   "cell_type": "markdown",
   "id": "c43f7976",
   "metadata": {
    "papermill": {
     "duration": 0.009003,
     "end_time": "2024-03-18T09:12:27.112441",
     "exception": false,
     "start_time": "2024-03-18T09:12:27.103438",
     "status": "completed"
    },
    "tags": []
   },
   "source": [
    "# Grouping of Delays\n",
    "Per Wikipedia https://en.wikipedia.org/wiki/Flight_cancellation_and_delay:\n",
    "```\n",
    "Delays are divided into three categories, namely \"on time or small delay\" (up to 15 minutes delay), \"Medium delay\" (15 – 45 minutes delay) and \"Large delay\" ( 45 minutes delay). \n",
    "```"
   ]
  },
  {
   "cell_type": "code",
   "execution_count": 8,
   "id": "58ce7d05",
   "metadata": {
    "execution": {
     "iopub.execute_input": "2024-03-18T09:12:27.133786Z",
     "iopub.status.busy": "2024-03-18T09:12:27.132497Z",
     "iopub.status.idle": "2024-03-18T09:12:35.258521Z",
     "shell.execute_reply": "2024-03-18T09:12:35.257333Z"
    },
    "papermill": {
     "duration": 8.139487,
     "end_time": "2024-03-18T09:12:35.261137",
     "exception": false,
     "start_time": "2024-03-18T09:12:27.121650",
     "status": "completed"
    },
    "tags": []
   },
   "outputs": [],
   "source": [
    "df[\"DelayGroup\"] = None\n",
    "df.loc[df[\"DepDelayMinutes\"] == 0, \"DelayGroup\"] = \"OnTime_Early\"\n",
    "df.loc[\n",
    "    (df[\"DepDelayMinutes\"] > 0) & (df[\"DepDelayMinutes\"] <= 15), \"DelayGroup\"\n",
    "] = \"Small_Delay\"\n",
    "df.loc[\n",
    "    (df[\"DepDelayMinutes\"] > 15) & (df[\"DepDelayMinutes\"] <= 45), \"DelayGroup\"\n",
    "] = \"Medium_Delay\"\n",
    "df.loc[df[\"DepDelayMinutes\"] > 45, \"DelayGroup\"] = \"Large_Delay\"\n",
    "df.loc[df[\"Cancelled\"], \"DelayGroup\"] = \"Cancelled\""
   ]
  },
  {
   "cell_type": "code",
   "execution_count": 9,
   "id": "8e30f33e",
   "metadata": {
    "execution": {
     "iopub.execute_input": "2024-03-18T09:12:35.282615Z",
     "iopub.status.busy": "2024-03-18T09:12:35.281411Z",
     "iopub.status.idle": "2024-03-18T09:12:36.815725Z",
     "shell.execute_reply": "2024-03-18T09:12:36.814818Z"
    },
    "papermill": {
     "duration": 1.547245,
     "end_time": "2024-03-18T09:12:36.817961",
     "exception": false,
     "start_time": "2024-03-18T09:12:35.270716",
     "status": "completed"
    },
    "tags": []
   },
   "outputs": [
    {
     "data": {
      "image/png": "[encoded data removed]",
      "text/plain": [
       "<Figure size 720x360 with 1 Axes>"
      ]
     },
     "metadata": {
      "needs_background": "light"
     },
     "output_type": "display_data"
    }
   ],
   "source": [
    "df[\"DelayGroup\"].value_counts(ascending=True).plot(\n",
    "    kind=\"barh\", figsize=(10, 5), color=pal[1], title=\"Flight Results (2018-2022)\"\n",
    ")\n",
    "plt.show()"
   ]
  },
  {
   "cell_type": "markdown",
   "id": "49ced9ac",
   "metadata": {
    "papermill": {
     "duration": 0.009599,
     "end_time": "2024-03-18T09:12:36.837267",
     "exception": false,
     "start_time": "2024-03-18T09:12:36.827668",
     "status": "completed"
    },
    "tags": []
   },
   "source": [
    "# How Many Flights Per Year?"
   ]
  },
  {
   "cell_type": "code",
   "execution_count": 10,
   "id": "08f6a536",
   "metadata": {
    "execution": {
     "iopub.execute_input": "2024-03-18T09:12:36.859656Z",
     "iopub.status.busy": "2024-03-18T09:12:36.858914Z",
     "iopub.status.idle": "2024-03-18T09:12:40.033377Z",
     "shell.execute_reply": "2024-03-18T09:12:40.032222Z"
    },
    "papermill": {
     "duration": 3.188462,
     "end_time": "2024-03-18T09:12:40.036043",
     "exception": false,
     "start_time": "2024-03-18T09:12:36.847581",
     "status": "completed"
    },
    "tags": []
   },
   "outputs": [
    {
     "data": {
      "image/png": "[encoded data removed]",
      "text/plain": [
       "<Figure size 720x360 with 1 Axes>"
      ]
     },
     "metadata": {
      "needs_background": "light"
     },
     "output_type": "display_data"
    }
   ],
   "source": [
    "df[\"Year\"] = df['FlightDate'].dt.year\n",
    "df[\"Year\"].value_counts().sort_index().plot(\n",
    "    kind=\"bar\", figsize=(10, 5), title=\"Scheduled Flights Per Year\"\n",
    ")\n",
    "plt.show()"
   ]
  },
  {
   "cell_type": "markdown",
   "id": "dd24bff8",
   "metadata": {
    "papermill": {
     "duration": 0.009867,
     "end_time": "2024-03-18T09:12:40.056034",
     "exception": false,
     "start_time": "2024-03-18T09:12:40.046167",
     "status": "completed"
    },
    "tags": []
   },
   "source": [
    "# What is the % of Flight Results by Year"
   ]
  },
  {
   "cell_type": "code",
   "execution_count": 11,
   "id": "444aebce",
   "metadata": {
    "execution": {
     "iopub.execute_input": "2024-03-18T09:12:40.077935Z",
     "iopub.status.busy": "2024-03-18T09:12:40.077512Z",
     "iopub.status.idle": "2024-03-18T09:12:48.989821Z",
     "shell.execute_reply": "2024-03-18T09:12:48.988849Z"
    },
    "papermill": {
     "duration": 8.92603,
     "end_time": "2024-03-18T09:12:48.992168",
     "exception": false,
     "start_time": "2024-03-18T09:12:40.066138",
     "status": "completed"
    },
    "tags": []
   },
   "outputs": [
    {
     "data": {
      "text/html": [
       "<style type=\"text/css\">\n",
       "#T_f95a7_row0_col0 {\n",
       "  background-color: #b6e2af;\n",
       "  color: #000000;\n",
       "}\n",
       "#T_f95a7_row0_col1 {\n",
       "  background-color: #087432;\n",
       "  color: #f1f1f1;\n",
       "}\n",
       "#T_f95a7_row0_col2 {\n",
       "  background-color: #19833e;\n",
       "  color: #f1f1f1;\n",
       "}\n",
       "#T_f95a7_row0_col3 {\n",
       "  background-color: #18823d;\n",
       "  color: #f1f1f1;\n",
       "}\n",
       "#T_f95a7_row0_col4, #T_f95a7_row2_col1, #T_f95a7_row2_col2, #T_f95a7_row2_col3, #T_f95a7_row4_col0 {\n",
       "  background-color: #f7fcf5;\n",
       "  color: #000000;\n",
       "}\n",
       "#T_f95a7_row1_col0 {\n",
       "  background-color: #acdea6;\n",
       "  color: #000000;\n",
       "}\n",
       "#T_f95a7_row1_col1 {\n",
       "  background-color: #228a44;\n",
       "  color: #f1f1f1;\n",
       "}\n",
       "#T_f95a7_row1_col2 {\n",
       "  background-color: #2d954d;\n",
       "  color: #f1f1f1;\n",
       "}\n",
       "#T_f95a7_row1_col3 {\n",
       "  background-color: #067230;\n",
       "  color: #f1f1f1;\n",
       "}\n",
       "#T_f95a7_row1_col4 {\n",
       "  background-color: #ecf8e8;\n",
       "  color: #000000;\n",
       "}\n",
       "#T_f95a7_row2_col0, #T_f95a7_row2_col4, #T_f95a7_row4_col1, #T_f95a7_row4_col2, #T_f95a7_row4_col3 {\n",
       "  background-color: #00441b;\n",
       "  color: #f1f1f1;\n",
       "}\n",
       "#T_f95a7_row3_col0 {\n",
       "  background-color: #98d594;\n",
       "  color: #000000;\n",
       "}\n",
       "#T_f95a7_row3_col1 {\n",
       "  background-color: #137d39;\n",
       "  color: #f1f1f1;\n",
       "}\n",
       "#T_f95a7_row3_col2 {\n",
       "  background-color: #329b51;\n",
       "  color: #f1f1f1;\n",
       "}\n",
       "#T_f95a7_row3_col3 {\n",
       "  background-color: #3ca559;\n",
       "  color: #f1f1f1;\n",
       "}\n",
       "#T_f95a7_row3_col4 {\n",
       "  background-color: #f1faee;\n",
       "  color: #000000;\n",
       "}\n",
       "#T_f95a7_row4_col4 {\n",
       "  background-color: #afdfa8;\n",
       "  color: #000000;\n",
       "}\n",
       "</style>\n",
       "<table id=\"T_f95a7_\">\n",
       "  <thead>\n",
       "    <tr>\n",
       "      <th class=\"index_name level0\" >DelayGroup</th>\n",
       "      <th class=\"col_heading level0 col0\" >OnTime_Early</th>\n",
       "      <th class=\"col_heading level0 col1\" >Small_Delay</th>\n",
       "      <th class=\"col_heading level0 col2\" >Medium_Delay</th>\n",
       "      <th class=\"col_heading level0 col3\" >Large_Delay</th>\n",
       "      <th class=\"col_heading level0 col4\" >Cancelled</th>\n",
       "    </tr>\n",
       "    <tr>\n",
       "      <th class=\"index_name level0\" >Year</th>\n",
       "      <th class=\"blank col0\" >&nbsp;</th>\n",
       "      <th class=\"blank col1\" >&nbsp;</th>\n",
       "      <th class=\"blank col2\" >&nbsp;</th>\n",
       "      <th class=\"blank col3\" >&nbsp;</th>\n",
       "      <th class=\"blank col4\" >&nbsp;</th>\n",
       "    </tr>\n",
       "  </thead>\n",
       "  <tbody>\n",
       "    <tr>\n",
       "      <th id=\"T_f95a7_level0_row0\" class=\"row_heading level0 row0\" >2018</th>\n",
       "      <td id=\"T_f95a7_row0_col0\" class=\"data row0 col0\" >64.115615</td>\n",
       "      <td id=\"T_f95a7_row0_col1\" class=\"data row0 col1\" >16.474583</td>\n",
       "      <td id=\"T_f95a7_row0_col2\" class=\"data row0 col2\" >9.538448</td>\n",
       "      <td id=\"T_f95a7_row0_col3\" class=\"data row0 col3\" >8.317789</td>\n",
       "      <td id=\"T_f95a7_row0_col4\" class=\"data row0 col4\" >1.553565</td>\n",
       "    </tr>\n",
       "    <tr>\n",
       "      <th id=\"T_f95a7_level0_row1\" class=\"row_heading level0 row1\" >2019</th>\n",
       "      <td id=\"T_f95a7_row1_col0\" class=\"data row1 col0\" >64.619787</td>\n",
       "      <td id=\"T_f95a7_row1_col1\" class=\"data row1 col1\" >15.716778</td>\n",
       "      <td id=\"T_f95a7_row1_col2\" class=\"data row1 col2\" >9.081583</td>\n",
       "      <td id=\"T_f95a7_row1_col3\" class=\"data row1 col3\" >8.683248</td>\n",
       "      <td id=\"T_f95a7_row1_col4\" class=\"data row1 col4\" >1.898604</td>\n",
       "    </tr>\n",
       "    <tr>\n",
       "      <th id=\"T_f95a7_level0_row2\" class=\"row_heading level0 row2\" >2020</th>\n",
       "      <td id=\"T_f95a7_row2_col0\" class=\"data row2 col0\" >76.052291</td>\n",
       "      <td id=\"T_f95a7_row2_col1\" class=\"data row2 col1\" >9.653418</td>\n",
       "      <td id=\"T_f95a7_row2_col2\" class=\"data row2 col2\" >4.572319</td>\n",
       "      <td id=\"T_f95a7_row2_col3\" class=\"data row2 col3\" >3.727722</td>\n",
       "      <td id=\"T_f95a7_row2_col4\" class=\"data row2 col4\" >5.994249</td>\n",
       "    </tr>\n",
       "    <tr>\n",
       "      <th id=\"T_f95a7_level0_row3\" class=\"row_heading level0 row3\" >2021</th>\n",
       "      <td id=\"T_f95a7_row3_col0\" class=\"data row3 col0\" >65.698142</td>\n",
       "      <td id=\"T_f95a7_row3_col1\" class=\"data row3 col1\" >16.145308</td>\n",
       "      <td id=\"T_f95a7_row3_col2\" class=\"data row3 col2\" >8.917879</td>\n",
       "      <td id=\"T_f95a7_row3_col3\" class=\"data row3 col3\" >7.479795</td>\n",
       "      <td id=\"T_f95a7_row3_col4\" class=\"data row3 col4\" >1.758876</td>\n",
       "    </tr>\n",
       "    <tr>\n",
       "      <th id=\"T_f95a7_level0_row4\" class=\"row_heading level0 row4\" >2022</th>\n",
       "      <td id=\"T_f95a7_row4_col0\" class=\"data row4 col0\" >58.801153</td>\n",
       "      <td id=\"T_f95a7_row4_col1\" class=\"data row4 col1\" >17.706368</td>\n",
       "      <td id=\"T_f95a7_row4_col2\" class=\"data row4 col2\" >10.926539</td>\n",
       "      <td id=\"T_f95a7_row4_col3\" class=\"data row4 col3\" >9.545283</td>\n",
       "      <td id=\"T_f95a7_row4_col4\" class=\"data row4 col4\" >3.020657</td>\n",
       "    </tr>\n",
       "  </tbody>\n",
       "</table>\n"
      ],
      "text/plain": [
       "<pandas.io.formats.style.Styler at 0x7aec78b71fd0>"
      ]
     },
     "execution_count": 11,
     "metadata": {},
     "output_type": "execute_result"
    }
   ],
   "source": [
    "df[\"Year\"] = df[\"FlightDate\"].dt.year\n",
    "df_agg = df.groupby(\"Year\")[\"DelayGroup\"].value_counts(normalize=True).unstack() * 100\n",
    "col_order = [\"OnTime_Early\", \"Small_Delay\", \"Medium_Delay\", \"Large_Delay\", \"Cancelled\"]\n",
    "df_agg[col_order].style.background_gradient(cmap=\"Greens\")"
   ]
  },
  {
   "cell_type": "markdown",
   "id": "be8f1274",
   "metadata": {
    "papermill": {
     "duration": 0.009622,
     "end_time": "2024-03-18T09:12:49.012046",
     "exception": false,
     "start_time": "2024-03-18T09:12:49.002424",
     "status": "completed"
    },
    "tags": []
   },
   "source": [
    "# Results by Month"
   ]
  },
  {
   "cell_type": "code",
   "execution_count": 12,
   "id": "288b4633",
   "metadata": {
    "execution": {
     "iopub.execute_input": "2024-03-18T09:12:49.034183Z",
     "iopub.status.busy": "2024-03-18T09:12:49.033260Z",
     "iopub.status.idle": "2024-03-18T09:12:58.228149Z",
     "shell.execute_reply": "2024-03-18T09:12:58.226988Z"
    },
    "papermill": {
     "duration": 9.20889,
     "end_time": "2024-03-18T09:12:58.230993",
     "exception": false,
     "start_time": "2024-03-18T09:12:49.022103",
     "status": "completed"
    },
    "tags": []
   },
   "outputs": [
    {
     "data": {
      "text/html": [
       "<style type=\"text/css\">\n",
       "#T_82669_row0_col0 {\n",
       "  background-color: #3c8cc3;\n",
       "  color: #f1f1f1;\n",
       "}\n",
       "#T_82669_row0_col1 {\n",
       "  background-color: #d1e2f3;\n",
       "  color: #000000;\n",
       "}\n",
       "#T_82669_row0_col2 {\n",
       "  background-color: #bad6eb;\n",
       "  color: #000000;\n",
       "}\n",
       "#T_82669_row0_col3 {\n",
       "  background-color: #c3daee;\n",
       "  color: #000000;\n",
       "}\n",
       "#T_82669_row0_col4 {\n",
       "  background-color: #a4cce3;\n",
       "  color: #000000;\n",
       "}\n",
       "#T_82669_row1_col0, #T_82669_row9_col1 {\n",
       "  background-color: #91c3de;\n",
       "  color: #000000;\n",
       "}\n",
       "#T_82669_row1_col1 {\n",
       "  background-color: #66abd4;\n",
       "  color: #f1f1f1;\n",
       "}\n",
       "#T_82669_row1_col2 {\n",
       "  background-color: #64a9d3;\n",
       "  color: #f1f1f1;\n",
       "}\n",
       "#T_82669_row1_col3 {\n",
       "  background-color: #89bedc;\n",
       "  color: #000000;\n",
       "}\n",
       "#T_82669_row1_col4, #T_82669_row7_col0 {\n",
       "  background-color: #9cc9e1;\n",
       "  color: #000000;\n",
       "}\n",
       "#T_82669_row2_col0 {\n",
       "  background-color: #68acd5;\n",
       "  color: #f1f1f1;\n",
       "}\n",
       "#T_82669_row2_col1, #T_82669_row2_col2 {\n",
       "  background-color: #c7dcef;\n",
       "  color: #000000;\n",
       "}\n",
       "#T_82669_row2_col3 {\n",
       "  background-color: #e8f1fa;\n",
       "  color: #000000;\n",
       "}\n",
       "#T_82669_row2_col4 {\n",
       "  background-color: #1966ad;\n",
       "  color: #f1f1f1;\n",
       "}\n",
       "#T_82669_row3_col0 {\n",
       "  background-color: #a0cbe2;\n",
       "  color: #000000;\n",
       "}\n",
       "#T_82669_row3_col1, #T_82669_row7_col4 {\n",
       "  background-color: #cddff1;\n",
       "  color: #000000;\n",
       "}\n",
       "#T_82669_row3_col2, #T_82669_row10_col2 {\n",
       "  background-color: #bfd8ed;\n",
       "  color: #000000;\n",
       "}\n",
       "#T_82669_row3_col3 {\n",
       "  background-color: #cbdef1;\n",
       "  color: #000000;\n",
       "}\n",
       "#T_82669_row3_col4, #T_82669_row5_col1, #T_82669_row5_col2, #T_82669_row5_col3, #T_82669_row8_col0 {\n",
       "  background-color: #08306b;\n",
       "  color: #f1f1f1;\n",
       "}\n",
       "#T_82669_row4_col0 {\n",
       "  background-color: #8fc2de;\n",
       "  color: #000000;\n",
       "}\n",
       "#T_82669_row4_col1 {\n",
       "  background-color: #2575b7;\n",
       "  color: #f1f1f1;\n",
       "}\n",
       "#T_82669_row4_col2 {\n",
       "  background-color: #58a1cf;\n",
       "  color: #f1f1f1;\n",
       "}\n",
       "#T_82669_row4_col3 {\n",
       "  background-color: #81badb;\n",
       "  color: #000000;\n",
       "}\n",
       "#T_82669_row4_col4 {\n",
       "  background-color: #d4e4f4;\n",
       "  color: #000000;\n",
       "}\n",
       "#T_82669_row5_col0, #T_82669_row8_col1, #T_82669_row8_col2, #T_82669_row8_col3, #T_82669_row10_col4 {\n",
       "  background-color: #f7fbff;\n",
       "  color: #000000;\n",
       "}\n",
       "#T_82669_row5_col4 {\n",
       "  background-color: #d2e3f3;\n",
       "  color: #000000;\n",
       "}\n",
       "#T_82669_row6_col0 {\n",
       "  background-color: #d3e3f3;\n",
       "  color: #000000;\n",
       "}\n",
       "#T_82669_row6_col1 {\n",
       "  background-color: #1e6db2;\n",
       "  color: #f1f1f1;\n",
       "}\n",
       "#T_82669_row6_col2 {\n",
       "  background-color: #125da6;\n",
       "  color: #f1f1f1;\n",
       "}\n",
       "#T_82669_row6_col3 {\n",
       "  background-color: #084e98;\n",
       "  color: #f1f1f1;\n",
       "}\n",
       "#T_82669_row6_col4 {\n",
       "  background-color: #dce9f6;\n",
       "  color: #000000;\n",
       "}\n",
       "#T_82669_row7_col1 {\n",
       "  background-color: #82bbdb;\n",
       "  color: #000000;\n",
       "}\n",
       "#T_82669_row7_col2 {\n",
       "  background-color: #4e9acb;\n",
       "  color: #f1f1f1;\n",
       "}\n",
       "#T_82669_row7_col3 {\n",
       "  background-color: #2a7ab9;\n",
       "  color: #f1f1f1;\n",
       "}\n",
       "#T_82669_row8_col4 {\n",
       "  background-color: #e5eff9;\n",
       "  color: #000000;\n",
       "}\n",
       "#T_82669_row9_col0 {\n",
       "  background-color: #2070b4;\n",
       "  color: #f1f1f1;\n",
       "}\n",
       "#T_82669_row9_col2 {\n",
       "  background-color: #b3d3e8;\n",
       "  color: #000000;\n",
       "}\n",
       "#T_82669_row9_col3 {\n",
       "  background-color: #dae8f6;\n",
       "  color: #000000;\n",
       "}\n",
       "#T_82669_row9_col4 {\n",
       "  background-color: #eef5fc;\n",
       "  color: #000000;\n",
       "}\n",
       "#T_82669_row10_col0 {\n",
       "  background-color: #1865ac;\n",
       "  color: #f1f1f1;\n",
       "}\n",
       "#T_82669_row10_col1 {\n",
       "  background-color: #6fb0d7;\n",
       "  color: #f1f1f1;\n",
       "}\n",
       "#T_82669_row10_col3 {\n",
       "  background-color: #f2f7fd;\n",
       "  color: #000000;\n",
       "}\n",
       "#T_82669_row11_col0 {\n",
       "  background-color: #a8cee4;\n",
       "  color: #000000;\n",
       "}\n",
       "#T_82669_row11_col1 {\n",
       "  background-color: #0a539e;\n",
       "  color: #f1f1f1;\n",
       "}\n",
       "#T_82669_row11_col2 {\n",
       "  background-color: #2171b5;\n",
       "  color: #f1f1f1;\n",
       "}\n",
       "#T_82669_row11_col3 {\n",
       "  background-color: #7db8da;\n",
       "  color: #000000;\n",
       "}\n",
       "#T_82669_row11_col4 {\n",
       "  background-color: #e3eef9;\n",
       "  color: #000000;\n",
       "}\n",
       "</style>\n",
       "<table id=\"T_82669_\">\n",
       "  <thead>\n",
       "    <tr>\n",
       "      <th class=\"index_name level0\" >DelayGroup</th>\n",
       "      <th class=\"col_heading level0 col0\" >OnTime_Early</th>\n",
       "      <th class=\"col_heading level0 col1\" >Small_Delay</th>\n",
       "      <th class=\"col_heading level0 col2\" >Medium_Delay</th>\n",
       "      <th class=\"col_heading level0 col3\" >Large_Delay</th>\n",
       "      <th class=\"col_heading level0 col4\" >Cancelled</th>\n",
       "    </tr>\n",
       "    <tr>\n",
       "      <th class=\"index_name level0\" >Month</th>\n",
       "      <th class=\"blank col0\" >&nbsp;</th>\n",
       "      <th class=\"blank col1\" >&nbsp;</th>\n",
       "      <th class=\"blank col2\" >&nbsp;</th>\n",
       "      <th class=\"blank col3\" >&nbsp;</th>\n",
       "      <th class=\"blank col4\" >&nbsp;</th>\n",
       "    </tr>\n",
       "  </thead>\n",
       "  <tbody>\n",
       "    <tr>\n",
       "      <th id=\"T_82669_level0_row0\" class=\"row_heading level0 row0\" >1</th>\n",
       "      <td id=\"T_82669_row0_col0\" class=\"data row0 col0\" >68.169907</td>\n",
       "      <td id=\"T_82669_row0_col1\" class=\"data row0 col1\" >13.961832</td>\n",
       "      <td id=\"T_82669_row0_col2\" class=\"data row0 col2\" >7.878093</td>\n",
       "      <td id=\"T_82669_row0_col3\" class=\"data row0 col3\" >7.008976</td>\n",
       "      <td id=\"T_82669_row0_col4\" class=\"data row0 col4\" >2.981192</td>\n",
       "    </tr>\n",
       "    <tr>\n",
       "      <th id=\"T_82669_level0_row1\" class=\"row_heading level0 row1\" >2</th>\n",
       "      <td id=\"T_82669_row1_col0\" class=\"data row1 col0\" >64.960611</td>\n",
       "      <td id=\"T_82669_row1_col1\" class=\"data row1 col1\" >15.300969</td>\n",
       "      <td id=\"T_82669_row1_col2\" class=\"data row1 col2\" >8.828322</td>\n",
       "      <td id=\"T_82669_row1_col3\" class=\"data row1 col3\" >7.786858</td>\n",
       "      <td id=\"T_82669_row1_col4\" class=\"data row1 col4\" >3.123240</td>\n",
       "    </tr>\n",
       "    <tr>\n",
       "      <th id=\"T_82669_level0_row2\" class=\"row_heading level0 row2\" >3</th>\n",
       "      <td id=\"T_82669_row2_col0\" class=\"data row2 col0\" >66.363322</td>\n",
       "      <td id=\"T_82669_row2_col1\" class=\"data row2 col1\" >14.172305</td>\n",
       "      <td id=\"T_82669_row2_col2\" class=\"data row2 col2\" >7.716007</td>\n",
       "      <td id=\"T_82669_row2_col3\" class=\"data row2 col3\" >6.173113</td>\n",
       "      <td id=\"T_82669_row2_col4\" class=\"data row2 col4\" >5.575252</td>\n",
       "    </tr>\n",
       "    <tr>\n",
       "      <th id=\"T_82669_level0_row3\" class=\"row_heading level0 row3\" >4</th>\n",
       "      <td id=\"T_82669_row3_col0\" class=\"data row3 col0\" >64.436275</td>\n",
       "      <td id=\"T_82669_row3_col1\" class=\"data row3 col1\" >14.051844</td>\n",
       "      <td id=\"T_82669_row3_col2\" class=\"data row3 col2\" >7.824258</td>\n",
       "      <td id=\"T_82669_row3_col3\" class=\"data row3 col3\" >6.853866</td>\n",
       "      <td id=\"T_82669_row3_col4\" class=\"data row3 col4\" >6.833756</td>\n",
       "    </tr>\n",
       "    <tr>\n",
       "      <th id=\"T_82669_level0_row4\" class=\"row_heading level0 row4\" >5</th>\n",
       "      <td id=\"T_82669_row4_col0\" class=\"data row4 col0\" >65.023841</td>\n",
       "      <td id=\"T_82669_row4_col1\" class=\"data row4 col1\" >16.224252</td>\n",
       "      <td id=\"T_82669_row4_col2\" class=\"data row4 col2\" >8.965554</td>\n",
       "      <td id=\"T_82669_row4_col3\" class=\"data row4 col3\" >7.875154</td>\n",
       "      <td id=\"T_82669_row4_col4\" class=\"data row4 col4\" >1.911198</td>\n",
       "    </tr>\n",
       "    <tr>\n",
       "      <th id=\"T_82669_level0_row5\" class=\"row_heading level0 row5\" >6</th>\n",
       "      <td id=\"T_82669_row5_col0\" class=\"data row5 col0\" >59.488265</td>\n",
       "      <td id=\"T_82669_row5_col1\" class=\"data row5 col1\" >17.349791</td>\n",
       "      <td id=\"T_82669_row5_col2\" class=\"data row5 col2\" >10.754222</td>\n",
       "      <td id=\"T_82669_row5_col3\" class=\"data row5 col3\" >10.442093</td>\n",
       "      <td id=\"T_82669_row5_col4\" class=\"data row5 col4\" >1.965629</td>\n",
       "    </tr>\n",
       "    <tr>\n",
       "      <th id=\"T_82669_level0_row6\" class=\"row_heading level0 row6\" >7</th>\n",
       "      <td id=\"T_82669_row6_col0\" class=\"data row6 col0\" >61.996702</td>\n",
       "      <td id=\"T_82669_row6_col1\" class=\"data row6 col1\" >16.361900</td>\n",
       "      <td id=\"T_82669_row6_col2\" class=\"data row6 col2\" >10.052315</td>\n",
       "      <td id=\"T_82669_row6_col3\" class=\"data row6 col3\" >9.906083</td>\n",
       "      <td id=\"T_82669_row6_col4\" class=\"data row6 col4\" >1.683000</td>\n",
       "    </tr>\n",
       "    <tr>\n",
       "      <th id=\"T_82669_level0_row7\" class=\"row_heading level0 row7\" >8</th>\n",
       "      <td id=\"T_82669_row7_col0\" class=\"data row7 col0\" >64.622096</td>\n",
       "      <td id=\"T_82669_row7_col1\" class=\"data row7 col1\" >15.009025</td>\n",
       "      <td id=\"T_82669_row7_col2\" class=\"data row7 col2\" >9.096512</td>\n",
       "      <td id=\"T_82669_row7_col3\" class=\"data row7 col3\" >9.137345</td>\n",
       "      <td id=\"T_82669_row7_col4\" class=\"data row7 col4\" >2.135022</td>\n",
       "    </tr>\n",
       "    <tr>\n",
       "      <th id=\"T_82669_level0_row8\" class=\"row_heading level0 row8\" >9</th>\n",
       "      <td id=\"T_82669_row8_col0\" class=\"data row8 col0\" >72.924881</td>\n",
       "      <td id=\"T_82669_row8_col1\" class=\"data row8 col1\" >13.140776</td>\n",
       "      <td id=\"T_82669_row8_col2\" class=\"data row8 col2\" >6.725733</td>\n",
       "      <td id=\"T_82669_row8_col3\" class=\"data row8 col3\" >5.813787</td>\n",
       "      <td id=\"T_82669_row8_col4\" class=\"data row8 col4\" >1.394822</td>\n",
       "    </tr>\n",
       "    <tr>\n",
       "      <th id=\"T_82669_level0_row9\" class=\"row_heading level0 row9\" >10</th>\n",
       "      <td id=\"T_82669_row9_col0\" class=\"data row9 col0\" >69.570264</td>\n",
       "      <td id=\"T_82669_row9_col1\" class=\"data row9 col1\" >14.859330</td>\n",
       "      <td id=\"T_82669_row9_col2\" class=\"data row9 col2\" >7.970955</td>\n",
       "      <td id=\"T_82669_row9_col3\" class=\"data row9 col3\" >6.487423</td>\n",
       "      <td id=\"T_82669_row9_col4\" class=\"data row9 col4\" >1.112028</td>\n",
       "    </tr>\n",
       "    <tr>\n",
       "      <th id=\"T_82669_level0_row10\" class=\"row_heading level0 row10\" >11</th>\n",
       "      <td id=\"T_82669_row10_col0\" class=\"data row10 col0\" >70.182986</td>\n",
       "      <td id=\"T_82669_row10_col1\" class=\"data row10 col1\" >15.208750</td>\n",
       "      <td id=\"T_82669_row10_col2\" class=\"data row10 col2\" >7.826532</td>\n",
       "      <td id=\"T_82669_row10_col3\" class=\"data row10 col3\" >5.941371</td>\n",
       "      <td id=\"T_82669_row10_col4\" class=\"data row10 col4\" >0.840361</td>\n",
       "    </tr>\n",
       "    <tr>\n",
       "      <th id=\"T_82669_level0_row11\" class=\"row_heading level0 row11\" >12</th>\n",
       "      <td id=\"T_82669_row11_col0\" class=\"data row11 col0\" >64.138827</td>\n",
       "      <td id=\"T_82669_row11_col1\" class=\"data row11 col1\" >16.782343</td>\n",
       "      <td id=\"T_82669_row11_col2\" class=\"data row11 col2\" >9.731652</td>\n",
       "      <td id=\"T_82669_row11_col3\" class=\"data row11 col3\" >7.916722</td>\n",
       "      <td id=\"T_82669_row11_col4\" class=\"data row11 col4\" >1.430456</td>\n",
       "    </tr>\n",
       "  </tbody>\n",
       "</table>\n"
      ],
      "text/plain": [
       "<pandas.io.formats.style.Styler at 0x7aec78af3110>"
      ]
     },
     "execution_count": 12,
     "metadata": {},
     "output_type": "execute_result"
    }
   ],
   "source": [
    "df[\"Month\"] = df[\"FlightDate\"].dt.month\n",
    "df_agg = df.groupby(\"Month\")[\"DelayGroup\"].value_counts(normalize=True).unstack() * 100\n",
    "col_order = [\"OnTime_Early\", \"Small_Delay\", \"Medium_Delay\", \"Large_Delay\", \"Cancelled\"]\n",
    "df_agg[col_order].style.background_gradient(cmap=\"Blues\")"
   ]
  },
  {
   "cell_type": "markdown",
   "id": "c9c1dcf6",
   "metadata": {
    "papermill": {
     "duration": 0.010444,
     "end_time": "2024-03-18T09:12:58.252130",
     "exception": false,
     "start_time": "2024-03-18T09:12:58.241686",
     "status": "completed"
    },
    "tags": []
   },
   "source": [
    "## Exclude 2020"
   ]
  },
  {
   "cell_type": "code",
   "execution_count": 13,
   "id": "c277c22f",
   "metadata": {
    "execution": {
     "iopub.execute_input": "2024-03-18T09:12:58.274844Z",
     "iopub.status.busy": "2024-03-18T09:12:58.274160Z",
     "iopub.status.idle": "2024-03-18T09:13:15.044090Z",
     "shell.execute_reply": "2024-03-18T09:13:15.042973Z"
    },
    "papermill": {
     "duration": 16.784459,
     "end_time": "2024-03-18T09:13:15.046894",
     "exception": false,
     "start_time": "2024-03-18T09:12:58.262435",
     "status": "completed"
    },
    "tags": []
   },
   "outputs": [
    {
     "data": {
      "text/html": [
       "<style type=\"text/css\">\n",
       "#T_da0d4_row0_col0 {\n",
       "  background-color: #2171b5;\n",
       "  color: #f1f1f1;\n",
       "}\n",
       "#T_da0d4_row0_col1, #T_da0d4_row5_col0, #T_da0d4_row8_col2, #T_da0d4_row8_col3, #T_da0d4_row10_col4 {\n",
       "  background-color: #f7fbff;\n",
       "  color: #000000;\n",
       "}\n",
       "#T_da0d4_row0_col2 {\n",
       "  background-color: #d6e6f4;\n",
       "  color: #000000;\n",
       "}\n",
       "#T_da0d4_row0_col3 {\n",
       "  background-color: #d3e3f3;\n",
       "  color: #000000;\n",
       "}\n",
       "#T_da0d4_row0_col4 {\n",
       "  background-color: #08509b;\n",
       "  color: #f1f1f1;\n",
       "}\n",
       "#T_da0d4_row1_col0 {\n",
       "  background-color: #8cc0dd;\n",
       "  color: #000000;\n",
       "}\n",
       "#T_da0d4_row1_col1 {\n",
       "  background-color: #77b5d9;\n",
       "  color: #000000;\n",
       "}\n",
       "#T_da0d4_row1_col2 {\n",
       "  background-color: #6dafd7;\n",
       "  color: #f1f1f1;\n",
       "}\n",
       "#T_da0d4_row1_col3 {\n",
       "  background-color: #a6cee4;\n",
       "  color: #000000;\n",
       "}\n",
       "#T_da0d4_row1_col4, #T_da0d4_row5_col1, #T_da0d4_row5_col2, #T_da0d4_row5_col3, #T_da0d4_row8_col0 {\n",
       "  background-color: #08306b;\n",
       "  color: #f1f1f1;\n",
       "}\n",
       "#T_da0d4_row2_col0 {\n",
       "  background-color: #3a8ac2;\n",
       "  color: #f1f1f1;\n",
       "}\n",
       "#T_da0d4_row2_col1 {\n",
       "  background-color: #549fcd;\n",
       "  color: #f1f1f1;\n",
       "}\n",
       "#T_da0d4_row2_col2 {\n",
       "  background-color: #a0cbe2;\n",
       "  color: #000000;\n",
       "}\n",
       "#T_da0d4_row2_col3 {\n",
       "  background-color: #dceaf6;\n",
       "  color: #000000;\n",
       "}\n",
       "#T_da0d4_row2_col4 {\n",
       "  background-color: #b8d5ea;\n",
       "  color: #000000;\n",
       "}\n",
       "#T_da0d4_row3_col0 {\n",
       "  background-color: #3585bf;\n",
       "  color: #f1f1f1;\n",
       "}\n",
       "#T_da0d4_row3_col1 {\n",
       "  background-color: #89bedc;\n",
       "  color: #000000;\n",
       "}\n",
       "#T_da0d4_row3_col2 {\n",
       "  background-color: #aacfe5;\n",
       "  color: #000000;\n",
       "}\n",
       "#T_da0d4_row3_col3 {\n",
       "  background-color: #c4daee;\n",
       "  color: #000000;\n",
       "}\n",
       "#T_da0d4_row3_col4, #T_da0d4_row7_col0 {\n",
       "  background-color: #c6dbef;\n",
       "  color: #000000;\n",
       "}\n",
       "#T_da0d4_row4_col0, #T_da0d4_row11_col3 {\n",
       "  background-color: #74b3d8;\n",
       "  color: #000000;\n",
       "}\n",
       "#T_da0d4_row4_col1, #T_da0d4_row10_col0 {\n",
       "  background-color: #2373b6;\n",
       "  color: #f1f1f1;\n",
       "}\n",
       "#T_da0d4_row4_col2 {\n",
       "  background-color: #64a9d3;\n",
       "  color: #f1f1f1;\n",
       "}\n",
       "#T_da0d4_row4_col3 {\n",
       "  background-color: #92c4de;\n",
       "  color: #000000;\n",
       "}\n",
       "#T_da0d4_row4_col4, #T_da0d4_row8_col4 {\n",
       "  background-color: #cfe1f2;\n",
       "  color: #000000;\n",
       "}\n",
       "#T_da0d4_row5_col4 {\n",
       "  background-color: #91c3de;\n",
       "  color: #000000;\n",
       "}\n",
       "#T_da0d4_row6_col0 {\n",
       "  background-color: #dfecf7;\n",
       "  color: #000000;\n",
       "}\n",
       "#T_da0d4_row6_col1 {\n",
       "  background-color: #08519c;\n",
       "  color: #f1f1f1;\n",
       "}\n",
       "#T_da0d4_row6_col2 {\n",
       "  background-color: #084e98;\n",
       "  color: #f1f1f1;\n",
       "}\n",
       "#T_da0d4_row6_col3 {\n",
       "  background-color: #084285;\n",
       "  color: #f1f1f1;\n",
       "}\n",
       "#T_da0d4_row6_col4 {\n",
       "  background-color: #b4d3e9;\n",
       "  color: #000000;\n",
       "}\n",
       "#T_da0d4_row7_col1 {\n",
       "  background-color: #4896c8;\n",
       "  color: #f1f1f1;\n",
       "}\n",
       "#T_da0d4_row7_col2 {\n",
       "  background-color: #2e7ebc;\n",
       "  color: #f1f1f1;\n",
       "}\n",
       "#T_da0d4_row7_col3 {\n",
       "  background-color: #0f5aa3;\n",
       "  color: #f1f1f1;\n",
       "}\n",
       "#T_da0d4_row7_col4 {\n",
       "  background-color: #71b1d7;\n",
       "  color: #f1f1f1;\n",
       "}\n",
       "#T_da0d4_row8_col1 {\n",
       "  background-color: #f1f7fd;\n",
       "  color: #000000;\n",
       "}\n",
       "#T_da0d4_row9_col0 {\n",
       "  background-color: #2575b7;\n",
       "  color: #f1f1f1;\n",
       "}\n",
       "#T_da0d4_row9_col1 {\n",
       "  background-color: #75b4d8;\n",
       "  color: #000000;\n",
       "}\n",
       "#T_da0d4_row9_col2 {\n",
       "  background-color: #abd0e6;\n",
       "  color: #000000;\n",
       "}\n",
       "#T_da0d4_row9_col3 {\n",
       "  background-color: #dae8f6;\n",
       "  color: #000000;\n",
       "}\n",
       "#T_da0d4_row9_col4 {\n",
       "  background-color: #e2edf8;\n",
       "  color: #000000;\n",
       "}\n",
       "#T_da0d4_row10_col1 {\n",
       "  background-color: #3d8dc4;\n",
       "  color: #f1f1f1;\n",
       "}\n",
       "#T_da0d4_row10_col2 {\n",
       "  background-color: #add0e6;\n",
       "  color: #000000;\n",
       "}\n",
       "#T_da0d4_row10_col3 {\n",
       "  background-color: #eff6fc;\n",
       "  color: #000000;\n",
       "}\n",
       "#T_da0d4_row11_col0 {\n",
       "  background-color: #afd1e7;\n",
       "  color: #000000;\n",
       "}\n",
       "#T_da0d4_row11_col1 {\n",
       "  background-color: #08468b;\n",
       "  color: #f1f1f1;\n",
       "}\n",
       "#T_da0d4_row11_col2 {\n",
       "  background-color: #1b69af;\n",
       "  color: #f1f1f1;\n",
       "}\n",
       "#T_da0d4_row11_col4 {\n",
       "  background-color: #d0e1f2;\n",
       "  color: #000000;\n",
       "}\n",
       "</style>\n",
       "<table id=\"T_da0d4_\">\n",
       "  <thead>\n",
       "    <tr>\n",
       "      <th class=\"index_name level0\" >DelayGroup</th>\n",
       "      <th class=\"col_heading level0 col0\" >OnTime_Early</th>\n",
       "      <th class=\"col_heading level0 col1\" >Small_Delay</th>\n",
       "      <th class=\"col_heading level0 col2\" >Medium_Delay</th>\n",
       "      <th class=\"col_heading level0 col3\" >Large_Delay</th>\n",
       "      <th class=\"col_heading level0 col4\" >Cancelled</th>\n",
       "    </tr>\n",
       "    <tr>\n",
       "      <th class=\"index_name level0\" >Month</th>\n",
       "      <th class=\"blank col0\" >&nbsp;</th>\n",
       "      <th class=\"blank col1\" >&nbsp;</th>\n",
       "      <th class=\"blank col2\" >&nbsp;</th>\n",
       "      <th class=\"blank col3\" >&nbsp;</th>\n",
       "      <th class=\"blank col4\" >&nbsp;</th>\n",
       "    </tr>\n",
       "  </thead>\n",
       "  <tbody>\n",
       "    <tr>\n",
       "      <th id=\"T_da0d4_level0_row0\" class=\"row_heading level0 row0\" >1</th>\n",
       "      <td id=\"T_da0d4_row0_col0\" class=\"data row0 col0\" >67.162457</td>\n",
       "      <td id=\"T_da0d4_row0_col1\" class=\"data row0 col1\" >13.880797</td>\n",
       "      <td id=\"T_da0d4_row0_col2\" class=\"data row0 col2\" >8.068641</td>\n",
       "      <td id=\"T_da0d4_row0_col3\" class=\"data row0 col3\" >7.353867</td>\n",
       "      <td id=\"T_da0d4_row0_col4\" class=\"data row0 col4\" >3.534239</td>\n",
       "    </tr>\n",
       "    <tr>\n",
       "      <th id=\"T_da0d4_level0_row1\" class=\"row_heading level0 row1\" >2</th>\n",
       "      <td id=\"T_da0d4_row1_col0\" class=\"data row1 col0\" >62.623134</td>\n",
       "      <td id=\"T_da0d4_row1_col1\" class=\"data row1 col1\" >15.912800</td>\n",
       "      <td id=\"T_da0d4_row1_col2\" class=\"data row1 col2\" >9.424684</td>\n",
       "      <td id=\"T_da0d4_row1_col3\" class=\"data row1 col3\" >8.139587</td>\n",
       "      <td id=\"T_da0d4_row1_col4\" class=\"data row1 col4\" >3.899795</td>\n",
       "    </tr>\n",
       "    <tr>\n",
       "      <th id=\"T_da0d4_level0_row2\" class=\"row_heading level0 row2\" >3</th>\n",
       "      <td id=\"T_da0d4_row2_col0\" class=\"data row2 col0\" >65.869000</td>\n",
       "      <td id=\"T_da0d4_row2_col1\" class=\"data row2 col1\" >16.332230</td>\n",
       "      <td id=\"T_da0d4_row2_col2\" class=\"data row2 col2\" >8.904784</td>\n",
       "      <td id=\"T_da0d4_row2_col3\" class=\"data row2 col3\" >7.101697</td>\n",
       "      <td id=\"T_da0d4_row2_col4\" class=\"data row2 col4\" >1.792290</td>\n",
       "    </tr>\n",
       "    <tr>\n",
       "      <th id=\"T_da0d4_level0_row3\" class=\"row_heading level0 row3\" >4</th>\n",
       "      <td id=\"T_da0d4_row3_col0\" class=\"data row3 col0\" >66.161402</td>\n",
       "      <td id=\"T_da0d4_row3_col1\" class=\"data row3 col1\" >15.715543</td>\n",
       "      <td id=\"T_da0d4_row3_col2\" class=\"data row3 col2\" >8.783821</td>\n",
       "      <td id=\"T_da0d4_row3_col3\" class=\"data row3 col3\" >7.685515</td>\n",
       "      <td id=\"T_da0d4_row3_col4\" class=\"data row3 col4\" >1.653719</td>\n",
       "    </tr>\n",
       "    <tr>\n",
       "      <th id=\"T_da0d4_level0_row4\" class=\"row_heading level0 row4\" >5</th>\n",
       "      <td id=\"T_da0d4_row4_col0\" class=\"data row4 col0\" >63.468665</td>\n",
       "      <td id=\"T_da0d4_row4_col1\" class=\"data row4 col1\" >17.070321</td>\n",
       "      <td id=\"T_da0d4_row4_col2\" class=\"data row4 col2\" >9.537899</td>\n",
       "      <td id=\"T_da0d4_row4_col3\" class=\"data row4 col3\" >8.407955</td>\n",
       "      <td id=\"T_da0d4_row4_col4\" class=\"data row4 col4\" >1.515159</td>\n",
       "    </tr>\n",
       "    <tr>\n",
       "      <th id=\"T_da0d4_level0_row5\" class=\"row_heading level0 row5\" >6</th>\n",
       "      <td id=\"T_da0d4_row5_col0\" class=\"data row5 col0\" >56.855480</td>\n",
       "      <td id=\"T_da0d4_row5_col1\" class=\"data row5 col1\" >18.188167</td>\n",
       "      <td id=\"T_da0d4_row5_col2\" class=\"data row5 col2\" >11.525967</td>\n",
       "      <td id=\"T_da0d4_row5_col3\" class=\"data row5 col3\" >11.298683</td>\n",
       "      <td id=\"T_da0d4_row5_col4\" class=\"data row5 col4\" >2.131703</td>\n",
       "    </tr>\n",
       "    <tr>\n",
       "      <th id=\"T_da0d4_level0_row6\" class=\"row_heading level0 row6\" >7</th>\n",
       "      <td id=\"T_da0d4_row6_col0\" class=\"data row6 col0\" >58.511717</td>\n",
       "      <td id=\"T_da0d4_row6_col1\" class=\"data row6 col1\" >17.645319</td>\n",
       "      <td id=\"T_da0d4_row6_col2\" class=\"data row6 col2\" >11.048691</td>\n",
       "      <td id=\"T_da0d4_row6_col3\" class=\"data row6 col3\" >10.968325</td>\n",
       "      <td id=\"T_da0d4_row6_col4\" class=\"data row6 col4\" >1.825949</td>\n",
       "    </tr>\n",
       "    <tr>\n",
       "      <th id=\"T_da0d4_level0_row7\" class=\"row_heading level0 row7\" >8</th>\n",
       "      <td id=\"T_da0d4_row7_col0\" class=\"data row7 col0\" >60.348823</td>\n",
       "      <td id=\"T_da0d4_row7_col1\" class=\"data row7 col1\" >16.490201</td>\n",
       "      <td id=\"T_da0d4_row7_col2\" class=\"data row7 col2\" >10.289753</td>\n",
       "      <td id=\"T_da0d4_row7_col3\" class=\"data row7 col3\" >10.508081</td>\n",
       "      <td id=\"T_da0d4_row7_col4\" class=\"data row7 col4\" >2.363141</td>\n",
       "    </tr>\n",
       "    <tr>\n",
       "      <th id=\"T_da0d4_level0_row8\" class=\"row_heading level0 row8\" >9</th>\n",
       "      <td id=\"T_da0d4_row8_col0\" class=\"data row8 col0\" >70.637088</td>\n",
       "      <td id=\"T_da0d4_row8_col1\" class=\"data row8 col1\" >14.016242</td>\n",
       "      <td id=\"T_da0d4_row8_col2\" class=\"data row8 col2\" >7.374660</td>\n",
       "      <td id=\"T_da0d4_row8_col3\" class=\"data row8 col3\" >6.454308</td>\n",
       "      <td id=\"T_da0d4_row8_col4\" class=\"data row8 col4\" >1.517702</td>\n",
       "    </tr>\n",
       "    <tr>\n",
       "      <th id=\"T_da0d4_level0_row9\" class=\"row_heading level0 row9\" >10</th>\n",
       "      <td id=\"T_da0d4_row9_col0\" class=\"data row9 col0\" >66.925772</td>\n",
       "      <td id=\"T_da0d4_row9_col1\" class=\"data row9 col1\" >15.917529</td>\n",
       "      <td id=\"T_da0d4_row9_col2\" class=\"data row9 col2\" >8.763041</td>\n",
       "      <td id=\"T_da0d4_row9_col3\" class=\"data row9 col3\" >7.170777</td>\n",
       "      <td id=\"T_da0d4_row9_col4\" class=\"data row9 col4\" >1.222882</td>\n",
       "    </tr>\n",
       "    <tr>\n",
       "      <th id=\"T_da0d4_level0_row10\" class=\"row_heading level0 row10\" >11</th>\n",
       "      <td id=\"T_da0d4_row10_col0\" class=\"data row10 col0\" >67.047922</td>\n",
       "      <td id=\"T_da0d4_row10_col1\" class=\"data row10 col1\" >16.655138</td>\n",
       "      <td id=\"T_da0d4_row10_col2\" class=\"data row10 col2\" >8.749967</td>\n",
       "      <td id=\"T_da0d4_row10_col3\" class=\"data row10 col3\" >6.644180</td>\n",
       "      <td id=\"T_da0d4_row10_col4\" class=\"data row10 col4\" >0.902793</td>\n",
       "    </tr>\n",
       "    <tr>\n",
       "      <th id=\"T_da0d4_level0_row11\" class=\"row_heading level0 row11\" >12</th>\n",
       "      <td id=\"T_da0d4_row11_col0\" class=\"data row11 col0\" >61.286858</td>\n",
       "      <td id=\"T_da0d4_row11_col1\" class=\"data row11 col1\" >17.834579</td>\n",
       "      <td id=\"T_da0d4_row11_col2\" class=\"data row11 col2\" >10.604010</td>\n",
       "      <td id=\"T_da0d4_row11_col3\" class=\"data row11 col3\" >8.768822</td>\n",
       "      <td id=\"T_da0d4_row11_col4\" class=\"data row11 col4\" >1.505731</td>\n",
       "    </tr>\n",
       "  </tbody>\n",
       "</table>\n"
      ],
      "text/plain": [
       "<pandas.io.formats.style.Styler at 0x7aec78b7f750>"
      ]
     },
     "execution_count": 13,
     "metadata": {},
     "output_type": "execute_result"
    }
   ],
   "source": [
    "df[\"Month\"] = df[\"FlightDate\"].dt.month\n",
    "df_agg = (\n",
    "    df.query(\"Year != 2020\")\n",
    "    .groupby(\"Month\")[\"DelayGroup\"]\n",
    "    .value_counts(normalize=True)\n",
    "    .unstack()\n",
    "    * 100\n",
    ")\n",
    "col_order = [\"OnTime_Early\", \"Small_Delay\", \"Medium_Delay\", \"Large_Delay\", \"Cancelled\"]\n",
    "df_agg[col_order].style.background_gradient(cmap=\"Blues\")"
   ]
  },
  {
   "cell_type": "markdown",
   "id": "2b11c72d",
   "metadata": {
    "papermill": {
     "duration": 0.010496,
     "end_time": "2024-03-18T09:13:15.069515",
     "exception": false,
     "start_time": "2024-03-18T09:13:15.059019",
     "status": "completed"
    },
    "tags": []
   },
   "source": [
    "## Why High Cancellation in March/April? What does it look like by year for these months?"
   ]
  },
  {
   "cell_type": "code",
   "execution_count": 14,
   "id": "c90109b7",
   "metadata": {
    "execution": {
     "iopub.execute_input": "2024-03-18T09:13:15.093280Z",
     "iopub.status.busy": "2024-03-18T09:13:15.092893Z",
     "iopub.status.idle": "2024-03-18T09:13:20.120134Z",
     "shell.execute_reply": "2024-03-18T09:13:20.118427Z"
    },
    "papermill": {
     "duration": 5.042978,
     "end_time": "2024-03-18T09:13:20.123374",
     "exception": false,
     "start_time": "2024-03-18T09:13:15.080396",
     "status": "completed"
    },
    "tags": []
   },
   "outputs": [
    {
     "data": {
      "text/html": [
       "<style type=\"text/css\">\n",
       "#T_79927_row0_col0 {\n",
       "  background-color: #fdc590;\n",
       "  color: #000000;\n",
       "}\n",
       "#T_79927_row0_col1 {\n",
       "  background-color: #9a3103;\n",
       "  color: #f1f1f1;\n",
       "}\n",
       "#T_79927_row0_col2 {\n",
       "  background-color: #c14002;\n",
       "  color: #f1f1f1;\n",
       "}\n",
       "#T_79927_row0_col3 {\n",
       "  background-color: #e5590a;\n",
       "  color: #f1f1f1;\n",
       "}\n",
       "#T_79927_row0_col4 {\n",
       "  background-color: #fff1e4;\n",
       "  color: #000000;\n",
       "}\n",
       "#T_79927_row1_col0 {\n",
       "  background-color: #fdad69;\n",
       "  color: #000000;\n",
       "}\n",
       "#T_79927_row1_col1 {\n",
       "  background-color: #d04501;\n",
       "  color: #f1f1f1;\n",
       "}\n",
       "#T_79927_row1_col2 {\n",
       "  background-color: #e65a0b;\n",
       "  color: #f1f1f1;\n",
       "}\n",
       "#T_79927_row1_col3 {\n",
       "  background-color: #cd4401;\n",
       "  color: #f1f1f1;\n",
       "}\n",
       "#T_79927_row1_col4 {\n",
       "  background-color: #ffefdf;\n",
       "  color: #000000;\n",
       "}\n",
       "#T_79927_row2_col0 {\n",
       "  background-color: #fdd5ad;\n",
       "  color: #000000;\n",
       "}\n",
       "#T_79927_row2_col1, #T_79927_row2_col2, #T_79927_row2_col3, #T_79927_row3_col4, #T_79927_row4_col0 {\n",
       "  background-color: #fff5eb;\n",
       "  color: #000000;\n",
       "}\n",
       "#T_79927_row2_col4, #T_79927_row3_col0, #T_79927_row4_col1, #T_79927_row4_col2, #T_79927_row4_col3 {\n",
       "  background-color: #7f2704;\n",
       "  color: #f1f1f1;\n",
       "}\n",
       "#T_79927_row3_col1 {\n",
       "  background-color: #f77a27;\n",
       "  color: #f1f1f1;\n",
       "}\n",
       "#T_79927_row3_col2 {\n",
       "  background-color: #fdc088;\n",
       "  color: #000000;\n",
       "}\n",
       "#T_79927_row3_col3 {\n",
       "  background-color: #fdd9b4;\n",
       "  color: #000000;\n",
       "}\n",
       "#T_79927_row4_col4 {\n",
       "  background-color: #fff0e2;\n",
       "  color: #000000;\n",
       "}\n",
       "</style>\n",
       "<table id=\"T_79927_\">\n",
       "  <thead>\n",
       "    <tr>\n",
       "      <th class=\"index_name level0\" >DelayGroup</th>\n",
       "      <th class=\"col_heading level0 col0\" >OnTime_Early</th>\n",
       "      <th class=\"col_heading level0 col1\" >Small_Delay</th>\n",
       "      <th class=\"col_heading level0 col2\" >Medium_Delay</th>\n",
       "      <th class=\"col_heading level0 col3\" >Large_Delay</th>\n",
       "      <th class=\"col_heading level0 col4\" >Cancelled</th>\n",
       "    </tr>\n",
       "    <tr>\n",
       "      <th class=\"index_name level0\" >Year</th>\n",
       "      <th class=\"blank col0\" >&nbsp;</th>\n",
       "      <th class=\"blank col1\" >&nbsp;</th>\n",
       "      <th class=\"blank col2\" >&nbsp;</th>\n",
       "      <th class=\"blank col3\" >&nbsp;</th>\n",
       "      <th class=\"blank col4\" >&nbsp;</th>\n",
       "    </tr>\n",
       "  </thead>\n",
       "  <tbody>\n",
       "    <tr>\n",
       "      <th id=\"T_79927_level0_row0\" class=\"row_heading level0 row0\" >2018</th>\n",
       "      <td id=\"T_79927_row0_col0\" class=\"data row0 col0\" >64.219260</td>\n",
       "      <td id=\"T_79927_row0_col1\" class=\"data row0 col1\" >17.194531</td>\n",
       "      <td id=\"T_79927_row0_col2\" class=\"data row0 col2\" >9.582907</td>\n",
       "      <td id=\"T_79927_row0_col3\" class=\"data row0 col3\" >7.347652</td>\n",
       "      <td id=\"T_79927_row0_col4\" class=\"data row0 col4\" >1.655651</td>\n",
       "    </tr>\n",
       "    <tr>\n",
       "      <th id=\"T_79927_level0_row1\" class=\"row_heading level0 row1\" >2019</th>\n",
       "      <td id=\"T_79927_row1_col0\" class=\"data row1 col0\" >65.790141</td>\n",
       "      <td id=\"T_79927_row1_col1\" class=\"data row1 col1\" >15.462990</td>\n",
       "      <td id=\"T_79927_row1_col2\" class=\"data row1 col2\" >8.614418</td>\n",
       "      <td id=\"T_79927_row1_col3\" class=\"data row1 col3\" >7.974924</td>\n",
       "      <td id=\"T_79927_row1_col4\" class=\"data row1 col4\" >2.157527</td>\n",
       "    </tr>\n",
       "    <tr>\n",
       "      <th id=\"T_79927_level0_row2\" class=\"row_heading level0 row2\" >2020</th>\n",
       "      <td id=\"T_79927_row2_col0\" class=\"data row2 col0\" >63.063286</td>\n",
       "      <td id=\"T_79927_row2_col1\" class=\"data row2 col1\" >6.202543</td>\n",
       "      <td id=\"T_79927_row2_col2\" class=\"data row2 col2\" >3.291875</td>\n",
       "      <td id=\"T_79927_row2_col3\" class=\"data row2 col3\" >2.733237</td>\n",
       "      <td id=\"T_79927_row2_col4\" class=\"data row2 col4\" >24.709059</td>\n",
       "    </tr>\n",
       "    <tr>\n",
       "      <th id=\"T_79927_level0_row3\" class=\"row_heading level0 row3\" >2021</th>\n",
       "      <td id=\"T_79927_row3_col0\" class=\"data row3 col0\" >76.291254</td>\n",
       "      <td id=\"T_79927_row3_col1\" class=\"data row3 col1\" >13.015721</td>\n",
       "      <td id=\"T_79927_row3_col2\" class=\"data row3 col2\" >5.715776</td>\n",
       "      <td id=\"T_79927_row3_col3\" class=\"data row3 col3\" >4.077733</td>\n",
       "      <td id=\"T_79927_row3_col4\" class=\"data row3 col4\" >0.899516</td>\n",
       "    </tr>\n",
       "    <tr>\n",
       "      <th id=\"T_79927_level0_row4\" class=\"row_heading level0 row4\" >2022</th>\n",
       "      <td id=\"T_79927_row4_col0\" class=\"data row4 col0\" >59.301505</td>\n",
       "      <td id=\"T_79927_row4_col1\" class=\"data row4 col1\" >18.234213</td>\n",
       "      <td id=\"T_79927_row4_col2\" class=\"data row4 col2\" >11.096981</td>\n",
       "      <td id=\"T_79927_row4_col3\" class=\"data row4 col3\" >9.445164</td>\n",
       "      <td id=\"T_79927_row4_col4\" class=\"data row4 col4\" >1.922137</td>\n",
       "    </tr>\n",
       "  </tbody>\n",
       "</table>\n"
      ],
      "text/plain": [
       "<pandas.io.formats.style.Styler at 0x7aec5e2673d0>"
      ]
     },
     "execution_count": 14,
     "metadata": {},
     "output_type": "execute_result"
    }
   ],
   "source": [
    "df[\"Month\"] = df[\"FlightDate\"].dt.month\n",
    "df_agg = (\n",
    "    df.query(\"3 <= Month <= 4\")\n",
    "    .groupby(\"Year\")[\"DelayGroup\"]\n",
    "    .value_counts(normalize=True)\n",
    "    .unstack()\n",
    "    * 100\n",
    ")\n",
    "col_order = [\"OnTime_Early\", \"Small_Delay\", \"Medium_Delay\", \"Large_Delay\", \"Cancelled\"]\n",
    "df_agg[col_order].style.background_gradient(cmap=\"Oranges\", axis=0)"
   ]
  },
  {
   "cell_type": "markdown",
   "id": "c878be56",
   "metadata": {
    "papermill": {
     "duration": 0.011152,
     "end_time": "2024-03-18T09:13:20.146218",
     "exception": false,
     "start_time": "2024-03-18T09:13:20.135066",
     "status": "completed"
    },
    "tags": []
   },
   "source": [
    "# Plot using `calmap`"
   ]
  },
  {
   "cell_type": "code",
   "execution_count": 15,
   "id": "acb1da29",
   "metadata": {
    "execution": {
     "iopub.execute_input": "2024-03-18T09:13:20.171327Z",
     "iopub.status.busy": "2024-03-18T09:13:20.170155Z",
     "iopub.status.idle": "2024-03-18T09:13:33.682269Z",
     "shell.execute_reply": "2024-03-18T09:13:33.680630Z"
    },
    "papermill": {
     "duration": 13.527862,
     "end_time": "2024-03-18T09:13:33.685525",
     "exception": false,
     "start_time": "2024-03-18T09:13:20.157663",
     "status": "completed"
    },
    "tags": []
   },
   "outputs": [
    {
     "name": "stdout",
     "output_type": "stream",
     "text": [
      "\u001b[33mWARNING: Running pip as the 'root' user can result in broken permissions and conflicting behaviour with the system package manager. It is recommended to use a virtual environment instead: https://pip.pypa.io/warnings/venv\u001b[0m\u001b[33m\r\n",
      "\u001b[0m"
     ]
    }
   ],
   "source": [
    "!pip install calmap plotly_calplot -q"
   ]
  },
  {
   "cell_type": "code",
   "execution_count": 16,
   "id": "e913a097",
   "metadata": {
    "execution": {
     "iopub.execute_input": "2024-03-18T09:13:33.711886Z",
     "iopub.status.busy": "2024-03-18T09:13:33.711364Z",
     "iopub.status.idle": "2024-03-18T09:13:35.382380Z",
     "shell.execute_reply": "2024-03-18T09:13:35.381051Z"
    },
    "papermill": {
     "duration": 1.687315,
     "end_time": "2024-03-18T09:13:35.385279",
     "exception": false,
     "start_time": "2024-03-18T09:13:33.697964",
     "status": "completed"
    },
    "tags": []
   },
   "outputs": [
    {
     "data": {
      "text/plain": [
       "Text(0.5, 0.92, 'US Flight Cancellations')"
      ]
     },
     "execution_count": 16,
     "metadata": {},
     "output_type": "execute_result"
    },
    {
     "data": {
      "image/png": "[encoded data removed]",
      "text/plain": [
       "<Figure size 720x720 with 5 Axes>"
      ]
     },
     "metadata": {},
     "output_type": "display_data"
    }
   ],
   "source": [
    "import calmap\n",
    "events = df.groupby(\"FlightDate\")[\"Cancelled\"].mean()\n",
    "fig, axs = plt.subplots(5, 1, figsize=(10, 10))\n",
    "for i, year in enumerate([2018, 2019, 2020, 2021, 2022]):\n",
    "    calmap.yearplot(\n",
    "        events.apply(np.log), year=year, cmap=\"YlOrRd\", monthly_border=True, ax=axs[i]\n",
    "    )\n",
    "    axs[i].set_title(year)\n",
    "fig.patch.set_facecolor(\"white\")\n",
    "fig.suptitle(\"US Flight Cancellations\", y=0.92, fontsize=20)"
   ]
  },
  {
   "cell_type": "markdown",
   "id": "77e09148",
   "metadata": {
    "papermill": {
     "duration": 0.012222,
     "end_time": "2024-03-18T09:13:35.411423",
     "exception": false,
     "start_time": "2024-03-18T09:13:35.399201",
     "status": "completed"
    },
    "tags": []
   },
   "source": [
    "# Interactive Calendar Heatmap"
   ]
  },
  {
   "cell_type": "code",
   "execution_count": 17,
   "id": "e59bea22",
   "metadata": {
    "execution": {
     "iopub.execute_input": "2024-03-18T09:13:35.439228Z",
     "iopub.status.busy": "2024-03-18T09:13:35.438769Z",
     "iopub.status.idle": "2024-03-18T09:13:37.103580Z",
     "shell.execute_reply": "2024-03-18T09:13:37.102674Z"
    },
    "papermill": {
     "duration": 1.683536,
     "end_time": "2024-03-18T09:13:37.107670",
     "exception": false,
     "start_time": "2024-03-18T09:13:35.424134",
     "status": "completed"
    },
    "tags": []
   },
   "outputs": [
    {
     "data": {
      "text/html": [
       "        <script type=\"text/javascript\">\n",
       "        window.PlotlyConfig = {MathJaxConfig: 'local'};\n",
       "        if (window.MathJax && window.MathJax.Hub && window.MathJax.Hub.Config) {window.MathJax.Hub.Config({SVG: {font: \"STIX-Web\"}});}\n",
       "        if (typeof require !== 'undefined') {\n",
       "        require.undef(\"plotly\");\n",
       "        requirejs.config({\n",
       "            paths: {\n",
       "                'plotly': ['https://cdn.plot.ly/plotly-2.14.0.min']\n",
       "            }\n",
       "        });\n",
       "        require(['plotly'], function(Plotly) {\n",
       "            window._Plotly = Plotly;\n",
       "        });\n",
       "        }\n",
       "        </script>\n",
       "        "
      ]
     },
     "metadata": {},
     "output_type": "display_data"
    },
    {
     "data": {
      "text/html": [
       "<div>                            <div id=\"6e8cf95b-e978-4b2f-80b3-60bb457962a7\" class=\"plotly-graph-div\" style=\"height:750px; width:800px;\"></div>            <script type=\"text/javascript\">                require([\"plotly\"], function(Plotly) {                    window.PLOTLYENV=window.PLOTLYENV || {};                                    if (document.getElementById(\"6e8cf95b-e978-4b2f-80b3-60bb457962a7\")) {                    Plotly.newPlot(                        \"6e8cf95b-e978-4b2f-80b3-60bb457962a7\",                        [{\"colorscale\":[[0.0,\"rgb(247,252,245)\"],[0.125,\"rgb(229,245,224)\"],[0.25,\"rgb(199,233,192)\"],[0.375,\"rgb(161,217,155)\"],[0.5,\"rgb(116,196,118)\"],[0.625,\"rgb(65,171,93)\"],[0.75,\"rgb(35,139,69)\"],[0.875,\"rgb(0,109,44)\"],[1.0,\"rgb(0,68,27)\"]],\"customdata\":[[\"2018-01-01\",\"y\"],[\"2018-01-02\",\"y\"],[\"2018-01-03\",\"y\"],[\"2018-01-04\",\"y\"],[\"2018-01-05\",\"y\"],[\"2018-01-06\",\"y\"],[\"2018-01-07\",\"y\"],[\"2018-01-08\",\"y\"],[\"2018-01-09\",\"y\"],[\"2018-01-10\",\"y\"],[\"2018-01-11\",\"y\"],[\"2018-01-12\",\"y\"],[\"2018-01-13\",\"y\"],[\"2018-01-14\",\"y\"],[\"2018-01-15\",\"y\"],[\"2018-01-16\",\"y\"],[\"2018-01-17\",\"y\"],[\"2018-01-18\",\"y\"],[\"2018-01-19\",\"y\"],[\"2018-01-20\",\"y\"],[\"2018-01-21\",\"y\"],[\"2018-01-22\",\"y\"],[\"2018-01-23\",\"y\"],[\"2018-01-24\",\"y\"],[\"2018-01-25\",\"y\"],[\"2018-01-26\",\"y\"],[\"2018-01-27\",\"y\"],[\"2018-01-28\",\"y\"],[\"2018-01-29\",\"y\"],[\"2018-01-30\",\"y\"],[\"2018-01-31\",\"y\"],[\"2018-02-01\",\"y\"],[\"2018-02-02\",\"y\"],[\"2018-02-03\",\"y\"],[\"2018-02-04\",\"y\"],[\"2018-02-05\",\"y\"],[\"2018-02-06\",\"y\"],[\"2018-02-07\",\"y\"],[\"2018-02-08\",\"y\"],[\"2018-02-09\",\"y\"],[\"2018-02-10\",\"y\"],[\"2018-02-11\",\"y\"],[\"2018-02-12\",\"y\"],[\"2018-02-13\",\"y\"],[\"2018-02-14\",\"y\"],[\"2018-02-15\",\"y\"],[\"2018-02-16\",\"y\"],[\"2018-02-17\",\"y\"],[\"2018-02-18\",\"y\"],[\"2018-02-19\",\"y\"],[\"2018-02-20\",\"y\"],[\"2018-02-21\",\"y\"],[\"2018-02-22\",\"y\"],[\"2018-02-23\",\"y\"],[\"2018-02-24\",\"y\"],[\"2018-02-25\",\"y\"],[\"2018-02-26\",\"y\"],[\"2018-02-27\",\"y\"],[\"2018-02-28\",\"y\"],[\"2018-03-01\",\"y\"],[\"2018-03-02\",\"y\"],[\"2018-03-03\",\"y\"],[\"2018-03-04\",\"y\"],[\"2018-03-05\",\"y\"],[\"2018-03-06\",\"y\"],[\"2018-03-07\",\"y\"],[\"2018-03-08\",\"y\"],[\"2018-03-09\",\"y\"],[\"2018-03-10\",\"y\"],[\"2018-03-11\",\"y\"],[\"2018-03-12\",\"y\"],[\"2018-03-13\",\"y\"],[\"2018-03-14\",\"y\"],[\"2018-03-15\",\"y\"],[\"2018-03-16\",\"y\"],[\"2018-03-17\",\"y\"],[\"2018-03-18\",\"y\"],[\"2018-03-19\",\"y\"],[\"2018-03-20\",\"y\"],[\"2018-03-21\",\"y\"],[\"2018-03-22\",\"y\"],[\"2018-03-23\",\"y\"],[\"2018-03-24\",\"y\"],[\"2018-03-25\",\"y\"],[\"2018-03-26\",\"y\"],[\"2018-03-27\",\"y\"],[\"2018-03-28\",\"y\"],[\"2018-03-29\",\"y\"],[\"2018-03-30\",\"y\"],[\"2018-03-31\",\"y\"],[\"2018-04-01\",\"y\"],[\"2018-04-02\",\"y\"],[\"2018-04-03\",\"y\"],[\"2018-04-04\",\"y\"],[\"2018-04-05\",\"y\"],[\"2018-04-06\",\"y\"],[\"2018-04-07\",\"y\"],[\"2018-04-08\",\"y\"],[\"2018-04-09\",\"y\"],[\"2018-04-10\",\"y\"],[\"2018-04-11\",\"y\"],[\"2018-04-12\",\"y\"],[\"2018-04-13\",\"y\"],[\"2018-04-14\",\"y\"],[\"2018-04-15\",\"y\"],[\"2018-04-16\",\"y\"],[\"2018-04-17\",\"y\"],[\"2018-04-18\",\"y\"],[\"2018-04-19\",\"y\"],[\"2018-04-20\",\"y\"],[\"2018-04-21\",\"y\"],[\"2018-04-22\",\"y\"],[\"2018-04-23\",\"y\"],[\"2018-04-24\",\"y\"],[\"2018-04-25\",\"y\"],[\"2018-04-26\",\"y\"],[\"2018-04-27\",\"y\"],[\"2018-04-28\",\"y\"],[\"2018-04-29\",\"y\"],[\"2018-04-30\",\"y\"],[\"2018-05-01\",\"y\"],[\"2018-05-02\",\"y\"],[\"2018-05-03\",\"y\"],[\"2018-05-04\",\"y\"],[\"2018-05-05\",\"y\"],[\"2018-05-06\",\"y\"],[\"2018-05-07\",\"y\"],[\"2018-05-08\",\"y\"],[\"2018-05-09\",\"y\"],[\"2018-05-10\",\"y\"],[\"2018-05-11\",\"y\"],[\"2018-05-12\",\"y\"],[\"2018-05-13\",\"y\"],[\"2018-05-14\",\"y\"],[\"2018-05-15\",\"y\"],[\"2018-05-16\",\"y\"],[\"2018-05-17\",\"y\"],[\"2018-05-18\",\"y\"],[\"2018-05-19\",\"y\"],[\"2018-05-20\",\"y\"],[\"2018-05-21\",\"y\"],[\"2018-05-22\",\"y\"],[\"2018-05-23\",\"y\"],[\"2018-05-24\",\"y\"],[\"2018-05-25\",\"y\"],[\"2018-05-26\",\"y\"],[\"2018-05-27\",\"y\"],[\"2018-05-28\",\"y\"],[\"2018-05-29\",\"y\"],[\"2018-05-30\",\"y\"],[\"2018-05-31\",\"y\"],[\"2018-06-01\",\"y\"],[\"2018-06-02\",\"y\"],[\"2018-06-03\",\"y\"],[\"2018-06-04\",\"y\"],[\"2018-06-05\",\"y\"],[\"2018-06-06\",\"y\"],[\"2018-06-07\",\"y\"],[\"2018-06-08\",\"y\"],[\"2018-06-09\",\"y\"],[\"2018-06-10\",\"y\"],[\"2018-06-11\",\"y\"],[\"2018-06-12\",\"y\"],[\"2018-06-13\",\"y\"],[\"2018-06-14\",\"y\"],[\"2018-06-15\",\"y\"],[\"2018-06-16\",\"y\"],[\"2018-06-17\",\"y\"],[\"2018-06-18\",\"y\"],[\"2018-06-19\",\"y\"],[\"2018-06-20\",\"y\"],[\"2018-06-21\",\"y\"],[\"2018-06-22\",\"y\"],[\"2018-06-23\",\"y\"],[\"2018-06-24\",\"y\"],[\"2018-06-25\",\"y\"],[\"2018-06-26\",\"y\"],[\"2018-06-27\",\"y\"],[\"2018-06-28\",\"y\"],[\"2018-06-29\",\"y\"],[\"2018-06-30\",\"y\"],[\"2018-07-01\",\"y\"],[\"2018-07-02\",\"y\"],[\"2018-07-03\",\"y\"],[\"2018-07-04\",\"y\"],[\"2018-07-05\",\"y\"],[\"2018-07-06\",\"y\"],[\"2018-07-07\",\"y\"],[\"2018-07-08\",\"y\"],[\"2018-07-09\",\"y\"],[\"2018-07-10\",\"y\"],[\"2018-07-11\",\"y\"],[\"2018-07-12\",\"y\"],[\"2018-07-13\",\"y\"],[\"2018-07-14\",\"y\"],[\"2018-07-15\",\"y\"],[\"2018-07-16\",\"y\"],[\"2018-07-17\",\"y\"],[\"2018-07-18\",\"y\"],[\"2018-07-19\",\"y\"],[\"2018-07-20\",\"y\"],[\"2018-07-21\",\"y\"],[\"2018-07-22\",\"y\"],[\"2018-07-23\",\"y\"],[\"2018-07-24\",\"y\"],[\"2018-07-25\",\"y\"],[\"2018-07-26\",\"y\"],[\"2018-07-27\",\"y\"],[\"2018-07-28\",\"y\"],[\"2018-07-29\",\"y\"],[\"2018-07-30\",\"y\"],[\"2018-07-31\",\"y\"],[\"2018-08-01\",\"y\"],[\"2018-08-02\",\"y\"],[\"2018-08-03\",\"y\"],[\"2018-08-04\",\"y\"],[\"2018-08-05\",\"y\"],[\"2018-08-06\",\"y\"],[\"2018-08-07\",\"y\"],[\"2018-08-08\",\"y\"],[\"2018-08-09\",\"y\"],[\"2018-08-10\",\"y\"],[\"2018-08-11\",\"y\"],[\"2018-08-12\",\"y\"],[\"2018-08-13\",\"y\"],[\"2018-08-14\",\"y\"],[\"2018-08-15\",\"y\"],[\"2018-08-16\",\"y\"],[\"2018-08-17\",\"y\"],[\"2018-08-18\",\"y\"],[\"2018-08-19\",\"y\"],[\"2018-08-20\",\"y\"],[\"2018-08-21\",\"y\"],[\"2018-08-22\",\"y\"],[\"2018-08-23\",\"y\"],[\"2018-08-24\",\"y\"],[\"2018-08-25\",\"y\"],[\"2018-08-26\",\"y\"],[\"2018-08-27\",\"y\"],[\"2018-08-28\",\"y\"],[\"2018-08-29\",\"y\"],[\"2018-08-30\",\"y\"],[\"2018-08-31\",\"y\"],[\"2018-09-01\",\"y\"],[\"2018-09-02\",\"y\"],[\"2018-09-03\",\"y\"],[\"2018-09-04\",\"y\"],[\"2018-09-05\",\"y\"],[\"2018-09-06\",\"y\"],[\"2018-09-07\",\"y\"],[\"2018-09-08\",\"y\"],[\"2018-09-09\",\"y\"],[\"2018-09-10\",\"y\"],[\"2018-09-11\",\"y\"],[\"2018-09-12\",\"y\"],[\"2018-09-13\",\"y\"],[\"2018-09-14\",\"y\"],[\"2018-09-15\",\"y\"],[\"2018-09-16\",\"y\"],[\"2018-09-17\",\"y\"],[\"2018-09-18\",\"y\"],[\"2018-09-19\",\"y\"],[\"2018-09-20\",\"y\"],[\"2018-09-21\",\"y\"],[\"2018-09-22\",\"y\"],[\"2018-09-23\",\"y\"],[\"2018-09-24\",\"y\"],[\"2018-09-25\",\"y\"],[\"2018-09-26\",\"y\"],[\"2018-09-27\",\"y\"],[\"2018-09-28\",\"y\"],[\"2018-09-29\",\"y\"],[\"2018-09-30\",\"y\"],[\"2018-10-01\",\"y\"],[\"2018-10-02\",\"y\"],[\"2018-10-03\",\"y\"],[\"2018-10-04\",\"y\"],[\"2018-10-05\",\"y\"],[\"2018-10-06\",\"y\"],[\"2018-10-07\",\"y\"],[\"2018-10-08\",\"y\"],[\"2018-10-09\",\"y\"],[\"2018-10-10\",\"y\"],[\"2018-10-11\",\"y\"],[\"2018-10-12\",\"y\"],[\"2018-10-13\",\"y\"],[\"2018-10-14\",\"y\"],[\"2018-10-15\",\"y\"],[\"2018-10-16\",\"y\"],[\"2018-10-17\",\"y\"],[\"2018-10-18\",\"y\"],[\"2018-10-19\",\"y\"],[\"2018-10-20\",\"y\"],[\"2018-10-21\",\"y\"],[\"2018-10-22\",\"y\"],[\"2018-10-23\",\"y\"],[\"2018-10-24\",\"y\"],[\"2018-10-25\",\"y\"],[\"2018-10-26\",\"y\"],[\"2018-10-27\",\"y\"],[\"2018-10-28\",\"y\"],[\"2018-10-29\",\"y\"],[\"2018-10-30\",\"y\"],[\"2018-10-31\",\"y\"],[\"2018-11-01\",\"y\"],[\"2018-11-02\",\"y\"],[\"2018-11-03\",\"y\"],[\"2018-11-04\",\"y\"],[\"2018-11-05\",\"y\"],[\"2018-11-06\",\"y\"],[\"2018-11-07\",\"y\"],[\"2018-11-08\",\"y\"],[\"2018-11-09\",\"y\"],[\"2018-11-10\",\"y\"],[\"2018-11-11\",\"y\"],[\"2018-11-12\",\"y\"],[\"2018-11-13\",\"y\"],[\"2018-11-14\",\"y\"],[\"2018-11-15\",\"y\"],[\"2018-11-16\",\"y\"],[\"2018-11-17\",\"y\"],[\"2018-11-18\",\"y\"],[\"2018-11-19\",\"y\"],[\"2018-11-20\",\"y\"],[\"2018-11-21\",\"y\"],[\"2018-11-22\",\"y\"],[\"2018-11-23\",\"y\"],[\"2018-11-24\",\"y\"],[\"2018-11-25\",\"y\"],[\"2018-11-26\",\"y\"],[\"2018-11-27\",\"y\"],[\"2018-11-28\",\"y\"],[\"2018-11-29\",\"y\"],[\"2018-11-30\",\"y\"],[\"2018-12-01\",\"y\"],[\"2018-12-02\",\"y\"],[\"2018-12-03\",\"y\"],[\"2018-12-04\",\"y\"],[\"2018-12-05\",\"y\"],[\"2018-12-06\",\"y\"],[\"2018-12-07\",\"y\"],[\"2018-12-08\",\"y\"],[\"2018-12-09\",\"y\"],[\"2018-12-10\",\"y\"],[\"2018-12-11\",\"y\"],[\"2018-12-12\",\"y\"],[\"2018-12-13\",\"y\"],[\"2018-12-14\",\"y\"],[\"2018-12-15\",\"y\"],[\"2018-12-16\",\"y\"],[\"2018-12-17\",\"y\"],[\"2018-12-18\",\"y\"],[\"2018-12-19\",\"y\"],[\"2018-12-20\",\"y\"],[\"2018-12-21\",\"y\"],[\"2018-12-22\",\"y\"],[\"2018-12-23\",\"y\"],[\"2018-12-24\",\"y\"],[\"2018-12-25\",\"y\"],[\"2018-12-26\",\"y\"],[\"2018-12-27\",\"y\"],[\"2018-12-28\",\"y\"],[\"2018-12-29\",\"y\"],[\"2018-12-30\",\"y\"],[\"2018-12-31\",\"y\"]],\"hovertemplate\":\"%{customdata[0]} <br>%{customdata[1]}=%{z} <br>Week=%{x}\",\"name\":\"2018\",\"showscale\":false,\"x\":[1,1,1,1,1,1,1,2,2,2,2,2,2,2,3,3,3,3,3,3,3,4,4,4,4,4,4,4,5,5,5,5,5,5,5,6,6,6,6,6,6,6,7,7,7,7,7,7,7,8,8,8,8,8,8,8,9,9,9,9,9,9,9,10,10,10,10,10,10,10,11,11,11,11,11,11,11,12,12,12,12,12,12,12,13,13,13,13,13,13,13,14,14,14,14,14,14,14,15,15,15,15,15,15,15,16,16,16,16,16,16,16,17,17,17,17,17,17,17,18,18,18,18,18,18,18,19,19,19,19,19,19,19,20,20,20,20,20,20,20,21,21,21,21,21,21,21,22,22,22,22,22,22,22,23,23,23,23,23,23,23,24,24,24,24,24,24,24,25,25,25,25,25,25,25,26,26,26,26,26,26,26,27,27,27,27,27,27,27,28,28,28,28,28,28,28,29,29,29,29,29,29,29,30,30,30,30,30,30,30,31,31,31,31,31,31,31,32,32,32,32,32,32,32,33,33,33,33,33,33,33,34,34,34,34,34,34,34,35,35,35,35,35,35,35,36,36,36,36,36,36,36,37,37,37,37,37,37,37,38,38,38,38,38,38,38,39,39,39,39,39,39,39,40,40,40,40,40,40,40,41,41,41,41,41,41,41,42,42,42,42,42,42,42,43,43,43,43,43,43,43,44,44,44,44,44,44,44,45,45,45,45,45,45,45,46,46,46,46,46,46,46,47,47,47,47,47,47,47,48,48,48,48,48,48,48,49,49,49,49,49,49,49,50,50,50,50,50,50,50,51,51,51,51,51,51,51,52,52,52,52,52,52,52,53],\"xgap\":1,\"y\":[0,1,2,3,4,5,6,0,1,2,3,4,5,6,0,1,2,3,4,5,6,0,1,2,3,4,5,6,0,1,2,3,4,5,6,0,1,2,3,4,5,6,0,1,2,3,4,5,6,0,1,2,3,4,5,6,0,1,2,3,4,5,6,0,1,2,3,4,5,6,0,1,2,3,4,5,6,0,1,2,3,4,5,6,0,1,2,3,4,5,6,0,1,2,3,4,5,6,0,1,2,3,4,5,6,0,1,2,3,4,5,6,0,1,2,3,4,5,6,0,1,2,3,4,5,6,0,1,2,3,4,5,6,0,1,2,3,4,5,6,0,1,2,3,4,5,6,0,1,2,3,4,5,6,0,1,2,3,4,5,6,0,1,2,3,4,5,6,0,1,2,3,4,5,6,0,1,2,3,4,5,6,0,1,2,3,4,5,6,0,1,2,3,4,5,6,0,1,2,3,4,5,6,0,1,2,3,4,5,6,0,1,2,3,4,5,6,0,1,2,3,4,5,6,0,1,2,3,4,5,6,0,1,2,3,4,5,6,0,1,2,3,4,5,6,0,1,2,3,4,5,6,0,1,2,3,4,5,6,0,1,2,3,4,5,6,0,1,2,3,4,5,6,0,1,2,3,4,5,6,0,1,2,3,4,5,6,0,1,2,3,4,5,6,0,1,2,3,4,5,6,0,1,2,3,4,5,6,0,1,2,3,4,5,6,0,1,2,3,4,5,6,0,1,2,3,4,5,6,0,1,2,3,4,5,6,0,1,2,3,4,5,6,0,1,2,3,4,5,6,0,1,2,3,4,5,6,0,1,2,3,4,5,6,0],\"ygap\":1,\"z\":[-4.697445462097262,-4.977485810643538,-3.5323037873834386,-1.6367198016769533,-2.7312157442777716,-3.979841398311246,-3.609804800727035,-3.4320652357981767,-4.0893118389674905,-4.4966963634072705,-4.530549261784138,-2.9272906583091345,-4.258428531466274,-5.795145480670174,-4.153811329798799,-2.3829526960597263,-2.3791884163656727,-3.6884306354611933,-5.549777503702871,-5.795128578928449,-3.491813365355224,-3.1058670883721176,-4.042446124094449,-5.651363091321117,-6.6104396508954455,-7.021657779217697,-6.200762691600139,-5.966770245326995,-5.497744391244931,-5.432848259505643,-6.255419058398808,-5.384902726879529,-4.939729124608587,-5.903626382142358,-3.5412434553078715,-3.2604217678008713,-4.0591650551009275,-2.629040551371787,-3.6733987989276127,-2.3845637467290652,-3.8374728488763283,-2.8578038552383056,-4.855271757843788,-5.485754024008762,-5.394735579706723,-3.460909020552108,-6.394475666254579,-4.361243981854983,-4.778604632517728,-4.50436278123476,-3.6109179126442243,-4.085976312551584,-5.08179864788755,-5.539497280348345,-4.623703264957485,-5.442829911681793,-5.439165675135416,-4.687610692888845,-5.099666487805537,-3.821999239406037,-2.2361079461043416,-3.701407487169832,-4.993263044371785,-3.9119329112797,-4.724433606814909,-2.091180487928349,-3.679129278053636,-5.950382102006752,-6.461761102196753,-6.035038307600591,-4.040985151397078,-2.599965247322052,-4.21785301287607,-5.096683766327307,-5.155618279161512,-5.808336213344087,-5.671559442743842,-4.848331812191687,-3.2821254595422658,-1.6167825288198123,-3.363514457312974,-5.3526333606995244,-5.023977265392378,-5.933658865011595,-6.181826608897812,-5.387050017705216,-4.038524797710478,-5.154498699317571,-6.41535534597808,-5.973613859690893,-6.31379789012599,-3.9552495832548575,-4.532476597737101,-3.5203387917518767,-5.339819129973049,-4.333193661368973,-5.788065264711131,-6.684236657337844,-6.040849772288725,-4.91481518037616,-6.665986977830221,-6.150188088780374,-5.4054000825776285,-3.1135153092103742,-3.308335851069702,-3.2160357543242095,-4.411189083362873,-4.853981484050879,-5.429227082335844,-5.823519156258534,-5.450209859491703,-5.560185229913252,-4.75697328481591,-5.07269549921936,-4.154049643743857,-5.688045256584531,-5.8224540043737,-5.886104031450156,-6.223134148141626,-6.787013924443868,-5.330210730323991,-3.6914470769332133,-3.5634903820254076,-5.067798712928685,-5.9734024042895735,-5.877473142250881,-5.631979536177696,-5.535274165076276,-4.6918770294326,-4.293878247897177,-5.40293232132554,-5.480537292161458,-5.06601743994784,-3.162678009985836,-2.7338844046569735,-3.7900743287800305,-5.001905315356865,-4.365304258529493,-4.754401221158931,-4.200170086025949,-4.648382242387579,-4.441146365310896,-5.438774719243293,-5.765614634196029,-5.192451672804195,-6.025765324637971,-5.0676258697780945,-5.677017202770266,-5.978623836231532,-3.8895024020649176,-3.7615383248791656,-4.233824138366384,-3.98999979068411,-4.857581234982869,-5.657125169460247,-5.648680767872966,-5.666042146673354,-5.293670221640954,-4.9742806452925326,-4.3644332587321735,-3.713196761764643,-5.1129001139375685,-5.751918830368214,-5.161554953342067,-5.290376832880619,-5.453774183887655,-5.145247973264753,-4.660726657337043,-3.5929482205685024,-2.770726871022365,-3.7352766120792844,-4.272299299849715,-4.478608732520126,-5.166926538422625,-3.8171978143807377,-4.67803789353322,-3.1054905891057016,-4.497511347093789,-4.0469726626731,-4.666337646866078,-5.102606572635066,-4.154083276241558,-4.393440835958321,-4.203572589406416,-5.297162854201212,-4.005377152802034,-4.362344065959856,-5.427058659106176,-5.200420510846945,-4.548192751245551,-4.649395079725949,-5.0717964076821564,-4.661403842870183,-5.0484756327053155,-5.296770716555875,-3.366627659912338,-4.04419300666352,-2.754177469464921,-4.665918639146397,-5.584231572897173,-4.304472043928054,-5.113902711660891,-3.680957795011034,-2.939561317272458,-3.160130575413866,-3.6873932016728976,-5.541345241167622,-2.924219997264126,-4.748677964363453,-5.4754588633004495,-4.678551076839646,-4.726051143492435,-4.210288871419572,-2.8027154276432884,-2.5714609810916786,-4.014579593753238,-5.091341431726878,-4.350160627426091,-3.150493267712064,-2.92734454580714,-3.8868389677604225,-4.354461235987697,-3.129870567963624,-3.5637235261411173,-2.8812673497521084,-3.2433012159876458,-4.256920714689191,-4.8989138498184674,-3.500801717286759,-3.767802654253813,-4.261818444548961,-3.828999669616472,-3.6509412112222117,-4.901626154991233,-4.8790672034691305,-4.485808364598172,-5.174810745540479,-6.275954028660599,-5.761809457050195,-3.3933492798514515,-4.978347847563664,-5.689937067834148,-4.565921565468659,-4.061096780145647,-5.55574866946294,-3.6532248131229097,-4.9521137224766,-4.446658157439049,-3.7106209397299117,-3.6376314526584315,-4.531054030494831,-5.14313597198977,-4.746784307407482,-4.872203791594548,-4.370721969858169,-3.555523330966683,-3.205540266818007,-3.0138789076364367,-3.3539303670295615,-4.683052340420479,-3.946792434357645,-5.204324500522979,-5.044916214467688,-3.753490850394557,-4.3275230646560825,-5.9452828201116965,-5.640198230561712,-4.579415350245584,-3.853558789153546,-5.182880209976929,-5.87861074902419,-4.84797529102838,-5.876679063480484,-5.298185778943399,-4.951213652113047,-5.539549207465262,-5.866816656004325,-5.291917621450192,-5.200468252089419,-5.37671256397541,-4.442084647195841,-3.6405514227280316,-4.230499322401161,-3.081059009374133,-4.608252387642413,-4.207438257515098,-5.169154299067456,-4.659623619486784,-5.54907608489522,-5.5924245369129615,-5.410214722860486,-5.431124487049826,-5.712333381843441,-5.783917026561984,-4.9379994313308035,-5.240932682767085,-5.679948046351912,-5.7006172976039355,-5.400986764394372,-5.318575886261503,-5.776508540035482,-6.056738092166921,-5.862258760913513,-5.118825136764242,-5.600272098286537,-5.207361330052332,-5.776447607475885,-5.669461450111933,-4.987582947733854,-4.744317572832999,-5.888831789215395,-5.843676160658452,-5.004604070883994,-6.18300275900686,-6.053564435431436,-5.431798757922517,-5.333219989311855,-5.10009223791887,-2.535771503498293,-3.655753463681835,-5.153345614971552,-5.722020935263048,-6.238603603978407,-4.8089180601577075,-5.644282728060424,-6.361752928031063,-6.243134814848295,-5.790140043188412,-3.0231865444782295,-2.667944575644981,-4.856669782309523,-5.3279237595094,-4.951151210578331,-5.041272263558145,-4.8745511955390946,-4.19789833488123,-5.22808746652041,-5.74804098183944,-5.311844508443467,-5.3728933290385,-6.040658942233534,-4.10521714058672,-2.4990140005478336,-3.5369114299299587,-5.37489253077411,-5.9571553888610564,-5.804325434354626,-4.665458616844896,-5.716851464072824,-4.423330440815118,-5.850193530144385,-5.352047688969004,-5.7342847367696015,-4.851288019250441,-4.528167208488775,-5.834386198741646,-6.40124465651756,-6.020571678158469,-5.767452563259819,-3.5029229804226802,-3.253034573298533,-3.739346804535197,-4.733222888281931,-5.040868087062242,-4.1737438037358405],\"type\":\"heatmap\",\"xaxis\":\"x\",\"yaxis\":\"y\"},{\"hoverinfo\":\"skip\",\"line\":{\"color\":\"#9e9e9e\",\"width\":1},\"mode\":\"lines\",\"x\":[0.5,0.5],\"y\":[-0.5,6.5],\"type\":\"scatter\",\"xaxis\":\"x\",\"yaxis\":\"y\"},{\"hoverinfo\":\"skip\",\"line\":{\"color\":\"#9e9e9e\",\"width\":1},\"mode\":\"lines\",\"x\":[4.5,4.5],\"y\":[2.5,6.5],\"type\":\"scatter\",\"xaxis\":\"x\",\"yaxis\":\"y\"},{\"hoverinfo\":\"skip\",\"line\":{\"color\":\"#9e9e9e\",\"width\":1},\"mode\":\"lines\",\"x\":[4.5,5.5],\"y\":[2.5,2.5],\"type\":\"scatter\",\"xaxis\":\"x\",\"yaxis\":\"y\"},{\"hoverinfo\":\"skip\",\"line\":{\"color\":\"#9e9e9e\",\"width\":1},\"mode\":\"lines\",\"x\":[5.5,5.5],\"y\":[2.5,-0.5],\"type\":\"scatter\",\"xaxis\":\"x\",\"yaxis\":\"y\"},{\"hoverinfo\":\"skip\",\"line\":{\"color\":\"#9e9e9e\",\"width\":1},\"mode\":\"lines\",\"x\":[8.5,8.5],\"y\":[2.5,6.5],\"type\":\"scatter\",\"xaxis\":\"x\",\"yaxis\":\"y\"},{\"hoverinfo\":\"skip\",\"line\":{\"color\":\"#9e9e9e\",\"width\":1},\"mode\":\"lines\",\"x\":[8.5,9.5],\"y\":[2.5,2.5],\"type\":\"scatter\",\"xaxis\":\"x\",\"yaxis\":\"y\"},{\"hoverinfo\":\"skip\",\"line\":{\"color\":\"#9e9e9e\",\"width\":1},\"mode\":\"lines\",\"x\":[9.5,9.5],\"y\":[2.5,-0.5],\"type\":\"scatter\",\"xaxis\":\"x\",\"yaxis\":\"y\"},{\"hoverinfo\":\"skip\",\"line\":{\"color\":\"#9e9e9e\",\"width\":1},\"mode\":\"lines\",\"x\":[12.5,12.5],\"y\":[5.5,6.5],\"type\":\"scatter\",\"xaxis\":\"x\",\"yaxis\":\"y\"},{\"hoverinfo\":\"skip\",\"line\":{\"color\":\"#9e9e9e\",\"width\":1},\"mode\":\"lines\",\"x\":[12.5,13.5],\"y\":[5.5,5.5],\"type\":\"scatter\",\"xaxis\":\"x\",\"yaxis\":\"y\"},{\"hoverinfo\":\"skip\",\"line\":{\"color\":\"#9e9e9e\",\"width\":1},\"mode\":\"lines\",\"x\":[13.5,13.5],\"y\":[5.5,-0.5],\"type\":\"scatter\",\"xaxis\":\"x\",\"yaxis\":\"y\"},{\"hoverinfo\":\"skip\",\"line\":{\"color\":\"#9e9e9e\",\"width\":1},\"mode\":\"lines\",\"x\":[17.5,17.5],\"y\":[0.5,6.5],\"type\":\"scatter\",\"xaxis\":\"x\",\"yaxis\":\"y\"},{\"hoverinfo\":\"skip\",\"line\":{\"color\":\"#9e9e9e\",\"width\":1},\"mode\":\"lines\",\"x\":[17.5,18.5],\"y\":[0.5,0.5],\"type\":\"scatter\",\"xaxis\":\"x\",\"yaxis\":\"y\"},{\"hoverinfo\":\"skip\",\"line\":{\"color\":\"#9e9e9e\",\"width\":1},\"mode\":\"lines\",\"x\":[18.5,18.5],\"y\":[0.5,-0.5],\"type\":\"scatter\",\"xaxis\":\"x\",\"yaxis\":\"y\"},{\"hoverinfo\":\"skip\",\"line\":{\"color\":\"#9e9e9e\",\"width\":1},\"mode\":\"lines\",\"x\":[21.5,21.5],\"y\":[3.5,6.5],\"type\":\"scatter\",\"xaxis\":\"x\",\"yaxis\":\"y\"},{\"hoverinfo\":\"skip\",\"line\":{\"color\":\"#9e9e9e\",\"width\":1},\"mode\":\"lines\",\"x\":[21.5,22.5],\"y\":[3.5,3.5],\"type\":\"scatter\",\"xaxis\":\"x\",\"yaxis\":\"y\"},{\"hoverinfo\":\"skip\",\"line\":{\"color\":\"#9e9e9e\",\"width\":1},\"mode\":\"lines\",\"x\":[22.5,22.5],\"y\":[3.5,-0.5],\"type\":\"scatter\",\"xaxis\":\"x\",\"yaxis\":\"y\"},{\"hoverinfo\":\"skip\",\"line\":{\"color\":\"#9e9e9e\",\"width\":1},\"mode\":\"lines\",\"x\":[25.5,25.5],\"y\":[5.5,6.5],\"type\":\"scatter\",\"xaxis\":\"x\",\"yaxis\":\"y\"},{\"hoverinfo\":\"skip\",\"line\":{\"color\":\"#9e9e9e\",\"width\":1},\"mode\":\"lines\",\"x\":[25.5,26.5],\"y\":[5.5,5.5],\"type\":\"scatter\",\"xaxis\":\"x\",\"yaxis\":\"y\"},{\"hoverinfo\":\"skip\",\"line\":{\"color\":\"#9e9e9e\",\"width\":1},\"mode\":\"lines\",\"x\":[26.5,26.5],\"y\":[5.5,-0.5],\"type\":\"scatter\",\"xaxis\":\"x\",\"yaxis\":\"y\"},{\"hoverinfo\":\"skip\",\"line\":{\"color\":\"#9e9e9e\",\"width\":1},\"mode\":\"lines\",\"x\":[30.5,30.5],\"y\":[1.5,6.5],\"type\":\"scatter\",\"xaxis\":\"x\",\"yaxis\":\"y\"},{\"hoverinfo\":\"skip\",\"line\":{\"color\":\"#9e9e9e\",\"width\":1},\"mode\":\"lines\",\"x\":[30.5,31.5],\"y\":[1.5,1.5],\"type\":\"scatter\",\"xaxis\":\"x\",\"yaxis\":\"y\"},{\"hoverinfo\":\"skip\",\"line\":{\"color\":\"#9e9e9e\",\"width\":1},\"mode\":\"lines\",\"x\":[31.5,31.5],\"y\":[1.5,-0.5],\"type\":\"scatter\",\"xaxis\":\"x\",\"yaxis\":\"y\"},{\"hoverinfo\":\"skip\",\"line\":{\"color\":\"#9e9e9e\",\"width\":1},\"mode\":\"lines\",\"x\":[34.5,34.5],\"y\":[4.5,6.5],\"type\":\"scatter\",\"xaxis\":\"x\",\"yaxis\":\"y\"},{\"hoverinfo\":\"skip\",\"line\":{\"color\":\"#9e9e9e\",\"width\":1},\"mode\":\"lines\",\"x\":[34.5,35.5],\"y\":[4.5,4.5],\"type\":\"scatter\",\"xaxis\":\"x\",\"yaxis\":\"y\"},{\"hoverinfo\":\"skip\",\"line\":{\"color\":\"#9e9e9e\",\"width\":1},\"mode\":\"lines\",\"x\":[35.5,35.5],\"y\":[4.5,-0.5],\"type\":\"scatter\",\"xaxis\":\"x\",\"yaxis\":\"y\"},{\"hoverinfo\":\"skip\",\"line\":{\"color\":\"#9e9e9e\",\"width\":1},\"mode\":\"lines\",\"x\":[39.5,39.5],\"y\":[-0.5,6.5],\"type\":\"scatter\",\"xaxis\":\"x\",\"yaxis\":\"y\"},{\"hoverinfo\":\"skip\",\"line\":{\"color\":\"#9e9e9e\",\"width\":1},\"mode\":\"lines\",\"x\":[43.5,43.5],\"y\":[2.5,6.5],\"type\":\"scatter\",\"xaxis\":\"x\",\"yaxis\":\"y\"},{\"hoverinfo\":\"skip\",\"line\":{\"color\":\"#9e9e9e\",\"width\":1},\"mode\":\"lines\",\"x\":[43.5,44.5],\"y\":[2.5,2.5],\"type\":\"scatter\",\"xaxis\":\"x\",\"yaxis\":\"y\"},{\"hoverinfo\":\"skip\",\"line\":{\"color\":\"#9e9e9e\",\"width\":1},\"mode\":\"lines\",\"x\":[44.5,44.5],\"y\":[2.5,-0.5],\"type\":\"scatter\",\"xaxis\":\"x\",\"yaxis\":\"y\"},{\"hoverinfo\":\"skip\",\"line\":{\"color\":\"#9e9e9e\",\"width\":1},\"mode\":\"lines\",\"x\":[47.5,47.5],\"y\":[4.5,6.5],\"type\":\"scatter\",\"xaxis\":\"x\",\"yaxis\":\"y\"},{\"hoverinfo\":\"skip\",\"line\":{\"color\":\"#9e9e9e\",\"width\":1},\"mode\":\"lines\",\"x\":[47.5,48.5],\"y\":[4.5,4.5],\"type\":\"scatter\",\"xaxis\":\"x\",\"yaxis\":\"y\"},{\"hoverinfo\":\"skip\",\"line\":{\"color\":\"#9e9e9e\",\"width\":1},\"mode\":\"lines\",\"x\":[48.5,48.5],\"y\":[4.5,-0.5],\"type\":\"scatter\",\"xaxis\":\"x\",\"yaxis\":\"y\"},{\"colorscale\":[[0.0,\"rgb(247,252,245)\"],[0.125,\"rgb(229,245,224)\"],[0.25,\"rgb(199,233,192)\"],[0.375,\"rgb(161,217,155)\"],[0.5,\"rgb(116,196,118)\"],[0.625,\"rgb(65,171,93)\"],[0.75,\"rgb(35,139,69)\"],[0.875,\"rgb(0,109,44)\"],[1.0,\"rgb(0,68,27)\"]],\"customdata\":[[\"2019-01-01\",\"y\"],[\"2019-01-02\",\"y\"],[\"2019-01-03\",\"y\"],[\"2019-01-04\",\"y\"],[\"2019-01-05\",\"y\"],[\"2019-01-06\",\"y\"],[\"2019-01-07\",\"y\"],[\"2019-01-08\",\"y\"],[\"2019-01-09\",\"y\"],[\"2019-01-10\",\"y\"],[\"2019-01-11\",\"y\"],[\"2019-01-12\",\"y\"],[\"2019-01-13\",\"y\"],[\"2019-01-14\",\"y\"],[\"2019-01-15\",\"y\"],[\"2019-01-16\",\"y\"],[\"2019-01-17\",\"y\"],[\"2019-01-18\",\"y\"],[\"2019-01-19\",\"y\"],[\"2019-01-20\",\"y\"],[\"2019-01-21\",\"y\"],[\"2019-01-22\",\"y\"],[\"2019-01-23\",\"y\"],[\"2019-01-24\",\"y\"],[\"2019-01-25\",\"y\"],[\"2019-01-26\",\"y\"],[\"2019-01-27\",\"y\"],[\"2019-01-28\",\"y\"],[\"2019-01-29\",\"y\"],[\"2019-01-30\",\"y\"],[\"2019-01-31\",\"y\"],[\"2019-02-01\",\"y\"],[\"2019-02-02\",\"y\"],[\"2019-02-03\",\"y\"],[\"2019-02-04\",\"y\"],[\"2019-02-05\",\"y\"],[\"2019-02-06\",\"y\"],[\"2019-02-07\",\"y\"],[\"2019-02-08\",\"y\"],[\"2019-02-09\",\"y\"],[\"2019-02-10\",\"y\"],[\"2019-02-11\",\"y\"],[\"2019-02-12\",\"y\"],[\"2019-02-13\",\"y\"],[\"2019-02-14\",\"y\"],[\"2019-02-15\",\"y\"],[\"2019-02-16\",\"y\"],[\"2019-02-17\",\"y\"],[\"2019-02-18\",\"y\"],[\"2019-02-19\",\"y\"],[\"2019-02-20\",\"y\"],[\"2019-02-21\",\"y\"],[\"2019-02-22\",\"y\"],[\"2019-02-23\",\"y\"],[\"2019-02-24\",\"y\"],[\"2019-02-25\",\"y\"],[\"2019-02-26\",\"y\"],[\"2019-02-27\",\"y\"],[\"2019-02-28\",\"y\"],[\"2019-03-01\",\"y\"],[\"2019-03-02\",\"y\"],[\"2019-03-03\",\"y\"],[\"2019-03-04\",\"y\"],[\"2019-03-05\",\"y\"],[\"2019-03-06\",\"y\"],[\"2019-03-07\",\"y\"],[\"2019-03-08\",\"y\"],[\"2019-03-09\",\"y\"],[\"2019-03-10\",\"y\"],[\"2019-03-11\",\"y\"],[\"2019-03-12\",\"y\"],[\"2019-03-13\",\"y\"],[\"2019-03-14\",\"y\"],[\"2019-03-15\",\"y\"],[\"2019-03-16\",\"y\"],[\"2019-03-17\",\"y\"],[\"2019-03-18\",\"y\"],[\"2019-03-19\",\"y\"],[\"2019-03-20\",\"y\"],[\"2019-03-21\",\"y\"],[\"2019-03-22\",\"y\"],[\"2019-03-23\",\"y\"],[\"2019-03-24\",\"y\"],[\"2019-03-25\",\"y\"],[\"2019-03-26\",\"y\"],[\"2019-03-27\",\"y\"],[\"2019-03-28\",\"y\"],[\"2019-03-29\",\"y\"],[\"2019-03-30\",\"y\"],[\"2019-03-31\",\"y\"],[\"2019-04-01\",\"y\"],[\"2019-04-02\",\"y\"],[\"2019-04-03\",\"y\"],[\"2019-04-04\",\"y\"],[\"2019-04-05\",\"y\"],[\"2019-04-06\",\"y\"],[\"2019-04-07\",\"y\"],[\"2019-04-08\",\"y\"],[\"2019-04-09\",\"y\"],[\"2019-04-10\",\"y\"],[\"2019-04-11\",\"y\"],[\"2019-04-12\",\"y\"],[\"2019-04-13\",\"y\"],[\"2019-04-14\",\"y\"],[\"2019-04-15\",\"y\"],[\"2019-04-16\",\"y\"],[\"2019-04-17\",\"y\"],[\"2019-04-18\",\"y\"],[\"2019-04-19\",\"y\"],[\"2019-04-20\",\"y\"],[\"2019-04-21\",\"y\"],[\"2019-04-22\",\"y\"],[\"2019-04-23\",\"y\"],[\"2019-04-24\",\"y\"],[\"2019-04-25\",\"y\"],[\"2019-04-26\",\"y\"],[\"2019-04-27\",\"y\"],[\"2019-04-28\",\"y\"],[\"2019-04-29\",\"y\"],[\"2019-04-30\",\"y\"],[\"2019-05-01\",\"y\"],[\"2019-05-02\",\"y\"],[\"2019-05-03\",\"y\"],[\"2019-05-04\",\"y\"],[\"2019-05-05\",\"y\"],[\"2019-05-06\",\"y\"],[\"2019-05-07\",\"y\"],[\"2019-05-08\",\"y\"],[\"2019-05-09\",\"y\"],[\"2019-05-10\",\"y\"],[\"2019-05-11\",\"y\"],[\"2019-05-12\",\"y\"],[\"2019-05-13\",\"y\"],[\"2019-05-14\",\"y\"],[\"2019-05-15\",\"y\"],[\"2019-05-16\",\"y\"],[\"2019-05-17\",\"y\"],[\"2019-05-18\",\"y\"],[\"2019-05-19\",\"y\"],[\"2019-05-20\",\"y\"],[\"2019-05-21\",\"y\"],[\"2019-05-22\",\"y\"],[\"2019-05-23\",\"y\"],[\"2019-05-24\",\"y\"],[\"2019-05-25\",\"y\"],[\"2019-05-26\",\"y\"],[\"2019-05-27\",\"y\"],[\"2019-05-28\",\"y\"],[\"2019-05-29\",\"y\"],[\"2019-05-30\",\"y\"],[\"2019-05-31\",\"y\"],[\"2019-06-01\",\"y\"],[\"2019-06-02\",\"y\"],[\"2019-06-03\",\"y\"],[\"2019-06-04\",\"y\"],[\"2019-06-05\",\"y\"],[\"2019-06-06\",\"y\"],[\"2019-06-07\",\"y\"],[\"2019-06-08\",\"y\"],[\"2019-06-09\",\"y\"],[\"2019-06-10\",\"y\"],[\"2019-06-11\",\"y\"],[\"2019-06-12\",\"y\"],[\"2019-06-13\",\"y\"],[\"2019-06-14\",\"y\"],[\"2019-06-15\",\"y\"],[\"2019-06-16\",\"y\"],[\"2019-06-17\",\"y\"],[\"2019-06-18\",\"y\"],[\"2019-06-19\",\"y\"],[\"2019-06-20\",\"y\"],[\"2019-06-21\",\"y\"],[\"2019-06-22\",\"y\"],[\"2019-06-23\",\"y\"],[\"2019-06-24\",\"y\"],[\"2019-06-25\",\"y\"],[\"2019-06-26\",\"y\"],[\"2019-06-27\",\"y\"],[\"2019-06-28\",\"y\"],[\"2019-06-29\",\"y\"],[\"2019-06-30\",\"y\"],[\"2019-07-01\",\"y\"],[\"2019-07-02\",\"y\"],[\"2019-07-03\",\"y\"],[\"2019-07-04\",\"y\"],[\"2019-07-05\",\"y\"],[\"2019-07-06\",\"y\"],[\"2019-07-07\",\"y\"],[\"2019-07-08\",\"y\"],[\"2019-07-09\",\"y\"],[\"2019-07-10\",\"y\"],[\"2019-07-11\",\"y\"],[\"2019-07-12\",\"y\"],[\"2019-07-13\",\"y\"],[\"2019-07-14\",\"y\"],[\"2019-07-15\",\"y\"],[\"2019-07-16\",\"y\"],[\"2019-07-17\",\"y\"],[\"2019-07-18\",\"y\"],[\"2019-07-19\",\"y\"],[\"2019-07-20\",\"y\"],[\"2019-07-21\",\"y\"],[\"2019-07-22\",\"y\"],[\"2019-07-23\",\"y\"],[\"2019-07-24\",\"y\"],[\"2019-07-25\",\"y\"],[\"2019-07-26\",\"y\"],[\"2019-07-27\",\"y\"],[\"2019-07-28\",\"y\"],[\"2019-07-29\",\"y\"],[\"2019-07-30\",\"y\"],[\"2019-07-31\",\"y\"],[\"2019-08-01\",\"y\"],[\"2019-08-02\",\"y\"],[\"2019-08-03\",\"y\"],[\"2019-08-04\",\"y\"],[\"2019-08-05\",\"y\"],[\"2019-08-06\",\"y\"],[\"2019-08-07\",\"y\"],[\"2019-08-08\",\"y\"],[\"2019-08-09\",\"y\"],[\"2019-08-10\",\"y\"],[\"2019-08-11\",\"y\"],[\"2019-08-12\",\"y\"],[\"2019-08-13\",\"y\"],[\"2019-08-14\",\"y\"],[\"2019-08-15\",\"y\"],[\"2019-08-16\",\"y\"],[\"2019-08-17\",\"y\"],[\"2019-08-18\",\"y\"],[\"2019-08-19\",\"y\"],[\"2019-08-20\",\"y\"],[\"2019-08-21\",\"y\"],[\"2019-08-22\",\"y\"],[\"2019-08-23\",\"y\"],[\"2019-08-24\",\"y\"],[\"2019-08-25\",\"y\"],[\"2019-08-26\",\"y\"],[\"2019-08-27\",\"y\"],[\"2019-08-28\",\"y\"],[\"2019-08-29\",\"y\"],[\"2019-08-30\",\"y\"],[\"2019-08-31\",\"y\"],[\"2019-09-01\",\"y\"],[\"2019-09-02\",\"y\"],[\"2019-09-03\",\"y\"],[\"2019-09-04\",\"y\"],[\"2019-09-05\",\"y\"],[\"2019-09-06\",\"y\"],[\"2019-09-07\",\"y\"],[\"2019-09-08\",\"y\"],[\"2019-09-09\",\"y\"],[\"2019-09-10\",\"y\"],[\"2019-09-11\",\"y\"],[\"2019-09-12\",\"y\"],[\"2019-09-13\",\"y\"],[\"2019-09-14\",\"y\"],[\"2019-09-15\",\"y\"],[\"2019-09-16\",\"y\"],[\"2019-09-17\",\"y\"],[\"2019-09-18\",\"y\"],[\"2019-09-19\",\"y\"],[\"2019-09-20\",\"y\"],[\"2019-09-21\",\"y\"],[\"2019-09-22\",\"y\"],[\"2019-09-23\",\"y\"],[\"2019-09-24\",\"y\"],[\"2019-09-25\",\"y\"],[\"2019-09-26\",\"y\"],[\"2019-09-27\",\"y\"],[\"2019-09-28\",\"y\"],[\"2019-09-29\",\"y\"],[\"2019-09-30\",\"y\"],[\"2019-10-01\",\"y\"],[\"2019-10-02\",\"y\"],[\"2019-10-03\",\"y\"],[\"2019-10-04\",\"y\"],[\"2019-10-05\",\"y\"],[\"2019-10-06\",\"y\"],[\"2019-10-07\",\"y\"],[\"2019-10-08\",\"y\"],[\"2019-10-09\",\"y\"],[\"2019-10-10\",\"y\"],[\"2019-10-11\",\"y\"],[\"2019-10-12\",\"y\"],[\"2019-10-13\",\"y\"],[\"2019-10-14\",\"y\"],[\"2019-10-15\",\"y\"],[\"2019-10-16\",\"y\"],[\"2019-10-17\",\"y\"],[\"2019-10-18\",\"y\"],[\"2019-10-19\",\"y\"],[\"2019-10-20\",\"y\"],[\"2019-10-21\",\"y\"],[\"2019-10-22\",\"y\"],[\"2019-10-23\",\"y\"],[\"2019-10-24\",\"y\"],[\"2019-10-25\",\"y\"],[\"2019-10-26\",\"y\"],[\"2019-10-27\",\"y\"],[\"2019-10-28\",\"y\"],[\"2019-10-29\",\"y\"],[\"2019-10-30\",\"y\"],[\"2019-10-31\",\"y\"],[\"2019-11-01\",\"y\"],[\"2019-11-02\",\"y\"],[\"2019-11-03\",\"y\"],[\"2019-11-04\",\"y\"],[\"2019-11-05\",\"y\"],[\"2019-11-06\",\"y\"],[\"2019-11-07\",\"y\"],[\"2019-11-08\",\"y\"],[\"2019-11-09\",\"y\"],[\"2019-11-10\",\"y\"],[\"2019-11-11\",\"y\"],[\"2019-11-12\",\"y\"],[\"2019-11-13\",\"y\"],[\"2019-11-14\",\"y\"],[\"2019-11-15\",\"y\"],[\"2019-11-16\",\"y\"],[\"2019-11-17\",\"y\"],[\"2019-11-18\",\"y\"],[\"2019-11-19\",\"y\"],[\"2019-11-20\",\"y\"],[\"2019-11-21\",\"y\"],[\"2019-11-22\",\"y\"],[\"2019-11-23\",\"y\"],[\"2019-11-24\",\"y\"],[\"2019-11-25\",\"y\"],[\"2019-11-26\",\"y\"],[\"2019-11-27\",\"y\"],[\"2019-11-28\",\"y\"],[\"2019-11-29\",\"y\"],[\"2019-11-30\",\"y\"],[\"2019-12-01\",\"y\"],[\"2019-12-02\",\"y\"],[\"2019-12-03\",\"y\"],[\"2019-12-04\",\"y\"],[\"2019-12-05\",\"y\"],[\"2019-12-06\",\"y\"],[\"2019-12-07\",\"y\"],[\"2019-12-08\",\"y\"],[\"2019-12-09\",\"y\"],[\"2019-12-10\",\"y\"],[\"2019-12-11\",\"y\"],[\"2019-12-12\",\"y\"],[\"2019-12-13\",\"y\"],[\"2019-12-14\",\"y\"],[\"2019-12-15\",\"y\"],[\"2019-12-16\",\"y\"],[\"2019-12-17\",\"y\"],[\"2019-12-18\",\"y\"],[\"2019-12-19\",\"y\"],[\"2019-12-20\",\"y\"],[\"2019-12-21\",\"y\"],[\"2019-12-22\",\"y\"],[\"2019-12-23\",\"y\"],[\"2019-12-24\",\"y\"],[\"2019-12-25\",\"y\"],[\"2019-12-26\",\"y\"],[\"2019-12-27\",\"y\"],[\"2019-12-28\",\"y\"],[\"2019-12-29\",\"y\"],[\"2019-12-30\",\"y\"],[\"2019-12-31\",\"y\"]],\"hovertemplate\":\"%{customdata[0]} <br>%{customdata[1]}=%{z} <br>Week=%{x}\",\"name\":\"2019\",\"showscale\":false,\"x\":[1,1,1,1,1,1,2,2,2,2,2,2,2,3,3,3,3,3,3,3,4,4,4,4,4,4,4,5,5,5,5,5,5,5,6,6,6,6,6,6,6,7,7,7,7,7,7,7,8,8,8,8,8,8,8,9,9,9,9,9,9,9,10,10,10,10,10,10,10,11,11,11,11,11,11,11,12,12,12,12,12,12,12,13,13,13,13,13,13,13,14,14,14,14,14,14,14,15,15,15,15,15,15,15,16,16,16,16,16,16,16,17,17,17,17,17,17,17,18,18,18,18,18,18,18,19,19,19,19,19,19,19,20,20,20,20,20,20,20,21,21,21,21,21,21,21,22,22,22,22,22,22,22,23,23,23,23,23,23,23,24,24,24,24,24,24,24,25,25,25,25,25,25,25,26,26,26,26,26,26,26,27,27,27,27,27,27,27,28,28,28,28,28,28,28,29,29,29,29,29,29,29,30,30,30,30,30,30,30,31,31,31,31,31,31,31,32,32,32,32,32,32,32,33,33,33,33,33,33,33,34,34,34,34,34,34,34,35,35,35,35,35,35,35,36,36,36,36,36,36,36,37,37,37,37,37,37,37,38,38,38,38,38,38,38,39,39,39,39,39,39,39,40,40,40,40,40,40,40,41,41,41,41,41,41,41,42,42,42,42,42,42,42,43,43,43,43,43,43,43,44,44,44,44,44,44,44,45,45,45,45,45,45,45,46,46,46,46,46,46,46,47,47,47,47,47,47,47,48,48,48,48,48,48,48,49,49,49,49,49,49,49,50,50,50,50,50,50,50,51,51,51,51,51,51,51,52,52,52,52,52,52,52,53,53],\"xgap\":1,\"y\":[1,2,3,4,5,6,0,1,2,3,4,5,6,0,1,2,3,4,5,6,0,1,2,3,4,5,6,0,1,2,3,4,5,6,0,1,2,3,4,5,6,0,1,2,3,4,5,6,0,1,2,3,4,5,6,0,1,2,3,4,5,6,0,1,2,3,4,5,6,0,1,2,3,4,5,6,0,1,2,3,4,5,6,0,1,2,3,4,5,6,0,1,2,3,4,5,6,0,1,2,3,4,5,6,0,1,2,3,4,5,6,0,1,2,3,4,5,6,0,1,2,3,4,5,6,0,1,2,3,4,5,6,0,1,2,3,4,5,6,0,1,2,3,4,5,6,0,1,2,3,4,5,6,0,1,2,3,4,5,6,0,1,2,3,4,5,6,0,1,2,3,4,5,6,0,1,2,3,4,5,6,0,1,2,3,4,5,6,0,1,2,3,4,5,6,0,1,2,3,4,5,6,0,1,2,3,4,5,6,0,1,2,3,4,5,6,0,1,2,3,4,5,6,0,1,2,3,4,5,6,0,1,2,3,4,5,6,0,1,2,3,4,5,6,0,1,2,3,4,5,6,0,1,2,3,4,5,6,0,1,2,3,4,5,6,0,1,2,3,4,5,6,0,1,2,3,4,5,6,0,1,2,3,4,5,6,0,1,2,3,4,5,6,0,1,2,3,4,5,6,0,1,2,3,4,5,6,0,1,2,3,4,5,6,0,1,2,3,4,5,6,0,1,2,3,4,5,6,0,1,2,3,4,5,6,0,1,2,3,4,5,6,0,1,2,3,4,5,6,0,1,2,3,4,5,6,0,1,2,3,4,5,6,0,1],\"ygap\":1,\"z\":[-4.806106233028524,-4.831051559079325,-5.007553627558847,-5.655478858769621,-4.922033427358881,-4.203659512936083,-5.282471764754533,-4.598675712523767,-4.732873819352617,-4.702452707784465,-4.536207709175995,-3.758818169709389,-3.144152278672264,-4.420448805354131,-4.343658388256242,-4.172043388025654,-4.596037702424819,-3.7979168751319463,-2.168977344091091,-2.587417287071751,-3.4031700468079884,-2.7039912180983503,-3.356533308842808,-3.7225105707433834,-4.623101478385492,-5.293962660468695,-4.413340151928805,-2.53134793043171,-2.793730740068465,-2.1046992044933046,-2.331529461526952,-3.7322021361012347,-3.775264526859974,-3.8678491128677424,-3.974379269124297,-3.5855780655257776,-3.8680974201912095,-3.5116142169871054,-3.990172183613976,-3.9922748025180392,-3.592407885873356,-3.0401798715317785,-2.2432838696273256,-3.40794613594935,-4.051336617824937,-4.482646600953396,-4.98556165654414,-3.202274129724276,-4.027068119179496,-4.018702238824264,-2.293402792921572,-3.357688497272308,-4.024326940706736,-3.6172044174070455,-2.9692062638662806,-2.900742919615044,-3.612215109953761,-3.9816238791787586,-4.275463473050295,-4.09898080447815,-3.6776521330420384,-3.102653749108132,-3.269038145459188,-4.5210151290248595,-4.442159075447248,-4.626273372708064,-4.363614931486004,-3.7351116796092647,-4.083767155929962,-4.340284593828456,-4.367853238380009,-2.46064022841653,-2.7674955142855846,-3.784061223003157,-4.043968839393041,-4.211170628061275,-4.369964381404126,-4.2652092209825865,-4.227425402912892,-4.503477815558802,-4.225458820242782,-4.428975742784785,-4.412999547827613,-4.0885006129675086,-4.462098927708584,-4.473658729939363,-4.605558041796785,-4.770856682277514,-4.591286371545962,-4.610561034622968,-4.252470016140966,-4.56635797307821,-4.288833603154309,-4.410332465235149,-4.513303290022064,-3.988566640735403,-3.795601318165506,-4.033724997027186,-4.467248960904278,-3.1416420934942444,-3.2259932926370647,-4.499766769367132,-3.102769953413902,-2.385150002231437,-3.3514508779929035,-4.997614913295335,-3.9160855386142264,-4.325378976548674,-2.655716809259203,-3.986522809781584,-4.834144657613094,-4.943362113488831,-4.726538257973545,-4.1693195053866,-4.918304983792993,-3.2227046922875893,-3.0686449218042973,-4.5257946139596745,-4.477638077633849,-3.497269329701736,-4.039960894088988,-3.71219459672627,-4.04433414164744,-4.2813740241379605,-4.220487617062456,-4.647207441779149,-4.093858148628305,-3.2405586862170743,-3.8638058477908173,-4.508990902754043,-3.771651465521456,-4.360397607428164,-4.368470397596482,-4.745417554554905,-4.40221161133776,-4.937194676211068,-4.957607247110512,-3.0438343703715356,-3.730129401329815,-3.817013358493976,-3.7155952014929836,-4.834727905084744,-3.6899805426087,-5.015929112705971,-6.313822492583398,-4.732280404519614,-3.412633765978795,-3.266825620754095,-2.5208323304809226,-3.5022790933591854,-4.412608221429523,-4.268908453525113,-3.7148526179578294,-4.343678504878368,-4.690867207527411,-3.8474790970706767,-4.63021864439632,-4.440820440017539,-3.5418523141249336,-2.9114615628910143,-3.2211967808172464,-4.687620485817372,-4.395414506996048,-4.996756192324943,-5.356172418770728,-4.101358033401959,-3.034131406488527,-3.522723856421025,-3.705775495613654,-3.633448828041598,-3.1991697446353413,-3.9352191138818617,-4.171295928014391,-3.467572450607028,-3.9062569268495144,-4.404192930131142,-4.977611100376208,-4.565257169756262,-4.313047499356325,-3.3830708595248105,-3.6448102714113153,-4.325135564773501,-4.037582290571905,-4.718128706567566,-4.115210360608105,-4.6929179400360335,-3.003532511741972,-3.8214251096085343,-4.630541789993703,-5.239202431352724,-3.933444461295273,-2.7369796495212526,-4.108041989345698,-3.7383387384153925,-4.452358003912308,-4.566527961604394,-5.0032373965936126,-3.1530095555436923,-2.7868297312546026,-3.9375060629158796,-4.094535565947254,-3.9256634556257075,-3.0737781809141795,-3.9193907547650793,-5.312004777696154,-5.295814236329918,-5.356093946771693,-5.61896963604676,-5.604110304769175,-3.9453468955973974,-4.206905979798437,-3.050301719135568,-3.7418624965434044,-3.8188597730133815,-4.967765923548364,-5.189161779921659,-5.467117498798071,-4.014688477402791,-2.6195398855798553,-3.515506657132237,-4.836323027908779,-5.56082767682549,-5.205751479740215,-4.354232351922189,-4.209232199957893,-4.4632520745964674,-4.098751504040307,-4.848510518676337,-4.73510755722666,-2.8377675946776493,-3.621137468834373,-3.0699003802085643,-3.5362739716067444,-3.649719734285115,-4.406259736426333,-5.683888934136631,-5.885626486888344,-4.45388709333774,-4.30005951487741,-5.183941979793995,-5.7894154286935,-3.6484180360167286,-4.516310362024696,-4.359936610670698,-2.9440384896739364,-2.6393304417294785,-3.1129429976283363,-3.699460618532376,-4.083230396481034,-4.509044673890708,-4.582844898940255,-4.730219101972986,-4.772756044128293,-4.751855662440932,-4.00566726570834,-4.807106144446473,-5.991464547107982,-4.906737447404737,-5.3136770610401785,-5.317310167912524,-5.042445772111627,-2.9937234254012504,-3.9782049123094474,-5.811957208502902,-6.153618826795762,-4.496856596347525,-5.43322667538921,-5.875109063442784,-6.129092927760631,-2.92638305081497,-4.319499694392405,-5.076369908140064,-5.305618236426539,-5.777383071740147,-5.5301343061584225,-5.833496202790836,-5.835403831763321,-5.989334620850157,-4.955433313748421,-5.464086010000923,-5.634304476696086,-5.452088965786971,-4.112778263910939,-4.376116950948654,-5.624282920101894,-5.63239125905659,-5.927518443049348,-5.661993064379567,-5.162952232578372,-4.242426443922106,-5.63903229090804,-5.929961414513932,-4.6443908991413725,-4.1588830833596715,-4.999682282077059,-5.816323034347734,-3.8944897346653997,-4.864274705385071,-4.725821732257518,-4.8313824702489,-4.678774630032265,-3.405355391810819,-4.311354398177533,-3.2969967541799545,-4.287425774200205,-5.515497224394197,-5.800072566346874,-5.929031335132741,-5.633369180927635,-5.384629970040558,-5.520140898083186,-5.520140898083186,-6.035916309678816,-5.838613527407008,-2.6268892020349672,-4.553475383709978,-5.009619325636403,-5.3357495513533255,-5.815366441547899,-6.015018300061717,-6.098206461136758,-5.438675891375798,-5.181208316310871,-5.051128467437464,-5.7461605911237585,-5.991379797754145,-6.642135721793974,-6.4757045912809605,-5.261743581969047,-3.57196113002327,-5.258384204541381,-6.6387132119836165,-3.793882763123921,-4.13609837179033,-3.4340276273078776,-3.3332963508749445,-3.9876797083309117,-4.968314355369474,-5.753268200302183,-5.163313028199513,-4.995734916827418,-5.51964108114526,-4.106712211030763,-5.1372912531513375,-4.981290596967896,-5.950078157235518,-5.022581200640959,-5.234232643137919,-5.0927499279216875,-4.875767486151621,-4.168624636604971,-4.321028416142857,-5.002654816679031,-5.392211449821168,-6.037182230470892,-5.2029159127370965,-4.6627867641839575,-3.99730722802815,-4.682020331643097,-5.1955780843700845,-4.749031209630444,-4.122495710458833,-4.271340223509048,-4.225503740384403,-4.773223770984341],\"type\":\"heatmap\",\"xaxis\":\"x2\",\"yaxis\":\"y2\"},{\"hoverinfo\":\"skip\",\"line\":{\"color\":\"#9e9e9e\",\"width\":1},\"mode\":\"lines\",\"x\":[0.5,0.5],\"y\":[0.5,6.5],\"type\":\"scatter\",\"xaxis\":\"x2\",\"yaxis\":\"y2\"},{\"hoverinfo\":\"skip\",\"line\":{\"color\":\"#9e9e9e\",\"width\":1},\"mode\":\"lines\",\"x\":[0.5,1.5],\"y\":[0.5,0.5],\"type\":\"scatter\",\"xaxis\":\"x2\",\"yaxis\":\"y2\"},{\"hoverinfo\":\"skip\",\"line\":{\"color\":\"#9e9e9e\",\"width\":1},\"mode\":\"lines\",\"x\":[1.5,1.5],\"y\":[0.5,-0.5],\"type\":\"scatter\",\"xaxis\":\"x2\",\"yaxis\":\"y2\"},{\"hoverinfo\":\"skip\",\"line\":{\"color\":\"#9e9e9e\",\"width\":1},\"mode\":\"lines\",\"x\":[4.5,4.5],\"y\":[3.5,6.5],\"type\":\"scatter\",\"xaxis\":\"x2\",\"yaxis\":\"y2\"},{\"hoverinfo\":\"skip\",\"line\":{\"color\":\"#9e9e9e\",\"width\":1},\"mode\":\"lines\",\"x\":[4.5,5.5],\"y\":[3.5,3.5],\"type\":\"scatter\",\"xaxis\":\"x2\",\"yaxis\":\"y2\"},{\"hoverinfo\":\"skip\",\"line\":{\"color\":\"#9e9e9e\",\"width\":1},\"mode\":\"lines\",\"x\":[5.5,5.5],\"y\":[3.5,-0.5],\"type\":\"scatter\",\"xaxis\":\"x2\",\"yaxis\":\"y2\"},{\"hoverinfo\":\"skip\",\"line\":{\"color\":\"#9e9e9e\",\"width\":1},\"mode\":\"lines\",\"x\":[8.5,8.5],\"y\":[3.5,6.5],\"type\":\"scatter\",\"xaxis\":\"x2\",\"yaxis\":\"y2\"},{\"hoverinfo\":\"skip\",\"line\":{\"color\":\"#9e9e9e\",\"width\":1},\"mode\":\"lines\",\"x\":[8.5,9.5],\"y\":[3.5,3.5],\"type\":\"scatter\",\"xaxis\":\"x2\",\"yaxis\":\"y2\"},{\"hoverinfo\":\"skip\",\"line\":{\"color\":\"#9e9e9e\",\"width\":1},\"mode\":\"lines\",\"x\":[9.5,9.5],\"y\":[3.5,-0.5],\"type\":\"scatter\",\"xaxis\":\"x2\",\"yaxis\":\"y2\"},{\"hoverinfo\":\"skip\",\"line\":{\"color\":\"#9e9e9e\",\"width\":1},\"mode\":\"lines\",\"x\":[13.5,13.5],\"y\":[-0.5,6.5],\"type\":\"scatter\",\"xaxis\":\"x2\",\"yaxis\":\"y2\"},{\"hoverinfo\":\"skip\",\"line\":{\"color\":\"#9e9e9e\",\"width\":1},\"mode\":\"lines\",\"x\":[17.5,17.5],\"y\":[1.5,6.5],\"type\":\"scatter\",\"xaxis\":\"x2\",\"yaxis\":\"y2\"},{\"hoverinfo\":\"skip\",\"line\":{\"color\":\"#9e9e9e\",\"width\":1},\"mode\":\"lines\",\"x\":[17.5,18.5],\"y\":[1.5,1.5],\"type\":\"scatter\",\"xaxis\":\"x2\",\"yaxis\":\"y2\"},{\"hoverinfo\":\"skip\",\"line\":{\"color\":\"#9e9e9e\",\"width\":1},\"mode\":\"lines\",\"x\":[18.5,18.5],\"y\":[1.5,-0.5],\"type\":\"scatter\",\"xaxis\":\"x2\",\"yaxis\":\"y2\"},{\"hoverinfo\":\"skip\",\"line\":{\"color\":\"#9e9e9e\",\"width\":1},\"mode\":\"lines\",\"x\":[21.5,21.5],\"y\":[4.5,6.5],\"type\":\"scatter\",\"xaxis\":\"x2\",\"yaxis\":\"y2\"},{\"hoverinfo\":\"skip\",\"line\":{\"color\":\"#9e9e9e\",\"width\":1},\"mode\":\"lines\",\"x\":[21.5,22.5],\"y\":[4.5,4.5],\"type\":\"scatter\",\"xaxis\":\"x2\",\"yaxis\":\"y2\"},{\"hoverinfo\":\"skip\",\"line\":{\"color\":\"#9e9e9e\",\"width\":1},\"mode\":\"lines\",\"x\":[22.5,22.5],\"y\":[4.5,-0.5],\"type\":\"scatter\",\"xaxis\":\"x2\",\"yaxis\":\"y2\"},{\"hoverinfo\":\"skip\",\"line\":{\"color\":\"#9e9e9e\",\"width\":1},\"mode\":\"lines\",\"x\":[26.5,26.5],\"y\":[-0.5,6.5],\"type\":\"scatter\",\"xaxis\":\"x2\",\"yaxis\":\"y2\"},{\"hoverinfo\":\"skip\",\"line\":{\"color\":\"#9e9e9e\",\"width\":1},\"mode\":\"lines\",\"x\":[30.5,30.5],\"y\":[2.5,6.5],\"type\":\"scatter\",\"xaxis\":\"x2\",\"yaxis\":\"y2\"},{\"hoverinfo\":\"skip\",\"line\":{\"color\":\"#9e9e9e\",\"width\":1},\"mode\":\"lines\",\"x\":[30.5,31.5],\"y\":[2.5,2.5],\"type\":\"scatter\",\"xaxis\":\"x2\",\"yaxis\":\"y2\"},{\"hoverinfo\":\"skip\",\"line\":{\"color\":\"#9e9e9e\",\"width\":1},\"mode\":\"lines\",\"x\":[31.5,31.5],\"y\":[2.5,-0.5],\"type\":\"scatter\",\"xaxis\":\"x2\",\"yaxis\":\"y2\"},{\"hoverinfo\":\"skip\",\"line\":{\"color\":\"#9e9e9e\",\"width\":1},\"mode\":\"lines\",\"x\":[34.5,34.5],\"y\":[5.5,6.5],\"type\":\"scatter\",\"xaxis\":\"x2\",\"yaxis\":\"y2\"},{\"hoverinfo\":\"skip\",\"line\":{\"color\":\"#9e9e9e\",\"width\":1},\"mode\":\"lines\",\"x\":[34.5,35.5],\"y\":[5.5,5.5],\"type\":\"scatter\",\"xaxis\":\"x2\",\"yaxis\":\"y2\"},{\"hoverinfo\":\"skip\",\"line\":{\"color\":\"#9e9e9e\",\"width\":1},\"mode\":\"lines\",\"x\":[35.5,35.5],\"y\":[5.5,-0.5],\"type\":\"scatter\",\"xaxis\":\"x2\",\"yaxis\":\"y2\"},{\"hoverinfo\":\"skip\",\"line\":{\"color\":\"#9e9e9e\",\"width\":1},\"mode\":\"lines\",\"x\":[39.5,39.5],\"y\":[0.5,6.5],\"type\":\"scatter\",\"xaxis\":\"x2\",\"yaxis\":\"y2\"},{\"hoverinfo\":\"skip\",\"line\":{\"color\":\"#9e9e9e\",\"width\":1},\"mode\":\"lines\",\"x\":[39.5,40.5],\"y\":[0.5,0.5],\"type\":\"scatter\",\"xaxis\":\"x2\",\"yaxis\":\"y2\"},{\"hoverinfo\":\"skip\",\"line\":{\"color\":\"#9e9e9e\",\"width\":1},\"mode\":\"lines\",\"x\":[40.5,40.5],\"y\":[0.5,-0.5],\"type\":\"scatter\",\"xaxis\":\"x2\",\"yaxis\":\"y2\"},{\"hoverinfo\":\"skip\",\"line\":{\"color\":\"#9e9e9e\",\"width\":1},\"mode\":\"lines\",\"x\":[43.5,43.5],\"y\":[3.5,6.5],\"type\":\"scatter\",\"xaxis\":\"x2\",\"yaxis\":\"y2\"},{\"hoverinfo\":\"skip\",\"line\":{\"color\":\"#9e9e9e\",\"width\":1},\"mode\":\"lines\",\"x\":[43.5,44.5],\"y\":[3.5,3.5],\"type\":\"scatter\",\"xaxis\":\"x2\",\"yaxis\":\"y2\"},{\"hoverinfo\":\"skip\",\"line\":{\"color\":\"#9e9e9e\",\"width\":1},\"mode\":\"lines\",\"x\":[44.5,44.5],\"y\":[3.5,-0.5],\"type\":\"scatter\",\"xaxis\":\"x2\",\"yaxis\":\"y2\"},{\"hoverinfo\":\"skip\",\"line\":{\"color\":\"#9e9e9e\",\"width\":1},\"mode\":\"lines\",\"x\":[47.5,47.5],\"y\":[5.5,6.5],\"type\":\"scatter\",\"xaxis\":\"x2\",\"yaxis\":\"y2\"},{\"hoverinfo\":\"skip\",\"line\":{\"color\":\"#9e9e9e\",\"width\":1},\"mode\":\"lines\",\"x\":[47.5,48.5],\"y\":[5.5,5.5],\"type\":\"scatter\",\"xaxis\":\"x2\",\"yaxis\":\"y2\"},{\"hoverinfo\":\"skip\",\"line\":{\"color\":\"#9e9e9e\",\"width\":1},\"mode\":\"lines\",\"x\":[48.5,48.5],\"y\":[5.5,-0.5],\"type\":\"scatter\",\"xaxis\":\"x2\",\"yaxis\":\"y2\"},{\"colorscale\":[[0.0,\"rgb(247,252,245)\"],[0.125,\"rgb(229,245,224)\"],[0.25,\"rgb(199,233,192)\"],[0.375,\"rgb(161,217,155)\"],[0.5,\"rgb(116,196,118)\"],[0.625,\"rgb(65,171,93)\"],[0.75,\"rgb(35,139,69)\"],[0.875,\"rgb(0,109,44)\"],[1.0,\"rgb(0,68,27)\"]],\"customdata\":[[\"2020-01-01\",\"y\"],[\"2020-01-02\",\"y\"],[\"2020-01-03\",\"y\"],[\"2020-01-04\",\"y\"],[\"2020-01-05\",\"y\"],[\"2020-01-06\",\"y\"],[\"2020-01-07\",\"y\"],[\"2020-01-08\",\"y\"],[\"2020-01-09\",\"y\"],[\"2020-01-10\",\"y\"],[\"2020-01-11\",\"y\"],[\"2020-01-12\",\"y\"],[\"2020-01-13\",\"y\"],[\"2020-01-14\",\"y\"],[\"2020-01-15\",\"y\"],[\"2020-01-16\",\"y\"],[\"2020-01-17\",\"y\"],[\"2020-01-18\",\"y\"],[\"2020-01-19\",\"y\"],[\"2020-01-20\",\"y\"],[\"2020-01-21\",\"y\"],[\"2020-01-22\",\"y\"],[\"2020-01-23\",\"y\"],[\"2020-01-24\",\"y\"],[\"2020-01-25\",\"y\"],[\"2020-01-26\",\"y\"],[\"2020-01-27\",\"y\"],[\"2020-01-28\",\"y\"],[\"2020-01-29\",\"y\"],[\"2020-01-30\",\"y\"],[\"2020-01-31\",\"y\"],[\"2020-02-01\",\"y\"],[\"2020-02-02\",\"y\"],[\"2020-02-03\",\"y\"],[\"2020-02-04\",\"y\"],[\"2020-02-05\",\"y\"],[\"2020-02-06\",\"y\"],[\"2020-02-07\",\"y\"],[\"2020-02-08\",\"y\"],[\"2020-02-09\",\"y\"],[\"2020-02-10\",\"y\"],[\"2020-02-11\",\"y\"],[\"2020-02-12\",\"y\"],[\"2020-02-13\",\"y\"],[\"2020-02-14\",\"y\"],[\"2020-02-15\",\"y\"],[\"2020-02-16\",\"y\"],[\"2020-02-17\",\"y\"],[\"2020-02-18\",\"y\"],[\"2020-02-19\",\"y\"],[\"2020-02-20\",\"y\"],[\"2020-02-21\",\"y\"],[\"2020-02-22\",\"y\"],[\"2020-02-23\",\"y\"],[\"2020-02-24\",\"y\"],[\"2020-02-25\",\"y\"],[\"2020-02-26\",\"y\"],[\"2020-02-27\",\"y\"],[\"2020-02-28\",\"y\"],[\"2020-02-29\",\"y\"],[\"2020-03-01\",\"y\"],[\"2020-03-02\",\"y\"],[\"2020-03-03\",\"y\"],[\"2020-03-04\",\"y\"],[\"2020-03-05\",\"y\"],[\"2020-03-06\",\"y\"],[\"2020-03-07\",\"y\"],[\"2020-03-08\",\"y\"],[\"2020-03-09\",\"y\"],[\"2020-03-10\",\"y\"],[\"2020-03-11\",\"y\"],[\"2020-03-12\",\"y\"],[\"2020-03-13\",\"y\"],[\"2020-03-14\",\"y\"],[\"2020-03-15\",\"y\"],[\"2020-03-16\",\"y\"],[\"2020-03-17\",\"y\"],[\"2020-03-18\",\"y\"],[\"2020-03-19\",\"y\"],[\"2020-03-20\",\"y\"],[\"2020-03-21\",\"y\"],[\"2020-03-22\",\"y\"],[\"2020-03-23\",\"y\"],[\"2020-03-24\",\"y\"],[\"2020-03-25\",\"y\"],[\"2020-03-26\",\"y\"],[\"2020-03-27\",\"y\"],[\"2020-03-28\",\"y\"],[\"2020-03-29\",\"y\"],[\"2020-03-30\",\"y\"],[\"2020-03-31\",\"y\"],[\"2020-04-01\",\"y\"],[\"2020-04-02\",\"y\"],[\"2020-04-03\",\"y\"],[\"2020-04-04\",\"y\"],[\"2020-04-05\",\"y\"],[\"2020-04-06\",\"y\"],[\"2020-04-07\",\"y\"],[\"2020-04-08\",\"y\"],[\"2020-04-09\",\"y\"],[\"2020-04-10\",\"y\"],[\"2020-04-11\",\"y\"],[\"2020-04-12\",\"y\"],[\"2020-04-13\",\"y\"],[\"2020-04-14\",\"y\"],[\"2020-04-15\",\"y\"],[\"2020-04-16\",\"y\"],[\"2020-04-17\",\"y\"],[\"2020-04-18\",\"y\"],[\"2020-04-19\",\"y\"],[\"2020-04-20\",\"y\"],[\"2020-04-21\",\"y\"],[\"2020-04-22\",\"y\"],[\"2020-04-23\",\"y\"],[\"2020-04-24\",\"y\"],[\"2020-04-25\",\"y\"],[\"2020-04-26\",\"y\"],[\"2020-04-27\",\"y\"],[\"2020-04-28\",\"y\"],[\"2020-04-29\",\"y\"],[\"2020-04-30\",\"y\"],[\"2020-05-01\",\"y\"],[\"2020-05-02\",\"y\"],[\"2020-05-03\",\"y\"],[\"2020-05-04\",\"y\"],[\"2020-05-05\",\"y\"],[\"2020-05-06\",\"y\"],[\"2020-05-07\",\"y\"],[\"2020-05-08\",\"y\"],[\"2020-05-09\",\"y\"],[\"2020-05-10\",\"y\"],[\"2020-05-11\",\"y\"],[\"2020-05-12\",\"y\"],[\"2020-05-13\",\"y\"],[\"2020-05-14\",\"y\"],[\"2020-05-15\",\"y\"],[\"2020-05-16\",\"y\"],[\"2020-05-17\",\"y\"],[\"2020-05-18\",\"y\"],[\"2020-05-19\",\"y\"],[\"2020-05-20\",\"y\"],[\"2020-05-21\",\"y\"],[\"2020-05-22\",\"y\"],[\"2020-05-23\",\"y\"],[\"2020-05-24\",\"y\"],[\"2020-05-25\",\"y\"],[\"2020-05-26\",\"y\"],[\"2020-05-27\",\"y\"],[\"2020-05-28\",\"y\"],[\"2020-05-29\",\"y\"],[\"2020-05-30\",\"y\"],[\"2020-05-31\",\"y\"],[\"2020-06-01\",\"y\"],[\"2020-06-02\",\"y\"],[\"2020-06-03\",\"y\"],[\"2020-06-04\",\"y\"],[\"2020-06-05\",\"y\"],[\"2020-06-06\",\"y\"],[\"2020-06-07\",\"y\"],[\"2020-06-08\",\"y\"],[\"2020-06-09\",\"y\"],[\"2020-06-10\",\"y\"],[\"2020-06-11\",\"y\"],[\"2020-06-12\",\"y\"],[\"2020-06-13\",\"y\"],[\"2020-06-14\",\"y\"],[\"2020-06-15\",\"y\"],[\"2020-06-16\",\"y\"],[\"2020-06-17\",\"y\"],[\"2020-06-18\",\"y\"],[\"2020-06-19\",\"y\"],[\"2020-06-20\",\"y\"],[\"2020-06-21\",\"y\"],[\"2020-06-22\",\"y\"],[\"2020-06-23\",\"y\"],[\"2020-06-24\",\"y\"],[\"2020-06-25\",\"y\"],[\"2020-06-26\",\"y\"],[\"2020-06-27\",\"y\"],[\"2020-06-28\",\"y\"],[\"2020-06-29\",\"y\"],[\"2020-06-30\",\"y\"],[\"2020-07-01\",\"y\"],[\"2020-07-02\",\"y\"],[\"2020-07-03\",\"y\"],[\"2020-07-04\",\"y\"],[\"2020-07-05\",\"y\"],[\"2020-07-06\",\"y\"],[\"2020-07-07\",\"y\"],[\"2020-07-08\",\"y\"],[\"2020-07-09\",\"y\"],[\"2020-07-10\",\"y\"],[\"2020-07-11\",\"y\"],[\"2020-07-12\",\"y\"],[\"2020-07-13\",\"y\"],[\"2020-07-14\",\"y\"],[\"2020-07-15\",\"y\"],[\"2020-07-16\",\"y\"],[\"2020-07-17\",\"y\"],[\"2020-07-18\",\"y\"],[\"2020-07-19\",\"y\"],[\"2020-07-20\",\"y\"],[\"2020-07-21\",\"y\"],[\"2020-07-22\",\"y\"],[\"2020-07-23\",\"y\"],[\"2020-07-24\",\"y\"],[\"2020-07-25\",\"y\"],[\"2020-07-26\",\"y\"],[\"2020-07-27\",\"y\"],[\"2020-07-28\",\"y\"],[\"2020-07-29\",\"y\"],[\"2020-07-30\",\"y\"],[\"2020-07-31\",\"y\"],[\"2020-08-01\",\"y\"],[\"2020-08-02\",\"y\"],[\"2020-08-03\",\"y\"],[\"2020-08-04\",\"y\"],[\"2020-08-05\",\"y\"],[\"2020-08-06\",\"y\"],[\"2020-08-07\",\"y\"],[\"2020-08-08\",\"y\"],[\"2020-08-09\",\"y\"],[\"2020-08-10\",\"y\"],[\"2020-08-11\",\"y\"],[\"2020-08-12\",\"y\"],[\"2020-08-13\",\"y\"],[\"2020-08-14\",\"y\"],[\"2020-08-15\",\"y\"],[\"2020-08-16\",\"y\"],[\"2020-08-17\",\"y\"],[\"2020-08-18\",\"y\"],[\"2020-08-19\",\"y\"],[\"2020-08-20\",\"y\"],[\"2020-08-21\",\"y\"],[\"2020-08-22\",\"y\"],[\"2020-08-23\",\"y\"],[\"2020-08-24\",\"y\"],[\"2020-08-25\",\"y\"],[\"2020-08-26\",\"y\"],[\"2020-08-27\",\"y\"],[\"2020-08-28\",\"y\"],[\"2020-08-29\",\"y\"],[\"2020-08-30\",\"y\"],[\"2020-08-31\",\"y\"],[\"2020-09-01\",\"y\"],[\"2020-09-02\",\"y\"],[\"2020-09-03\",\"y\"],[\"2020-09-04\",\"y\"],[\"2020-09-05\",\"y\"],[\"2020-09-06\",\"y\"],[\"2020-09-07\",\"y\"],[\"2020-09-08\",\"y\"],[\"2020-09-09\",\"y\"],[\"2020-09-10\",\"y\"],[\"2020-09-11\",\"y\"],[\"2020-09-12\",\"y\"],[\"2020-09-13\",\"y\"],[\"2020-09-14\",\"y\"],[\"2020-09-15\",\"y\"],[\"2020-09-16\",\"y\"],[\"2020-09-17\",\"y\"],[\"2020-09-18\",\"y\"],[\"2020-09-19\",\"y\"],[\"2020-09-20\",\"y\"],[\"2020-09-21\",\"y\"],[\"2020-09-22\",\"y\"],[\"2020-09-23\",\"y\"],[\"2020-09-24\",\"y\"],[\"2020-09-25\",\"y\"],[\"2020-09-26\",\"y\"],[\"2020-09-27\",\"y\"],[\"2020-09-28\",\"y\"],[\"2020-09-29\",\"y\"],[\"2020-09-30\",\"y\"],[\"2020-10-01\",\"y\"],[\"2020-10-02\",\"y\"],[\"2020-10-03\",\"y\"],[\"2020-10-04\",\"y\"],[\"2020-10-05\",\"y\"],[\"2020-10-06\",\"y\"],[\"2020-10-07\",\"y\"],[\"2020-10-08\",\"y\"],[\"2020-10-09\",\"y\"],[\"2020-10-10\",\"y\"],[\"2020-10-11\",\"y\"],[\"2020-10-12\",\"y\"],[\"2020-10-13\",\"y\"],[\"2020-10-14\",\"y\"],[\"2020-10-15\",\"y\"],[\"2020-10-16\",\"y\"],[\"2020-10-17\",\"y\"],[\"2020-10-18\",\"y\"],[\"2020-10-19\",\"y\"],[\"2020-10-20\",\"y\"],[\"2020-10-21\",\"y\"],[\"2020-10-22\",\"y\"],[\"2020-10-23\",\"y\"],[\"2020-10-24\",\"y\"],[\"2020-10-25\",\"y\"],[\"2020-10-26\",\"y\"],[\"2020-10-27\",\"y\"],[\"2020-10-28\",\"y\"],[\"2020-10-29\",\"y\"],[\"2020-10-30\",\"y\"],[\"2020-10-31\",\"y\"],[\"2020-11-01\",\"y\"],[\"2020-11-02\",\"y\"],[\"2020-11-03\",\"y\"],[\"2020-11-04\",\"y\"],[\"2020-11-05\",\"y\"],[\"2020-11-06\",\"y\"],[\"2020-11-07\",\"y\"],[\"2020-11-08\",\"y\"],[\"2020-11-09\",\"y\"],[\"2020-11-10\",\"y\"],[\"2020-11-11\",\"y\"],[\"2020-11-12\",\"y\"],[\"2020-11-13\",\"y\"],[\"2020-11-14\",\"y\"],[\"2020-11-15\",\"y\"],[\"2020-11-16\",\"y\"],[\"2020-11-17\",\"y\"],[\"2020-11-18\",\"y\"],[\"2020-11-19\",\"y\"],[\"2020-11-20\",\"y\"],[\"2020-11-21\",\"y\"],[\"2020-11-22\",\"y\"],[\"2020-11-23\",\"y\"],[\"2020-11-24\",\"y\"],[\"2020-11-25\",\"y\"],[\"2020-11-26\",\"y\"],[\"2020-11-27\",\"y\"],[\"2020-11-28\",\"y\"],[\"2020-11-29\",\"y\"],[\"2020-11-30\",\"y\"],[\"2020-12-01\",\"y\"],[\"2020-12-02\",\"y\"],[\"2020-12-03\",\"y\"],[\"2020-12-04\",\"y\"],[\"2020-12-05\",\"y\"],[\"2020-12-06\",\"y\"],[\"2020-12-07\",\"y\"],[\"2020-12-08\",\"y\"],[\"2020-12-09\",\"y\"],[\"2020-12-10\",\"y\"],[\"2020-12-11\",\"y\"],[\"2020-12-12\",\"y\"],[\"2020-12-13\",\"y\"],[\"2020-12-14\",\"y\"],[\"2020-12-15\",\"y\"],[\"2020-12-16\",\"y\"],[\"2020-12-17\",\"y\"],[\"2020-12-18\",\"y\"],[\"2020-12-19\",\"y\"],[\"2020-12-20\",\"y\"],[\"2020-12-21\",\"y\"],[\"2020-12-22\",\"y\"],[\"2020-12-23\",\"y\"],[\"2020-12-24\",\"y\"],[\"2020-12-25\",\"y\"],[\"2020-12-26\",\"y\"],[\"2020-12-27\",\"y\"],[\"2020-12-28\",\"y\"],[\"2020-12-29\",\"y\"],[\"2020-12-30\",\"y\"],[\"2020-12-31\",\"y\"]],\"hovertemplate\":\"%{customdata[0]} <br>%{customdata[1]}=%{z} <br>Week=%{x}\",\"name\":\"2020\",\"showscale\":false,\"x\":[1,1,1,1,1,2,2,2,2,2,2,2,3,3,3,3,3,3,3,4,4,4,4,4,4,4,5,5,5,5,5,5,5,6,6,6,6,6,6,6,7,7,7,7,7,7,7,8,8,8,8,8,8,8,9,9,9,9,9,9,9,10,10,10,10,10,10,10,11,11,11,11,11,11,11,12,12,12,12,12,12,12,13,13,13,13,13,13,13,14,14,14,14,14,14,14,15,15,15,15,15,15,15,16,16,16,16,16,16,16,17,17,17,17,17,17,17,18,18,18,18,18,18,18,19,19,19,19,19,19,19,20,20,20,20,20,20,20,21,21,21,21,21,21,21,22,22,22,22,22,22,22,23,23,23,23,23,23,23,24,24,24,24,24,24,24,25,25,25,25,25,25,25,26,26,26,26,26,26,26,27,27,27,27,27,27,27,28,28,28,28,28,28,28,29,29,29,29,29,29,29,30,30,30,30,30,30,30,31,31,31,31,31,31,31,32,32,32,32,32,32,32,33,33,33,33,33,33,33,34,34,34,34,34,34,34,35,35,35,35,35,35,35,36,36,36,36,36,36,36,37,37,37,37,37,37,37,38,38,38,38,38,38,38,39,39,39,39,39,39,39,40,40,40,40,40,40,40,41,41,41,41,41,41,41,42,42,42,42,42,42,42,43,43,43,43,43,43,43,44,44,44,44,44,44,44,45,45,45,45,45,45,45,46,46,46,46,46,46,46,47,47,47,47,47,47,47,48,48,48,48,48,48,48,49,49,49,49,49,49,49,50,50,50,50,50,50,50,51,51,51,51,51,51,51,52,52,52,52,52,52,52,53,53,53,53],\"xgap\":1,\"y\":[2,3,4,5,6,0,1,2,3,4,5,6,0,1,2,3,4,5,6,0,1,2,3,4,5,6,0,1,2,3,4,5,6,0,1,2,3,4,5,6,0,1,2,3,4,5,6,0,1,2,3,4,5,6,0,1,2,3,4,5,6,0,1,2,3,4,5,6,0,1,2,3,4,5,6,0,1,2,3,4,5,6,0,1,2,3,4,5,6,0,1,2,3,4,5,6,0,1,2,3,4,5,6,0,1,2,3,4,5,6,0,1,2,3,4,5,6,0,1,2,3,4,5,6,0,1,2,3,4,5,6,0,1,2,3,4,5,6,0,1,2,3,4,5,6,0,1,2,3,4,5,6,0,1,2,3,4,5,6,0,1,2,3,4,5,6,0,1,2,3,4,5,6,0,1,2,3,4,5,6,0,1,2,3,4,5,6,0,1,2,3,4,5,6,0,1,2,3,4,5,6,0,1,2,3,4,5,6,0,1,2,3,4,5,6,0,1,2,3,4,5,6,0,1,2,3,4,5,6,0,1,2,3,4,5,6,0,1,2,3,4,5,6,0,1,2,3,4,5,6,0,1,2,3,4,5,6,0,1,2,3,4,5,6,0,1,2,3,4,5,6,0,1,2,3,4,5,6,0,1,2,3,4,5,6,0,1,2,3,4,5,6,0,1,2,3,4,5,6,0,1,2,3,4,5,6,0,1,2,3,4,5,6,0,1,2,3,4,5,6,0,1,2,3,4,5,6,0,1,2,3,4,5,6,0,1,2,3,4,5,6,0,1,2,3,4,5,6,0,1,2,3,4,5,6,0,1,2,3,4,5,6,0,1,2,3],\"ygap\":1,\"z\":[-4.910726049038357,-5.301303973622383,-5.0713989689616525,-4.886834186114309,-5.414677167664232,-5.828243000332049,-5.393005343254776,-5.201302344495155,-5.734670357369841,-3.2835764790879085,-2.414732538090988,-4.401181623514709,-4.523397587854741,-4.314664537206549,-5.3270356364029485,-4.432592052283092,-2.598821892665787,-3.3477870533121,-5.146525014788905,-5.8565716838851385,-5.047940664775468,-5.51675217469264,-5.10293275619054,-4.181098257061236,-5.444551075415443,-6.29170801880304,-4.273500501195349,-5.740416607835981,-6.2336167598171945,-5.8641637042340955,-5.3905336212324135,-5.543835593107019,-5.992101599049258,-4.450344978463715,-5.117610505431084,-4.186582542989456,-3.127851992097711,-3.056589284944926,-4.896116156892746,-3.501137413710999,-5.166168945748408,-5.042181811479822,-4.117742915595102,-3.6173799706723155,-6.057781000675476,-6.9172104377528925,-5.488354182082551,-6.044566390270022,-5.651994230990846,-6.37998871884751,-4.29999846419515,-5.770705303848651,-7.434847875212,-6.24606169505902,-6.094177329843367,-5.771982761599588,-5.875109063442784,-5.056722315569805,-5.858668814555151,-6.277341419737999,-5.6647626071329515,-6.868104473352345,-6.2214934309325365,-5.44558135357483,-6.3138499330718405,-6.472603860503613,-6.100471814367818,-5.850343989925855,-5.531262190444002,-4.741897224668096,-4.4023853581890355,-5.201697168739357,-4.2749494522767275,-4.659352532210183,-4.412495217114645,-3.96731715489044,-2.969939518992262,-2.3277910526182777,-1.7563800662624713,-1.657581266294612,-1.472534825966461,-1.280761029424306,-1.0148687161992451,-0.9536251957453212,-0.8283854865965402,-0.7585977786984756,-0.6728763622144383,-0.750215791517161,-0.7240971597030325,-0.6389435076439216,-0.6582044551035062,-0.7627138441108382,-0.6957345041248962,-0.7435480895544603,-0.7788054412426125,-0.7525958777476052,-0.7109436803635656,-0.7474771668362119,-0.9252181002475598,-0.9022810199939733,-0.8855142655035367,-0.8900345352489951,-0.9262592629111455,-0.977618977381478,-1.0875589628048608,-1.0932725495053277,-0.8921445855250036,-0.9346861236244636,-1.028122410913565,-0.937576065465675,-0.9463699137783356,-0.9354454427877807,-0.9564251042961109,-0.9696251753381944,-1.0205304633871337,-1.0314729858304812,-1.0209841360996355,-0.9913747194324123,-0.9912295276295155,-1.0327512397722984,-1.0596986647627955,-1.2541037247660523,-1.4919541277723192,-2.3469009767685565,-2.2928943723561432,-2.8528836049241106,-2.7799463148747288,-2.6599707934598165,-2.6330485294699097,-2.910967667777239,-2.8026443049718908,-2.8448145866063745,-3.1643861916192817,-2.965919313604571,-3.1968591653990472,-3.1049799612020976,-3.2560505966400903,-3.188061061824191,-3.1742873475524687,-3.282970084899871,-2.956727410119356,-3.443933036922881,-3.493101916655598,-3.4926240614400825,-3.28305713935793,-3.4529779786821373,-3.5731164356718454,-3.0925182263571567,-3.5708947852277135,-3.5601738889819394,-3.6009764141138247,-3.7011532199285075,-4.568802541817217,-4.92937233001749,-5.296284050761862,-5.455596787309826,-5.08410123824793,-4.9292143222380345,-4.328977413584066,-4.735085894969892,-5.548787817380973,-5.410669012207213,-5.881625418384078,-5.4958414052445015,-4.954200600208287,-5.676163169683632,-5.548840235837523,-5.756704876110543,-5.654376736444554,-6.4880352037384394,-5.563823543182994,-6.12029741895095,-5.587929393620547,-5.960444895737058,-5.776232326856768,-5.196108445052555,-5.710978741526796,-6.631672342373708,-5.766757273817589,-5.988743456993621,-6.1981577407232225,-6.702328848473085,-5.4028970896618045,-5.077782350344416,-4.57126863431241,-4.578141513600172,-5.713449880058338,-5.157816689837386,-6.047826703848431,-6.570094836724115,-5.356276916587565,-4.830004614655435,-5.231848778901618,-5.666119066791849,-5.4321886136961695,-5.392378995400904,-5.046037221147172,-5.434487817652013,-5.404965188864208,-4.927009395428373,-4.92465687624356,-4.829227605311985,-4.527917298990413,-4.363228604641669,-5.491307123833375,-5.152987319430773,-4.14729884753418,-3.8688238003255706,-4.359468718045847,-4.170288173084915,-3.8989769004829644,-4.5733823862247975,-5.691458786982871,-4.242764567340374,-4.759718302354934,-4.51085950651685,-2.810854260318735,-5.031286385722989,-5.1741666978819,-5.3595300507160255,-6.079064831117598,-6.216532172130556,-4.795864997445043,-5.212949659637356,-4.640164707406139,-5.212361942899898,-5.002396318551702,-5.272605003419548,-4.475281918701549,-4.584445966272833,-4.826747293678542,-5.349442464973258,-5.248431531928366,-5.328995780774423,-5.109897251292213,-5.6223215281972205,-4.932673752626544,-5.027208310938951,-2.952596622252907,-3.4254464369154696,-4.383447780056864,-5.159540853970366,-4.307178743877449,-5.562640495500861,-3.7580477488098283,-4.234804706755139,-6.045745561312393,-6.619925047407187,-6.244872741525933,-6.056153297345213,-6.261412164619994,-4.4135555822825445,-4.961142180212853,-5.439082150391163,-5.31128378547848,-4.323678956324326,-4.127382493221528,-3.9074556288000357,-3.3043856258202973,-3.758382947899302,-4.450352617173129,-5.522210636752792,-5.57323980861451,-6.5142187417392465,-6.4892893586967215,-5.394516479197702,-6.278052270978726,-6.3042825928313055,-7.315052041919271,-5.233733646648904,-7.208024466939389,-7.078088596464025,-6.583804322914596,-7.661527081358517,-4.791490148748741,-5.157873684992207,-5.046124173888412,-5.25430309306815,-5.393148962950071,-5.046255906061287,-5.08121612968979,-5.296497529831051,-4.706323516734476,-4.9632658070340225,-5.3067888447211535,-5.363183454997319,-5.104903264322137,-5.07084460476946,-6.347160751367692,-6.663733522144814,-6.906170690851899,-6.523488882014966,-7.535220427702432,-6.69475244405237,-6.239811614161086,-7.278245462621233,-6.441933370333075,-6.451698384757912,-3.6338086429960423,-4.564348191467836,-4.482515388755845,-4.477814164241435,-5.390912540292693,-7.048465388305702,-6.217656080181747,-6.327368440434555,-6.724873565329619,-6.285377169310399,-6.471283132945194,-6.663057567332941,-6.667555326039773,-6.719271920074373,-4.624972813284271,-5.001097197103613,-6.300978919422438,-4.306345179923201,-5.113583263348698,-5.843906670250319,-5.610137574170937,-6.0880523195340945,-6.1528060595843685,-5.913792539009013,-6.839833262496678,-6.374740849926997,-5.987334408192534,-6.1255300712524114,-5.917750728034958,-5.498731830838677,-4.666962132986353,-4.414395418854817,-3.212435376547191,-4.046879101640651,-5.465525285531943,-6.134946270585672,-4.4831639594874,-4.610275243216993,-5.532259545104472,-5.396288579463664,-4.996823878994794,-5.062036425806408,-5.362215313709441,-5.140571342320123,-5.840741892927033,-5.564328818089423,-5.671603576291966,-5.631289696816146,-4.860745936916399,-5.180011934192282,-5.765034350687964,-6.032886361700204,-2.739126148062733,-3.076246068269569,-5.36658533767704,-5.600641715736687,-5.482183428903701,-4.824879274853666,-5.618347898459456,-3.5865280334197718,-4.396025930030427,-3.8670256394974105,-4.785540916425909,-5.9772615969299885,-5.615018721400921,-3.7529583107984585,-4.169268379483264,-4.630837932736669],\"type\":\"heatmap\",\"xaxis\":\"x3\",\"yaxis\":\"y3\"},{\"hoverinfo\":\"skip\",\"line\":{\"color\":\"#9e9e9e\",\"width\":1},\"mode\":\"lines\",\"x\":[0.5,0.5],\"y\":[1.5,6.5],\"type\":\"scatter\",\"xaxis\":\"x3\",\"yaxis\":\"y3\"},{\"hoverinfo\":\"skip\",\"line\":{\"color\":\"#9e9e9e\",\"width\":1},\"mode\":\"lines\",\"x\":[0.5,1.5],\"y\":[1.5,1.5],\"type\":\"scatter\",\"xaxis\":\"x3\",\"yaxis\":\"y3\"},{\"hoverinfo\":\"skip\",\"line\":{\"color\":\"#9e9e9e\",\"width\":1},\"mode\":\"lines\",\"x\":[1.5,1.5],\"y\":[1.5,-0.5],\"type\":\"scatter\",\"xaxis\":\"x3\",\"yaxis\":\"y3\"},{\"hoverinfo\":\"skip\",\"line\":{\"color\":\"#9e9e9e\",\"width\":1},\"mode\":\"lines\",\"x\":[4.5,4.5],\"y\":[4.5,6.5],\"type\":\"scatter\",\"xaxis\":\"x3\",\"yaxis\":\"y3\"},{\"hoverinfo\":\"skip\",\"line\":{\"color\":\"#9e9e9e\",\"width\":1},\"mode\":\"lines\",\"x\":[4.5,5.5],\"y\":[4.5,4.5],\"type\":\"scatter\",\"xaxis\":\"x3\",\"yaxis\":\"y3\"},{\"hoverinfo\":\"skip\",\"line\":{\"color\":\"#9e9e9e\",\"width\":1},\"mode\":\"lines\",\"x\":[5.5,5.5],\"y\":[4.5,-0.5],\"type\":\"scatter\",\"xaxis\":\"x3\",\"yaxis\":\"y3\"},{\"hoverinfo\":\"skip\",\"line\":{\"color\":\"#9e9e9e\",\"width\":1},\"mode\":\"lines\",\"x\":[8.5,8.5],\"y\":[5.5,6.5],\"type\":\"scatter\",\"xaxis\":\"x3\",\"yaxis\":\"y3\"},{\"hoverinfo\":\"skip\",\"line\":{\"color\":\"#9e9e9e\",\"width\":1},\"mode\":\"lines\",\"x\":[8.5,9.5],\"y\":[5.5,5.5],\"type\":\"scatter\",\"xaxis\":\"x3\",\"yaxis\":\"y3\"},{\"hoverinfo\":\"skip\",\"line\":{\"color\":\"#9e9e9e\",\"width\":1},\"mode\":\"lines\",\"x\":[9.5,9.5],\"y\":[5.5,-0.5],\"type\":\"scatter\",\"xaxis\":\"x3\",\"yaxis\":\"y3\"},{\"hoverinfo\":\"skip\",\"line\":{\"color\":\"#9e9e9e\",\"width\":1},\"mode\":\"lines\",\"x\":[13.5,13.5],\"y\":[1.5,6.5],\"type\":\"scatter\",\"xaxis\":\"x3\",\"yaxis\":\"y3\"},{\"hoverinfo\":\"skip\",\"line\":{\"color\":\"#9e9e9e\",\"width\":1},\"mode\":\"lines\",\"x\":[13.5,14.5],\"y\":[1.5,1.5],\"type\":\"scatter\",\"xaxis\":\"x3\",\"yaxis\":\"y3\"},{\"hoverinfo\":\"skip\",\"line\":{\"color\":\"#9e9e9e\",\"width\":1},\"mode\":\"lines\",\"x\":[14.5,14.5],\"y\":[1.5,-0.5],\"type\":\"scatter\",\"xaxis\":\"x3\",\"yaxis\":\"y3\"},{\"hoverinfo\":\"skip\",\"line\":{\"color\":\"#9e9e9e\",\"width\":1},\"mode\":\"lines\",\"x\":[17.5,17.5],\"y\":[3.5,6.5],\"type\":\"scatter\",\"xaxis\":\"x3\",\"yaxis\":\"y3\"},{\"hoverinfo\":\"skip\",\"line\":{\"color\":\"#9e9e9e\",\"width\":1},\"mode\":\"lines\",\"x\":[17.5,18.5],\"y\":[3.5,3.5],\"type\":\"scatter\",\"xaxis\":\"x3\",\"yaxis\":\"y3\"},{\"hoverinfo\":\"skip\",\"line\":{\"color\":\"#9e9e9e\",\"width\":1},\"mode\":\"lines\",\"x\":[18.5,18.5],\"y\":[3.5,-0.5],\"type\":\"scatter\",\"xaxis\":\"x3\",\"yaxis\":\"y3\"},{\"hoverinfo\":\"skip\",\"line\":{\"color\":\"#9e9e9e\",\"width\":1},\"mode\":\"lines\",\"x\":[22.5,22.5],\"y\":[-0.5,6.5],\"type\":\"scatter\",\"xaxis\":\"x3\",\"yaxis\":\"y3\"},{\"hoverinfo\":\"skip\",\"line\":{\"color\":\"#9e9e9e\",\"width\":1},\"mode\":\"lines\",\"x\":[26.5,26.5],\"y\":[1.5,6.5],\"type\":\"scatter\",\"xaxis\":\"x3\",\"yaxis\":\"y3\"},{\"hoverinfo\":\"skip\",\"line\":{\"color\":\"#9e9e9e\",\"width\":1},\"mode\":\"lines\",\"x\":[26.5,27.5],\"y\":[1.5,1.5],\"type\":\"scatter\",\"xaxis\":\"x3\",\"yaxis\":\"y3\"},{\"hoverinfo\":\"skip\",\"line\":{\"color\":\"#9e9e9e\",\"width\":1},\"mode\":\"lines\",\"x\":[27.5,27.5],\"y\":[1.5,-0.5],\"type\":\"scatter\",\"xaxis\":\"x3\",\"yaxis\":\"y3\"},{\"hoverinfo\":\"skip\",\"line\":{\"color\":\"#9e9e9e\",\"width\":1},\"mode\":\"lines\",\"x\":[30.5,30.5],\"y\":[4.5,6.5],\"type\":\"scatter\",\"xaxis\":\"x3\",\"yaxis\":\"y3\"},{\"hoverinfo\":\"skip\",\"line\":{\"color\":\"#9e9e9e\",\"width\":1},\"mode\":\"lines\",\"x\":[30.5,31.5],\"y\":[4.5,4.5],\"type\":\"scatter\",\"xaxis\":\"x3\",\"yaxis\":\"y3\"},{\"hoverinfo\":\"skip\",\"line\":{\"color\":\"#9e9e9e\",\"width\":1},\"mode\":\"lines\",\"x\":[31.5,31.5],\"y\":[4.5,-0.5],\"type\":\"scatter\",\"xaxis\":\"x3\",\"yaxis\":\"y3\"},{\"hoverinfo\":\"skip\",\"line\":{\"color\":\"#9e9e9e\",\"width\":1},\"mode\":\"lines\",\"x\":[35.5,35.5],\"y\":[0.5,6.5],\"type\":\"scatter\",\"xaxis\":\"x3\",\"yaxis\":\"y3\"},{\"hoverinfo\":\"skip\",\"line\":{\"color\":\"#9e9e9e\",\"width\":1},\"mode\":\"lines\",\"x\":[35.5,36.5],\"y\":[0.5,0.5],\"type\":\"scatter\",\"xaxis\":\"x3\",\"yaxis\":\"y3\"},{\"hoverinfo\":\"skip\",\"line\":{\"color\":\"#9e9e9e\",\"width\":1},\"mode\":\"lines\",\"x\":[36.5,36.5],\"y\":[0.5,-0.5],\"type\":\"scatter\",\"xaxis\":\"x3\",\"yaxis\":\"y3\"},{\"hoverinfo\":\"skip\",\"line\":{\"color\":\"#9e9e9e\",\"width\":1},\"mode\":\"lines\",\"x\":[39.5,39.5],\"y\":[2.5,6.5],\"type\":\"scatter\",\"xaxis\":\"x3\",\"yaxis\":\"y3\"},{\"hoverinfo\":\"skip\",\"line\":{\"color\":\"#9e9e9e\",\"width\":1},\"mode\":\"lines\",\"x\":[39.5,40.5],\"y\":[2.5,2.5],\"type\":\"scatter\",\"xaxis\":\"x3\",\"yaxis\":\"y3\"},{\"hoverinfo\":\"skip\",\"line\":{\"color\":\"#9e9e9e\",\"width\":1},\"mode\":\"lines\",\"x\":[40.5,40.5],\"y\":[2.5,-0.5],\"type\":\"scatter\",\"xaxis\":\"x3\",\"yaxis\":\"y3\"},{\"hoverinfo\":\"skip\",\"line\":{\"color\":\"#9e9e9e\",\"width\":1},\"mode\":\"lines\",\"x\":[43.5,43.5],\"y\":[5.5,6.5],\"type\":\"scatter\",\"xaxis\":\"x3\",\"yaxis\":\"y3\"},{\"hoverinfo\":\"skip\",\"line\":{\"color\":\"#9e9e9e\",\"width\":1},\"mode\":\"lines\",\"x\":[43.5,44.5],\"y\":[5.5,5.5],\"type\":\"scatter\",\"xaxis\":\"x3\",\"yaxis\":\"y3\"},{\"hoverinfo\":\"skip\",\"line\":{\"color\":\"#9e9e9e\",\"width\":1},\"mode\":\"lines\",\"x\":[44.5,44.5],\"y\":[5.5,-0.5],\"type\":\"scatter\",\"xaxis\":\"x3\",\"yaxis\":\"y3\"},{\"hoverinfo\":\"skip\",\"line\":{\"color\":\"#9e9e9e\",\"width\":1},\"mode\":\"lines\",\"x\":[48.5,48.5],\"y\":[0.5,6.5],\"type\":\"scatter\",\"xaxis\":\"x3\",\"yaxis\":\"y3\"},{\"hoverinfo\":\"skip\",\"line\":{\"color\":\"#9e9e9e\",\"width\":1},\"mode\":\"lines\",\"x\":[48.5,49.5],\"y\":[0.5,0.5],\"type\":\"scatter\",\"xaxis\":\"x3\",\"yaxis\":\"y3\"},{\"hoverinfo\":\"skip\",\"line\":{\"color\":\"#9e9e9e\",\"width\":1},\"mode\":\"lines\",\"x\":[49.5,49.5],\"y\":[0.5,-0.5],\"type\":\"scatter\",\"xaxis\":\"x3\",\"yaxis\":\"y3\"},{\"colorscale\":[[0.0,\"rgb(247,252,245)\"],[0.125,\"rgb(229,245,224)\"],[0.25,\"rgb(199,233,192)\"],[0.375,\"rgb(161,217,155)\"],[0.5,\"rgb(116,196,118)\"],[0.625,\"rgb(65,171,93)\"],[0.75,\"rgb(35,139,69)\"],[0.875,\"rgb(0,109,44)\"],[1.0,\"rgb(0,68,27)\"]],\"customdata\":[[\"2021-01-01\",\"y\"],[\"2021-01-02\",\"y\"],[\"2021-01-03\",\"y\"],[\"2021-01-04\",\"y\"],[\"2021-01-05\",\"y\"],[\"2021-01-06\",\"y\"],[\"2021-01-07\",\"y\"],[\"2021-01-08\",\"y\"],[\"2021-01-09\",\"y\"],[\"2021-01-10\",\"y\"],[\"2021-01-11\",\"y\"],[\"2021-01-12\",\"y\"],[\"2021-01-13\",\"y\"],[\"2021-01-14\",\"y\"],[\"2021-01-15\",\"y\"],[\"2021-01-16\",\"y\"],[\"2021-01-17\",\"y\"],[\"2021-01-18\",\"y\"],[\"2021-01-19\",\"y\"],[\"2021-01-20\",\"y\"],[\"2021-01-21\",\"y\"],[\"2021-01-22\",\"y\"],[\"2021-01-23\",\"y\"],[\"2021-01-24\",\"y\"],[\"2021-01-25\",\"y\"],[\"2021-01-26\",\"y\"],[\"2021-01-27\",\"y\"],[\"2021-01-28\",\"y\"],[\"2021-01-29\",\"y\"],[\"2021-01-30\",\"y\"],[\"2021-01-31\",\"y\"],[\"2021-02-01\",\"y\"],[\"2021-02-02\",\"y\"],[\"2021-02-03\",\"y\"],[\"2021-02-04\",\"y\"],[\"2021-02-05\",\"y\"],[\"2021-02-06\",\"y\"],[\"2021-02-07\",\"y\"],[\"2021-02-08\",\"y\"],[\"2021-02-09\",\"y\"],[\"2021-02-10\",\"y\"],[\"2021-02-11\",\"y\"],[\"2021-02-12\",\"y\"],[\"2021-02-13\",\"y\"],[\"2021-02-14\",\"y\"],[\"2021-02-15\",\"y\"],[\"2021-02-16\",\"y\"],[\"2021-02-17\",\"y\"],[\"2021-02-18\",\"y\"],[\"2021-02-19\",\"y\"],[\"2021-02-20\",\"y\"],[\"2021-02-21\",\"y\"],[\"2021-02-22\",\"y\"],[\"2021-02-23\",\"y\"],[\"2021-02-24\",\"y\"],[\"2021-02-25\",\"y\"],[\"2021-02-26\",\"y\"],[\"2021-02-27\",\"y\"],[\"2021-02-28\",\"y\"],[\"2021-03-01\",\"y\"],[\"2021-03-02\",\"y\"],[\"2021-03-03\",\"y\"],[\"2021-03-04\",\"y\"],[\"2021-03-05\",\"y\"],[\"2021-03-06\",\"y\"],[\"2021-03-07\",\"y\"],[\"2021-03-08\",\"y\"],[\"2021-03-09\",\"y\"],[\"2021-03-10\",\"y\"],[\"2021-03-11\",\"y\"],[\"2021-03-12\",\"y\"],[\"2021-03-13\",\"y\"],[\"2021-03-14\",\"y\"],[\"2021-03-15\",\"y\"],[\"2021-03-16\",\"y\"],[\"2021-03-17\",\"y\"],[\"2021-03-18\",\"y\"],[\"2021-03-19\",\"y\"],[\"2021-03-20\",\"y\"],[\"2021-03-21\",\"y\"],[\"2021-03-22\",\"y\"],[\"2021-03-23\",\"y\"],[\"2021-03-24\",\"y\"],[\"2021-03-25\",\"y\"],[\"2021-03-26\",\"y\"],[\"2021-03-27\",\"y\"],[\"2021-03-28\",\"y\"],[\"2021-03-29\",\"y\"],[\"2021-03-30\",\"y\"],[\"2021-03-31\",\"y\"],[\"2021-04-01\",\"y\"],[\"2021-04-02\",\"y\"],[\"2021-04-03\",\"y\"],[\"2021-04-04\",\"y\"],[\"2021-04-05\",\"y\"],[\"2021-04-06\",\"y\"],[\"2021-04-07\",\"y\"],[\"2021-04-08\",\"y\"],[\"2021-04-09\",\"y\"],[\"2021-04-10\",\"y\"],[\"2021-04-11\",\"y\"],[\"2021-04-12\",\"y\"],[\"2021-04-13\",\"y\"],[\"2021-04-14\",\"y\"],[\"2021-04-15\",\"y\"],[\"2021-04-16\",\"y\"],[\"2021-04-17\",\"y\"],[\"2021-04-18\",\"y\"],[\"2021-04-19\",\"y\"],[\"2021-04-20\",\"y\"],[\"2021-04-21\",\"y\"],[\"2021-04-22\",\"y\"],[\"2021-04-23\",\"y\"],[\"2021-04-24\",\"y\"],[\"2021-04-25\",\"y\"],[\"2021-04-26\",\"y\"],[\"2021-04-27\",\"y\"],[\"2021-04-28\",\"y\"],[\"2021-04-29\",\"y\"],[\"2021-04-30\",\"y\"],[\"2021-05-01\",\"y\"],[\"2021-05-02\",\"y\"],[\"2021-05-03\",\"y\"],[\"2021-05-04\",\"y\"],[\"2021-05-05\",\"y\"],[\"2021-05-06\",\"y\"],[\"2021-05-07\",\"y\"],[\"2021-05-08\",\"y\"],[\"2021-05-09\",\"y\"],[\"2021-05-10\",\"y\"],[\"2021-05-11\",\"y\"],[\"2021-05-12\",\"y\"],[\"2021-05-13\",\"y\"],[\"2021-05-14\",\"y\"],[\"2021-05-15\",\"y\"],[\"2021-05-16\",\"y\"],[\"2021-05-17\",\"y\"],[\"2021-05-18\",\"y\"],[\"2021-05-19\",\"y\"],[\"2021-05-20\",\"y\"],[\"2021-05-21\",\"y\"],[\"2021-05-22\",\"y\"],[\"2021-05-23\",\"y\"],[\"2021-05-24\",\"y\"],[\"2021-05-25\",\"y\"],[\"2021-05-26\",\"y\"],[\"2021-05-27\",\"y\"],[\"2021-05-28\",\"y\"],[\"2021-05-29\",\"y\"],[\"2021-05-30\",\"y\"],[\"2021-05-31\",\"y\"],[\"2021-06-01\",\"y\"],[\"2021-06-02\",\"y\"],[\"2021-06-03\",\"y\"],[\"2021-06-04\",\"y\"],[\"2021-06-05\",\"y\"],[\"2021-06-06\",\"y\"],[\"2021-06-07\",\"y\"],[\"2021-06-08\",\"y\"],[\"2021-06-09\",\"y\"],[\"2021-06-10\",\"y\"],[\"2021-06-11\",\"y\"],[\"2021-06-12\",\"y\"],[\"2021-06-13\",\"y\"],[\"2021-06-14\",\"y\"],[\"2021-06-15\",\"y\"],[\"2021-06-16\",\"y\"],[\"2021-06-17\",\"y\"],[\"2021-06-18\",\"y\"],[\"2021-06-19\",\"y\"],[\"2021-06-20\",\"y\"],[\"2021-06-21\",\"y\"],[\"2021-06-22\",\"y\"],[\"2021-06-23\",\"y\"],[\"2021-06-24\",\"y\"],[\"2021-06-25\",\"y\"],[\"2021-06-26\",\"y\"],[\"2021-06-27\",\"y\"],[\"2021-06-28\",\"y\"],[\"2021-06-29\",\"y\"],[\"2021-06-30\",\"y\"],[\"2021-07-01\",\"y\"],[\"2021-07-02\",\"y\"],[\"2021-07-03\",\"y\"],[\"2021-07-04\",\"y\"],[\"2021-07-05\",\"y\"],[\"2021-07-06\",\"y\"],[\"2021-07-07\",\"y\"],[\"2021-07-08\",\"y\"],[\"2021-07-09\",\"y\"],[\"2021-07-10\",\"y\"],[\"2021-07-11\",\"y\"],[\"2021-07-12\",\"y\"],[\"2021-07-13\",\"y\"],[\"2021-07-14\",\"y\"],[\"2021-07-15\",\"y\"],[\"2021-07-16\",\"y\"],[\"2021-07-17\",\"y\"],[\"2021-07-18\",\"y\"],[\"2021-07-19\",\"y\"],[\"2021-07-20\",\"y\"],[\"2021-07-21\",\"y\"],[\"2021-07-22\",\"y\"],[\"2021-07-23\",\"y\"],[\"2021-07-24\",\"y\"],[\"2021-07-25\",\"y\"],[\"2021-07-26\",\"y\"],[\"2021-07-27\",\"y\"],[\"2021-07-28\",\"y\"],[\"2021-07-29\",\"y\"],[\"2021-07-30\",\"y\"],[\"2021-07-31\",\"y\"],[\"2021-08-01\",\"y\"],[\"2021-08-02\",\"y\"],[\"2021-08-03\",\"y\"],[\"2021-08-04\",\"y\"],[\"2021-08-05\",\"y\"],[\"2021-08-06\",\"y\"],[\"2021-08-07\",\"y\"],[\"2021-08-08\",\"y\"],[\"2021-08-09\",\"y\"],[\"2021-08-10\",\"y\"],[\"2021-08-11\",\"y\"],[\"2021-08-12\",\"y\"],[\"2021-08-13\",\"y\"],[\"2021-08-14\",\"y\"],[\"2021-08-15\",\"y\"],[\"2021-08-16\",\"y\"],[\"2021-08-17\",\"y\"],[\"2021-08-18\",\"y\"],[\"2021-08-19\",\"y\"],[\"2021-08-20\",\"y\"],[\"2021-08-21\",\"y\"],[\"2021-08-22\",\"y\"],[\"2021-08-23\",\"y\"],[\"2021-08-24\",\"y\"],[\"2021-08-25\",\"y\"],[\"2021-08-26\",\"y\"],[\"2021-08-27\",\"y\"],[\"2021-08-28\",\"y\"],[\"2021-08-29\",\"y\"],[\"2021-08-30\",\"y\"],[\"2021-08-31\",\"y\"],[\"2021-09-01\",\"y\"],[\"2021-09-02\",\"y\"],[\"2021-09-03\",\"y\"],[\"2021-09-04\",\"y\"],[\"2021-09-05\",\"y\"],[\"2021-09-06\",\"y\"],[\"2021-09-07\",\"y\"],[\"2021-09-08\",\"y\"],[\"2021-09-09\",\"y\"],[\"2021-09-10\",\"y\"],[\"2021-09-11\",\"y\"],[\"2021-09-12\",\"y\"],[\"2021-09-13\",\"y\"],[\"2021-09-14\",\"y\"],[\"2021-09-15\",\"y\"],[\"2021-09-16\",\"y\"],[\"2021-09-17\",\"y\"],[\"2021-09-18\",\"y\"],[\"2021-09-19\",\"y\"],[\"2021-09-20\",\"y\"],[\"2021-09-21\",\"y\"],[\"2021-09-22\",\"y\"],[\"2021-09-23\",\"y\"],[\"2021-09-24\",\"y\"],[\"2021-09-25\",\"y\"],[\"2021-09-26\",\"y\"],[\"2021-09-27\",\"y\"],[\"2021-09-28\",\"y\"],[\"2021-09-29\",\"y\"],[\"2021-09-30\",\"y\"],[\"2021-10-01\",\"y\"],[\"2021-10-02\",\"y\"],[\"2021-10-03\",\"y\"],[\"2021-10-04\",\"y\"],[\"2021-10-05\",\"y\"],[\"2021-10-06\",\"y\"],[\"2021-10-07\",\"y\"],[\"2021-10-08\",\"y\"],[\"2021-10-09\",\"y\"],[\"2021-10-10\",\"y\"],[\"2021-10-11\",\"y\"],[\"2021-10-12\",\"y\"],[\"2021-10-13\",\"y\"],[\"2021-10-14\",\"y\"],[\"2021-10-15\",\"y\"],[\"2021-10-16\",\"y\"],[\"2021-10-17\",\"y\"],[\"2021-10-18\",\"y\"],[\"2021-10-19\",\"y\"],[\"2021-10-20\",\"y\"],[\"2021-10-21\",\"y\"],[\"2021-10-22\",\"y\"],[\"2021-10-23\",\"y\"],[\"2021-10-24\",\"y\"],[\"2021-10-25\",\"y\"],[\"2021-10-26\",\"y\"],[\"2021-10-27\",\"y\"],[\"2021-10-28\",\"y\"],[\"2021-10-29\",\"y\"],[\"2021-10-30\",\"y\"],[\"2021-10-31\",\"y\"],[\"2021-11-01\",\"y\"],[\"2021-11-02\",\"y\"],[\"2021-11-03\",\"y\"],[\"2021-11-04\",\"y\"],[\"2021-11-05\",\"y\"],[\"2021-11-06\",\"y\"],[\"2021-11-07\",\"y\"],[\"2021-11-08\",\"y\"],[\"2021-11-09\",\"y\"],[\"2021-11-10\",\"y\"],[\"2021-11-11\",\"y\"],[\"2021-11-12\",\"y\"],[\"2021-11-13\",\"y\"],[\"2021-11-14\",\"y\"],[\"2021-11-15\",\"y\"],[\"2021-11-16\",\"y\"],[\"2021-11-17\",\"y\"],[\"2021-11-18\",\"y\"],[\"2021-11-19\",\"y\"],[\"2021-11-20\",\"y\"],[\"2021-11-21\",\"y\"],[\"2021-11-22\",\"y\"],[\"2021-11-23\",\"y\"],[\"2021-11-24\",\"y\"],[\"2021-11-25\",\"y\"],[\"2021-11-26\",\"y\"],[\"2021-11-27\",\"y\"],[\"2021-11-28\",\"y\"],[\"2021-11-29\",\"y\"],[\"2021-11-30\",\"y\"],[\"2021-12-01\",\"y\"],[\"2021-12-02\",\"y\"],[\"2021-12-03\",\"y\"],[\"2021-12-04\",\"y\"],[\"2021-12-05\",\"y\"],[\"2021-12-06\",\"y\"],[\"2021-12-07\",\"y\"],[\"2021-12-08\",\"y\"],[\"2021-12-09\",\"y\"],[\"2021-12-10\",\"y\"],[\"2021-12-11\",\"y\"],[\"2021-12-12\",\"y\"],[\"2021-12-13\",\"y\"],[\"2021-12-14\",\"y\"],[\"2021-12-15\",\"y\"],[\"2021-12-16\",\"y\"],[\"2021-12-17\",\"y\"],[\"2021-12-18\",\"y\"],[\"2021-12-19\",\"y\"],[\"2021-12-20\",\"y\"],[\"2021-12-21\",\"y\"],[\"2021-12-22\",\"y\"],[\"2021-12-23\",\"y\"],[\"2021-12-24\",\"y\"],[\"2021-12-25\",\"y\"],[\"2021-12-26\",\"y\"],[\"2021-12-27\",\"y\"],[\"2021-12-28\",\"y\"],[\"2021-12-29\",\"y\"],[\"2021-12-30\",\"y\"],[\"2021-12-31\",\"y\"]],\"hovertemplate\":\"%{customdata[0]} <br>%{customdata[1]}=%{z} <br>Week=%{x}\",\"name\":\"2021\",\"showscale\":false,\"x\":[0,0,0,1,1,1,1,1,1,1,2,2,2,2,2,2,2,3,3,3,3,3,3,3,4,4,4,4,4,4,4,5,5,5,5,5,5,5,6,6,6,6,6,6,6,7,7,7,7,7,7,7,8,8,8,8,8,8,8,9,9,9,9,9,9,9,10,10,10,10,10,10,10,11,11,11,11,11,11,11,12,12,12,12,12,12,12,13,13,13,13,13,13,13,14,14,14,14,14,14,14,15,15,15,15,15,15,15,16,16,16,16,16,16,16,17,17,17,17,17,17,17,18,18,18,18,18,18,18,19,19,19,19,19,19,19,20,20,20,20,20,20,20,21,21,21,21,21,21,21,22,22,22,22,22,22,22,23,23,23,23,23,23,23,24,24,24,24,24,24,24,25,25,25,25,25,25,25,26,26,26,26,26,26,26,27,27,27,27,27,27,27,28,28,28,28,28,28,28,29,29,29,29,29,29,29,30,30,30,30,30,30,30,31,31,31,31,31,31,31,32,32,32,32,32,32,32,33,33,33,33,33,33,33,34,34,34,34,34,34,34,35,35,35,35,35,35,35,36,36,36,36,36,36,36,37,37,37,37,37,37,37,38,38,38,38,38,38,38,39,39,39,39,39,39,39,40,40,40,40,40,40,40,41,41,41,41,41,41,41,42,42,42,42,42,42,42,43,43,43,43,43,43,43,44,44,44,44,44,44,44,45,45,45,45,45,45,45,46,46,46,46,46,46,46,47,47,47,47,47,47,47,48,48,48,48,48,48,48,49,49,49,49,49,49,49,50,50,50,50,50,50,50,51,51,51,51,51,51,51,52,52,52,52,52],\"xgap\":1,\"y\":[4,5,6,0,1,2,3,4,5,6,0,1,2,3,4,5,6,0,1,2,3,4,5,6,0,1,2,3,4,5,6,0,1,2,3,4,5,6,0,1,2,3,4,5,6,0,1,2,3,4,5,6,0,1,2,3,4,5,6,0,1,2,3,4,5,6,0,1,2,3,4,5,6,0,1,2,3,4,5,6,0,1,2,3,4,5,6,0,1,2,3,4,5,6,0,1,2,3,4,5,6,0,1,2,3,4,5,6,0,1,2,3,4,5,6,0,1,2,3,4,5,6,0,1,2,3,4,5,6,0,1,2,3,4,5,6,0,1,2,3,4,5,6,0,1,2,3,4,5,6,0,1,2,3,4,5,6,0,1,2,3,4,5,6,0,1,2,3,4,5,6,0,1,2,3,4,5,6,0,1,2,3,4,5,6,0,1,2,3,4,5,6,0,1,2,3,4,5,6,0,1,2,3,4,5,6,0,1,2,3,4,5,6,0,1,2,3,4,5,6,0,1,2,3,4,5,6,0,1,2,3,4,5,6,0,1,2,3,4,5,6,0,1,2,3,4,5,6,0,1,2,3,4,5,6,0,1,2,3,4,5,6,0,1,2,3,4,5,6,0,1,2,3,4,5,6,0,1,2,3,4,5,6,0,1,2,3,4,5,6,0,1,2,3,4,5,6,0,1,2,3,4,5,6,0,1,2,3,4,5,6,0,1,2,3,4,5,6,0,1,2,3,4,5,6,0,1,2,3,4,5,6,0,1,2,3,4,5,6,0,1,2,3,4,5,6,0,1,2,3,4,5,6,0,1,2,3,4,5,6,0,1,2,3,4],\"ygap\":1,\"z\":[-3.358267207148441,-5.330399913238635,-5.467740437817085,-4.352313215216554,-5.757761972780669,-6.619094950416057,-6.329798403875895,-4.442035919189153,-5.897245438535573,-3.355176305790638,-5.707900966142171,-6.118480193067095,-5.512772116527394,-5.203851900295278,-5.047104973877647,-5.994515443941238,-6.372344179743532,-6.351678675284559,-5.925305666277369,-5.90413964134952,-5.776490658038778,-5.1032567839766525,-5.505885706076775,-5.09650713317022,-3.7826101042895934,-4.212950304629947,-5.143077383968482,-3.721359055125846,-4.918520005188451,-3.7678754603404343,-2.6602823651021263,-2.1650084743691833,-3.042508338351722,-4.602737322431984,-3.4918939431329674,-4.711208438032416,-5.124604799675108,-3.8369494807045923,-5.316016943647438,-5.250176991220102,-4.543111346517861,-3.785869018052147,-4.050470863832486,-2.438270596603226,-1.7650871804109385,-1.3427632964654872,-1.4742846035936876,-1.623049538615939,-1.5854915002401901,-2.5561826857279595,-4.1379711308833915,-4.349315077664653,-4.8267852971051886,-5.915303186142418,-6.508944452540153,-5.525815061170867,-6.078143837713032,-5.3794705685056,-4.331448187696856,-5.450310757419485,-5.731853246512448,-6.1166559702050876,-5.945621957645813,-5.404265944557418,-6.040105890680369,-5.691824469395476,-5.74754414409507,-5.96816490327993,-6.248563494802067,-6.331501849893691,-6.149749526073696,-2.9022014155700475,-2.324910623700632,-2.542050607224846,-4.394519698921348,-3.3796194420574803,-3.8739305185619286,-6.102558594613569,-6.218865688674833,-5.949006039812269,-4.457097488972429,-5.739513270119247,-5.37152682591632,-5.907962157928432,-6.250397450414372,-6.097545391502054,-5.417134874563687,-5.644471644609704,-6.24215377999497,-6.458270133278317,-5.933209275254669,-6.511804763242558,-6.02325125145708,-4.663737592666566,-5.975819543971778,-7.6290038896529575,-6.651639870733873,-6.519383248300151,-6.050794213183977,-5.374495628779224,-2.829500577908984,-4.127313580458169,-6.239481363167331,-6.368615910901539,-5.535423590535664,-5.680771196368832,-6.61338421837956,-7.082008661126581,-5.112469599977524,-6.891045008276117,-6.71623863547811,-7.328437352895162,-4.344224270027347,-5.117724651524208,-6.255810020760732,-7.638980693391274,-6.095243167067011,-6.502932821472691,-6.950575276165066,-5.629479965455823,-6.302822455245048,-6.62382374023533,-5.222903442615401,-4.6090596709486995,-6.528305949505784,-6.536749566925543,-6.720564745076679,-6.895998943283535,-6.690785810550484,-4.225790448355602,-3.309597803143868,-5.431504497022594,-6.743385898960547,-7.485435489733369,-7.370041707083466,-4.615626689344404,-5.442867376090609,-5.2148725604654755,-6.856090398537174,-7.599790730689392,-6.965746679125978,-6.912991545777383,-7.022255153179603,-4.765687112815193,-5.388070415507919,-6.041170043149102,-6.759089529385449,-5.941924101547846,-6.978772766217418,-6.033378628011593,-4.349450464239269,-5.889359595909922,-6.477800422320685,-5.678411246441657,-5.230277577488211,-4.932368785823975,-4.484395010180315,-3.445727232091056,-4.100759585455197,-4.246040205325001,-4.46807354818008,-4.967963067769257,-4.2912712832626365,-4.2616191905262335,-4.362217090357732,-3.309058407832708,-3.6880880017576247,-4.508709344426371,-4.12678585757013,-4.321958538130469,-4.206399789920066,-3.240436583974778,-4.245226126889459,-4.977838685838878,-3.9531949387126892,-3.804821372637903,-3.3290894101751007,-4.075429115229565,-3.845581498290146,-4.137399751541288,-4.237064149089834,-3.314087984676368,-3.247591626711626,-3.9638572299738475,-4.740966639629124,-4.624527081161893,-3.6442870538188425,-3.787122866434319,-4.073965399885449,-3.9213619772111015,-4.614172100099111,-4.274356819377827,-3.874888058813134,-4.284787512322179,-4.171008196436711,-4.37271702515588,-4.8145669876050805,-3.3454169671506673,-3.8623929537682185,-4.010310176767618,-4.976630029497851,-4.527565541557373,-4.603080625736092,-4.625215455170304,-4.127343831061147,-4.283195191570423,-4.009188745118362,-4.765140137893648,-5.463167913062406,-4.201635032500656,-4.635117262356044,-3.801484789335148,-2.9603154589836014,-2.859449378651777,-3.0072930959550668,-3.4357349174827005,-3.552632513316931,-3.4683084075553885,-3.8807745111545864,-3.8710053736187997,-3.003657563311686,-3.3970678444171245,-3.1221130152453256,-4.049384102717069,-3.6505613185895194,-2.9655360232876586,-3.2253572381106426,-3.891185392958777,-3.2022971057031677,-3.2999026635105744,-3.813033498823104,-3.886252246214062,-4.106712211030763,-3.1346520271795613,-4.557261844437244,-3.6131039447750104,-3.6230753102793445,-4.196225003465311,-4.084607386944242,-4.468050682308993,-3.478445720762921,-3.3653810858763373,-3.8518963315944683,-2.9841835887692088,-3.181727873719548,-3.6898049516348794,-4.056151643147572,-4.182105860707804,-4.394812196970854,-3.572872534839396,-4.270204877895666,-4.3272752968975094,-4.375606066870959,-4.398594782891,-5.1511279083440815,-4.1035837999937,-3.751183337450091,-5.505498578445071,-5.239122796486352,-5.9372872568872594,-5.445688359389917,-5.631361113562105,-5.994724533695189,-5.90092422343141,-5.452263943915152,-3.4124620175488465,-4.493021248948801,-4.858704371007311,-5.590738193346991,-6.172820190403183,-4.55513468148679,-5.620177875416304,-3.9965920492489926,-4.438572460545069,-4.933362009095134,-4.970961720623452,-5.347056326129526,-5.679774349972745,-5.95197145643778,-5.854231731380273,-3.615963431856069,-2.823932275534625,-2.5912607075047043,-3.0713625896459344,-4.722569060072371,-3.5141852643757603,-4.500890698394855,-5.246039820112524,-4.837350794004387,-5.139331570033163,-5.630265495922628,-5.978335255666189,-6.254629772771678,-3.1104971612385572,-3.09568604219937,-4.283614710655159,-4.19383260545932,-3.4645409215780596,-4.326227590589711,-4.644764760870298,-3.6673585884856017,-3.887187009064837,-3.3059921832237347,-2.615535617968613,-3.3761536384336077,-4.6434510234674855,-5.191792151727366,-5.354200626372903,-5.0669521250789495,-4.817974759507122,-5.023222409601727,-4.6909510765099345,-5.821481649354005,-4.810729574545247,-5.038918398210817,-4.748926118041791,-4.931994153859122,-4.937862652454756,-5.0447641703590955,-5.292802185859927,-5.886317683838534,-5.7987015711547985,-5.443292856435291,-5.245527107392264,-5.4083299658137225,-5.222525734844033,-5.953292340683129,-5.908750144980129,-5.738066067166127,-6.2630909957279375,-6.474189337537113,-5.748408987515711,-5.525073432485863,-5.79987604658833,-4.928604708086905,-5.1116865381659835,-5.419931438244005,-5.473305334912251,-4.993622710400068,-4.805317153995241,-4.8144305766192375,-4.737807191425836,-5.221069491826258,-3.889986463354942,-4.383503376266395,-5.197463813216581,-5.536453232523465,-4.245334773968286,-3.564547655175556,-4.391623296204177,-4.918042507268431,-3.7795011341964826,-4.012073995925579,-4.73871594632549,-5.088316240647339,-5.253746444185989,-4.525355762757962,-3.313108667130848,-2.9966983016439293,-2.5640771823555855,-2.6253924578412247,-2.775470795133681,-2.964261233740612,-2.640433932682729,-2.398758937256744],\"type\":\"heatmap\",\"xaxis\":\"x4\",\"yaxis\":\"y4\"},{\"hoverinfo\":\"skip\",\"line\":{\"color\":\"#9e9e9e\",\"width\":1},\"mode\":\"lines\",\"x\":[-0.5,-0.5],\"y\":[3.5,6.5],\"type\":\"scatter\",\"xaxis\":\"x4\",\"yaxis\":\"y4\"},{\"hoverinfo\":\"skip\",\"line\":{\"color\":\"#9e9e9e\",\"width\":1},\"mode\":\"lines\",\"x\":[-0.5,0.5],\"y\":[3.5,3.5],\"type\":\"scatter\",\"xaxis\":\"x4\",\"yaxis\":\"y4\"},{\"hoverinfo\":\"skip\",\"line\":{\"color\":\"#9e9e9e\",\"width\":1},\"mode\":\"lines\",\"x\":[0.5,0.5],\"y\":[3.5,-0.5],\"type\":\"scatter\",\"xaxis\":\"x4\",\"yaxis\":\"y4\"},{\"hoverinfo\":\"skip\",\"line\":{\"color\":\"#9e9e9e\",\"width\":1},\"mode\":\"lines\",\"x\":[4.5,4.5],\"y\":[-0.5,6.5],\"type\":\"scatter\",\"xaxis\":\"x4\",\"yaxis\":\"y4\"},{\"hoverinfo\":\"skip\",\"line\":{\"color\":\"#9e9e9e\",\"width\":1},\"mode\":\"lines\",\"x\":[8.5,8.5],\"y\":[-0.5,6.5],\"type\":\"scatter\",\"xaxis\":\"x4\",\"yaxis\":\"y4\"},{\"hoverinfo\":\"skip\",\"line\":{\"color\":\"#9e9e9e\",\"width\":1},\"mode\":\"lines\",\"x\":[12.5,12.5],\"y\":[2.5,6.5],\"type\":\"scatter\",\"xaxis\":\"x4\",\"yaxis\":\"y4\"},{\"hoverinfo\":\"skip\",\"line\":{\"color\":\"#9e9e9e\",\"width\":1},\"mode\":\"lines\",\"x\":[12.5,13.5],\"y\":[2.5,2.5],\"type\":\"scatter\",\"xaxis\":\"x4\",\"yaxis\":\"y4\"},{\"hoverinfo\":\"skip\",\"line\":{\"color\":\"#9e9e9e\",\"width\":1},\"mode\":\"lines\",\"x\":[13.5,13.5],\"y\":[2.5,-0.5],\"type\":\"scatter\",\"xaxis\":\"x4\",\"yaxis\":\"y4\"},{\"hoverinfo\":\"skip\",\"line\":{\"color\":\"#9e9e9e\",\"width\":1},\"mode\":\"lines\",\"x\":[16.5,16.5],\"y\":[4.5,6.5],\"type\":\"scatter\",\"xaxis\":\"x4\",\"yaxis\":\"y4\"},{\"hoverinfo\":\"skip\",\"line\":{\"color\":\"#9e9e9e\",\"width\":1},\"mode\":\"lines\",\"x\":[16.5,17.5],\"y\":[4.5,4.5],\"type\":\"scatter\",\"xaxis\":\"x4\",\"yaxis\":\"y4\"},{\"hoverinfo\":\"skip\",\"line\":{\"color\":\"#9e9e9e\",\"width\":1},\"mode\":\"lines\",\"x\":[17.5,17.5],\"y\":[4.5,-0.5],\"type\":\"scatter\",\"xaxis\":\"x4\",\"yaxis\":\"y4\"},{\"hoverinfo\":\"skip\",\"line\":{\"color\":\"#9e9e9e\",\"width\":1},\"mode\":\"lines\",\"x\":[21.5,21.5],\"y\":[0.5,6.5],\"type\":\"scatter\",\"xaxis\":\"x4\",\"yaxis\":\"y4\"},{\"hoverinfo\":\"skip\",\"line\":{\"color\":\"#9e9e9e\",\"width\":1},\"mode\":\"lines\",\"x\":[21.5,22.5],\"y\":[0.5,0.5],\"type\":\"scatter\",\"xaxis\":\"x4\",\"yaxis\":\"y4\"},{\"hoverinfo\":\"skip\",\"line\":{\"color\":\"#9e9e9e\",\"width\":1},\"mode\":\"lines\",\"x\":[22.5,22.5],\"y\":[0.5,-0.5],\"type\":\"scatter\",\"xaxis\":\"x4\",\"yaxis\":\"y4\"},{\"hoverinfo\":\"skip\",\"line\":{\"color\":\"#9e9e9e\",\"width\":1},\"mode\":\"lines\",\"x\":[25.5,25.5],\"y\":[2.5,6.5],\"type\":\"scatter\",\"xaxis\":\"x4\",\"yaxis\":\"y4\"},{\"hoverinfo\":\"skip\",\"line\":{\"color\":\"#9e9e9e\",\"width\":1},\"mode\":\"lines\",\"x\":[25.5,26.5],\"y\":[2.5,2.5],\"type\":\"scatter\",\"xaxis\":\"x4\",\"yaxis\":\"y4\"},{\"hoverinfo\":\"skip\",\"line\":{\"color\":\"#9e9e9e\",\"width\":1},\"mode\":\"lines\",\"x\":[26.5,26.5],\"y\":[2.5,-0.5],\"type\":\"scatter\",\"xaxis\":\"x4\",\"yaxis\":\"y4\"},{\"hoverinfo\":\"skip\",\"line\":{\"color\":\"#9e9e9e\",\"width\":1},\"mode\":\"lines\",\"x\":[29.5,29.5],\"y\":[5.5,6.5],\"type\":\"scatter\",\"xaxis\":\"x4\",\"yaxis\":\"y4\"},{\"hoverinfo\":\"skip\",\"line\":{\"color\":\"#9e9e9e\",\"width\":1},\"mode\":\"lines\",\"x\":[29.5,30.5],\"y\":[5.5,5.5],\"type\":\"scatter\",\"xaxis\":\"x4\",\"yaxis\":\"y4\"},{\"hoverinfo\":\"skip\",\"line\":{\"color\":\"#9e9e9e\",\"width\":1},\"mode\":\"lines\",\"x\":[30.5,30.5],\"y\":[5.5,-0.5],\"type\":\"scatter\",\"xaxis\":\"x4\",\"yaxis\":\"y4\"},{\"hoverinfo\":\"skip\",\"line\":{\"color\":\"#9e9e9e\",\"width\":1},\"mode\":\"lines\",\"x\":[34.5,34.5],\"y\":[1.5,6.5],\"type\":\"scatter\",\"xaxis\":\"x4\",\"yaxis\":\"y4\"},{\"hoverinfo\":\"skip\",\"line\":{\"color\":\"#9e9e9e\",\"width\":1},\"mode\":\"lines\",\"x\":[34.5,35.5],\"y\":[1.5,1.5],\"type\":\"scatter\",\"xaxis\":\"x4\",\"yaxis\":\"y4\"},{\"hoverinfo\":\"skip\",\"line\":{\"color\":\"#9e9e9e\",\"width\":1},\"mode\":\"lines\",\"x\":[35.5,35.5],\"y\":[1.5,-0.5],\"type\":\"scatter\",\"xaxis\":\"x4\",\"yaxis\":\"y4\"},{\"hoverinfo\":\"skip\",\"line\":{\"color\":\"#9e9e9e\",\"width\":1},\"mode\":\"lines\",\"x\":[38.5,38.5],\"y\":[3.5,6.5],\"type\":\"scatter\",\"xaxis\":\"x4\",\"yaxis\":\"y4\"},{\"hoverinfo\":\"skip\",\"line\":{\"color\":\"#9e9e9e\",\"width\":1},\"mode\":\"lines\",\"x\":[38.5,39.5],\"y\":[3.5,3.5],\"type\":\"scatter\",\"xaxis\":\"x4\",\"yaxis\":\"y4\"},{\"hoverinfo\":\"skip\",\"line\":{\"color\":\"#9e9e9e\",\"width\":1},\"mode\":\"lines\",\"x\":[39.5,39.5],\"y\":[3.5,-0.5],\"type\":\"scatter\",\"xaxis\":\"x4\",\"yaxis\":\"y4\"},{\"hoverinfo\":\"skip\",\"line\":{\"color\":\"#9e9e9e\",\"width\":1},\"mode\":\"lines\",\"x\":[43.5,43.5],\"y\":[-0.5,6.5],\"type\":\"scatter\",\"xaxis\":\"x4\",\"yaxis\":\"y4\"},{\"hoverinfo\":\"skip\",\"line\":{\"color\":\"#9e9e9e\",\"width\":1},\"mode\":\"lines\",\"x\":[47.5,47.5],\"y\":[1.5,6.5],\"type\":\"scatter\",\"xaxis\":\"x4\",\"yaxis\":\"y4\"},{\"hoverinfo\":\"skip\",\"line\":{\"color\":\"#9e9e9e\",\"width\":1},\"mode\":\"lines\",\"x\":[47.5,48.5],\"y\":[1.5,1.5],\"type\":\"scatter\",\"xaxis\":\"x4\",\"yaxis\":\"y4\"},{\"hoverinfo\":\"skip\",\"line\":{\"color\":\"#9e9e9e\",\"width\":1},\"mode\":\"lines\",\"x\":[48.5,48.5],\"y\":[1.5,-0.5],\"type\":\"scatter\",\"xaxis\":\"x4\",\"yaxis\":\"y4\"},{\"colorscale\":[[0.0,\"rgb(247,252,245)\"],[0.125,\"rgb(229,245,224)\"],[0.25,\"rgb(199,233,192)\"],[0.375,\"rgb(161,217,155)\"],[0.5,\"rgb(116,196,118)\"],[0.625,\"rgb(65,171,93)\"],[0.75,\"rgb(35,139,69)\"],[0.875,\"rgb(0,109,44)\"],[1.0,\"rgb(0,68,27)\"]],\"customdata\":[[\"2022-01-01\",\"y\"],[\"2022-01-02\",\"y\"],[\"2022-01-03\",\"y\"],[\"2022-01-04\",\"y\"],[\"2022-01-05\",\"y\"],[\"2022-01-06\",\"y\"],[\"2022-01-07\",\"y\"],[\"2022-01-08\",\"y\"],[\"2022-01-09\",\"y\"],[\"2022-01-10\",\"y\"],[\"2022-01-11\",\"y\"],[\"2022-01-12\",\"y\"],[\"2022-01-13\",\"y\"],[\"2022-01-14\",\"y\"],[\"2022-01-15\",\"y\"],[\"2022-01-16\",\"y\"],[\"2022-01-17\",\"y\"],[\"2022-01-18\",\"y\"],[\"2022-01-19\",\"y\"],[\"2022-01-20\",\"y\"],[\"2022-01-21\",\"y\"],[\"2022-01-22\",\"y\"],[\"2022-01-23\",\"y\"],[\"2022-01-24\",\"y\"],[\"2022-01-25\",\"y\"],[\"2022-01-26\",\"y\"],[\"2022-01-27\",\"y\"],[\"2022-01-28\",\"y\"],[\"2022-01-29\",\"y\"],[\"2022-01-30\",\"y\"],[\"2022-01-31\",\"y\"],[\"2022-02-01\",\"y\"],[\"2022-02-02\",\"y\"],[\"2022-02-03\",\"y\"],[\"2022-02-04\",\"y\"],[\"2022-02-05\",\"y\"],[\"2022-02-06\",\"y\"],[\"2022-02-07\",\"y\"],[\"2022-02-08\",\"y\"],[\"2022-02-09\",\"y\"],[\"2022-02-10\",\"y\"],[\"2022-02-11\",\"y\"],[\"2022-02-12\",\"y\"],[\"2022-02-13\",\"y\"],[\"2022-02-14\",\"y\"],[\"2022-02-15\",\"y\"],[\"2022-02-16\",\"y\"],[\"2022-02-17\",\"y\"],[\"2022-02-18\",\"y\"],[\"2022-02-19\",\"y\"],[\"2022-02-20\",\"y\"],[\"2022-02-21\",\"y\"],[\"2022-02-22\",\"y\"],[\"2022-02-23\",\"y\"],[\"2022-02-24\",\"y\"],[\"2022-02-25\",\"y\"],[\"2022-02-26\",\"y\"],[\"2022-02-27\",\"y\"],[\"2022-02-28\",\"y\"],[\"2022-03-01\",\"y\"],[\"2022-03-02\",\"y\"],[\"2022-03-03\",\"y\"],[\"2022-03-04\",\"y\"],[\"2022-03-05\",\"y\"],[\"2022-03-06\",\"y\"],[\"2022-03-07\",\"y\"],[\"2022-03-08\",\"y\"],[\"2022-03-09\",\"y\"],[\"2022-03-10\",\"y\"],[\"2022-03-11\",\"y\"],[\"2022-03-12\",\"y\"],[\"2022-03-13\",\"y\"],[\"2022-03-14\",\"y\"],[\"2022-03-15\",\"y\"],[\"2022-03-16\",\"y\"],[\"2022-03-17\",\"y\"],[\"2022-03-18\",\"y\"],[\"2022-03-19\",\"y\"],[\"2022-03-20\",\"y\"],[\"2022-03-21\",\"y\"],[\"2022-03-22\",\"y\"],[\"2022-03-23\",\"y\"],[\"2022-03-24\",\"y\"],[\"2022-03-25\",\"y\"],[\"2022-03-26\",\"y\"],[\"2022-03-27\",\"y\"],[\"2022-03-28\",\"y\"],[\"2022-03-29\",\"y\"],[\"2022-03-30\",\"y\"],[\"2022-03-31\",\"y\"],[\"2022-04-01\",\"y\"],[\"2022-04-02\",\"y\"],[\"2022-04-03\",\"y\"],[\"2022-04-04\",\"y\"],[\"2022-04-05\",\"y\"],[\"2022-04-06\",\"y\"],[\"2022-04-07\",\"y\"],[\"2022-04-08\",\"y\"],[\"2022-04-09\",\"y\"],[\"2022-04-10\",\"y\"],[\"2022-04-11\",\"y\"],[\"2022-04-12\",\"y\"],[\"2022-04-13\",\"y\"],[\"2022-04-14\",\"y\"],[\"2022-04-15\",\"y\"],[\"2022-04-16\",\"y\"],[\"2022-04-17\",\"y\"],[\"2022-04-18\",\"y\"],[\"2022-04-19\",\"y\"],[\"2022-04-20\",\"y\"],[\"2022-04-21\",\"y\"],[\"2022-04-22\",\"y\"],[\"2022-04-23\",\"y\"],[\"2022-04-24\",\"y\"],[\"2022-04-25\",\"y\"],[\"2022-04-26\",\"y\"],[\"2022-04-27\",\"y\"],[\"2022-04-28\",\"y\"],[\"2022-04-29\",\"y\"],[\"2022-04-30\",\"y\"],[\"2022-05-01\",\"y\"],[\"2022-05-02\",\"y\"],[\"2022-05-03\",\"y\"],[\"2022-05-04\",\"y\"],[\"2022-05-05\",\"y\"],[\"2022-05-06\",\"y\"],[\"2022-05-07\",\"y\"],[\"2022-05-08\",\"y\"],[\"2022-05-09\",\"y\"],[\"2022-05-10\",\"y\"],[\"2022-05-11\",\"y\"],[\"2022-05-12\",\"y\"],[\"2022-05-13\",\"y\"],[\"2022-05-14\",\"y\"],[\"2022-05-15\",\"y\"],[\"2022-05-16\",\"y\"],[\"2022-05-17\",\"y\"],[\"2022-05-18\",\"y\"],[\"2022-05-19\",\"y\"],[\"2022-05-20\",\"y\"],[\"2022-05-21\",\"y\"],[\"2022-05-22\",\"y\"],[\"2022-05-23\",\"y\"],[\"2022-05-24\",\"y\"],[\"2022-05-25\",\"y\"],[\"2022-05-26\",\"y\"],[\"2022-05-27\",\"y\"],[\"2022-05-28\",\"y\"],[\"2022-05-29\",\"y\"],[\"2022-05-30\",\"y\"],[\"2022-05-31\",\"y\"],[\"2022-06-01\",\"y\"],[\"2022-06-02\",\"y\"],[\"2022-06-03\",\"y\"],[\"2022-06-04\",\"y\"],[\"2022-06-05\",\"y\"],[\"2022-06-06\",\"y\"],[\"2022-06-07\",\"y\"],[\"2022-06-08\",\"y\"],[\"2022-06-09\",\"y\"],[\"2022-06-10\",\"y\"],[\"2022-06-11\",\"y\"],[\"2022-06-12\",\"y\"],[\"2022-06-13\",\"y\"],[\"2022-06-14\",\"y\"],[\"2022-06-15\",\"y\"],[\"2022-06-16\",\"y\"],[\"2022-06-17\",\"y\"],[\"2022-06-18\",\"y\"],[\"2022-06-19\",\"y\"],[\"2022-06-20\",\"y\"],[\"2022-06-21\",\"y\"],[\"2022-06-22\",\"y\"],[\"2022-06-23\",\"y\"],[\"2022-06-24\",\"y\"],[\"2022-06-25\",\"y\"],[\"2022-06-26\",\"y\"],[\"2022-06-27\",\"y\"],[\"2022-06-28\",\"y\"],[\"2022-06-29\",\"y\"],[\"2022-06-30\",\"y\"],[\"2022-07-01\",\"y\"],[\"2022-07-02\",\"y\"],[\"2022-07-03\",\"y\"],[\"2022-07-04\",\"y\"],[\"2022-07-05\",\"y\"],[\"2022-07-06\",\"y\"],[\"2022-07-07\",\"y\"],[\"2022-07-08\",\"y\"],[\"2022-07-09\",\"y\"],[\"2022-07-10\",\"y\"],[\"2022-07-11\",\"y\"],[\"2022-07-12\",\"y\"],[\"2022-07-13\",\"y\"],[\"2022-07-14\",\"y\"],[\"2022-07-15\",\"y\"],[\"2022-07-16\",\"y\"],[\"2022-07-17\",\"y\"],[\"2022-07-18\",\"y\"],[\"2022-07-19\",\"y\"],[\"2022-07-20\",\"y\"],[\"2022-07-21\",\"y\"],[\"2022-07-22\",\"y\"],[\"2022-07-23\",\"y\"],[\"2022-07-24\",\"y\"],[\"2022-07-25\",\"y\"],[\"2022-07-26\",\"y\"],[\"2022-07-27\",\"y\"],[\"2022-07-28\",\"y\"],[\"2022-07-29\",\"y\"],[\"2022-07-30\",\"y\"],[\"2022-07-31\",\"y\"],[\"2022-08-01\",\"y\"],[\"2022-08-02\",\"y\"],[\"2022-08-03\",\"y\"],[\"2022-08-04\",\"y\"],[\"2022-08-05\",\"y\"],[\"2022-08-06\",\"y\"],[\"2022-08-07\",\"y\"],[\"2022-08-08\",\"y\"],[\"2022-08-09\",\"y\"],[\"2022-08-10\",\"y\"],[\"2022-08-11\",\"y\"],[\"2022-08-12\",\"y\"],[\"2022-08-13\",\"y\"],[\"2022-08-14\",\"y\"],[\"2022-08-15\",\"y\"],[\"2022-08-16\",\"y\"],[\"2022-08-17\",\"y\"],[\"2022-08-18\",\"y\"],[\"2022-08-19\",\"y\"],[\"2022-08-20\",\"y\"],[\"2022-08-21\",\"y\"],[\"2022-08-22\",\"y\"],[\"2022-08-23\",\"y\"],[\"2022-08-24\",\"y\"],[\"2022-08-25\",\"y\"],[\"2022-08-26\",\"y\"],[\"2022-08-27\",\"y\"],[\"2022-08-28\",\"y\"],[\"2022-08-29\",\"y\"],[\"2022-08-30\",\"y\"],[\"2022-08-31\",\"y\"],[\"2022-09-01\",\"y\"],[\"2022-09-02\",\"y\"],[\"2022-09-03\",\"y\"],[\"2022-09-04\",\"y\"],[\"2022-09-05\",\"y\"],[\"2022-09-06\",\"y\"],[\"2022-09-07\",\"y\"],[\"2022-09-08\",\"y\"],[\"2022-09-09\",\"y\"],[\"2022-09-10\",\"y\"],[\"2022-09-11\",\"y\"],[\"2022-09-12\",\"y\"],[\"2022-09-13\",\"y\"],[\"2022-09-14\",\"y\"],[\"2022-09-15\",\"y\"],[\"2022-09-16\",\"y\"],[\"2022-09-17\",\"y\"],[\"2022-09-18\",\"y\"],[\"2022-09-19\",\"y\"],[\"2022-09-20\",\"y\"],[\"2022-09-21\",\"y\"],[\"2022-09-22\",\"y\"],[\"2022-09-23\",\"y\"],[\"2022-09-24\",\"y\"],[\"2022-09-25\",\"y\"],[\"2022-09-26\",\"y\"],[\"2022-09-27\",\"y\"],[\"2022-09-28\",\"y\"],[\"2022-09-29\",\"y\"],[\"2022-09-30\",\"y\"],[\"2022-10-01\",\"y\"],[\"2022-10-02\",\"y\"],[\"2022-10-03\",\"y\"],[\"2022-10-04\",\"y\"],[\"2022-10-05\",\"y\"],[\"2022-10-06\",\"y\"],[\"2022-10-07\",\"y\"],[\"2022-10-08\",\"y\"],[\"2022-10-09\",\"y\"],[\"2022-10-10\",\"y\"],[\"2022-10-11\",\"y\"],[\"2022-10-12\",\"y\"],[\"2022-10-13\",\"y\"],[\"2022-10-14\",\"y\"],[\"2022-10-15\",\"y\"],[\"2022-10-16\",\"y\"],[\"2022-10-17\",\"y\"],[\"2022-10-18\",\"y\"],[\"2022-10-19\",\"y\"],[\"2022-10-20\",\"y\"],[\"2022-10-21\",\"y\"],[\"2022-10-22\",\"y\"],[\"2022-10-23\",\"y\"],[\"2022-10-24\",\"y\"],[\"2022-10-25\",\"y\"],[\"2022-10-26\",\"y\"],[\"2022-10-27\",\"y\"],[\"2022-10-28\",\"y\"],[\"2022-10-29\",\"y\"],[\"2022-10-30\",\"y\"],[\"2022-10-31\",\"y\"],[\"2022-11-01\",\"y\"],[\"2022-11-02\",\"y\"],[\"2022-11-03\",\"y\"],[\"2022-11-04\",\"y\"],[\"2022-11-05\",\"y\"],[\"2022-11-06\",\"y\"],[\"2022-11-07\",\"y\"],[\"2022-11-08\",\"y\"],[\"2022-11-09\",\"y\"],[\"2022-11-10\",\"y\"],[\"2022-11-11\",\"y\"],[\"2022-11-12\",\"y\"],[\"2022-11-13\",\"y\"],[\"2022-11-14\",\"y\"],[\"2022-11-15\",\"y\"],[\"2022-11-16\",\"y\"],[\"2022-11-17\",\"y\"],[\"2022-11-18\",\"y\"],[\"2022-11-19\",\"y\"],[\"2022-11-20\",\"y\"],[\"2022-11-21\",\"y\"],[\"2022-11-22\",\"y\"],[\"2022-11-23\",\"y\"],[\"2022-11-24\",\"y\"],[\"2022-11-25\",\"y\"],[\"2022-11-26\",\"y\"],[\"2022-11-27\",\"y\"],[\"2022-11-28\",\"y\"],[\"2022-11-29\",\"y\"],[\"2022-11-30\",\"y\"],[\"2022-12-01\",\"y\"],[\"2022-12-02\",\"y\"],[\"2022-12-03\",\"y\"],[\"2022-12-04\",\"y\"],[\"2022-12-05\",\"y\"],[\"2022-12-06\",\"y\"],[\"2022-12-07\",\"y\"],[\"2022-12-08\",\"y\"],[\"2022-12-09\",\"y\"],[\"2022-12-10\",\"y\"],[\"2022-12-11\",\"y\"],[\"2022-12-12\",\"y\"],[\"2022-12-13\",\"y\"],[\"2022-12-14\",\"y\"],[\"2022-12-15\",\"y\"],[\"2022-12-16\",\"y\"],[\"2022-12-17\",\"y\"],[\"2022-12-18\",\"y\"],[\"2022-12-19\",\"y\"],[\"2022-12-20\",\"y\"],[\"2022-12-21\",\"y\"],[\"2022-12-22\",\"y\"],[\"2022-12-23\",\"y\"],[\"2022-12-24\",\"y\"],[\"2022-12-25\",\"y\"],[\"2022-12-26\",\"y\"],[\"2022-12-27\",\"y\"],[\"2022-12-28\",\"y\"],[\"2022-12-29\",\"y\"],[\"2022-12-30\",\"y\"],[\"2022-12-31\",\"y\"]],\"hovertemplate\":\"%{customdata[0]} <br>%{customdata[1]}=%{z} <br>Week=%{x}\",\"name\":\"2022\",\"showscale\":false,\"x\":[0,0,1,1,1,1,1,1,1,2,2,2,2,2,2,2,3,3,3,3,3,3,3,4,4,4,4,4,4,4,5,5,5,5,5,5,5,6,6,6,6,6,6,6,7,7,7,7,7,7,7,8,8,8,8,8,8,8,9,9,9,9,9,9,9,10,10,10,10,10,10,10,11,11,11,11,11,11,11,12,12,12,12,12,12,12,13,13,13,13,13,13,13,14,14,14,14,14,14,14,15,15,15,15,15,15,15,16,16,16,16,16,16,16,17,17,17,17,17,17,17,18,18,18,18,18,18,18,19,19,19,19,19,19,19,20,20,20,20,20,20,20,21,21,21,21,21,21,21,22,22,22,22,22,22,22,23,23,23,23,23,23,23,24,24,24,24,24,24,24,25,25,25,25,25,25,25,26,26,26,26,26,26,26,27,27,27,27,27,27,27,28,28,28,28,28,28,28,29,29,29,29,29,29,29,30,30,30,30,30,30,30,31,31,31,31,31,31,31,32,32,32,32,32,32,32,33,33,33,33,33,33,33,34,34,34,34,34,34,34,35,35,35,35,35,35,35,36,36,36,36,36,36,36,37,37,37,37,37,37,37,38,38,38,38,38,38,38,39,39,39,39,39,39,39,40,40,40,40,40,40,40,41,41,41,41,41,41,41,42,42,42,42,42,42,42,43,43,43,43,43,43,43,44,44,44,44,44,44,44,45,45,45,45,45,45,45,46,46,46,46,46,46,46,47,47,47,47,47,47,47,48,48,48,48,48,48,48,49,49,49,49,49,49,49,50,50,50,50,50,50,50,51,51,51,51,51,51,51,52,52,52,52,52,52],\"xgap\":1,\"y\":[5,6,0,1,2,3,4,5,6,0,1,2,3,4,5,6,0,1,2,3,4,5,6,0,1,2,3,4,5,6,0,1,2,3,4,5,6,0,1,2,3,4,5,6,0,1,2,3,4,5,6,0,1,2,3,4,5,6,0,1,2,3,4,5,6,0,1,2,3,4,5,6,0,1,2,3,4,5,6,0,1,2,3,4,5,6,0,1,2,3,4,5,6,0,1,2,3,4,5,6,0,1,2,3,4,5,6,0,1,2,3,4,5,6,0,1,2,3,4,5,6,0,1,2,3,4,5,6,0,1,2,3,4,5,6,0,1,2,3,4,5,6,0,1,2,3,4,5,6,0,1,2,3,4,5,6,0,1,2,3,4,5,6,0,1,2,3,4,5,6,0,1,2,3,4,5,6,0,1,2,3,4,5,6,0,1,2,3,4,5,6,0,1,2,3,4,5,6,0,1,2,3,4,5,6,0,1,2,3,4,5,6,0,1,2,3,4,5,6,0,1,2,3,4,5,6,0,1,2,3,4,5,6,0,1,2,3,4,5,6,0,1,2,3,4,5,6,0,1,2,3,4,5,6,0,1,2,3,4,5,6,0,1,2,3,4,5,6,0,1,2,3,4,5,6,0,1,2,3,4,5,6,0,1,2,3,4,5,6,0,1,2,3,4,5,6,0,1,2,3,4,5,6,0,1,2,3,4,5,6,0,1,2,3,4,5,6,0,1,2,3,4,5,6,0,1,2,3,4,5,6,0,1,2,3,4,5,6,0,1,2,3,4,5,6,0,1,2,3,4,5,6,0,1,2,3,4,5,6,0,1,2,3,4,5],\"ygap\":1,\"z\":[-1.8740523691173108,-2.0440439542192195,-1.8392859275983902,-2.5181810151503465,-2.3634780214442066,-2.203776135139795,-2.0667844580909165,-2.6295585774573507,-2.773114235941507,-3.181582302332742,-3.3258545427254527,-3.724303375807879,-3.7612527292731395,-3.7216349592581714,-3.7179087834269424,-1.7606814911903323,-2.609648029766543,-4.459209779837435,-3.9631132941368112,-3.380221338910534,-3.4656843338133037,-3.5905193845008543,-4.034002860578984,-3.853705096103631,-4.1622842477243935,-4.820054370329721,-4.458164291654804,-2.627725908859234,-1.632326349386397,-2.598290252644765,-4.147811108598426,-4.269492612617881,-2.02611841142022,-1.3357217874842582,-1.6361422554370102,-2.4602538063529833,-3.3092485012074406,-3.7569722156086565,-5.2275948895563955,-5.629081377920917,-5.3436710130893195,-4.532803314810012,-5.746954646521409,-4.0529327711645475,-5.009506452065562,-6.161207321695077,-4.289858922500619,-2.68874007787472,-3.8578638440239668,-4.853785021880549,-4.9507069946765965,-4.460019290378155,-3.8652152499874273,-2.43059795112417,-2.2755297302740303,-2.626057890790928,-4.725068804740113,-4.971817462738167,-5.168571467402996,-5.933846468814985,-5.511599116423567,-5.409309720861895,-5.195782074292478,-4.938482673952432,-4.2633056592895215,-4.642125892510521,-5.652319386567589,-3.6289233196659736,-4.423969339875389,-3.715669026881568,-2.5731330812441646,-3.14073662518704,-4.109867625408594,-5.272061705075977,-5.781338963342876,-3.261528267448105,-3.3464484882393686,-4.272379165369351,-4.76071485174853,-3.3112136404554375,-4.7955168504367,-5.513643776807677,-5.210181390491712,-5.054961220191424,-5.2359379164470115,-5.236999051801335,-5.328226422727264,-6.345033108733195,-5.181567450885518,-3.3069811306626593,-3.082968364595936,-2.141894806168704,-2.5720047714993823,-3.258547745007805,-3.8939126296768176,-4.2703756457246005,-2.9173243145772996,-3.408357316784248,-3.7506419482321682,-3.7038590993744887,-4.294535803921688,-4.18397649333124,-3.8205918174208033,-3.5506653665494907,-3.8594223117152784,-4.26513143091917,-4.3803551981158915,-4.489282476958712,-4.755861778760048,-5.630224332737675,-5.5554906664485575,-4.563014363926625,-4.608497976080766,-4.140510979995102,-3.8861711255053355,-4.898421825946865,-6.10203819493488,-5.831882477283517,-5.67809298854089,-3.8843399709236888,-4.011500704986629,-4.549747224314034,-5.474555053234214,-4.853130748768005,-4.301735880366306,-3.91856869973078,-4.608672816539293,-4.219507705176107,-5.153736137736929,-5.855867530486896,-5.888250572940837,-5.561667338340287,-4.069888473050751,-4.013511081090747,-3.9185007202127586,-2.9454250266752156,-4.197466658995646,-6.1459113503337655,-5.143087673422701,-2.887776452470562,-3.238851957847127,-2.8289242745914116,-3.577496151245537,-3.4959276832246586,-4.5367146181166005,-4.572020108707796,-2.8121101150484917,-3.5565111904370603,-3.6774980586237898,-4.0332350583264125,-5.712579644672912,-3.1809808656804686,-2.576520514302305,-3.4423756875039793,-3.498944720833051,-4.515922310714927,-4.359269647551265,-4.988501593750247,-4.194876161660985,-3.812178543820494,-4.102571078492905,-4.2107971786002345,-3.2786364128755556,-3.895932245466443,-3.9060100012822705,-4.3142989539666505,-2.4306546312562483,-2.7676587134510906,-3.255720213723288,-3.3479095836581503,-4.2520603082138555,-4.6474227357234925,-2.626477306283219,-3.3096121871466098,-3.5001680992212107,-3.6610701754155084,-3.3942937614581647,-3.2022737642400902,-3.8096720051637827,-3.8245444634540458,-4.18072482527472,-3.807963161967561,-3.5975028794194404,-5.044757207165513,-5.049553114622657,-3.698931851820982,-4.280890969444753,-4.877067034432705,-5.158809665355123,-4.93496064325035,-4.960170116764092,-5.1981606787652375,-3.734548053944253,-4.960225113372357,-4.357380837467054,-4.2343464220668015,-4.263708600161898,-4.247617236042026,-3.1012370095807906,-4.658377862991574,-5.050461517410333,-4.0340247719885785,-4.761885791876875,-3.3375256933884843,-3.411450359704235,-2.7948604913484614,-3.616472910984,-4.5376082309525225,-3.5312185221936336,-4.2607137795897,-4.278617339147317,-3.7498457310084925,0.0,0.0,0.0,0.0,0.0,0.0,0.0,0.0,0.0,0.0,0.0,0.0,0.0,0.0,0.0,0.0,0.0,0.0,0.0,0.0,0.0,0.0,0.0,0.0,0.0,0.0,0.0,0.0,0.0,0.0,0.0,0.0,0.0,0.0,0.0,0.0,0.0,0.0,0.0,0.0,0.0,0.0,0.0,0.0,0.0,0.0,0.0,0.0,0.0,0.0,0.0,0.0,0.0,0.0,0.0,0.0,0.0,0.0,0.0,0.0,0.0,0.0,0.0,0.0,0.0,0.0,0.0,0.0,0.0,0.0,0.0,0.0,0.0,0.0,0.0,0.0,0.0,0.0,0.0,0.0,0.0,0.0,0.0,0.0,0.0,0.0,0.0,0.0,0.0,0.0,0.0,0.0,0.0,0.0,0.0,0.0,0.0,0.0,0.0,0.0,0.0,0.0,0.0,0.0,0.0,0.0,0.0,0.0,0.0,0.0,0.0,0.0,0.0,0.0,0.0,0.0,0.0,0.0,0.0,0.0,0.0,0.0,0.0,0.0,0.0,0.0,0.0,0.0,0.0,0.0,0.0,0.0,0.0,0.0,0.0,0.0,0.0,0.0,0.0,0.0,0.0,0.0,0.0,0.0,0.0,0.0,0.0,0.0,0.0,0.0,0.0,0.0,0.0],\"type\":\"heatmap\",\"xaxis\":\"x5\",\"yaxis\":\"y5\"},{\"hoverinfo\":\"skip\",\"line\":{\"color\":\"#9e9e9e\",\"width\":1},\"mode\":\"lines\",\"x\":[-0.5,-0.5],\"y\":[4.5,6.5],\"type\":\"scatter\",\"xaxis\":\"x5\",\"yaxis\":\"y5\"},{\"hoverinfo\":\"skip\",\"line\":{\"color\":\"#9e9e9e\",\"width\":1},\"mode\":\"lines\",\"x\":[-0.5,0.5],\"y\":[4.5,4.5],\"type\":\"scatter\",\"xaxis\":\"x5\",\"yaxis\":\"y5\"},{\"hoverinfo\":\"skip\",\"line\":{\"color\":\"#9e9e9e\",\"width\":1},\"mode\":\"lines\",\"x\":[0.5,0.5],\"y\":[4.5,-0.5],\"type\":\"scatter\",\"xaxis\":\"x5\",\"yaxis\":\"y5\"},{\"hoverinfo\":\"skip\",\"line\":{\"color\":\"#9e9e9e\",\"width\":1},\"mode\":\"lines\",\"x\":[4.5,4.5],\"y\":[0.5,6.5],\"type\":\"scatter\",\"xaxis\":\"x5\",\"yaxis\":\"y5\"},{\"hoverinfo\":\"skip\",\"line\":{\"color\":\"#9e9e9e\",\"width\":1},\"mode\":\"lines\",\"x\":[4.5,5.5],\"y\":[0.5,0.5],\"type\":\"scatter\",\"xaxis\":\"x5\",\"yaxis\":\"y5\"},{\"hoverinfo\":\"skip\",\"line\":{\"color\":\"#9e9e9e\",\"width\":1},\"mode\":\"lines\",\"x\":[5.5,5.5],\"y\":[0.5,-0.5],\"type\":\"scatter\",\"xaxis\":\"x5\",\"yaxis\":\"y5\"},{\"hoverinfo\":\"skip\",\"line\":{\"color\":\"#9e9e9e\",\"width\":1},\"mode\":\"lines\",\"x\":[8.5,8.5],\"y\":[0.5,6.5],\"type\":\"scatter\",\"xaxis\":\"x5\",\"yaxis\":\"y5\"},{\"hoverinfo\":\"skip\",\"line\":{\"color\":\"#9e9e9e\",\"width\":1},\"mode\":\"lines\",\"x\":[8.5,9.5],\"y\":[0.5,0.5],\"type\":\"scatter\",\"xaxis\":\"x5\",\"yaxis\":\"y5\"},{\"hoverinfo\":\"skip\",\"line\":{\"color\":\"#9e9e9e\",\"width\":1},\"mode\":\"lines\",\"x\":[9.5,9.5],\"y\":[0.5,-0.5],\"type\":\"scatter\",\"xaxis\":\"x5\",\"yaxis\":\"y5\"},{\"hoverinfo\":\"skip\",\"line\":{\"color\":\"#9e9e9e\",\"width\":1},\"mode\":\"lines\",\"x\":[12.5,12.5],\"y\":[3.5,6.5],\"type\":\"scatter\",\"xaxis\":\"x5\",\"yaxis\":\"y5\"},{\"hoverinfo\":\"skip\",\"line\":{\"color\":\"#9e9e9e\",\"width\":1},\"mode\":\"lines\",\"x\":[12.5,13.5],\"y\":[3.5,3.5],\"type\":\"scatter\",\"xaxis\":\"x5\",\"yaxis\":\"y5\"},{\"hoverinfo\":\"skip\",\"line\":{\"color\":\"#9e9e9e\",\"width\":1},\"mode\":\"lines\",\"x\":[13.5,13.5],\"y\":[3.5,-0.5],\"type\":\"scatter\",\"xaxis\":\"x5\",\"yaxis\":\"y5\"},{\"hoverinfo\":\"skip\",\"line\":{\"color\":\"#9e9e9e\",\"width\":1},\"mode\":\"lines\",\"x\":[16.5,16.5],\"y\":[5.5,6.5],\"type\":\"scatter\",\"xaxis\":\"x5\",\"yaxis\":\"y5\"},{\"hoverinfo\":\"skip\",\"line\":{\"color\":\"#9e9e9e\",\"width\":1},\"mode\":\"lines\",\"x\":[16.5,17.5],\"y\":[5.5,5.5],\"type\":\"scatter\",\"xaxis\":\"x5\",\"yaxis\":\"y5\"},{\"hoverinfo\":\"skip\",\"line\":{\"color\":\"#9e9e9e\",\"width\":1},\"mode\":\"lines\",\"x\":[17.5,17.5],\"y\":[5.5,-0.5],\"type\":\"scatter\",\"xaxis\":\"x5\",\"yaxis\":\"y5\"},{\"hoverinfo\":\"skip\",\"line\":{\"color\":\"#9e9e9e\",\"width\":1},\"mode\":\"lines\",\"x\":[21.5,21.5],\"y\":[1.5,6.5],\"type\":\"scatter\",\"xaxis\":\"x5\",\"yaxis\":\"y5\"},{\"hoverinfo\":\"skip\",\"line\":{\"color\":\"#9e9e9e\",\"width\":1},\"mode\":\"lines\",\"x\":[21.5,22.5],\"y\":[1.5,1.5],\"type\":\"scatter\",\"xaxis\":\"x5\",\"yaxis\":\"y5\"},{\"hoverinfo\":\"skip\",\"line\":{\"color\":\"#9e9e9e\",\"width\":1},\"mode\":\"lines\",\"x\":[22.5,22.5],\"y\":[1.5,-0.5],\"type\":\"scatter\",\"xaxis\":\"x5\",\"yaxis\":\"y5\"},{\"hoverinfo\":\"skip\",\"line\":{\"color\":\"#9e9e9e\",\"width\":1},\"mode\":\"lines\",\"x\":[25.5,25.5],\"y\":[3.5,6.5],\"type\":\"scatter\",\"xaxis\":\"x5\",\"yaxis\":\"y5\"},{\"hoverinfo\":\"skip\",\"line\":{\"color\":\"#9e9e9e\",\"width\":1},\"mode\":\"lines\",\"x\":[25.5,26.5],\"y\":[3.5,3.5],\"type\":\"scatter\",\"xaxis\":\"x5\",\"yaxis\":\"y5\"},{\"hoverinfo\":\"skip\",\"line\":{\"color\":\"#9e9e9e\",\"width\":1},\"mode\":\"lines\",\"x\":[26.5,26.5],\"y\":[3.5,-0.5],\"type\":\"scatter\",\"xaxis\":\"x5\",\"yaxis\":\"y5\"},{\"hoverinfo\":\"skip\",\"line\":{\"color\":\"#9e9e9e\",\"width\":1},\"mode\":\"lines\",\"x\":[30.5,30.5],\"y\":[-0.5,6.5],\"type\":\"scatter\",\"xaxis\":\"x5\",\"yaxis\":\"y5\"},{\"hoverinfo\":\"skip\",\"line\":{\"color\":\"#9e9e9e\",\"width\":1},\"mode\":\"lines\",\"x\":[34.5,34.5],\"y\":[2.5,6.5],\"type\":\"scatter\",\"xaxis\":\"x5\",\"yaxis\":\"y5\"},{\"hoverinfo\":\"skip\",\"line\":{\"color\":\"#9e9e9e\",\"width\":1},\"mode\":\"lines\",\"x\":[34.5,35.5],\"y\":[2.5,2.5],\"type\":\"scatter\",\"xaxis\":\"x5\",\"yaxis\":\"y5\"},{\"hoverinfo\":\"skip\",\"line\":{\"color\":\"#9e9e9e\",\"width\":1},\"mode\":\"lines\",\"x\":[35.5,35.5],\"y\":[2.5,-0.5],\"type\":\"scatter\",\"xaxis\":\"x5\",\"yaxis\":\"y5\"},{\"hoverinfo\":\"skip\",\"line\":{\"color\":\"#9e9e9e\",\"width\":1},\"mode\":\"lines\",\"x\":[38.5,38.5],\"y\":[4.5,6.5],\"type\":\"scatter\",\"xaxis\":\"x5\",\"yaxis\":\"y5\"},{\"hoverinfo\":\"skip\",\"line\":{\"color\":\"#9e9e9e\",\"width\":1},\"mode\":\"lines\",\"x\":[38.5,39.5],\"y\":[4.5,4.5],\"type\":\"scatter\",\"xaxis\":\"x5\",\"yaxis\":\"y5\"},{\"hoverinfo\":\"skip\",\"line\":{\"color\":\"#9e9e9e\",\"width\":1},\"mode\":\"lines\",\"x\":[39.5,39.5],\"y\":[4.5,-0.5],\"type\":\"scatter\",\"xaxis\":\"x5\",\"yaxis\":\"y5\"},{\"hoverinfo\":\"skip\",\"line\":{\"color\":\"#9e9e9e\",\"width\":1},\"mode\":\"lines\",\"x\":[43.5,43.5],\"y\":[0.5,6.5],\"type\":\"scatter\",\"xaxis\":\"x5\",\"yaxis\":\"y5\"},{\"hoverinfo\":\"skip\",\"line\":{\"color\":\"#9e9e9e\",\"width\":1},\"mode\":\"lines\",\"x\":[43.5,44.5],\"y\":[0.5,0.5],\"type\":\"scatter\",\"xaxis\":\"x5\",\"yaxis\":\"y5\"},{\"hoverinfo\":\"skip\",\"line\":{\"color\":\"#9e9e9e\",\"width\":1},\"mode\":\"lines\",\"x\":[44.5,44.5],\"y\":[0.5,-0.5],\"type\":\"scatter\",\"xaxis\":\"x5\",\"yaxis\":\"y5\"},{\"hoverinfo\":\"skip\",\"line\":{\"color\":\"#9e9e9e\",\"width\":1},\"mode\":\"lines\",\"x\":[47.5,47.5],\"y\":[2.5,6.5],\"type\":\"scatter\",\"xaxis\":\"x5\",\"yaxis\":\"y5\"},{\"hoverinfo\":\"skip\",\"line\":{\"color\":\"#9e9e9e\",\"width\":1},\"mode\":\"lines\",\"x\":[47.5,48.5],\"y\":[2.5,2.5],\"type\":\"scatter\",\"xaxis\":\"x5\",\"yaxis\":\"y5\"},{\"hoverinfo\":\"skip\",\"line\":{\"color\":\"#9e9e9e\",\"width\":1},\"mode\":\"lines\",\"x\":[48.5,48.5],\"y\":[2.5,-0.5],\"type\":\"scatter\",\"xaxis\":\"x5\",\"yaxis\":\"y5\"}],                        {\"template\":{\"data\":{\"histogram2dcontour\":[{\"type\":\"histogram2dcontour\",\"colorbar\":{\"outlinewidth\":0,\"ticks\":\"\"},\"colorscale\":[[0.0,\"#0d0887\"],[0.1111111111111111,\"#46039f\"],[0.2222222222222222,\"#7201a8\"],[0.3333333333333333,\"#9c179e\"],[0.4444444444444444,\"#bd3786\"],[0.5555555555555556,\"#d8576b\"],[0.6666666666666666,\"#ed7953\"],[0.7777777777777778,\"#fb9f3a\"],[0.8888888888888888,\"#fdca26\"],[1.0,\"#f0f921\"]]}],\"choropleth\":[{\"type\":\"choropleth\",\"colorbar\":{\"outlinewidth\":0,\"ticks\":\"\"}}],\"histogram2d\":[{\"type\":\"histogram2d\",\"colorbar\":{\"outlinewidth\":0,\"ticks\":\"\"},\"colorscale\":[[0.0,\"#0d0887\"],[0.1111111111111111,\"#46039f\"],[0.2222222222222222,\"#7201a8\"],[0.3333333333333333,\"#9c179e\"],[0.4444444444444444,\"#bd3786\"],[0.5555555555555556,\"#d8576b\"],[0.6666666666666666,\"#ed7953\"],[0.7777777777777778,\"#fb9f3a\"],[0.8888888888888888,\"#fdca26\"],[1.0,\"#f0f921\"]]}],\"heatmap\":[{\"type\":\"heatmap\",\"colorbar\":{\"outlinewidth\":0,\"ticks\":\"\"},\"colorscale\":[[0.0,\"#0d0887\"],[0.1111111111111111,\"#46039f\"],[0.2222222222222222,\"#7201a8\"],[0.3333333333333333,\"#9c179e\"],[0.4444444444444444,\"#bd3786\"],[0.5555555555555556,\"#d8576b\"],[0.6666666666666666,\"#ed7953\"],[0.7777777777777778,\"#fb9f3a\"],[0.8888888888888888,\"#fdca26\"],[1.0,\"#f0f921\"]]}],\"heatmapgl\":[{\"type\":\"heatmapgl\",\"colorbar\":{\"outlinewidth\":0,\"ticks\":\"\"},\"colorscale\":[[0.0,\"#0d0887\"],[0.1111111111111111,\"#46039f\"],[0.2222222222222222,\"#7201a8\"],[0.3333333333333333,\"#9c179e\"],[0.4444444444444444,\"#bd3786\"],[0.5555555555555556,\"#d8576b\"],[0.6666666666666666,\"#ed7953\"],[0.7777777777777778,\"#fb9f3a\"],[0.8888888888888888,\"#fdca26\"],[1.0,\"#f0f921\"]]}],\"contourcarpet\":[{\"type\":\"contourcarpet\",\"colorbar\":{\"outlinewidth\":0,\"ticks\":\"\"}}],\"contour\":[{\"type\":\"contour\",\"colorbar\":{\"outlinewidth\":0,\"ticks\":\"\"},\"colorscale\":[[0.0,\"#0d0887\"],[0.1111111111111111,\"#46039f\"],[0.2222222222222222,\"#7201a8\"],[0.3333333333333333,\"#9c179e\"],[0.4444444444444444,\"#bd3786\"],[0.5555555555555556,\"#d8576b\"],[0.6666666666666666,\"#ed7953\"],[0.7777777777777778,\"#fb9f3a\"],[0.8888888888888888,\"#fdca26\"],[1.0,\"#f0f921\"]]}],\"surface\":[{\"type\":\"surface\",\"colorbar\":{\"outlinewidth\":0,\"ticks\":\"\"},\"colorscale\":[[0.0,\"#0d0887\"],[0.1111111111111111,\"#46039f\"],[0.2222222222222222,\"#7201a8\"],[0.3333333333333333,\"#9c179e\"],[0.4444444444444444,\"#bd3786\"],[0.5555555555555556,\"#d8576b\"],[0.6666666666666666,\"#ed7953\"],[0.7777777777777778,\"#fb9f3a\"],[0.8888888888888888,\"#fdca26\"],[1.0,\"#f0f921\"]]}],\"mesh3d\":[{\"type\":\"mesh3d\",\"colorbar\":{\"outlinewidth\":0,\"ticks\":\"\"}}],\"scatter\":[{\"fillpattern\":{\"fillmode\":\"overlay\",\"size\":10,\"solidity\":0.2},\"type\":\"scatter\"}],\"parcoords\":[{\"type\":\"parcoords\",\"line\":{\"colorbar\":{\"outlinewidth\":0,\"ticks\":\"\"}}}],\"scatterpolargl\":[{\"type\":\"scatterpolargl\",\"marker\":{\"colorbar\":{\"outlinewidth\":0,\"ticks\":\"\"}}}],\"bar\":[{\"error_x\":{\"color\":\"#2a3f5f\"},\"error_y\":{\"color\":\"#2a3f5f\"},\"marker\":{\"line\":{\"color\":\"#E5ECF6\",\"width\":0.5},\"pattern\":{\"fillmode\":\"overlay\",\"size\":10,\"solidity\":0.2}},\"type\":\"bar\"}],\"scattergeo\":[{\"type\":\"scattergeo\",\"marker\":{\"colorbar\":{\"outlinewidth\":0,\"ticks\":\"\"}}}],\"scatterpolar\":[{\"type\":\"scatterpolar\",\"marker\":{\"colorbar\":{\"outlinewidth\":0,\"ticks\":\"\"}}}],\"histogram\":[{\"marker\":{\"pattern\":{\"fillmode\":\"overlay\",\"size\":10,\"solidity\":0.2}},\"type\":\"histogram\"}],\"scattergl\":[{\"type\":\"scattergl\",\"marker\":{\"colorbar\":{\"outlinewidth\":0,\"ticks\":\"\"}}}],\"scatter3d\":[{\"type\":\"scatter3d\",\"line\":{\"colorbar\":{\"outlinewidth\":0,\"ticks\":\"\"}},\"marker\":{\"colorbar\":{\"outlinewidth\":0,\"ticks\":\"\"}}}],\"scattermapbox\":[{\"type\":\"scattermapbox\",\"marker\":{\"colorbar\":{\"outlinewidth\":0,\"ticks\":\"\"}}}],\"scatterternary\":[{\"type\":\"scatterternary\",\"marker\":{\"colorbar\":{\"outlinewidth\":0,\"ticks\":\"\"}}}],\"scattercarpet\":[{\"type\":\"scattercarpet\",\"marker\":{\"colorbar\":{\"outlinewidth\":0,\"ticks\":\"\"}}}],\"carpet\":[{\"aaxis\":{\"endlinecolor\":\"#2a3f5f\",\"gridcolor\":\"white\",\"linecolor\":\"white\",\"minorgridcolor\":\"white\",\"startlinecolor\":\"#2a3f5f\"},\"baxis\":{\"endlinecolor\":\"#2a3f5f\",\"gridcolor\":\"white\",\"linecolor\":\"white\",\"minorgridcolor\":\"white\",\"startlinecolor\":\"#2a3f5f\"},\"type\":\"carpet\"}],\"table\":[{\"cells\":{\"fill\":{\"color\":\"#EBF0F8\"},\"line\":{\"color\":\"white\"}},\"header\":{\"fill\":{\"color\":\"#C8D4E3\"},\"line\":{\"color\":\"white\"}},\"type\":\"table\"}],\"barpolar\":[{\"marker\":{\"line\":{\"color\":\"#E5ECF6\",\"width\":0.5},\"pattern\":{\"fillmode\":\"overlay\",\"size\":10,\"solidity\":0.2}},\"type\":\"barpolar\"}],\"pie\":[{\"automargin\":true,\"type\":\"pie\"}]},\"layout\":{\"autotypenumbers\":\"strict\",\"colorway\":[\"#636efa\",\"#EF553B\",\"#00cc96\",\"#ab63fa\",\"#FFA15A\",\"#19d3f3\",\"#FF6692\",\"#B6E880\",\"#FF97FF\",\"#FECB52\"],\"font\":{\"color\":\"#2a3f5f\"},\"hovermode\":\"closest\",\"hoverlabel\":{\"align\":\"left\"},\"paper_bgcolor\":\"white\",\"plot_bgcolor\":\"#E5ECF6\",\"polar\":{\"bgcolor\":\"#E5ECF6\",\"angularaxis\":{\"gridcolor\":\"white\",\"linecolor\":\"white\",\"ticks\":\"\"},\"radialaxis\":{\"gridcolor\":\"white\",\"linecolor\":\"white\",\"ticks\":\"\"}},\"ternary\":{\"bgcolor\":\"#E5ECF6\",\"aaxis\":{\"gridcolor\":\"white\",\"linecolor\":\"white\",\"ticks\":\"\"},\"baxis\":{\"gridcolor\":\"white\",\"linecolor\":\"white\",\"ticks\":\"\"},\"caxis\":{\"gridcolor\":\"white\",\"linecolor\":\"white\",\"ticks\":\"\"}},\"coloraxis\":{\"colorbar\":{\"outlinewidth\":0,\"ticks\":\"\"}},\"colorscale\":{\"sequential\":[[0.0,\"#0d0887\"],[0.1111111111111111,\"#46039f\"],[0.2222222222222222,\"#7201a8\"],[0.3333333333333333,\"#9c179e\"],[0.4444444444444444,\"#bd3786\"],[0.5555555555555556,\"#d8576b\"],[0.6666666666666666,\"#ed7953\"],[0.7777777777777778,\"#fb9f3a\"],[0.8888888888888888,\"#fdca26\"],[1.0,\"#f0f921\"]],\"sequentialminus\":[[0.0,\"#0d0887\"],[0.1111111111111111,\"#46039f\"],[0.2222222222222222,\"#7201a8\"],[0.3333333333333333,\"#9c179e\"],[0.4444444444444444,\"#bd3786\"],[0.5555555555555556,\"#d8576b\"],[0.6666666666666666,\"#ed7953\"],[0.7777777777777778,\"#fb9f3a\"],[0.8888888888888888,\"#fdca26\"],[1.0,\"#f0f921\"]],\"diverging\":[[0,\"#8e0152\"],[0.1,\"#c51b7d\"],[0.2,\"#de77ae\"],[0.3,\"#f1b6da\"],[0.4,\"#fde0ef\"],[0.5,\"#f7f7f7\"],[0.6,\"#e6f5d0\"],[0.7,\"#b8e186\"],[0.8,\"#7fbc41\"],[0.9,\"#4d9221\"],[1,\"#276419\"]]},\"xaxis\":{\"gridcolor\":\"white\",\"linecolor\":\"white\",\"ticks\":\"\",\"title\":{\"standoff\":15},\"zerolinecolor\":\"white\",\"automargin\":true,\"zerolinewidth\":2},\"yaxis\":{\"gridcolor\":\"white\",\"linecolor\":\"white\",\"ticks\":\"\",\"title\":{\"standoff\":15},\"zerolinecolor\":\"white\",\"automargin\":true,\"zerolinewidth\":2},\"scene\":{\"xaxis\":{\"backgroundcolor\":\"#E5ECF6\",\"gridcolor\":\"white\",\"linecolor\":\"white\",\"showbackground\":true,\"ticks\":\"\",\"zerolinecolor\":\"white\",\"gridwidth\":2},\"yaxis\":{\"backgroundcolor\":\"#E5ECF6\",\"gridcolor\":\"white\",\"linecolor\":\"white\",\"showbackground\":true,\"ticks\":\"\",\"zerolinecolor\":\"white\",\"gridwidth\":2},\"zaxis\":{\"backgroundcolor\":\"#E5ECF6\",\"gridcolor\":\"white\",\"linecolor\":\"white\",\"showbackground\":true,\"ticks\":\"\",\"zerolinecolor\":\"white\",\"gridwidth\":2}},\"shapedefaults\":{\"line\":{\"color\":\"#2a3f5f\"}},\"annotationdefaults\":{\"arrowcolor\":\"#2a3f5f\",\"arrowhead\":0,\"arrowwidth\":1},\"geo\":{\"bgcolor\":\"white\",\"landcolor\":\"#E5ECF6\",\"subunitcolor\":\"white\",\"showland\":true,\"showlakes\":true,\"lakecolor\":\"white\"},\"title\":{\"x\":0.05},\"mapbox\":{\"style\":\"light\"}}},\"xaxis\":{\"anchor\":\"y\",\"domain\":[0.0,1.0],\"showgrid\":false,\"showline\":false,\"tickmode\":\"array\",\"ticktext\":[\"January\",\"February\",\"March\",\"April\",\"May\",\"June\",\"July\",\"August\",\"September\",\"October\",\"November\",\"December\"],\"tickvals\":[2.2857142857142856,6.285714285714286,10.714285714285714,15.0,19.428571428571427,23.714285714285715,28.142857142857142,32.57142857142857,36.857142857142854,41.285714285714285,45.57142857142857,50.0],\"zeroline\":false},\"yaxis\":{\"anchor\":\"x\",\"domain\":[0.8639999999999999,0.9999999999999999],\"autorange\":\"reversed\",\"showgrid\":false,\"showline\":false,\"tickmode\":\"array\",\"ticktext\":[\"Mon\",\"Tue\",\"Wed\",\"Thu\",\"Fri\",\"Sat\",\"Sun\"],\"tickvals\":[0,1,2,3,4,5,6],\"zeroline\":false},\"xaxis2\":{\"anchor\":\"y2\",\"domain\":[0.0,1.0],\"showgrid\":false,\"showline\":false,\"tickmode\":\"array\",\"ticktext\":[\"January\",\"February\",\"March\",\"April\",\"May\",\"June\",\"July\",\"August\",\"September\",\"October\",\"November\",\"December\"],\"tickvals\":[2.2857142857142856,6.285714285714286,10.714285714285714,15.0,19.428571428571427,23.714285714285715,28.142857142857142,32.57142857142857,36.857142857142854,41.285714285714285,45.57142857142857,50.0],\"zeroline\":false},\"yaxis2\":{\"anchor\":\"x2\",\"domain\":[0.6479999999999999,0.7839999999999999],\"autorange\":\"reversed\",\"showgrid\":false,\"showline\":false,\"tickmode\":\"array\",\"ticktext\":[\"Mon\",\"Tue\",\"Wed\",\"Thu\",\"Fri\",\"Sat\",\"Sun\"],\"tickvals\":[0,1,2,3,4,5,6],\"zeroline\":false},\"xaxis3\":{\"anchor\":\"y3\",\"domain\":[0.0,1.0],\"showgrid\":false,\"showline\":false,\"tickmode\":\"array\",\"ticktext\":[\"January\",\"February\",\"March\",\"April\",\"May\",\"June\",\"July\",\"August\",\"September\",\"October\",\"November\",\"December\"],\"tickvals\":[2.2857142857142856,6.285714285714286,10.714285714285714,15.0,19.428571428571427,23.714285714285715,28.142857142857142,32.57142857142857,36.857142857142854,41.285714285714285,45.57142857142857,50.0],\"zeroline\":false},\"yaxis3\":{\"anchor\":\"x3\",\"domain\":[0.43199999999999994,0.568],\"autorange\":\"reversed\",\"showgrid\":false,\"showline\":false,\"tickmode\":\"array\",\"ticktext\":[\"Mon\",\"Tue\",\"Wed\",\"Thu\",\"Fri\",\"Sat\",\"Sun\"],\"tickvals\":[0,1,2,3,4,5,6],\"zeroline\":false},\"xaxis4\":{\"anchor\":\"y4\",\"domain\":[0.0,1.0],\"showgrid\":false,\"showline\":false,\"tickmode\":\"array\",\"ticktext\":[\"January\",\"February\",\"March\",\"April\",\"May\",\"June\",\"July\",\"August\",\"September\",\"October\",\"November\",\"December\"],\"tickvals\":[2.2857142857142856,6.285714285714286,10.714285714285714,15.0,19.428571428571427,23.714285714285715,28.142857142857142,32.57142857142857,36.857142857142854,41.285714285714285,45.57142857142857,50.0],\"zeroline\":false},\"yaxis4\":{\"anchor\":\"x4\",\"domain\":[0.21599999999999997,0.352],\"autorange\":\"reversed\",\"showgrid\":false,\"showline\":false,\"tickmode\":\"array\",\"ticktext\":[\"Mon\",\"Tue\",\"Wed\",\"Thu\",\"Fri\",\"Sat\",\"Sun\"],\"tickvals\":[0,1,2,3,4,5,6],\"zeroline\":false},\"xaxis5\":{\"anchor\":\"y5\",\"domain\":[0.0,1.0],\"showgrid\":false,\"showline\":false,\"tickmode\":\"array\",\"ticktext\":[\"January\",\"February\",\"March\",\"April\",\"May\",\"June\",\"July\",\"August\",\"September\",\"October\",\"November\",\"December\"],\"tickvals\":[2.2857142857142856,6.285714285714286,10.714285714285714,15.0,19.428571428571427,23.714285714285715,28.142857142857142,32.57142857142857,36.857142857142854,41.285714285714285,45.57142857142857,50.0],\"zeroline\":false},\"yaxis5\":{\"anchor\":\"x5\",\"domain\":[0.0,0.13599999999999998],\"autorange\":\"reversed\",\"showgrid\":false,\"showline\":false,\"tickmode\":\"array\",\"ticktext\":[\"Mon\",\"Tue\",\"Wed\",\"Thu\",\"Fri\",\"Sat\",\"Sun\"],\"tickvals\":[0,1,2,3,4,5,6],\"zeroline\":false},\"font\":{\"color\":\"#9e9e9e\",\"size\":10},\"margin\":{\"b\":20,\"t\":20},\"title\":{\"text\":\"\"},\"plot_bgcolor\":\"#fff\",\"showlegend\":false,\"width\":800,\"height\":750},                        {\"responsive\": true}                    ).then(function(){\n",
       "                            \n",
       "var gd = document.getElementById('6e8cf95b-e978-4b2f-80b3-60bb457962a7');\n",
       "var x = new MutationObserver(function (mutations, observer) {{\n",
       "        var display = window.getComputedStyle(gd).display;\n",
       "        if (!display || display === 'none') {{\n",
       "            console.log([gd, 'removed!']);\n",
       "            Plotly.purge(gd);\n",
       "            observer.disconnect();\n",
       "        }}\n",
       "}});\n",
       "\n",
       "// Listen for the removal of the full notebook cells\n",
       "var notebookContainer = gd.closest('#notebook-container');\n",
       "if (notebookContainer) {{\n",
       "    x.observe(notebookContainer, {childList: true});\n",
       "}}\n",
       "\n",
       "// Listen for the clearing of the current output cell\n",
       "var outputEl = gd.closest('.output');\n",
       "if (outputEl) {{\n",
       "    x.observe(outputEl, {childList: true});\n",
       "}}\n",
       "\n",
       "                        })                };                });            </script>        </div>"
      ]
     },
     "metadata": {},
     "output_type": "display_data"
    }
   ],
   "source": [
    "from plotly_calplot import calplot\n",
    "\n",
    "# creating the plot\n",
    "fig = calplot(events.apply(np.log).reset_index(), x=\"FlightDate\", y=\"Cancelled\")\n",
    "fig.show()"
   ]
  },
  {
   "cell_type": "markdown",
   "id": "17722458",
   "metadata": {
    "papermill": {
     "duration": 0.013825,
     "end_time": "2024-03-18T09:13:37.136537",
     "exception": false,
     "start_time": "2024-03-18T09:13:37.122712",
     "status": "completed"
    },
    "tags": []
   },
   "source": [
    "# Compare Airlines\n",
    "- Who has the most delays?\n",
    "- Who has the most cancellations?\n",
    "- Who is the most reliable? (on time)"
   ]
  },
  {
   "cell_type": "code",
   "execution_count": 18,
   "id": "62d90c99",
   "metadata": {
    "execution": {
     "iopub.execute_input": "2024-03-18T09:13:37.166898Z",
     "iopub.status.busy": "2024-03-18T09:13:37.166084Z",
     "iopub.status.idle": "2024-03-18T09:13:37.796038Z",
     "shell.execute_reply": "2024-03-18T09:13:37.794781Z"
    },
    "papermill": {
     "duration": 0.648003,
     "end_time": "2024-03-18T09:13:37.798738",
     "exception": false,
     "start_time": "2024-03-18T09:13:37.150735",
     "status": "completed"
    },
    "tags": []
   },
   "outputs": [
    {
     "data": {
      "text/plain": [
       "Text(0.5, 0, 'Flights (100k)')"
      ]
     },
     "execution_count": 18,
     "metadata": {},
     "output_type": "execute_result"
    },
    {
     "data": {
      "image/png": "[encoded data removed]",
      "text/plain": [
       "<Figure size 720x720 with 1 Axes>"
      ]
     },
     "metadata": {
      "needs_background": "light"
     },
     "output_type": "display_data"
    }
   ],
   "source": [
    "fig, ax = plt.subplots(figsize=(10, 10))\n",
    "airlines_ordered = (df[\"Airline\"].value_counts(ascending=True) / 100_000).plot(\n",
    "    kind=\"barh\", ax=ax, color=pal[2], width=1, edgecolor=\"black\"\n",
    ")\n",
    "ax.set_title(\"Number of Flights in Dataset\")\n",
    "ax.set_xlabel(\"Flights (100k)\")"
   ]
  },
  {
   "cell_type": "markdown",
   "id": "436a1113",
   "metadata": {
    "papermill": {
     "duration": 0.014719,
     "end_time": "2024-03-18T09:13:37.828945",
     "exception": false,
     "start_time": "2024-03-18T09:13:37.814226",
     "status": "completed"
    },
    "tags": []
   },
   "source": [
    "## Subset to the Top Airlines\n",
    "- Minimum 1M Flights"
   ]
  },
  {
   "cell_type": "code",
   "execution_count": 19,
   "id": "01b86b95",
   "metadata": {
    "execution": {
     "iopub.execute_input": "2024-03-18T09:13:37.861261Z",
     "iopub.status.busy": "2024-03-18T09:13:37.860862Z",
     "iopub.status.idle": "2024-03-18T09:13:45.720125Z",
     "shell.execute_reply": "2024-03-18T09:13:45.718789Z"
    },
    "papermill": {
     "duration": 7.879517,
     "end_time": "2024-03-18T09:13:45.723434",
     "exception": false,
     "start_time": "2024-03-18T09:13:37.843917",
     "status": "completed"
    },
    "tags": []
   },
   "outputs": [],
   "source": [
    "top_airlines = (\n",
    "    df[\"Airline\"]\n",
    "    .value_counts()\n",
    "    .reset_index()\n",
    "    .query(\"Airline > 1_000_000\")[\"index\"]\n",
    "    .values.tolist()\n",
    ")\n",
    "\n",
    "df_top = df.loc[df[\"Airline\"].isin(top_airlines)].reset_index(drop=True).copy()"
   ]
  },
  {
   "cell_type": "code",
   "execution_count": 20,
   "id": "0a70f89f",
   "metadata": {
    "execution": {
     "iopub.execute_input": "2024-03-18T09:13:45.757056Z",
     "iopub.status.busy": "2024-03-18T09:13:45.756569Z",
     "iopub.status.idle": "2024-03-18T09:14:00.803470Z",
     "shell.execute_reply": "2024-03-18T09:14:00.801960Z"
    },
    "papermill": {
     "duration": 15.067446,
     "end_time": "2024-03-18T09:14:00.806829",
     "exception": false,
     "start_time": "2024-03-18T09:13:45.739383",
     "status": "completed"
    },
    "tags": []
   },
   "outputs": [],
   "source": [
    "# Reset airline categories\n",
    "df_top[\"Airline\"] = df_top[\"Airline\"].astype(\"str\").astype(\"category\")"
   ]
  },
  {
   "cell_type": "code",
   "execution_count": 21,
   "id": "d7b2e613",
   "metadata": {
    "execution": {
     "iopub.execute_input": "2024-03-18T09:14:00.841642Z",
     "iopub.status.busy": "2024-03-18T09:14:00.841165Z",
     "iopub.status.idle": "2024-03-18T09:14:06.426912Z",
     "shell.execute_reply": "2024-03-18T09:14:06.425581Z"
    },
    "papermill": {
     "duration": 5.606151,
     "end_time": "2024-03-18T09:14:06.429989",
     "exception": false,
     "start_time": "2024-03-18T09:14:00.823838",
     "status": "completed"
    },
    "tags": []
   },
   "outputs": [
    {
     "data": {
      "image/png": "[encoded data removed]",
      "text/plain": [
       "<Figure size 720x360 with 1 Axes>"
      ]
     },
     "metadata": {
      "needs_background": "light"
     },
     "output_type": "display_data"
    }
   ],
   "source": [
    "col_order = [\"OnTime_Early\", \"Small_Delay\", \"Medium_Delay\", \"Large_Delay\", \"Cancelled\"]\n",
    "\n",
    "df_agg = (\n",
    "    df_top.groupby([\"Airline\"])[\"DelayGroup\"]\n",
    "    .value_counts(normalize=True)\n",
    "    .unstack()[col_order]\n",
    ")\n",
    "\n",
    "fig, ax = plt.subplots(figsize=(10, 5))\n",
    "df_agg.sort_values(\"OnTime_Early\").plot(\n",
    "    kind=\"barh\", stacked=True, ax=ax, width=0.8, edgecolor=\"black\"\n",
    ")\n",
    "ax.legend(bbox_to_anchor=(1, 1))\n",
    "ax.set_title(\"Top Airlines Flight Result Breakdown\", fontsize=20)\n",
    "ax.set_xlabel(\"Percent of Total Flights\")\n",
    "plt.show()"
   ]
  },
  {
   "cell_type": "markdown",
   "id": "a615ee30",
   "metadata": {
    "papermill": {
     "duration": 0.016322,
     "end_time": "2024-03-18T09:14:06.463754",
     "exception": false,
     "start_time": "2024-03-18T09:14:06.447432",
     "status": "completed"
    },
    "tags": []
   },
   "source": [
    "## Split out Each Delay Type and plot"
   ]
  },
  {
   "cell_type": "code",
   "execution_count": 22,
   "id": "240084f0",
   "metadata": {
    "execution": {
     "iopub.execute_input": "2024-03-18T09:14:06.498632Z",
     "iopub.status.busy": "2024-03-18T09:14:06.497798Z",
     "iopub.status.idle": "2024-03-18T09:14:06.502881Z",
     "shell.execute_reply": "2024-03-18T09:14:06.501874Z"
    },
    "papermill": {
     "duration": 0.025367,
     "end_time": "2024-03-18T09:14:06.505333",
     "exception": false,
     "start_time": "2024-03-18T09:14:06.479966",
     "status": "completed"
    },
    "tags": []
   },
   "outputs": [],
   "source": [
    "delay_mapping = {\n",
    "    \"OnTime_Early\": \"Good\",\n",
    "    \"Small_Delay\": \"Good\",\n",
    "    \"Medium_Delay\": \"Bad\",\n",
    "    \"Large_Delay\": \"Bad\",\n",
    "    \"Cancelled\": \"Bad\",\n",
    "}"
   ]
  },
  {
   "cell_type": "code",
   "execution_count": 23,
   "id": "23fb718f",
   "metadata": {
    "execution": {
     "iopub.execute_input": "2024-03-18T09:14:06.539397Z",
     "iopub.status.busy": "2024-03-18T09:14:06.538594Z",
     "iopub.status.idle": "2024-03-18T09:14:07.994394Z",
     "shell.execute_reply": "2024-03-18T09:14:07.993047Z"
    },
    "papermill": {
     "duration": 1.476527,
     "end_time": "2024-03-18T09:14:07.997771",
     "exception": false,
     "start_time": "2024-03-18T09:14:06.521244",
     "status": "completed"
    },
    "tags": []
   },
   "outputs": [],
   "source": [
    "df_top[\"DelayOk\"] = df_top[\"DelayGroup\"].map(delay_mapping)"
   ]
  },
  {
   "cell_type": "code",
   "execution_count": 24,
   "id": "1db58aa7",
   "metadata": {
    "execution": {
     "iopub.execute_input": "2024-03-18T09:14:08.032481Z",
     "iopub.status.busy": "2024-03-18T09:14:08.032058Z",
     "iopub.status.idle": "2024-03-18T09:14:12.495764Z",
     "shell.execute_reply": "2024-03-18T09:14:12.494352Z"
    },
    "papermill": {
     "duration": 4.484422,
     "end_time": "2024-03-18T09:14:12.498990",
     "exception": false,
     "start_time": "2024-03-18T09:14:08.014568",
     "status": "completed"
    },
    "tags": []
   },
   "outputs": [
    {
     "data": {
      "image/png": "[encoded data removed]",
      "text/plain": [
       "<Figure size 720x360 with 1 Axes>"
      ]
     },
     "metadata": {
      "needs_background": "light"
     },
     "output_type": "display_data"
    }
   ],
   "source": [
    "df_agg = (\n",
    "    df_top.groupby([\"Airline\"])[\"DelayOk\"]\n",
    "    .value_counts(normalize=True)\n",
    "    .unstack()[[\"Good\", \"Bad\"]]\n",
    ")\n",
    "\n",
    "fig, ax = plt.subplots(figsize=(10, 5))\n",
    "df_agg.sort_values(\"Good\").plot(\n",
    "    kind=\"barh\", stacked=True, ax=ax, width=0.8, edgecolor=\"black\"\n",
    ")\n",
    "ax.legend(bbox_to_anchor=(1, 1))\n",
    "ax.set_title(\"Top Airlines Flight Result Ok vs Not Ok\", fontsize=20)\n",
    "\n",
    "plt.show()"
   ]
  }
 ],
 "metadata": {
  "kaggle": {
   "accelerator": "none",
   "dataSources": [
    {
     "datasetId": 2529204,
     "sourceId": 4295427,
     "sourceType": "datasetVersion"
    }
   ],
   "dockerImageVersionId": 30301,
   "isGpuEnabled": false,
   "isInternetEnabled": true,
   "language": "python",
   "sourceType": "notebook"
  },
  "kernelspec": {
   "display_name": "Python 3",
   "language": "python",
   "name": "python3"
  },
  "language_info": {
   "codemirror_mode": {
    "name": "ipython",
    "version": 3
   },
   "file_extension": ".py",
   "mimetype": "text/x-python",
   "name": "python",
   "nbconvert_exporter": "python",
   "pygments_lexer": "ipython3",
   "version": "3.7.12"
  },
  "papermill": {
   "default_parameters": {},
   "duration": 199.715578,
   "end_time": "2024-03-18T09:14:14.954428",
   "environment_variables": {},
   "exception": null,
   "input_path": "__notebook__.ipynb",
   "output_path": "__notebook__.ipynb",
   "parameters": {},
   "start_time": "2024-03-18T09:10:55.238850",
   "version": "2.3.4"
  }
 },
 "nbformat": 4,
 "nbformat_minor": 5
}
