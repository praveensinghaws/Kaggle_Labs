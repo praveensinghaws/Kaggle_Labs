{
 "cells": [
  {
   "cell_type": "markdown",
   "id": "95af7cd0",
   "metadata": {
    "papermill": {
     "duration": 0.007093,
     "end_time": "2024-03-19T11:00:38.777213",
     "exception": false,
     "start_time": "2024-03-19T11:00:38.770120",
     "status": "completed"
    },
    "tags": []
   },
   "source": [
    "# Statistics_For_Data_Analysis_Part3"
   ]
  },
  {
   "cell_type": "markdown",
   "id": "842e3be5",
   "metadata": {
    "papermill": {
     "duration": 0.005809,
     "end_time": "2024-03-19T11:00:38.789552",
     "exception": false,
     "start_time": "2024-03-19T11:00:38.783743",
     "status": "completed"
    },
    "tags": []
   },
   "source": [
    "# Measures of dispersion: (spread or variability)\n",
    "#### Range, Variance, Standard Deviation, Percentiles, and Quartiles\n",
    "\n",
    "Certainly! Here are examples and explanations for each of the measures of dispersion you mentioned:\n",
    "\n",
    "1. Range:\n",
    "   - Example: Consider the following set of numbers: 10, 15, 20, 25, 30.\n",
    "   - To find the range, subtract the smallest number from the largest number.\n",
    "   - Range = 30 - 10 = 20.\n",
    "\n",
    "2. Interquartile Range (IQR):\n",
    "   - Example: Consider the following set of numbers: 5, 7, 9, 12, 15, 18, 22, 25, 30.\n",
    "   - First, arrange the numbers in ascending order: 5, 7, 9, 12, 15, 18, 22, 25, 30.\n",
    "   - Calculate the first quartile (Q1) and third quartile (Q3).\n",
    "   - IQR = Q3 - Q1.\n",
    "\n",
    "3. Quartile:\n",
    "   - Example: Consider the same set of numbers: 5, 7, 9, 12, 15, 18, 22, 25, 30.\n",
    "   - Quartiles divide a dataset into four equal parts.\n",
    "   - Q1 is the median of the lower half of the dataset, Q2 is the median of the entire dataset, and Q3 is the median of the upper half of the dataset.\n",
    "\n",
    "4. Percentile:\n",
    "   - Example: Consider the same set of numbers: 5, 7, 9, 12, 15, 18, 22, 25, 30.\n",
    "   - Percentiles divide a dataset into hundred equal parts.\n",
    "   - The nth percentile represents the value below which n% of the data falls.\n",
    "\n",
    "5. Variance:\n",
    "   - Example: Consider the same set of numbers: 10, 15, 20, 25, 30.\n",
    "   - To find the variance, first, calculate the mean of the dataset. Then, subtract the mean from each number, square the result, and find the average of those squared differences.\n",
    "\n",
    "6. Standard Deviation:\n",
    "   - Example: Consider the same set of numbers: 10, 15, 20, 25, 30.\n",
    "   - To find the standard deviation, take the square root of the variance.\n",
    "\n",
    "These measures of dispersion help to understand the spread or variability of a dataset."
   ]
  },
  {
   "cell_type": "markdown",
   "id": "839d790f",
   "metadata": {
    "papermill": {
     "duration": 0.0056,
     "end_time": "2024-03-19T11:00:38.801185",
     "exception": false,
     "start_time": "2024-03-19T11:00:38.795585",
     "status": "completed"
    },
    "tags": []
   },
   "source": [
    "# 1. Range = (Max - Min)\n",
    "\n",
    "Here's a breakdown of your points:\n",
    "\n",
    "1. **Sensitive to Extreme Values**: You rightly highlight that the range can be greatly influenced by extreme values or outliers in the dataset. Because it only considers the maximum and minimum values, outliers can skew the range and lead to a distorted view of the data's dispersion.\n",
    "\n",
    "2. **Does Not Consider the Distribution**: You point out that the range does not take into account the distribution of the data. This limitation is important to note because the range alone may not provide a comprehensive understanding of how the data is spread across its range.\n",
    "\n",
    "3. **Suitable for Small Datasets**: You mention that the range is suitable for small datasets. This observation is accurate because larger datasets may have more variability, making the range less informative as a measure of spread.\n",
    "\n",
    "## Range Examples:"
   ]
  },
  {
   "cell_type": "code",
   "execution_count": 1,
   "id": "6ea8c710",
   "metadata": {
    "execution": {
     "iopub.execute_input": "2024-03-19T11:00:38.816299Z",
     "iopub.status.busy": "2024-03-19T11:00:38.815264Z",
     "iopub.status.idle": "2024-03-19T11:00:38.831479Z",
     "shell.execute_reply": "2024-03-19T11:00:38.830298Z"
    },
    "papermill": {
     "duration": 0.027189,
     "end_time": "2024-03-19T11:00:38.834291",
     "exception": false,
     "start_time": "2024-03-19T11:00:38.807102",
     "status": "completed"
    },
    "tags": []
   },
   "outputs": [
    {
     "name": "stdout",
     "output_type": "stream",
     "text": [
      "Range: 20\n"
     ]
    }
   ],
   "source": [
    "# Example list of numbers\n",
    "numbers = [10, 15, 20, 25, 30]\n",
    "\n",
    "# Range\n",
    "range_val = max(numbers) - min(numbers)\n",
    "\n",
    "print(\"Range:\", range_val)\n"
   ]
  },
  {
   "cell_type": "markdown",
   "id": "cc5f2fbc",
   "metadata": {
    "papermill": {
     "duration": 0.005801,
     "end_time": "2024-03-19T11:00:38.846350",
     "exception": false,
     "start_time": "2024-03-19T11:00:38.840549",
     "status": "completed"
    },
    "tags": []
   },
   "source": [
    "# 2. Interquartile Range (IQR):\n",
    "\n",
    "The interquartile range (IQR) is a measure of statistical dispersion, specifically a measure of the spread of the middle 50% of a dataset. It is calculated as the difference between the third quartile (Q3) and the first quartile (Q1), which represents the range within which the middle 50% of the data values lie.\n",
    "\n",
    "Since the IQR focuses on the middle portion of the data distribution, it is less sensitive to extreme values or outliers compared to the range, mean, or standard deviation. This makes it a robust measure of spread, particularly in datasets where extreme values may skew the results.\n",
    "\n",
    "By using the IQR, analysts can better understand the variability of the central part of the dataset while minimizing the influence of extreme observations. It provides valuable information about the dispersion of the data without being unduly influenced by outliers.\n",
    "\n",
    "Overall, your statement accurately summarizes the concept of the interquartile range and highlights its effectiveness in capturing the spread of the central portion of a dataset while mitigating the impact of extreme values.\n",
    "\n",
    "## Interquartile Range (IQR) Example "
   ]
  },
  {
   "cell_type": "code",
   "execution_count": 2,
   "id": "dcd4bab5",
   "metadata": {
    "execution": {
     "iopub.execute_input": "2024-03-19T11:00:38.861294Z",
     "iopub.status.busy": "2024-03-19T11:00:38.860562Z",
     "iopub.status.idle": "2024-03-19T11:00:38.872902Z",
     "shell.execute_reply": "2024-03-19T11:00:38.871765Z"
    },
    "papermill": {
     "duration": 0.022889,
     "end_time": "2024-03-19T11:00:38.875336",
     "exception": false,
     "start_time": "2024-03-19T11:00:38.852447",
     "status": "completed"
    },
    "tags": []
   },
   "outputs": [
    {
     "name": "stdout",
     "output_type": "stream",
     "text": [
      "Interquartile Range (IQR): 10.0\n"
     ]
    }
   ],
   "source": [
    "import numpy as np\n",
    "\n",
    "# Example list of numbers\n",
    "numbers = [10, 15, 20, 25, 30]\n",
    "\n",
    "# IQR\n",
    "q75, q25 = np.percentile(numbers, [75, 25])\n",
    "iqr = q75 - q25\n",
    "\n",
    "print(\"Interquartile Range (IQR):\", iqr)\n"
   ]
  },
  {
   "cell_type": "markdown",
   "id": "15b17808",
   "metadata": {
    "papermill": {
     "duration": 0.005816,
     "end_time": "2024-03-19T11:00:38.887292",
     "exception": false,
     "start_time": "2024-03-19T11:00:38.881476",
     "status": "completed"
    },
    "tags": []
   },
   "source": [
    "# 3. Quartile:\n",
    "\n",
    "Quartiles are values that divide a dataset into four equal parts, each containing approximately 25% of the data. These quartiles are denoted as Q1, Q2, and Q3. Q2, also known as the median, divides the data into two equal halves. Q1 divides the lower 25% of the data from the upper 75%, while Q3 divides the upper 25% of the data from the lower 75%.\n",
    "\n",
    "Quartiles are particularly useful in descriptive statistics and exploratory data analysis to understand the spread and distribution of numerical data. They provide insights into the central tendency and dispersion of the dataset, especially when combined with other measures such as the median and interquartile range.\n",
    "\n",
    "Overall,  statement effectively captures the essence of quartiles in dividing data into four equal parts.\n",
    "\n",
    "## Quartile Example:"
   ]
  },
  {
   "cell_type": "code",
   "execution_count": 3,
   "id": "bba95adc",
   "metadata": {
    "execution": {
     "iopub.execute_input": "2024-03-19T11:00:38.901971Z",
     "iopub.status.busy": "2024-03-19T11:00:38.901205Z",
     "iopub.status.idle": "2024-03-19T11:00:38.911206Z",
     "shell.execute_reply": "2024-03-19T11:00:38.909380Z"
    },
    "papermill": {
     "duration": 0.020808,
     "end_time": "2024-03-19T11:00:38.914081",
     "exception": false,
     "start_time": "2024-03-19T11:00:38.893273",
     "status": "completed"
    },
    "tags": []
   },
   "outputs": [
    {
     "name": "stdout",
     "output_type": "stream",
     "text": [
      "Quartiles:\n",
      "Q1: 15.0\n",
      "Q2: 20.0\n",
      "Q3: 25.0\n"
     ]
    }
   ],
   "source": [
    "import numpy as np\n",
    "\n",
    "# Example list of numbers\n",
    "numbers = [10, 15, 20, 25, 30]\n",
    "\n",
    "# Quartiles\n",
    "q1 = np.percentile(numbers, 25)\n",
    "q2 = np.percentile(numbers, 50)\n",
    "q3 = np.percentile(numbers, 75)\n",
    "\n",
    "print(\"Quartiles:\")\n",
    "print(\"Q1:\", q1)\n",
    "print(\"Q2:\", q2)\n",
    "print(\"Q3:\", q3)\n"
   ]
  },
  {
   "cell_type": "markdown",
   "id": "056a6539",
   "metadata": {
    "papermill": {
     "duration": 0.006229,
     "end_time": "2024-03-19T11:00:38.927090",
     "exception": false,
     "start_time": "2024-03-19T11:00:38.920861",
     "status": "completed"
    },
    "tags": []
   },
   "source": [
    "# 4. Percentile :\n",
    "\n",
    "Percentiles are values that divide a dataset into 100 equal parts, representing the relative standing of an observation within the dataset. Each percentile corresponds to a specific percentage of the data.\n",
    "\n",
    "For example, the 50th percentile, also known as the median, represents the value below which 50% of the data falls. Similarly, the 25th percentile (Q1) represents the value below which 25% of the data falls, and the 75th percentile (Q3) represents the value below which 75% of the data falls.\n",
    "\n",
    "Percentiles are commonly used in statistics to understand the distribution of numerical data and identify outliers or extreme values. They provide insights into the relative position of individual observations within a dataset, allowing for comparisons and analysis across different percentiles.\n",
    "\n",
    "Overall, your statement effectively captures the essence of percentiles in dividing data into 100 equal parts, each representing a specific percentage of the dataset.\n",
    "## Percentile Example:"
   ]
  },
  {
   "cell_type": "code",
   "execution_count": 4,
   "id": "ce8f72d3",
   "metadata": {
    "execution": {
     "iopub.execute_input": "2024-03-19T11:00:38.943095Z",
     "iopub.status.busy": "2024-03-19T11:00:38.941791Z",
     "iopub.status.idle": "2024-03-19T11:00:38.950005Z",
     "shell.execute_reply": "2024-03-19T11:00:38.948427Z"
    },
    "papermill": {
     "duration": 0.019418,
     "end_time": "2024-03-19T11:00:38.953232",
     "exception": false,
     "start_time": "2024-03-19T11:00:38.933814",
     "status": "completed"
    },
    "tags": []
   },
   "outputs": [
    {
     "name": "stdout",
     "output_type": "stream",
     "text": [
      "90th Percentile: 28.0\n"
     ]
    }
   ],
   "source": [
    "import numpy as np\n",
    "\n",
    "# Example list of numbers\n",
    "numbers = [10, 15, 20, 25, 30]\n",
    "\n",
    "# Percentile\n",
    "percentile_90 = np.percentile(numbers, 90)\n",
    "\n",
    "print(\"90th Percentile:\", percentile_90)\n"
   ]
  },
  {
   "attachments": {
    "66a87966-bdef-44e0-a6fb-209dad9b6f54.png": {
     "image/png": "[encoded data removed]"
    }
   },
   "cell_type": "markdown",
   "id": "1d11efbc",
   "metadata": {
    "papermill": {
     "duration": 0.006149,
     "end_time": "2024-03-19T11:00:38.965854",
     "exception": false,
     "start_time": "2024-03-19T11:00:38.959705",
     "status": "completed"
    },
    "tags": []
   },
   "source": [
    "# 5. Variance :\n",
    "\n",
    "The calculation of variance involves several steps, but it doesn't directly involve squaring the mean. Here's how variance is typically calculated:\n",
    "\n",
    "1. **Calculate the Mean**: First, you compute the mean (average) of the dataset.\n",
    "\n",
    "2. **Find the Difference from the Mean**: Next, you find the difference between each data point and the mean.\n",
    "\n",
    "3. **Square the Differences**: You square each of these differences to ensure they are positive values and to emphasize deviations from the mean.\n",
    "\n",
    "4. **Calculate the Average of the Squared Differences**: After squaring the differences, you calculate the average of these squared differences. This value represents the variance.\n",
    "\n",
    "So, while squaring is involved, it's not the mean that's squared; rather, it's the deviations from the mean that are squared and averaged to obtain the variance.\n",
    "\n",
    "Here's the formula for variance (assuming a sample):\n",
    "\n",
    "![image.png](attachment:66a87966-bdef-44e0-a6fb-209dad9b6f54.png)\n",
    "\n",
    "Where:\n",
    "- \\( n \\) is the number of observations in the sample.\n",
    "- \\( x_i \\) represents each individual observation.\n",
    "- \\( \\bar{x} \\) is the mean of the sample.\n",
    "\n",
    "## Variance Example :"
   ]
  },
  {
   "cell_type": "code",
   "execution_count": 5,
   "id": "70095d99",
   "metadata": {
    "execution": {
     "iopub.execute_input": "2024-03-19T11:00:38.981632Z",
     "iopub.status.busy": "2024-03-19T11:00:38.979996Z",
     "iopub.status.idle": "2024-03-19T11:00:38.988477Z",
     "shell.execute_reply": "2024-03-19T11:00:38.987247Z"
    },
    "papermill": {
     "duration": 0.018914,
     "end_time": "2024-03-19T11:00:38.990923",
     "exception": false,
     "start_time": "2024-03-19T11:00:38.972009",
     "status": "completed"
    },
    "tags": []
   },
   "outputs": [
    {
     "name": "stdout",
     "output_type": "stream",
     "text": [
      "Variance: 50.0\n"
     ]
    }
   ],
   "source": [
    "import numpy as np\n",
    "\n",
    "# Example list of numbers\n",
    "numbers = [10, 15, 20, 25, 30]\n",
    "\n",
    "# Variance\n",
    "variance = np.var(numbers)\n",
    "\n",
    "print(\"Variance:\", variance)\n"
   ]
  },
  {
   "attachments": {
    "a8b629e1-7786-4d70-a975-1f5779bb0b6c.png": {
     "image/png": "[encoded data removed]"
    },
    "f9e159dd-d587-4cc1-b9b8-766be44d26bb.png": {
     "image/png": "[encoded data removed]"
    }
   },
   "cell_type": "markdown",
   "id": "2bcc0d18",
   "metadata": {
    "papermill": {
     "duration": 0.006482,
     "end_time": "2024-03-19T11:00:39.003707",
     "exception": false,
     "start_time": "2024-03-19T11:00:38.997225",
     "status": "completed"
    },
    "tags": []
   },
   "source": [
    "# 6. Standard Deviation:\n",
    "\n",
    "Yes, the standard deviation is closely related to variance and is essentially the square root of the variance. While variance gives you an idea of how spread out the values in a dataset are, the standard deviation provides a more intuitive measure of this spread in the same units as the original data.\n",
    "\n",
    "Here's how standard deviation is calculated:\n",
    "\n",
    "1. **Calculate Variance**: First, you calculate the variance using the formula:\n",
    "\n",
    "![image.png](attachment:a8b629e1-7786-4d70-a975-1f5779bb0b6c.png)\n",
    "\n",
    "where \\( n \\) is the number of observations, \\( x_i \\) represents each individual observation, and \\( \\bar{x} \\) is the mean.\n",
    "\n",
    "2. **Take the Square Root**: Once you have the variance, you take the square root of it to obtain the standard deviation.\n",
    "\n",
    "The standard deviation provides a measure of the dispersion or spread of the data points around the mean. A larger standard deviation indicates that the data points are more spread out from the mean, while a smaller standard deviation suggests that the data points are closer to the mean.\n",
    "\n",
    "The formula for standard deviation is:\n",
    "\n",
    "![image.png](attachment:f9e159dd-d587-4cc1-b9b8-766be44d26bb.png)\n",
    "\n",
    "So, in summary, while variance gives you the average of the squared differences from the mean, the standard deviation gives you a measure of how much the values deviate from the mean in the original units of the data.\n",
    "## Standard Deviation Example:"
   ]
  },
  {
   "cell_type": "code",
   "execution_count": 6,
   "id": "355bf383",
   "metadata": {
    "execution": {
     "iopub.execute_input": "2024-03-19T11:00:39.021343Z",
     "iopub.status.busy": "2024-03-19T11:00:39.019996Z",
     "iopub.status.idle": "2024-03-19T11:00:39.028525Z",
     "shell.execute_reply": "2024-03-19T11:00:39.026993Z"
    },
    "papermill": {
     "duration": 0.020872,
     "end_time": "2024-03-19T11:00:39.031873",
     "exception": false,
     "start_time": "2024-03-19T11:00:39.011001",
     "status": "completed"
    },
    "tags": []
   },
   "outputs": [
    {
     "name": "stdout",
     "output_type": "stream",
     "text": [
      "Standard Deviation: 7.0710678118654755\n"
     ]
    }
   ],
   "source": [
    "import numpy as np\n",
    "\n",
    "# Example list of numbers\n",
    "numbers = [10, 15, 20, 25, 30]\n",
    "\n",
    "# Standard Deviation\n",
    "std_deviation = np.std(numbers)\n",
    "\n",
    "print(\"Standard Deviation:\", std_deviation)\n"
   ]
  },
  {
   "cell_type": "code",
   "execution_count": 7,
   "id": "63165259",
   "metadata": {
    "execution": {
     "iopub.execute_input": "2024-03-19T11:00:39.048165Z",
     "iopub.status.busy": "2024-03-19T11:00:39.047710Z",
     "iopub.status.idle": "2024-03-19T11:00:39.058900Z",
     "shell.execute_reply": "2024-03-19T11:00:39.057086Z"
    },
    "papermill": {
     "duration": 0.022833,
     "end_time": "2024-03-19T11:00:39.061595",
     "exception": false,
     "start_time": "2024-03-19T11:00:39.038762",
     "status": "completed"
    },
    "tags": []
   },
   "outputs": [
    {
     "name": "stdout",
     "output_type": "stream",
     "text": [
      "std_deviation:\n"
     ]
    },
    {
     "data": {
      "text/plain": [
       "7.0710678118654755"
      ]
     },
     "execution_count": 7,
     "metadata": {},
     "output_type": "execute_result"
    }
   ],
   "source": [
    "print(\"std_deviation:\")\n",
    "np.sqrt(variance)"
   ]
  }
 ],
 "metadata": {
  "kaggle": {
   "accelerator": "none",
   "dataSources": [],
   "dockerImageVersionId": 30664,
   "isGpuEnabled": false,
   "isInternetEnabled": true,
   "language": "python",
   "sourceType": "notebook"
  },
  "kernelspec": {
   "display_name": "Python 3",
   "language": "python",
   "name": "python3"
  },
  "language_info": {
   "codemirror_mode": {
    "name": "ipython",
    "version": 3
   },
   "file_extension": ".py",
   "mimetype": "text/x-python",
   "name": "python",
   "nbconvert_exporter": "python",
   "pygments_lexer": "ipython3",
   "version": "3.10.13"
  },
  "papermill": {
   "default_parameters": {},
   "duration": 7.676903,
   "end_time": "2024-03-19T11:00:42.626808",
   "environment_variables": {},
   "exception": null,
   "input_path": "__notebook__.ipynb",
   "output_path": "__notebook__.ipynb",
   "parameters": {},
   "start_time": "2024-03-19T11:00:34.949905",
   "version": "2.5.0"
  }
 },
 "nbformat": 4,
 "nbformat_minor": 5
}
