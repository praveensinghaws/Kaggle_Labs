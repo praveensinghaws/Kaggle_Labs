{
 "cells": [
  {
   "cell_type": "markdown",
   "id": "18eff0a3",
   "metadata": {
    "papermill": {
     "duration": 0.008012,
     "end_time": "2024-03-20T00:26:33.829822",
     "exception": false,
     "start_time": "2024-03-20T00:26:33.821810",
     "status": "completed"
    },
    "tags": []
   },
   "source": [
    "# Probability Concepts\n",
    "\n",
    "Probability is a measure of the likelihood that an event will occur. It quantifies the uncertainty associated with outcomes of a random experiment or process. The probability of an event is expressed as a number between 0 and 1, where 0 indicates impossibility and 1 indicates certainty. Values between 0 and 1 represent varying degrees of likelihood, with 0.5 indicating moderate likelihood and 0.6 indicating slightly higher likelihood, for example."
   ]
  },
  {
   "cell_type": "markdown",
   "id": "048425ae",
   "metadata": {
    "papermill": {
     "duration": 0.007293,
     "end_time": "2024-03-20T00:26:33.845080",
     "exception": false,
     "start_time": "2024-03-20T00:26:33.837787",
     "status": "completed"
    },
    "tags": []
   },
   "source": [
    "1. **Sample Space**: The sample space, denoted by \\( S \\), is the set of all possible outcomes of a random experiment. It encompasses every possible outcome that could occur, including both favorable and unfavorable outcomes."
   ]
  },
  {
   "cell_type": "code",
   "execution_count": 1,
   "id": "35b133fe",
   "metadata": {
    "execution": {
     "iopub.execute_input": "2024-03-20T00:26:33.865016Z",
     "iopub.status.busy": "2024-03-20T00:26:33.863918Z",
     "iopub.status.idle": "2024-03-20T00:26:33.883464Z",
     "shell.execute_reply": "2024-03-20T00:26:33.881257Z"
    },
    "papermill": {
     "duration": 0.033578,
     "end_time": "2024-03-20T00:26:33.886306",
     "exception": false,
     "start_time": "2024-03-20T00:26:33.852728",
     "status": "completed"
    },
    "tags": []
   },
   "outputs": [
    {
     "name": "stdout",
     "output_type": "stream",
     "text": [
      "Outcome of the coin flip: T\n"
     ]
    }
   ],
   "source": [
    "import random\n",
    "\n",
    "# Define the sample space\n",
    "sample_space = ['H', 'T']  # 'H' represents heads, 'T' represents tails\n",
    "\n",
    "# Perform the experiment (flip the coin)\n",
    "outcome = random.choice(sample_space)\n",
    "\n",
    "# Print the outcome\n",
    "print(\"Outcome of the coin flip:\", outcome)"
   ]
  },
  {
   "cell_type": "markdown",
   "id": "e1085c96",
   "metadata": {
    "papermill": {
     "duration": 0.007548,
     "end_time": "2024-03-20T00:26:33.901724",
     "exception": false,
     "start_time": "2024-03-20T00:26:33.894176",
     "status": "completed"
    },
    "tags": []
   },
   "source": [
    "2. **Random Experiment**: A random experiment is any process or procedure that results in uncertain outcomes. It may involve tossing a coin, rolling a die, conducting a scientific experiment, or any other activity where the outcome is not deterministic and can vary unpredictably."
   ]
  },
  {
   "cell_type": "code",
   "execution_count": 2,
   "id": "c958fabb",
   "metadata": {
    "execution": {
     "iopub.execute_input": "2024-03-20T00:26:33.919826Z",
     "iopub.status.busy": "2024-03-20T00:26:33.919346Z",
     "iopub.status.idle": "2024-03-20T00:26:33.927208Z",
     "shell.execute_reply": "2024-03-20T00:26:33.925402Z"
    },
    "papermill": {
     "duration": 0.020737,
     "end_time": "2024-03-20T00:26:33.930461",
     "exception": false,
     "start_time": "2024-03-20T00:26:33.909724",
     "status": "completed"
    },
    "tags": []
   },
   "outputs": [
    {
     "name": "stdout",
     "output_type": "stream",
     "text": [
      "Outcome of rolling the die: 2\n"
     ]
    }
   ],
   "source": [
    "import random\n",
    "\n",
    "# Define the sample space\n",
    "sample_space = [1, 2, 3, 4, 5, 6]\n",
    "\n",
    "# Perform the experiment (roll the die)\n",
    "outcome = random.choice(sample_space)\n",
    "\n",
    "# Print the outcome\n",
    "print(\"Outcome of rolling the die:\", outcome)"
   ]
  },
  {
   "cell_type": "markdown",
   "id": "55fb780d",
   "metadata": {
    "papermill": {
     "duration": 0.007495,
     "end_time": "2024-03-20T00:26:33.945808",
     "exception": false,
     "start_time": "2024-03-20T00:26:33.938313",
     "status": "completed"
    },
    "tags": []
   },
   "source": [
    "3. **Event**: An event is any subset of the sample space \\( S \\), representing a particular outcome or combination of outcomes of interest. Events can range from simple events, such as the outcome of a single coin toss, to compound events involving multiple outcomes."
   ]
  },
  {
   "cell_type": "code",
   "execution_count": 3,
   "id": "cb1611f2",
   "metadata": {
    "execution": {
     "iopub.execute_input": "2024-03-20T00:26:33.964240Z",
     "iopub.status.busy": "2024-03-20T00:26:33.963751Z",
     "iopub.status.idle": "2024-03-20T00:26:33.973281Z",
     "shell.execute_reply": "2024-03-20T00:26:33.971440Z"
    },
    "papermill": {
     "duration": 0.021781,
     "end_time": "2024-03-20T00:26:33.975829",
     "exception": false,
     "start_time": "2024-03-20T00:26:33.954048",
     "status": "completed"
    },
    "tags": []
   },
   "outputs": [
    {
     "name": "stdout",
     "output_type": "stream",
     "text": [
      "Outcome: 4  - The event of rolling an even number occurred.\n"
     ]
    }
   ],
   "source": [
    "import random\n",
    "\n",
    "# Define the sample space\n",
    "sample_space = [1, 2, 3, 4, 5, 6]\n",
    "\n",
    "# Define the event of rolling an even number\n",
    "event = [number for number in sample_space if number % 2 == 0]\n",
    "\n",
    "# Perform the experiment (roll the die)\n",
    "outcome = random.choice(sample_space)\n",
    "\n",
    "# Check if the outcome belongs to the event\n",
    "if outcome in event:\n",
    "    print(\"Outcome:\", outcome, \" - The event of rolling an even number occurred.\")\n",
    "else:\n",
    "    print(\"Outcome:\", outcome, \" - The event of rolling an even number did not occur.\")"
   ]
  },
  {
   "cell_type": "markdown",
   "id": "e0b64e40",
   "metadata": {
    "papermill": {
     "duration": 0.007561,
     "end_time": "2024-03-20T00:26:33.991242",
     "exception": false,
     "start_time": "2024-03-20T00:26:33.983681",
     "status": "completed"
    },
    "tags": []
   },
   "source": [
    "4. **Probability Function**: The probability function, often denoted by \\( P \\) or \\( \\text{Pr} \\), assigns a numerical probability to each event in the sample space. It maps events to their corresponding probabilities, satisfying certain axioms of probability theory, such as non-negativity, normalization, and the addition rule.\n"
   ]
  },
  {
   "cell_type": "code",
   "execution_count": 4,
   "id": "1774c6ef",
   "metadata": {
    "execution": {
     "iopub.execute_input": "2024-03-20T00:26:34.010277Z",
     "iopub.status.busy": "2024-03-20T00:26:34.009074Z",
     "iopub.status.idle": "2024-03-20T00:26:34.019143Z",
     "shell.execute_reply": "2024-03-20T00:26:34.017370Z"
    },
    "papermill": {
     "duration": 0.023104,
     "end_time": "2024-03-20T00:26:34.022378",
     "exception": false,
     "start_time": "2024-03-20T00:26:33.999274",
     "status": "completed"
    },
    "tags": []
   },
   "outputs": [
    {
     "name": "stdout",
     "output_type": "stream",
     "text": [
      "Outcome: 1  - Probability: 0.16666666666666666\n",
      "Outcome: 2  - Probability: 0.16666666666666666\n",
      "Outcome: 3  - Probability: 0.16666666666666666\n",
      "Outcome: 4  - Probability: 0.16666666666666666\n",
      "Outcome: 5  - Probability: 0.16666666666666666\n",
      "Outcome: 6  - Probability: 0.16666666666666666\n",
      "Outcome: 7  - Probability: 0\n"
     ]
    }
   ],
   "source": [
    "def probability_function(outcome):\n",
    "    \"\"\"\n",
    "    Probability function for rolling a fair six-sided die.\n",
    "    \n",
    "    Parameters:\n",
    "    - outcome: The outcome of rolling the die (an integer from 1 to 6).\n",
    "    \n",
    "    Returns:\n",
    "    - The probability of the given outcome (1/6 for a fair die).\n",
    "    \"\"\"\n",
    "    if outcome in [1, 2, 3, 4, 5, 6]:\n",
    "        return 1/6\n",
    "    else:\n",
    "        return 0\n",
    "\n",
    "# Test the probability function for some outcomes\n",
    "outcomes_to_test = [1, 2, 3, 4, 5, 6, 7]\n",
    "for outcome in outcomes_to_test:\n",
    "    probability = probability_function(outcome)\n",
    "    print(\"Outcome:\", outcome, \" - Probability:\", probability)"
   ]
  },
  {
   "cell_type": "markdown",
   "id": "0592c6a2",
   "metadata": {
    "_cell_guid": "b1076dfc-b9ad-4769-8c92-a6c4dae69d19",
    "_uuid": "8f2839f25d086af736a60e9eeb907d3b93b6e0e5",
    "papermill": {
     "duration": 0.008205,
     "end_time": "2024-03-20T00:26:34.039407",
     "exception": false,
     "start_time": "2024-03-20T00:26:34.031202",
     "status": "completed"
    },
    "tags": []
   },
   "source": [
    "5. **Complement of Probability**: The complement of an event \\( A \\), denoted by \\( A' \\) or \\( A^c \\), represents all outcomes in the sample space that are not part of event \\( A \\). In other words, it consists of all outcomes that do not satisfy the conditions specified by event \\( A \\). The probability of the complement of an event is equal to \\( 1 \\) minus the probability of the event itself, i.e., \\( P(A') = 1 - P(A) \\).\n"
   ]
  },
  {
   "cell_type": "code",
   "execution_count": 5,
   "id": "cb09e6cf",
   "metadata": {
    "execution": {
     "iopub.execute_input": "2024-03-20T00:26:34.058410Z",
     "iopub.status.busy": "2024-03-20T00:26:34.057939Z",
     "iopub.status.idle": "2024-03-20T00:26:34.065662Z",
     "shell.execute_reply": "2024-03-20T00:26:34.064212Z"
    },
    "papermill": {
     "duration": 0.021127,
     "end_time": "2024-03-20T00:26:34.069092",
     "exception": false,
     "start_time": "2024-03-20T00:26:34.047965",
     "status": "completed"
    },
    "tags": []
   },
   "outputs": [
    {
     "name": "stdout",
     "output_type": "stream",
     "text": [
      "Probability of rolling a 1: 0.16666666666666666\n",
      "Complement probability (not rolling a 1): 0.8333333333333334\n"
     ]
    }
   ],
   "source": [
    "# Probability of rolling a 1\n",
    "probability_of_1 = 1 / 6\n",
    "\n",
    "# Complement of the event (rolling any other number than 1)\n",
    "complement_probability = 1 - probability_of_1\n",
    "\n",
    "print(\"Probability of rolling a 1:\", probability_of_1)\n",
    "print(\"Complement probability (not rolling a 1):\", complement_probability)\n"
   ]
  },
  {
   "cell_type": "markdown",
   "id": "42129f5d",
   "metadata": {
    "papermill": {
     "duration": 0.008497,
     "end_time": "2024-03-20T00:26:34.086258",
     "exception": false,
     "start_time": "2024-03-20T00:26:34.077761",
     "status": "completed"
    },
    "tags": []
   },
   "source": [
    "# Types of Events\n",
    "\n",
    "Certainly! Let's define these concepts:\n",
    "\n",
    "1. **Joint Event**: A joint event refers to the occurrence of two or more events simultaneously. In probability theory, it represents the intersection of multiple events. For example, if event \\( A \\) represents the occurrence of rolling an even number on a die, and event \\( B \\) represents the occurrence of rolling a number less than 4, then the joint event \\( A \\cap B \\) would represent rolling an even number less than 4.\n",
    "\n",
    "2. **Disjoint Event (Mutually Exclusive Event)**: Disjoint events, also known as mutually exclusive events, are events that cannot occur simultaneously. In other words, if one event happens, the other event cannot happen at the same time. For example, when rolling a six-sided die, the events of rolling an even number and rolling an odd number are mutually exclusive because a number cannot be both even and odd at the same time.\n",
    "\n",
    "3. **Dependent Event**: Dependent events are events where the outcome of one event affects the outcome of another event. In other words, the probability of one event occurring depends on whether or not another event has occurred. For example, drawing cards from a deck without replacement is an example of dependent events because the probability of drawing a certain card changes based on which cards have already been drawn.\n",
    "\n",
    "4. **Independent Event**: Independent events are events where the outcome of one event does not affect the outcome of another event. In other words, the occurrence of one event does not influence the probability of the other event occurring. For example, when flipping a fair coin multiple times, each flip of the coin is independent of the previous flips because the outcome of one flip does not affect the outcome of subsequent flips."
   ]
  },
  {
   "cell_type": "markdown",
   "id": "2df83583",
   "metadata": {
    "papermill": {
     "duration": 0.008141,
     "end_time": "2024-03-20T00:26:34.103095",
     "exception": false,
     "start_time": "2024-03-20T00:26:34.094954",
     "status": "completed"
    },
    "tags": []
   },
   "source": [
    "# Examples of Events:"
   ]
  },
  {
   "cell_type": "code",
   "execution_count": 6,
   "id": "0cf6ac9b",
   "metadata": {
    "execution": {
     "iopub.execute_input": "2024-03-20T00:26:34.122143Z",
     "iopub.status.busy": "2024-03-20T00:26:34.121686Z",
     "iopub.status.idle": "2024-03-20T00:26:34.130706Z",
     "shell.execute_reply": "2024-03-20T00:26:34.129275Z"
    },
    "papermill": {
     "duration": 0.022233,
     "end_time": "2024-03-20T00:26:34.133823",
     "exception": false,
     "start_time": "2024-03-20T00:26:34.111590",
     "status": "completed"
    },
    "tags": []
   },
   "outputs": [
    {
     "name": "stdout",
     "output_type": "stream",
     "text": [
      "Joint event (getting a number that is both even and prime): [2]\n",
      "Joint probability (P(A ∩ B)):  0.16666666666666666\n"
     ]
    }
   ],
   "source": [
    "### Joint Events:\n",
    "\n",
    "# Sample space (numbers on a die)\n",
    "sample_space = [1, 2, 3, 4, 5, 6]\n",
    "\n",
    "# Event A: getting an even number\n",
    "event_A = [2, 4, 6]\n",
    "\n",
    "# Event B: getting a prime number\n",
    "event_B = [2, 3, 5]\n",
    "\n",
    "# Joint event: getting a number that is both even and prime\n",
    "joint_event = [number for number in event_A if number in event_B]\n",
    "\n",
    "# Calculate the joint probability\n",
    "joint_probability = len(joint_event) / len(sample_space)\n",
    "\n",
    "print(\"Joint event (getting a number that is both even and prime):\", joint_event)\n",
    "print(\"Joint probability (P(A ∩ B)): \", joint_probability)"
   ]
  },
  {
   "cell_type": "code",
   "execution_count": 7,
   "id": "4f83f5b3",
   "metadata": {
    "execution": {
     "iopub.execute_input": "2024-03-20T00:26:34.153182Z",
     "iopub.status.busy": "2024-03-20T00:26:34.152760Z",
     "iopub.status.idle": "2024-03-20T00:26:34.162607Z",
     "shell.execute_reply": "2024-03-20T00:26:34.160975Z"
    },
    "papermill": {
     "duration": 0.022698,
     "end_time": "2024-03-20T00:26:34.165254",
     "exception": false,
     "start_time": "2024-03-20T00:26:34.142556",
     "status": "completed"
    },
    "tags": []
   },
   "outputs": [
    {
     "name": "stdout",
     "output_type": "stream",
     "text": [
      "Probability of event A (getting an even number): 0.5\n",
      "Probability of event B (getting an odd number): 0.5\n",
      "Joint probability (P(A ∩ B)):  0\n"
     ]
    }
   ],
   "source": [
    "### Disjoint Events Ex.1:\n",
    "\n",
    "# Sample space (numbers on a die)\n",
    "sample_space = [1, 2, 3, 4, 5, 6]\n",
    "\n",
    "# Event A: getting an even number\n",
    "event_A = [2, 4, 6]\n",
    "\n",
    "# Event B: getting an odd number\n",
    "event_B = [1, 3, 5]\n",
    "\n",
    "# Calculate the probabilities of each event\n",
    "probability_A = len(event_A) / len(sample_space)\n",
    "probability_B = len(event_B) / len(sample_space)\n",
    "\n",
    "# Calculate the joint probability (since events A and B are disjoint, their joint probability is 0)\n",
    "joint_probability = 0\n",
    "\n",
    "print(\"Probability of event A (getting an even number):\", probability_A)\n",
    "print(\"Probability of event B (getting an odd number):\", probability_B)\n",
    "print(\"Joint probability (P(A ∩ B)): \", joint_probability)\n"
   ]
  },
  {
   "cell_type": "code",
   "execution_count": 8,
   "id": "c06584f5",
   "metadata": {
    "execution": {
     "iopub.execute_input": "2024-03-20T00:26:34.186822Z",
     "iopub.status.busy": "2024-03-20T00:26:34.186415Z",
     "iopub.status.idle": "2024-03-20T00:26:34.194944Z",
     "shell.execute_reply": "2024-03-20T00:26:34.193376Z"
    },
    "papermill": {
     "duration": 0.021329,
     "end_time": "2024-03-20T00:26:34.197677",
     "exception": false,
     "start_time": "2024-03-20T00:26:34.176348",
     "status": "completed"
    },
    "tags": []
   },
   "outputs": [
    {
     "name": "stdout",
     "output_type": "stream",
     "text": [
      "Probability of drawing a red card (event A): 0.5\n",
      "Probability of drawing a red club (event B): 0.25\n",
      "Joint probability (P(A ∩ B)):  0\n"
     ]
    }
   ],
   "source": [
    "### Disjoint Events Ex.2:\n",
    "# Total number of cards in a standard deck\n",
    "total_cards = 52\n",
    "\n",
    "# Number of red cards in a deck\n",
    "red_cards = 26\n",
    "\n",
    "# Number of red clubs in a deck\n",
    "red_clubs = 13\n",
    "\n",
    "# Probability of drawing a red card\n",
    "probability_A = red_cards / total_cards\n",
    "\n",
    "# Probability of drawing a red club\n",
    "probability_B = red_clubs / total_cards\n",
    "\n",
    "# Calculate the joint probability (since events A and B are disjoint, their joint probability is 0)\n",
    "joint_probability = 0\n",
    "\n",
    "print(\"Probability of drawing a red card (event A):\", probability_A)\n",
    "print(\"Probability of drawing a red club (event B):\", probability_B)\n",
    "print(\"Joint probability (P(A ∩ B)): \", joint_probability)"
   ]
  },
  {
   "cell_type": "code",
   "execution_count": 9,
   "id": "358f1fda",
   "metadata": {
    "execution": {
     "iopub.execute_input": "2024-03-20T00:26:34.218285Z",
     "iopub.status.busy": "2024-03-20T00:26:34.217870Z",
     "iopub.status.idle": "2024-03-20T00:26:34.227146Z",
     "shell.execute_reply": "2024-03-20T00:26:34.225628Z"
    },
    "papermill": {
     "duration": 0.023204,
     "end_time": "2024-03-20T00:26:34.230277",
     "exception": false,
     "start_time": "2024-03-20T00:26:34.207073",
     "status": "completed"
    },
    "tags": []
   },
   "outputs": [
    {
     "name": "stdout",
     "output_type": "stream",
     "text": [
      "Probability of drawing a red card (event A): 0.5\n",
      "Probability of drawing a black card after drawing a red card (event B|A): 0.49019607843137253\n",
      "Joint probability (P(A ∩ B)):  0.24509803921568626\n"
     ]
    }
   ],
   "source": [
    "### Dependent Events\n",
    "\n",
    "# Total number of cards in a standard deck\n",
    "total_cards = 52\n",
    "\n",
    "# Number of red cards in a deck\n",
    "red_cards = 26\n",
    "\n",
    "# Number of black cards after drawing a red card\n",
    "black_cards_after_red = total_cards - red_cards - 1  # Subtract one red card that has been drawn\n",
    "\n",
    "# Probability of drawing a red card\n",
    "probability_A = red_cards / total_cards\n",
    "\n",
    "# Probability of drawing a black card after drawing a red card\n",
    "probability_B_given_A = black_cards_after_red / (total_cards - 1)  # Total cards reduced by 1 after drawing a red card\n",
    "\n",
    "# Calculate the joint probability\n",
    "joint_probability = probability_A * probability_B_given_A\n",
    "\n",
    "print(\"Probability of drawing a red card (event A):\", probability_A)\n",
    "print(\"Probability of drawing a black card after drawing a red card (event B|A):\", probability_B_given_A)\n",
    "print(\"Joint probability (P(A ∩ B)): \", joint_probability)\n"
   ]
  },
  {
   "cell_type": "code",
   "execution_count": 10,
   "id": "d884b775",
   "metadata": {
    "execution": {
     "iopub.execute_input": "2024-03-20T00:26:34.251846Z",
     "iopub.status.busy": "2024-03-20T00:26:34.250707Z",
     "iopub.status.idle": "2024-03-20T00:26:34.259351Z",
     "shell.execute_reply": "2024-03-20T00:26:34.257605Z"
    },
    "papermill": {
     "duration": 0.0224,
     "end_time": "2024-03-20T00:26:34.262023",
     "exception": false,
     "start_time": "2024-03-20T00:26:34.239623",
     "status": "completed"
    },
    "tags": []
   },
   "outputs": [
    {
     "name": "stdout",
     "output_type": "stream",
     "text": [
      "Probability of getting heads on the first coin toss (event A): 0.5\n",
      "Probability of getting heads on the second coin toss (event B): 0.5\n",
      "Joint probability (P(A ∩ B)):  0.25\n"
     ]
    }
   ],
   "source": [
    "### Independent Events Ex.1\n",
    "\n",
    "# Probability of getting heads on the first coin toss\n",
    "probability_A = 0.5  # Assuming a fair coin\n",
    "\n",
    "# Probability of getting heads on the second coin toss\n",
    "probability_B = 0.5  # Assuming a fair coin\n",
    "\n",
    "# Calculate the joint probability (P(A ∩ B))\n",
    "joint_probability = probability_A * probability_B\n",
    "\n",
    "print(\"Probability of getting heads on the first coin toss (event A):\", probability_A)\n",
    "print(\"Probability of getting heads on the second coin toss (event B):\", probability_B)\n",
    "print(\"Joint probability (P(A ∩ B)): \", joint_probability)\n"
   ]
  },
  {
   "attachments": {
    "38ce4c71-5bd4-448e-bb81-7f22209cefa0.png": {
     "image/png": "[encoded data removed]"
    },
    "5617e427-eaaf-4173-bd9c-bbf516527616.png": {
     "image/png": "[encoded data removed]"
    },
    "5731ffce-859c-4ef8-8708-2d3bd43877b9.png": {
     "image/png": "[encoded data removed]"
    },
    "79969569-eb73-4778-9ac5-897e0cb8f4e2.png": {
     "image/png": "[encoded data removed]"
    }
   },
   "cell_type": "markdown",
   "id": "2a274cda",
   "metadata": {
    "papermill": {
     "duration": 0.008864,
     "end_time": "2024-03-20T00:26:34.280437",
     "exception": false,
     "start_time": "2024-03-20T00:26:34.271573",
     "status": "completed"
    },
    "tags": []
   },
   "source": [
    "To calculate the probability of drawing a card that is either red or a face card, we first need to determine the number of cards that satisfy either condition.\n",
    "\n",
    "Let's define the events:\n",
    "- Event \\( A \\): Drawing a red card\n",
    "- Event \\( B \\): Drawing a face card\n",
    "\n",
    "Given that there are 26 red cards and 12 face cards in a standard deck of 52 cards, and 6 cards are both red and face cards (i.e., red face cards), we can calculate the probability of each event.\n",
    "\n",
    "First, let's calculate the probability of each event individually:\n",
    "\n",
    "![image.png](attachment:5617e427-eaaf-4173-bd9c-bbf516527616.png)\n",
    "\n",
    "Since the events are independent, the probability of their intersection (drawing a card that is both red and a face card) is the product of their individual probabilities:\n",
    "\n",
    "![image.png](attachment:79969569-eb73-4778-9ac5-897e0cb8f4e2.png)\n",
    "Now, to find the probability of drawing a card that is either red or a face card, we can use the principle of inclusion-exclusion:\n",
    "\n",
    "![image.png](attachment:5731ffce-859c-4ef8-8708-2d3bd43877b9.png)\n",
    "Substituting the values:\n",
    "\n",
    "![image.png](attachment:38ce4c71-5bd4-448e-bb81-7f22209cefa0.png)\n",
    "So, the probability of drawing a card that is either red or a face card is \\( \\frac{8}{13} \\)."
   ]
  },
  {
   "cell_type": "code",
   "execution_count": 11,
   "id": "bc75eabe",
   "metadata": {
    "execution": {
     "iopub.execute_input": "2024-03-20T00:26:34.300983Z",
     "iopub.status.busy": "2024-03-20T00:26:34.300551Z",
     "iopub.status.idle": "2024-03-20T00:26:34.308661Z",
     "shell.execute_reply": "2024-03-20T00:26:34.307199Z"
    },
    "papermill": {
     "duration": 0.021713,
     "end_time": "2024-03-20T00:26:34.311643",
     "exception": false,
     "start_time": "2024-03-20T00:26:34.289930",
     "status": "completed"
    },
    "tags": []
   },
   "outputs": [
    {
     "name": "stdout",
     "output_type": "stream",
     "text": [
      "Probability of drawing either a red card or a face card: 0.6153846153846154\n"
     ]
    }
   ],
   "source": [
    "### Independent Events Ex.1\n",
    "\n",
    "# Define the probabilities\n",
    "P_red = 26 / 52  # Probability of drawing a red card\n",
    "P_face = 12 / 52  # Probability of drawing a face card\n",
    "P_red_and_face = 6 / 52  # Probability of drawing a card that is both red and a face card\n",
    "\n",
    "# Calculate the probability of drawing either a red card or a face card\n",
    "P_red_or_face = P_red + P_face - P_red_and_face\n",
    "\n",
    "print(\"Probability of drawing either a red card or a face card:\", P_red_or_face)"
   ]
  }
 ],
 "metadata": {
  "kaggle": {
   "accelerator": "none",
   "dataSources": [],
   "dockerImageVersionId": 30664,
   "isGpuEnabled": false,
   "isInternetEnabled": true,
   "language": "python",
   "sourceType": "notebook"
  },
  "kernelspec": {
   "display_name": "Python 3",
   "language": "python",
   "name": "python3"
  },
  "language_info": {
   "codemirror_mode": {
    "name": "ipython",
    "version": 3
   },
   "file_extension": ".py",
   "mimetype": "text/x-python",
   "name": "python",
   "nbconvert_exporter": "python",
   "pygments_lexer": "ipython3",
   "version": "3.10.13"
  },
  "papermill": {
   "default_parameters": {},
   "duration": 4.711578,
   "end_time": "2024-03-20T00:26:34.745044",
   "environment_variables": {},
   "exception": null,
   "input_path": "__notebook__.ipynb",
   "output_path": "__notebook__.ipynb",
   "parameters": {},
   "start_time": "2024-03-20T00:26:30.033466",
   "version": "2.5.0"
  }
 },
 "nbformat": 4,
 "nbformat_minor": 5
}
