{
 "cells": [
  {
   "cell_type": "markdown",
   "id": "02db71cf",
   "metadata": {
    "papermill": {
     "duration": 0.003222,
     "end_time": "2024-03-19T10:59:21.520840",
     "exception": false,
     "start_time": "2024-03-19T10:59:21.517618",
     "status": "completed"
    },
    "tags": []
   },
   "source": [
    "# Statistics_For_Data_Analysis_Part2"
   ]
  },
  {
   "cell_type": "markdown",
   "id": "6832ce16",
   "metadata": {
    "papermill": {
     "duration": 0.002451,
     "end_time": "2024-03-19T10:59:21.526241",
     "exception": false,
     "start_time": "2024-03-19T10:59:21.523790",
     "status": "completed"
    },
    "tags": []
   },
   "source": [
    "# Descriptive Statistics:\n",
    "#### Measures of central tendency: Mean, Median, and Mode\n",
    "\n",
    "Sure, here are examples of mean, median, and mode:\n",
    "\n",
    "1. Mean:\n",
    "   - Example: Consider the following set of numbers: 2, 4, 6, 8, 10.\n",
    "   - To find the mean, add up all the numbers and then divide by the total count of numbers.\n",
    "   - Mean = (2 + 4 + 6 + 8 + 10) / 5 = 30 / 5 = 6.\n",
    "\n",
    "2. Median:\n",
    "   - Example: Consider the following set of numbers: 3, 7, 2, 8, 5, 9, 4.\n",
    "   - To find the median, arrange the numbers in ascending order and find the middle number.\n",
    "   - Since there are 7 numbers, the median will be the 4th number, which is 5.\n",
    "\n",
    "3. Mode:\n",
    "   - Example: Consider the following set of numbers: 3, 7, 2, 8, 5, 9, 4, 7, 3, 5.\n",
    "   - The mode is the number that appears most frequently in the dataset.\n",
    "   - In this case, both 3 and 5 appear twice, so the dataset has two modes: 3 and 5.\n",
    "\n",
    "These examples illustrate how to calculate and identify the mean, median, and mode in a dataset."
   ]
  },
  {
   "cell_type": "markdown",
   "id": "a0c45c4b",
   "metadata": {
    "papermill": {
     "duration": 0.002366,
     "end_time": "2024-03-19T10:59:21.531483",
     "exception": false,
     "start_time": "2024-03-19T10:59:21.529117",
     "status": "completed"
    },
    "tags": []
   },
   "source": [
    "# Mean (Average) \n",
    "\n",
    "1. **Numerical Variables**: The mean is a measure used to summarize numerical data. It represents the average value of a dataset.\n",
    "\n",
    "2. **Affected by Outliers or Extreme Values**: The mean is sensitive to outliers or extreme values in the dataset. Even a single outlier can significantly impact the calculated mean, potentially skewing its value."
   ]
  },
  {
   "cell_type": "code",
   "execution_count": 1,
   "id": "ee8dfa5d",
   "metadata": {
    "execution": {
     "iopub.execute_input": "2024-03-19T10:59:21.538408Z",
     "iopub.status.busy": "2024-03-19T10:59:21.538045Z",
     "iopub.status.idle": "2024-03-19T10:59:21.550194Z",
     "shell.execute_reply": "2024-03-19T10:59:21.548986Z"
    },
    "papermill": {
     "duration": 0.018245,
     "end_time": "2024-03-19T10:59:21.552277",
     "exception": false,
     "start_time": "2024-03-19T10:59:21.534032",
     "status": "completed"
    },
    "tags": []
   },
   "outputs": [
    {
     "name": "stdout",
     "output_type": "stream",
     "text": [
      "Mean: 12.77\n"
     ]
    }
   ],
   "source": [
    "import numpy as np\n",
    "\n",
    "# Sample list of numbers\n",
    "numbers = [2, 3, 4, 5, 6, 6, 7, 8, 8, 8, 9, 100, 0.01]\n",
    "\n",
    "# Mean\n",
    "mean = np.mean(numbers)\n",
    "\n",
    "print(\"Mean:\", mean)"
   ]
  },
  {
   "cell_type": "markdown",
   "id": "2e852ec0",
   "metadata": {
    "papermill": {
     "duration": 0.002543,
     "end_time": "2024-03-19T10:59:21.557677",
     "exception": false,
     "start_time": "2024-03-19T10:59:21.555134",
     "status": "completed"
    },
    "tags": []
   },
   "source": [
    "# Median \n",
    "\n",
    "1. **Middle Value of the Dataset when Ordered**: You correctly explain that the median represents the middle value of a dataset when it is ordered, effectively dividing the dataset into two equal parts.\n",
    "\n",
    "2. **Less Influenced by Outliers**: Your explanation of how the median is less influenced by outliers compared to the mean highlights its robustness as a measure of central tendency.\n",
    "\n",
    "3. **Handling of Even-numbered Datasets**: You mention a crucial detail about how the median is calculated for even-numbered datasets, where it represents the average of the two middle values. This clarification adds depth to your explanation."
   ]
  },
  {
   "cell_type": "code",
   "execution_count": 2,
   "id": "c8cb79fd",
   "metadata": {
    "execution": {
     "iopub.execute_input": "2024-03-19T10:59:21.565038Z",
     "iopub.status.busy": "2024-03-19T10:59:21.564453Z",
     "iopub.status.idle": "2024-03-19T10:59:21.571948Z",
     "shell.execute_reply": "2024-03-19T10:59:21.570643Z"
    },
    "papermill": {
     "duration": 0.013634,
     "end_time": "2024-03-19T10:59:21.573967",
     "exception": false,
     "start_time": "2024-03-19T10:59:21.560333",
     "status": "completed"
    },
    "tags": []
   },
   "outputs": [
    {
     "name": "stdout",
     "output_type": "stream",
     "text": [
      "Median: 6.0\n"
     ]
    }
   ],
   "source": [
    "import numpy as np\n",
    "\n",
    "# Sample list of numbers\n",
    "numbers = [2, 3, 4, 5, 6, 6, 7, 8, 8, 8, 9, 100, 0.01]\n",
    "\n",
    "# Median\n",
    "median = np.median(numbers)\n",
    "\n",
    "print(\"Median:\", median)"
   ]
  },
  {
   "cell_type": "markdown",
   "id": "2067c8ad",
   "metadata": {
    "papermill": {
     "duration": 0.002643,
     "end_time": "2024-03-19T10:59:21.579576",
     "exception": false,
     "start_time": "2024-03-19T10:59:21.576933",
     "status": "completed"
    },
    "tags": []
   },
   "source": [
    "# Mode\n",
    "\n",
    "Here's a breakdown of your points:\n",
    "\n",
    "1. **Most Frequent Value**: You correctly state that the mode represents the value that appears most frequently in a dataset. This succinctly captures the essence of what the mode signifies.\n",
    "\n",
    "2. **Applicable for Categorical Variables**: You emphasize that the mode is typically used for categorical variables, where it identifies the category with the highest frequency.\n",
    "\n",
    "3. **Unique Count for Numerical Variables**: You mention that for numerical variables, the mode may be less informative if there are many unique values. This insight underscores the importance of considering the context when interpreting the mode for numerical data."
   ]
  },
  {
   "cell_type": "code",
   "execution_count": 3,
   "id": "da126b58",
   "metadata": {
    "execution": {
     "iopub.execute_input": "2024-03-19T10:59:21.587089Z",
     "iopub.status.busy": "2024-03-19T10:59:21.586403Z",
     "iopub.status.idle": "2024-03-19T10:59:22.457740Z",
     "shell.execute_reply": "2024-03-19T10:59:22.456324Z"
    },
    "papermill": {
     "duration": 0.877541,
     "end_time": "2024-03-19T10:59:22.459938",
     "exception": false,
     "start_time": "2024-03-19T10:59:21.582397",
     "status": "completed"
    },
    "tags": []
   },
   "outputs": [
    {
     "name": "stdout",
     "output_type": "stream",
     "text": [
      "Mode of Gender: Male\n"
     ]
    }
   ],
   "source": [
    "import pandas as pd\n",
    "\n",
    "# Creating a DataFrame with categorical data\n",
    "data = {'Name': ['Alice', 'Bob', 'Charlie', 'David', 'Eva', 'Frank', 'Grace', 'Henry', 'Ivy', 'John'],\n",
    "        'Gender': ['Female', 'Male', 'Male', 'Male', 'Female', 'Male', 'Female', 'Male', 'Female', 'Male']}\n",
    "\n",
    "df = pd.DataFrame(data)\n",
    "\n",
    "# Converting 'Gender' column to categorical data type\n",
    "df['Gender'] = pd.Categorical(df['Gender'], categories=['Male', 'Female'])\n",
    "\n",
    "# Finding the mode of the 'Gender' column\n",
    "mode_gender = df['Gender'].mode()[0]\n",
    "\n",
    "print(\"Mode of Gender:\", mode_gender)\n"
   ]
  },
  {
   "cell_type": "markdown",
   "id": "3c3b73a4",
   "metadata": {
    "papermill": {
     "duration": 0.002898,
     "end_time": "2024-03-19T10:59:22.466033",
     "exception": false,
     "start_time": "2024-03-19T10:59:22.463135",
     "status": "completed"
    },
    "tags": []
   },
   "source": [
    "# Summary:\n",
    "\n",
    "Summary effectively encapsulates key points about selecting appropriate measures of central tendency based on the nature of the data. Here's a breakdown of your summary:\n",
    "\n",
    "1. **Distribution of Data (Depend)**: You suggest that the choice of measure depends on the distribution of the data. This highlights the importance of considering the data's characteristics before selecting a measure of central tendency.\n",
    "\n",
    "2. **Numerical Variable Without Outliers (Mean)**: For numerical variables without outliers, you recommend using the mean as a measure of central tendency. This aligns with the common practice of using the mean to summarize data with a symmetrical distribution.\n",
    "\n",
    "3. **Numerical Variable With Outliers (Median)**: In the presence of outliers in numerical variables, you advocate for using the median instead of the mean. This is a prudent approach, as the median is less sensitive to extreme values and provides a robust estimate of central tendency.\n",
    "\n",
    "4. **Categorical Variable (Mode)**: For categorical variables, you rightly suggest using the mode as the measure of central tendency. The mode identifies the most frequently occurring category and is suitable for summarizing categorical data."
   ]
  }
 ],
 "metadata": {
  "kaggle": {
   "accelerator": "none",
   "dataSources": [],
   "isGpuEnabled": false,
   "isInternetEnabled": true,
   "language": "python",
   "sourceType": "notebook"
  },
  "kernelspec": {
   "display_name": "Python 3",
   "language": "python",
   "name": "python3"
  },
  "language_info": {
   "codemirror_mode": {
    "name": "ipython",
    "version": 3
   },
   "file_extension": ".py",
   "mimetype": "text/x-python",
   "name": "python",
   "nbconvert_exporter": "python",
   "pygments_lexer": "ipython3",
   "version": "3.10.13"
  },
  "papermill": {
   "default_parameters": {},
   "duration": 4.201868,
   "end_time": "2024-03-19T10:59:22.888700",
   "environment_variables": {},
   "exception": null,
   "input_path": "__notebook__.ipynb",
   "output_path": "__notebook__.ipynb",
   "parameters": {},
   "start_time": "2024-03-19T10:59:18.686832",
   "version": "2.5.0"
  }
 },
 "nbformat": 4,
 "nbformat_minor": 5
}
