{
 "cells": [
  {
   "cell_type": "markdown",
   "id": "c3f6f59e",
   "metadata": {
    "papermill": {
     "duration": 0.00635,
     "end_time": "2024-03-18T09:27:33.888407",
     "exception": false,
     "start_time": "2024-03-18T09:27:33.882057",
     "status": "completed"
    },
    "tags": []
   },
   "source": [
    "# Speed up your Pandas Code"
   ]
  },
  {
   "cell_type": "markdown",
   "id": "4521b315",
   "metadata": {
    "papermill": {
     "duration": 0.005277,
     "end_time": "2024-03-18T09:27:33.899473",
     "exception": false,
     "start_time": "2024-03-18T09:27:33.894196",
     "status": "completed"
    },
    "tags": []
   },
   "source": [
    "# Create our Dataset"
   ]
  },
  {
   "cell_type": "code",
   "execution_count": 1,
   "id": "108376da",
   "metadata": {
    "execution": {
     "iopub.execute_input": "2024-03-18T09:27:33.912947Z",
     "iopub.status.busy": "2024-03-18T09:27:33.912495Z",
     "iopub.status.idle": "2024-03-18T09:27:34.979423Z",
     "shell.execute_reply": "2024-03-18T09:27:34.978027Z"
    },
    "papermill": {
     "duration": 1.077313,
     "end_time": "2024-03-18T09:27:34.982445",
     "exception": false,
     "start_time": "2024-03-18T09:27:33.905132",
     "status": "completed"
    },
    "tags": []
   },
   "outputs": [],
   "source": [
    "import pandas as pd\n",
    "import numpy as np\n",
    "import matplotlib.pyplot as plt\n",
    "\n",
    "def get_data(size=10_000):\n",
    "    \"\"\"\n",
    "    Generate random data and return as a DataFrame.\n",
    "\n",
    "    Parameters:\n",
    "    size (int): Number of rows to generate (default is 10,000).\n",
    "\n",
    "    Returns:\n",
    "    pd.DataFrame: DataFrame containing random data.\n",
    "    \"\"\"\n",
    "\n",
    "    # Create an empty DataFrame\n",
    "    df = pd.DataFrame()\n",
    "\n",
    "    # Generate random data for the DataFrame columns\n",
    "    df['age'] = np.random.randint(0, 100, size)  # Random integer values between 0 and 100 for age\n",
    "    df['time_in_bed'] = np.random.randint(0, 9, size)  # Random integer values between 0 and 9 for time_in_bed\n",
    "    df['pct_sleeping'] = np.random.rand(size)  # Random float values between 0 and 1 for pct_sleeping\n",
    "    df['favorite_food'] = np.random.choice(['pizza', 'taco', 'ice-cream'], size)  # Random choices for favorite_food\n",
    "    df['hate_food'] = np.random.choice(['broccoli', 'candy corn', 'eggs'], size)  # Random choices for hate_food\n",
    "\n",
    "    return df\n"
   ]
  },
  {
   "cell_type": "code",
   "execution_count": 2,
   "id": "e8109372",
   "metadata": {
    "execution": {
     "iopub.execute_input": "2024-03-18T09:27:34.995625Z",
     "iopub.status.busy": "2024-03-18T09:27:34.995050Z",
     "iopub.status.idle": "2024-03-18T09:27:35.020370Z",
     "shell.execute_reply": "2024-03-18T09:27:35.019287Z"
    },
    "papermill": {
     "duration": 0.034962,
     "end_time": "2024-03-18T09:27:35.023223",
     "exception": false,
     "start_time": "2024-03-18T09:27:34.988261",
     "status": "completed"
    },
    "tags": []
   },
   "outputs": [],
   "source": [
    "df = get_data()"
   ]
  },
  {
   "cell_type": "markdown",
   "id": "34fbeee4",
   "metadata": {
    "papermill": {
     "duration": 0.004923,
     "end_time": "2024-03-18T09:27:35.033468",
     "exception": false,
     "start_time": "2024-03-18T09:27:35.028545",
     "status": "completed"
    },
    "tags": []
   },
   "source": [
    "# The Problem\n",
    "\n",
    "### Reward calculation:\n",
    "\n",
    "* If they were in bed for more than 5 hours AND they were sleeping for more than 50% we give them their favorite food.\n",
    "* Otherwise we give them their hate food.\n",
    "* If they are over 90 years old give their favorite food regardless."
   ]
  },
  {
   "cell_type": "code",
   "execution_count": 3,
   "id": "1ece599c",
   "metadata": {
    "execution": {
     "iopub.execute_input": "2024-03-18T09:27:35.045972Z",
     "iopub.status.busy": "2024-03-18T09:27:35.045544Z",
     "iopub.status.idle": "2024-03-18T09:27:35.052026Z",
     "shell.execute_reply": "2024-03-18T09:27:35.050825Z"
    },
    "papermill": {
     "duration": 0.016473,
     "end_time": "2024-03-18T09:27:35.055214",
     "exception": false,
     "start_time": "2024-03-18T09:27:35.038741",
     "status": "completed"
    },
    "tags": []
   },
   "outputs": [],
   "source": [
    "def reward_calc(row):\n",
    "    \"\"\"\n",
    "    Calculate reward based on specific conditions.\n",
    "\n",
    "    Parameters:\n",
    "    row (pd.Series): A row of data from a DataFrame.\n",
    "\n",
    "    Returns:\n",
    "    str: The reward based on the conditions.\n",
    "    \"\"\"\n",
    "\n",
    "    if row['age'] >= 90:\n",
    "        return row['favorite_food']\n",
    "    \n",
    "    if (row['time_in_bed'] > 5) & (row['pct_sleeping'] > 0.5):\n",
    "        return row['favorite_food']\n",
    "    \n",
    "    return row['hate_food']\n"
   ]
  },
  {
   "cell_type": "markdown",
   "id": "c0540eae",
   "metadata": {
    "papermill": {
     "duration": 0.005123,
     "end_time": "2024-03-18T09:27:35.065802",
     "exception": false,
     "start_time": "2024-03-18T09:27:35.060679",
     "status": "completed"
    },
    "tags": []
   },
   "source": [
    "# Level 1 - Loop"
   ]
  },
  {
   "cell_type": "code",
   "execution_count": 4,
   "id": "f460f18f",
   "metadata": {
    "execution": {
     "iopub.execute_input": "2024-03-18T09:27:35.078365Z",
     "iopub.status.busy": "2024-03-18T09:27:35.077712Z",
     "iopub.status.idle": "2024-03-18T09:27:37.166250Z",
     "shell.execute_reply": "2024-03-18T09:27:37.165101Z"
    },
    "papermill": {
     "duration": 2.09784,
     "end_time": "2024-03-18T09:27:37.168817",
     "exception": false,
     "start_time": "2024-03-18T09:27:35.070977",
     "status": "completed"
    },
    "tags": []
   },
   "outputs": [
    {
     "name": "stdout",
     "output_type": "stream",
     "text": [
      "259 ms ± 1.54 ms per loop (mean ± std. dev. of 7 runs, 1 loop each)\n"
     ]
    }
   ],
   "source": [
    "%%timeit\n",
    "# Apply reward_calc function to each row of the DataFrame using apply function\n",
    "df['reward'] = df.apply(reward_calc, axis=1)\n"
   ]
  },
  {
   "cell_type": "markdown",
   "id": "cf1eebda",
   "metadata": {
    "papermill": {
     "duration": 0.005236,
     "end_time": "2024-03-18T09:27:37.179513",
     "exception": false,
     "start_time": "2024-03-18T09:27:37.174277",
     "status": "completed"
    },
    "tags": []
   },
   "source": [
    "# Level 2 - Apply"
   ]
  },
  {
   "cell_type": "code",
   "execution_count": 5,
   "id": "e2d59469",
   "metadata": {
    "execution": {
     "iopub.execute_input": "2024-03-18T09:27:37.192709Z",
     "iopub.status.busy": "2024-03-18T09:27:37.191961Z",
     "iopub.status.idle": "2024-03-18T09:27:39.311078Z",
     "shell.execute_reply": "2024-03-18T09:27:39.310133Z"
    },
    "papermill": {
     "duration": 2.128918,
     "end_time": "2024-03-18T09:27:39.313913",
     "exception": false,
     "start_time": "2024-03-18T09:27:37.184995",
     "status": "completed"
    },
    "tags": []
   },
   "outputs": [
    {
     "name": "stdout",
     "output_type": "stream",
     "text": [
      "265 ms ± 13.2 ms per loop (mean ± std. dev. of 7 runs, 1 loop each)\n"
     ]
    }
   ],
   "source": [
    "%%timeit\n",
    "# Apply the reward_calc function to each row in the DataFrame using apply function\n",
    "# along the rows (axis=1) and assign the result to the 'reward' column\n",
    "df['reward'] = df.apply(reward_calc, axis=1)\n"
   ]
  },
  {
   "cell_type": "markdown",
   "id": "93ca0e34",
   "metadata": {
    "papermill": {
     "duration": 0.006,
     "end_time": "2024-03-18T09:27:39.328846",
     "exception": false,
     "start_time": "2024-03-18T09:27:39.322846",
     "status": "completed"
    },
    "tags": []
   },
   "source": [
    "# Level 3 - Vectorized"
   ]
  },
  {
   "cell_type": "code",
   "execution_count": 6,
   "id": "9c0a792c",
   "metadata": {
    "execution": {
     "iopub.execute_input": "2024-03-18T09:27:39.343199Z",
     "iopub.status.busy": "2024-03-18T09:27:39.342157Z",
     "iopub.status.idle": "2024-03-18T09:27:53.778185Z",
     "shell.execute_reply": "2024-03-18T09:27:53.776641Z"
    },
    "papermill": {
     "duration": 14.446848,
     "end_time": "2024-03-18T09:27:53.781268",
     "exception": false,
     "start_time": "2024-03-18T09:27:39.334420",
     "status": "completed"
    },
    "tags": []
   },
   "outputs": [
    {
     "name": "stdout",
     "output_type": "stream",
     "text": [
      "1.77 ms ± 28 µs per loop (mean ± std. dev. of 7 runs, 1,000 loops each)\n"
     ]
    }
   ],
   "source": [
    "%%timeit\n",
    "# Assign 'hate_food' to the 'reward' column initially\n",
    "df['reward'] = df['hate_food']\n",
    "\n",
    "# Update 'reward' column based on conditions:\n",
    "# If both pct_sleeping > 0.5 and time_in_bed > 5 or age > 90, update 'reward' with 'favorite_food'\n",
    "df.loc[((df['pct_sleeping'] > 0.5) & (df['time_in_bed'] > 5)) | (df['age'] > 90), 'reward'] = df['favorite_food']\n"
   ]
  },
  {
   "cell_type": "markdown",
   "id": "3db2ead2",
   "metadata": {
    "papermill": {
     "duration": 0.005412,
     "end_time": "2024-03-18T09:27:53.792556",
     "exception": false,
     "start_time": "2024-03-18T09:27:53.787144",
     "status": "completed"
    },
    "tags": []
   },
   "source": [
    "# Plot Diffrences"
   ]
  },
  {
   "cell_type": "code",
   "execution_count": 7,
   "id": "b755f059",
   "metadata": {
    "execution": {
     "iopub.execute_input": "2024-03-18T09:27:53.805374Z",
     "iopub.status.busy": "2024-03-18T09:27:53.804947Z",
     "iopub.status.idle": "2024-03-18T09:27:53.811585Z",
     "shell.execute_reply": "2024-03-18T09:27:53.810472Z"
    },
    "papermill": {
     "duration": 0.015856,
     "end_time": "2024-03-18T09:27:53.813958",
     "exception": false,
     "start_time": "2024-03-18T09:27:53.798102",
     "status": "completed"
    },
    "tags": []
   },
   "outputs": [],
   "source": [
    "results = pd.DataFrame(\n",
    "    [\n",
    "        [\"loop\", 33.6, 0.0331],\n",
    "        [\"apply\", 33.5, 0.0457],\n",
    "        [\"vec\", 0.344, 0.000387],\n",
    "    ],\n",
    "    columns=[\"type\", \"mean\", \"std\"]\n",
    ")\n"
   ]
  },
  {
   "cell_type": "code",
   "execution_count": 8,
   "id": "3e1c5e5c",
   "metadata": {
    "execution": {
     "iopub.execute_input": "2024-03-18T09:27:53.826769Z",
     "iopub.status.busy": "2024-03-18T09:27:53.826363Z",
     "iopub.status.idle": "2024-03-18T09:27:54.158944Z",
     "shell.execute_reply": "2024-03-18T09:27:54.157685Z"
    },
    "papermill": {
     "duration": 0.341997,
     "end_time": "2024-03-18T09:27:54.161485",
     "exception": false,
     "start_time": "2024-03-18T09:27:53.819488",
     "status": "completed"
    },
    "tags": []
   },
   "outputs": [
    {
     "data": {
      "image/png": "[encoded data removed]",
      "text/plain": [
       "<Figure size 640x480 with 1 Axes>"
      ]
     },
     "metadata": {},
     "output_type": "display_data"
    }
   ],
   "source": [
    "ax = results.set_index('type')['mean'].plot(kind='bar', color=['red', 'blue', 'green'], title='Time to Run Reward Calc')\n",
    "ax.set_ylabel('Mean Time (milliseconds)')\n",
    "ax.set_xlabel('Method')\n",
    "plt.show()\n"
   ]
  }
 ],
 "metadata": {
  "kaggle": {
   "accelerator": "none",
   "dataSources": [],
   "dockerImageVersionId": 30664,
   "isGpuEnabled": false,
   "isInternetEnabled": true,
   "language": "python",
   "sourceType": "notebook"
  },
  "kernelspec": {
   "display_name": "Python 3",
   "language": "python",
   "name": "python3"
  },
  "language_info": {
   "codemirror_mode": {
    "name": "ipython",
    "version": 3
   },
   "file_extension": ".py",
   "mimetype": "text/x-python",
   "name": "python",
   "nbconvert_exporter": "python",
   "pygments_lexer": "ipython3",
   "version": "3.10.13"
  },
  "papermill": {
   "default_parameters": {},
   "duration": 26.236757,
   "end_time": "2024-03-18T09:27:56.808292",
   "environment_variables": {},
   "exception": null,
   "input_path": "__notebook__.ipynb",
   "output_path": "__notebook__.ipynb",
   "parameters": {},
   "start_time": "2024-03-18T09:27:30.571535",
   "version": "2.5.0"
  }
 },
 "nbformat": 4,
 "nbformat_minor": 5
}
