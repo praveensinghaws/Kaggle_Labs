{
 "cells": [
  {
   "cell_type": "markdown",
   "id": "8d2b9545",
   "metadata": {
    "papermill": {
     "duration": 0.016156,
     "end_time": "2024-03-20T07:08:30.629304",
     "exception": false,
     "start_time": "2024-03-20T07:08:30.613148",
     "status": "completed"
    },
    "tags": []
   },
   "source": [
    "# Data Cleaning\n",
    "\n",
    "Data cleaning for data analytics refers to the process of identifying and correcting or removing incorrect, corrupted, improperly formatted, duplicate, or incomplete data within a dataset. This crucial step ensures that the data is accurate, consistent, and reliable for analysis or other purposes.\n",
    "\n",
    "### `Data Cleaning Steps for Data Analytics`\n",
    "\n",
    "- Handling Missing Data  `(Drop or Fill)`\n",
    "- Standardizing Data Formats `(Correct Data Format)`\n",
    "- Filtering Unwanted Outliers `(Drop Out of Range)`\n",
    "- Handling Duplicates\" `(Drop Duplicates)`\n"
   ]
  },
  {
   "cell_type": "markdown",
   "id": "879797f3",
   "metadata": {
    "papermill": {
     "duration": 0.015317,
     "end_time": "2024-03-20T07:08:30.660474",
     "exception": false,
     "start_time": "2024-03-20T07:08:30.645157",
     "status": "completed"
    },
    "tags": []
   },
   "source": [
    "# Importing necessary libraries"
   ]
  },
  {
   "cell_type": "code",
   "execution_count": 1,
   "id": "b2f60f92",
   "metadata": {
    "execution": {
     "iopub.execute_input": "2024-03-20T07:08:30.694748Z",
     "iopub.status.busy": "2024-03-20T07:08:30.694204Z",
     "iopub.status.idle": "2024-03-20T07:08:33.403557Z",
     "shell.execute_reply": "2024-03-20T07:08:33.402076Z"
    },
    "papermill": {
     "duration": 2.730507,
     "end_time": "2024-03-20T07:08:33.406698",
     "exception": false,
     "start_time": "2024-03-20T07:08:30.676191",
     "status": "completed"
    },
    "tags": []
   },
   "outputs": [],
   "source": [
    "import pandas as pd\n",
    "import numpy as np\n",
    "import matplotlib.pyplot as plt\n",
    "import seaborn as sns"
   ]
  },
  {
   "cell_type": "markdown",
   "id": "e520e251",
   "metadata": {
    "papermill": {
     "duration": 0.016924,
     "end_time": "2024-03-20T07:08:33.439880",
     "exception": false,
     "start_time": "2024-03-20T07:08:33.422956",
     "status": "completed"
    },
    "tags": []
   },
   "source": [
    "# Reading Data Set"
   ]
  },
  {
   "cell_type": "code",
   "execution_count": 2,
   "id": "4d35d342",
   "metadata": {
    "execution": {
     "iopub.execute_input": "2024-03-20T07:08:33.473594Z",
     "iopub.status.busy": "2024-03-20T07:08:33.472952Z",
     "iopub.status.idle": "2024-03-20T07:08:33.557570Z",
     "shell.execute_reply": "2024-03-20T07:08:33.556281Z"
    },
    "papermill": {
     "duration": 0.105086,
     "end_time": "2024-03-20T07:08:33.560726",
     "exception": false,
     "start_time": "2024-03-20T07:08:33.455640",
     "status": "completed"
    },
    "tags": []
   },
   "outputs": [
    {
     "data": {
      "text/html": [
       "<div>\n",
       "<style scoped>\n",
       "    .dataframe tbody tr th:only-of-type {\n",
       "        vertical-align: middle;\n",
       "    }\n",
       "\n",
       "    .dataframe tbody tr th {\n",
       "        vertical-align: top;\n",
       "    }\n",
       "\n",
       "    .dataframe thead th {\n",
       "        text-align: right;\n",
       "    }\n",
       "</style>\n",
       "<table border=\"1\" class=\"dataframe\">\n",
       "  <thead>\n",
       "    <tr style=\"text-align: right;\">\n",
       "      <th></th>\n",
       "      <th>car_name</th>\n",
       "      <th>car_prices_in_rupee</th>\n",
       "      <th>kms_driven</th>\n",
       "      <th>fuel_type</th>\n",
       "      <th>transmission</th>\n",
       "      <th>ownership</th>\n",
       "      <th>manufacture</th>\n",
       "      <th>engine</th>\n",
       "      <th>Seats</th>\n",
       "    </tr>\n",
       "  </thead>\n",
       "  <tbody>\n",
       "    <tr>\n",
       "      <th>0</th>\n",
       "      <td>Jeep Compass 2.0 Longitude Option BSIV</td>\n",
       "      <td>10.03 Lakh</td>\n",
       "      <td>86,226 kms</td>\n",
       "      <td>Diesel</td>\n",
       "      <td>Manual</td>\n",
       "      <td>1st Owner</td>\n",
       "      <td>NaN</td>\n",
       "      <td>1956 cc</td>\n",
       "      <td>5 Seats</td>\n",
       "    </tr>\n",
       "  </tbody>\n",
       "</table>\n",
       "</div>"
      ],
      "text/plain": [
       "                                 car_name car_prices_in_rupee  kms_driven  \\\n",
       "0  Jeep Compass 2.0 Longitude Option BSIV          10.03 Lakh  86,226 kms   \n",
       "\n",
       "  fuel_type transmission  ownership  manufacture   engine    Seats  \n",
       "0    Diesel       Manual  1st Owner          NaN  1956 cc  5 Seats  "
      ]
     },
     "execution_count": 2,
     "metadata": {},
     "output_type": "execute_result"
    }
   ],
   "source": [
    "# Reading the CSV file into a DataFrame, setting the first column as the index\n",
    "df = pd.read_csv(\"/kaggle/input/old-car-data-set/car_price.csv\", index_col=0)\n",
    "\n",
    "# Setting pandas option to display a maximum of 20 columns in the DataFrame\n",
    "pd.set_option('display.max_columns', 20)\n",
    "\n",
    "# Displaying the first row of the DataFrame\n",
    "df.head(1)"
   ]
  },
  {
   "cell_type": "code",
   "execution_count": 3,
   "id": "1002b2f7",
   "metadata": {
    "execution": {
     "iopub.execute_input": "2024-03-20T07:08:33.597611Z",
     "iopub.status.busy": "2024-03-20T07:08:33.596664Z",
     "iopub.status.idle": "2024-03-20T07:08:33.626734Z",
     "shell.execute_reply": "2024-03-20T07:08:33.625765Z"
    },
    "papermill": {
     "duration": 0.052241,
     "end_time": "2024-03-20T07:08:33.629659",
     "exception": false,
     "start_time": "2024-03-20T07:08:33.577418",
     "status": "completed"
    },
    "tags": []
   },
   "outputs": [
    {
     "name": "stdout",
     "output_type": "stream",
     "text": [
      "<class 'pandas.core.frame.DataFrame'>\n",
      "Index: 5512 entries, 0 to 5511\n",
      "Data columns (total 9 columns):\n",
      " #   Column               Non-Null Count  Dtype  \n",
      "---  ------               --------------  -----  \n",
      " 0   car_name             5512 non-null   object \n",
      " 1   car_prices_in_rupee  5505 non-null   object \n",
      " 2   kms_driven           5507 non-null   object \n",
      " 3   fuel_type            5509 non-null   object \n",
      " 4   transmission         5508 non-null   object \n",
      " 5   ownership            5499 non-null   object \n",
      " 6   manufacture          5511 non-null   float64\n",
      " 7   engine               5506 non-null   object \n",
      " 8   Seats                5501 non-null   object \n",
      "dtypes: float64(1), object(8)\n",
      "memory usage: 430.6+ KB\n"
     ]
    }
   ],
   "source": [
    "# Displaying information about the DataFrame\n",
    "df.info()"
   ]
  },
  {
   "cell_type": "code",
   "execution_count": 4,
   "id": "c9983415",
   "metadata": {
    "execution": {
     "iopub.execute_input": "2024-03-20T07:08:33.665709Z",
     "iopub.status.busy": "2024-03-20T07:08:33.664798Z",
     "iopub.status.idle": "2024-03-20T07:08:33.672267Z",
     "shell.execute_reply": "2024-03-20T07:08:33.670692Z"
    },
    "papermill": {
     "duration": 0.029979,
     "end_time": "2024-03-20T07:08:33.675839",
     "exception": false,
     "start_time": "2024-03-20T07:08:33.645860",
     "status": "completed"
    },
    "tags": []
   },
   "outputs": [
    {
     "data": {
      "text/plain": [
       "(5512, 9)"
      ]
     },
     "execution_count": 4,
     "metadata": {},
     "output_type": "execute_result"
    }
   ],
   "source": [
    "# Displaying the shape of the DataFrame\n",
    "df.shape"
   ]
  },
  {
   "cell_type": "markdown",
   "id": "f31729e8",
   "metadata": {
    "papermill": {
     "duration": 0.016017,
     "end_time": "2024-03-20T07:08:33.708286",
     "exception": false,
     "start_time": "2024-03-20T07:08:33.692269",
     "status": "completed"
    },
    "tags": []
   },
   "source": [
    "# Checking and Droping Null Values"
   ]
  },
  {
   "cell_type": "code",
   "execution_count": 5,
   "id": "46f08ded",
   "metadata": {
    "execution": {
     "iopub.execute_input": "2024-03-20T07:08:33.743931Z",
     "iopub.status.busy": "2024-03-20T07:08:33.743411Z",
     "iopub.status.idle": "2024-03-20T07:08:33.756952Z",
     "shell.execute_reply": "2024-03-20T07:08:33.755391Z"
    },
    "papermill": {
     "duration": 0.034817,
     "end_time": "2024-03-20T07:08:33.760041",
     "exception": false,
     "start_time": "2024-03-20T07:08:33.725224",
     "status": "completed"
    },
    "tags": []
   },
   "outputs": [],
   "source": [
    "# Calculating the percentage of missing values in each column\n",
    "percent_missing_per_column = (df.isnull().sum() / df.shape[0]) * 100"
   ]
  },
  {
   "cell_type": "code",
   "execution_count": 6,
   "id": "0cd2f4f9",
   "metadata": {
    "execution": {
     "iopub.execute_input": "2024-03-20T07:08:33.795813Z",
     "iopub.status.busy": "2024-03-20T07:08:33.794706Z",
     "iopub.status.idle": "2024-03-20T07:08:33.803819Z",
     "shell.execute_reply": "2024-03-20T07:08:33.802532Z"
    },
    "papermill": {
     "duration": 0.029969,
     "end_time": "2024-03-20T07:08:33.806668",
     "exception": false,
     "start_time": "2024-03-20T07:08:33.776699",
     "status": "completed"
    },
    "tags": []
   },
   "outputs": [
    {
     "data": {
      "text/plain": [
       "car_name               0.000000\n",
       "car_prices_in_rupee    0.126996\n",
       "kms_driven             0.090711\n",
       "fuel_type              0.054427\n",
       "transmission           0.072569\n",
       "ownership              0.235849\n",
       "manufacture            0.018142\n",
       "engine                 0.108853\n",
       "Seats                  0.199565\n",
       "dtype: float64"
      ]
     },
     "execution_count": 6,
     "metadata": {},
     "output_type": "execute_result"
    }
   ],
   "source": [
    "# Displaying the percentage of missing values in each column\n",
    "percent_missing_per_column"
   ]
  },
  {
   "cell_type": "code",
   "execution_count": 7,
   "id": "3aae709c",
   "metadata": {
    "execution": {
     "iopub.execute_input": "2024-03-20T07:08:33.842147Z",
     "iopub.status.busy": "2024-03-20T07:08:33.841642Z",
     "iopub.status.idle": "2024-03-20T07:08:33.865235Z",
     "shell.execute_reply": "2024-03-20T07:08:33.863808Z"
    },
    "papermill": {
     "duration": 0.045171,
     "end_time": "2024-03-20T07:08:33.868368",
     "exception": false,
     "start_time": "2024-03-20T07:08:33.823197",
     "status": "completed"
    },
    "tags": []
   },
   "outputs": [
    {
     "name": "stdout",
     "output_type": "stream",
     "text": [
      "car_name               0\n",
      "car_prices_in_rupee    0\n",
      "kms_driven             0\n",
      "fuel_type              0\n",
      "transmission           0\n",
      "ownership              0\n",
      "manufacture            0\n",
      "engine                 0\n",
      "Seats                  0\n",
      "dtype: int64\n"
     ]
    }
   ],
   "source": [
    "# Drop rows with missing values\n",
    "df.dropna(inplace=True)\n",
    "\n",
    "# Check the DataFrame after dropping rows\n",
    "print(df.isna().sum())\n"
   ]
  },
  {
   "cell_type": "markdown",
   "id": "57c66169",
   "metadata": {
    "papermill": {
     "duration": 0.016419,
     "end_time": "2024-03-20T07:08:33.901421",
     "exception": false,
     "start_time": "2024-03-20T07:08:33.885002",
     "status": "completed"
    },
    "tags": []
   },
   "source": [
    "# Data Cleaning of Columns"
   ]
  },
  {
   "cell_type": "markdown",
   "id": "06364be6",
   "metadata": {
    "papermill": {
     "duration": 0.016095,
     "end_time": "2024-03-20T07:08:33.934775",
     "exception": false,
     "start_time": "2024-03-20T07:08:33.918680",
     "status": "completed"
    },
    "tags": []
   },
   "source": [
    "## `Extract the company_name from car_name Column`"
   ]
  },
  {
   "cell_type": "code",
   "execution_count": 8,
   "id": "7877eb61",
   "metadata": {
    "execution": {
     "iopub.execute_input": "2024-03-20T07:08:33.971699Z",
     "iopub.status.busy": "2024-03-20T07:08:33.970396Z",
     "iopub.status.idle": "2024-03-20T07:08:33.982544Z",
     "shell.execute_reply": "2024-03-20T07:08:33.981530Z"
    },
    "papermill": {
     "duration": 0.033769,
     "end_time": "2024-03-20T07:08:33.985462",
     "exception": false,
     "start_time": "2024-03-20T07:08:33.951693",
     "status": "completed"
    },
    "tags": []
   },
   "outputs": [],
   "source": [
    "# Define a function to extract the company name from the car name\n",
    "def company_name(x):\n",
    "    return x[:x.index(\" \")]\n",
    "\n",
    "# Applying the 'company_name' function to create a new column 'company_name'\n",
    "df['company_name'] = df['car_name'].apply(company_name)"
   ]
  },
  {
   "cell_type": "markdown",
   "id": "750a6775",
   "metadata": {
    "papermill": {
     "duration": 0.016406,
     "end_time": "2024-03-20T07:08:34.018274",
     "exception": false,
     "start_time": "2024-03-20T07:08:34.001868",
     "status": "completed"
    },
    "tags": []
   },
   "source": [
    "## `Excluding the company name`"
   ]
  },
  {
   "cell_type": "code",
   "execution_count": 9,
   "id": "09651f97",
   "metadata": {
    "execution": {
     "iopub.execute_input": "2024-03-20T07:08:34.054252Z",
     "iopub.status.busy": "2024-03-20T07:08:34.052877Z",
     "iopub.status.idle": "2024-03-20T07:08:34.064991Z",
     "shell.execute_reply": "2024-03-20T07:08:34.063660Z"
    },
    "papermill": {
     "duration": 0.03328,
     "end_time": "2024-03-20T07:08:34.067997",
     "exception": false,
     "start_time": "2024-03-20T07:08:34.034717",
     "status": "completed"
    },
    "tags": []
   },
   "outputs": [],
   "source": [
    "# Define a function to extract the car name (excluding the company name)\n",
    "def car_name(x):\n",
    "    return x[x.index(\" \") + 1:]\n",
    "\n",
    "# Applying the 'car_name' function to update the 'car_name' column\n",
    "df['car_name'] = df['car_name'].apply(car_name)"
   ]
  },
  {
   "cell_type": "markdown",
   "id": "89eec465",
   "metadata": {
    "papermill": {
     "duration": 0.017384,
     "end_time": "2024-03-20T07:08:34.102136",
     "exception": false,
     "start_time": "2024-03-20T07:08:34.084752",
     "status": "completed"
    },
    "tags": []
   },
   "source": [
    "## `car_prices_in_rupee`"
   ]
  },
  {
   "cell_type": "code",
   "execution_count": 10,
   "id": "186afdd7",
   "metadata": {
    "execution": {
     "iopub.execute_input": "2024-03-20T07:08:34.138162Z",
     "iopub.status.busy": "2024-03-20T07:08:34.137639Z",
     "iopub.status.idle": "2024-03-20T07:08:34.148204Z",
     "shell.execute_reply": "2024-03-20T07:08:34.146794Z"
    },
    "papermill": {
     "duration": 0.032723,
     "end_time": "2024-03-20T07:08:34.151503",
     "exception": false,
     "start_time": "2024-03-20T07:08:34.118780",
     "status": "completed"
    },
    "tags": []
   },
   "outputs": [],
   "source": [
    "# Remove commas from the 'car_prices_in_rupee' column\n",
    "df['car_prices_in_rupee'] = df['car_prices_in_rupee'].str.replace(\",\", \"\")"
   ]
  },
  {
   "cell_type": "code",
   "execution_count": 11,
   "id": "369e2b83",
   "metadata": {
    "execution": {
     "iopub.execute_input": "2024-03-20T07:08:34.187160Z",
     "iopub.status.busy": "2024-03-20T07:08:34.186656Z",
     "iopub.status.idle": "2024-03-20T07:08:34.194602Z",
     "shell.execute_reply": "2024-03-20T07:08:34.193373Z"
    },
    "papermill": {
     "duration": 0.029186,
     "end_time": "2024-03-20T07:08:34.197421",
     "exception": false,
     "start_time": "2024-03-20T07:08:34.168235",
     "status": "completed"
    },
    "tags": []
   },
   "outputs": [],
   "source": [
    "# Define a function to convert normalized prices to INR\n",
    "def normalized_to_inr(x):\n",
    "    p = x.split(\" \")\n",
    "    try:\n",
    "        if p[1] == 'Lakh':\n",
    "            return str(round(float(p[0]) * 100000, 1))\n",
    "        elif p[1] == 'Crore':\n",
    "            return str(round(float(p[0]) * 10000000, 1))\n",
    "    except:\n",
    "        return x"
   ]
  },
  {
   "cell_type": "code",
   "execution_count": 12,
   "id": "bef4b738",
   "metadata": {
    "execution": {
     "iopub.execute_input": "2024-03-20T07:08:34.234142Z",
     "iopub.status.busy": "2024-03-20T07:08:34.233108Z",
     "iopub.status.idle": "2024-03-20T07:08:34.257849Z",
     "shell.execute_reply": "2024-03-20T07:08:34.256490Z"
    },
    "papermill": {
     "duration": 0.047153,
     "end_time": "2024-03-20T07:08:34.261250",
     "exception": false,
     "start_time": "2024-03-20T07:08:34.214097",
     "status": "completed"
    },
    "tags": []
   },
   "outputs": [],
   "source": [
    "# Apply the function to the 'car_prices_in_rupee' column\n",
    "df['car_prices_in_rupee'] = df['car_prices_in_rupee'].apply(normalized_to_inr)\n",
    "\n",
    "# Convert the 'car_prices_in_rupee' column to float64\n",
    "df['car_prices_in_rupee'] = df['car_prices_in_rupee'].astype('float64')"
   ]
  },
  {
   "cell_type": "markdown",
   "id": "768f4bc9",
   "metadata": {
    "execution": {
     "iopub.execute_input": "2024-03-20T02:50:29.727869Z",
     "iopub.status.busy": "2024-03-20T02:50:29.727499Z",
     "iopub.status.idle": "2024-03-20T02:50:29.756982Z",
     "shell.execute_reply": "2024-03-20T02:50:29.755492Z",
     "shell.execute_reply.started": "2024-03-20T02:50:29.727839Z"
    },
    "papermill": {
     "duration": 0.017158,
     "end_time": "2024-03-20T07:08:34.296008",
     "exception": false,
     "start_time": "2024-03-20T07:08:34.278850",
     "status": "completed"
    },
    "tags": []
   },
   "source": [
    "## `kms_driven`"
   ]
  },
  {
   "cell_type": "code",
   "execution_count": 13,
   "id": "44c859fb",
   "metadata": {
    "execution": {
     "iopub.execute_input": "2024-03-20T07:08:34.332366Z",
     "iopub.status.busy": "2024-03-20T07:08:34.331874Z",
     "iopub.status.idle": "2024-03-20T07:08:34.348706Z",
     "shell.execute_reply": "2024-03-20T07:08:34.347268Z"
    },
    "papermill": {
     "duration": 0.038889,
     "end_time": "2024-03-20T07:08:34.352037",
     "exception": false,
     "start_time": "2024-03-20T07:08:34.313148",
     "status": "completed"
    },
    "tags": []
   },
   "outputs": [],
   "source": [
    "# Remove commas from the 'kms_driven' column\n",
    "df['kms_driven'] = df['kms_driven'].str.replace(\",\", \"\")\n",
    "\n",
    "# Remove \"kms\" from the 'kms_driven' column\n",
    "df['kms_driven'] = df['kms_driven'].str.replace(\" kms\", \"\")\n",
    "\n",
    "# Convert the 'kms_driven' column to int64\n",
    "df['kms_driven'] = df['kms_driven'].astype(\"int64\")\n"
   ]
  },
  {
   "cell_type": "markdown",
   "id": "09c3c5f8",
   "metadata": {
    "papermill": {
     "duration": 0.017201,
     "end_time": "2024-03-20T07:08:34.480781",
     "exception": false,
     "start_time": "2024-03-20T07:08:34.463580",
     "status": "completed"
    },
    "tags": []
   },
   "source": [
    "##  `engine`"
   ]
  },
  {
   "cell_type": "code",
   "execution_count": 14,
   "id": "b1ad0900",
   "metadata": {
    "execution": {
     "iopub.execute_input": "2024-03-20T07:08:34.517674Z",
     "iopub.status.busy": "2024-03-20T07:08:34.517141Z",
     "iopub.status.idle": "2024-03-20T07:08:34.529358Z",
     "shell.execute_reply": "2024-03-20T07:08:34.528036Z"
    },
    "papermill": {
     "duration": 0.033938,
     "end_time": "2024-03-20T07:08:34.532273",
     "exception": false,
     "start_time": "2024-03-20T07:08:34.498335",
     "status": "completed"
    },
    "tags": []
   },
   "outputs": [],
   "source": [
    "# Remove \" cc\" from the 'engine' column\n",
    "df['engine'] = df['engine'].str.replace(\" cc\", \"\")\n",
    "\n",
    "# Convert the 'engine' column to int64\n",
    "df['engine'] = df['engine'].astype('int64')"
   ]
  },
  {
   "cell_type": "markdown",
   "id": "34bf4960",
   "metadata": {
    "execution": {
     "iopub.execute_input": "2024-03-20T02:59:53.947663Z",
     "iopub.status.busy": "2024-03-20T02:59:53.947245Z",
     "iopub.status.idle": "2024-03-20T02:59:53.970559Z",
     "shell.execute_reply": "2024-03-20T02:59:53.969704Z",
     "shell.execute_reply.started": "2024-03-20T02:59:53.947629Z"
    },
    "papermill": {
     "duration": 0.016144,
     "end_time": "2024-03-20T07:08:34.565936",
     "exception": false,
     "start_time": "2024-03-20T07:08:34.549792",
     "status": "completed"
    },
    "tags": []
   },
   "source": [
    "## `Seats`"
   ]
  },
  {
   "cell_type": "code",
   "execution_count": 15,
   "id": "4f0f31a9",
   "metadata": {
    "execution": {
     "iopub.execute_input": "2024-03-20T07:08:34.601687Z",
     "iopub.status.busy": "2024-03-20T07:08:34.601178Z",
     "iopub.status.idle": "2024-03-20T07:08:34.613884Z",
     "shell.execute_reply": "2024-03-20T07:08:34.612487Z"
    },
    "papermill": {
     "duration": 0.033753,
     "end_time": "2024-03-20T07:08:34.616738",
     "exception": false,
     "start_time": "2024-03-20T07:08:34.582985",
     "status": "completed"
    },
    "tags": []
   },
   "outputs": [],
   "source": [
    "# Remove \" Seats\" from the 'Seats' column\n",
    "df['Seats'] = df['Seats'].str.replace(\" Seats\", \"\")\n",
    "\n",
    "# Convert the 'Seats' column to int64\n",
    "df['Seats'] = df['Seats'].astype('int64')"
   ]
  },
  {
   "cell_type": "markdown",
   "id": "79a31eb0",
   "metadata": {
    "papermill": {
     "duration": 0.016414,
     "end_time": "2024-03-20T07:08:34.650940",
     "exception": false,
     "start_time": "2024-03-20T07:08:34.634526",
     "status": "completed"
    },
    "tags": []
   },
   "source": [
    "### `Additional Steps: Adding Random Dates in manufacture_date column in DataFrame`"
   ]
  },
  {
   "cell_type": "code",
   "execution_count": 16,
   "id": "4d2d07a2",
   "metadata": {
    "execution": {
     "iopub.execute_input": "2024-03-20T07:08:34.688557Z",
     "iopub.status.busy": "2024-03-20T07:08:34.688046Z",
     "iopub.status.idle": "2024-03-20T07:08:34.764116Z",
     "shell.execute_reply": "2024-03-20T07:08:34.762832Z"
    },
    "papermill": {
     "duration": 0.098513,
     "end_time": "2024-03-20T07:08:34.767346",
     "exception": false,
     "start_time": "2024-03-20T07:08:34.668833",
     "status": "completed"
    },
    "tags": []
   },
   "outputs": [
    {
     "data": {
      "text/html": [
       "<div>\n",
       "<style scoped>\n",
       "    .dataframe tbody tr th:only-of-type {\n",
       "        vertical-align: middle;\n",
       "    }\n",
       "\n",
       "    .dataframe tbody tr th {\n",
       "        vertical-align: top;\n",
       "    }\n",
       "\n",
       "    .dataframe thead th {\n",
       "        text-align: right;\n",
       "    }\n",
       "</style>\n",
       "<table border=\"1\" class=\"dataframe\">\n",
       "  <thead>\n",
       "    <tr style=\"text-align: right;\">\n",
       "      <th></th>\n",
       "      <th>car_name</th>\n",
       "      <th>car_prices_in_rupee</th>\n",
       "      <th>kms_driven</th>\n",
       "      <th>fuel_type</th>\n",
       "      <th>transmission</th>\n",
       "      <th>ownership</th>\n",
       "      <th>manufacture</th>\n",
       "      <th>engine</th>\n",
       "      <th>Seats</th>\n",
       "      <th>company_name</th>\n",
       "      <th>manufacture_date</th>\n",
       "    </tr>\n",
       "  </thead>\n",
       "  <tbody>\n",
       "    <tr>\n",
       "      <th>1</th>\n",
       "      <td>Duster RXZ Turbo CVT</td>\n",
       "      <td>1283000.0</td>\n",
       "      <td>13248.0</td>\n",
       "      <td>Petrol</td>\n",
       "      <td>Automatic</td>\n",
       "      <td>1st Owner</td>\n",
       "      <td>2021.0</td>\n",
       "      <td>1330.0</td>\n",
       "      <td>5.0</td>\n",
       "      <td>Renault</td>\n",
       "      <td>2021-09-16</td>\n",
       "    </tr>\n",
       "  </tbody>\n",
       "</table>\n",
       "</div>"
      ],
      "text/plain": [
       "               car_name  car_prices_in_rupee  kms_driven fuel_type  \\\n",
       "1  Duster RXZ Turbo CVT            1283000.0     13248.0    Petrol   \n",
       "\n",
       "  transmission  ownership  manufacture  engine  Seats company_name  \\\n",
       "1    Automatic  1st Owner       2021.0  1330.0    5.0      Renault   \n",
       "\n",
       "  manufacture_date  \n",
       "1       2021-09-16  "
      ]
     },
     "execution_count": 16,
     "metadata": {},
     "output_type": "execute_result"
    }
   ],
   "source": [
    "import pandas as pd\n",
    "import random\n",
    "from datetime import datetime, timedelta\n",
    "\n",
    "# Define start and end dates\n",
    "start_date = datetime(2017, 1, 1)\n",
    "end_date = datetime(2022, 12, 31)\n",
    "\n",
    "# Calculate the number of days between start and end dates\n",
    "delta = end_date - start_date\n",
    "\n",
    "# Generate random dates within the specified range\n",
    "random_dates = [start_date + timedelta(days=random.randint(0, delta.days)) for _ in range(5470)]  # Change 10 to the desired number of dates\n",
    "\n",
    "# Create an empty DataFrame\n",
    "date_df = pd.DataFrame()\n",
    "\n",
    "# Assign the 'manufacture_date' column to the DataFrame\n",
    "date_df['manufacture_date'] = pd.DataFrame(random_dates, columns=['manufacture_date'])\n",
    "\n",
    "\n",
    "# Merge the original DataFrame with the DataFrame containing the manufacture_date column\n",
    "df = pd.concat([df, date_df], axis=1)\n",
    "\n",
    "# Display the updated DataFrame\n",
    "df.head(1)"
   ]
  },
  {
   "cell_type": "code",
   "execution_count": 17,
   "id": "5093e712",
   "metadata": {
    "execution": {
     "iopub.execute_input": "2024-03-20T07:08:34.803359Z",
     "iopub.status.busy": "2024-03-20T07:08:34.802862Z",
     "iopub.status.idle": "2024-03-20T07:08:34.820788Z",
     "shell.execute_reply": "2024-03-20T07:08:34.819810Z"
    },
    "papermill": {
     "duration": 0.039514,
     "end_time": "2024-03-20T07:08:34.823940",
     "exception": false,
     "start_time": "2024-03-20T07:08:34.784426",
     "status": "completed"
    },
    "tags": []
   },
   "outputs": [
    {
     "name": "stdout",
     "output_type": "stream",
     "text": [
      "car_name               0\n",
      "car_prices_in_rupee    0\n",
      "kms_driven             0\n",
      "fuel_type              0\n",
      "transmission           0\n",
      "ownership              0\n",
      "manufacture            0\n",
      "engine                 0\n",
      "Seats                  0\n",
      "company_name           0\n",
      "manufacture_date       0\n",
      "dtype: int64\n"
     ]
    }
   ],
   "source": [
    "# Drop rows with missing values\n",
    "df.dropna(inplace=True)\n",
    "\n",
    "# Check the DataFrame after dropping rows\n",
    "print(df.isna().sum())\n"
   ]
  },
  {
   "cell_type": "code",
   "execution_count": 18,
   "id": "0a619cd3",
   "metadata": {
    "execution": {
     "iopub.execute_input": "2024-03-20T07:08:34.861392Z",
     "iopub.status.busy": "2024-03-20T07:08:34.860421Z",
     "iopub.status.idle": "2024-03-20T07:08:34.876108Z",
     "shell.execute_reply": "2024-03-20T07:08:34.874797Z"
    },
    "papermill": {
     "duration": 0.037149,
     "end_time": "2024-03-20T07:08:34.878566",
     "exception": false,
     "start_time": "2024-03-20T07:08:34.841417",
     "status": "completed"
    },
    "tags": []
   },
   "outputs": [],
   "source": [
    "df['manufacture_date'] = pd.to_datetime(df['manufacture_date'])"
   ]
  },
  {
   "cell_type": "markdown",
   "id": "b4e5455a",
   "metadata": {
    "papermill": {
     "duration": 0.017454,
     "end_time": "2024-03-20T07:08:34.913111",
     "exception": false,
     "start_time": "2024-03-20T07:08:34.895657",
     "status": "completed"
    },
    "tags": []
   },
   "source": [
    "# Data Cleaning for Machine Learning:\n",
    "\n",
    "- `Handling Missing Data`\n",
    "- `Outlier Detection & Handling`\n",
    "- `Data Scaling & Transformation`\n",
    "- `Encoding Categorical Variables`\n",
    "- `Handling Duplicates`\n",
    "- `ealing with Imbalanced Data\"`\n",
    "\n",
    "`!pip install scikit-learn`\n"
   ]
  },
  {
   "cell_type": "code",
   "execution_count": 19,
   "id": "0cebcc54",
   "metadata": {
    "execution": {
     "iopub.execute_input": "2024-03-20T07:08:34.950247Z",
     "iopub.status.busy": "2024-03-20T07:08:34.949781Z",
     "iopub.status.idle": "2024-03-20T07:08:35.216379Z",
     "shell.execute_reply": "2024-03-20T07:08:35.215145Z"
    },
    "papermill": {
     "duration": 0.289566,
     "end_time": "2024-03-20T07:08:35.219715",
     "exception": false,
     "start_time": "2024-03-20T07:08:34.930149",
     "status": "completed"
    },
    "tags": []
   },
   "outputs": [],
   "source": [
    "from sklearn.preprocessing import LabelEncoder, StandardScaler"
   ]
  },
  {
   "cell_type": "markdown",
   "id": "e0cadd7e",
   "metadata": {
    "papermill": {
     "duration": 0.017875,
     "end_time": "2024-03-20T07:08:35.254973",
     "exception": false,
     "start_time": "2024-03-20T07:08:35.237098",
     "status": "completed"
    },
    "tags": []
   },
   "source": [
    "## `car_name`"
   ]
  },
  {
   "cell_type": "code",
   "execution_count": 20,
   "id": "cc7aa935",
   "metadata": {
    "execution": {
     "iopub.execute_input": "2024-03-20T07:08:35.291374Z",
     "iopub.status.busy": "2024-03-20T07:08:35.290918Z",
     "iopub.status.idle": "2024-03-20T07:08:35.305330Z",
     "shell.execute_reply": "2024-03-20T07:08:35.304045Z"
    },
    "papermill": {
     "duration": 0.039241,
     "end_time": "2024-03-20T07:08:35.311391",
     "exception": false,
     "start_time": "2024-03-20T07:08:35.272150",
     "status": "completed"
    },
    "tags": []
   },
   "outputs": [],
   "source": [
    "# Instantiate LabelEncoder\n",
    "label_encoder = LabelEncoder()\n",
    "\n",
    "# Fit and transform car_name\n",
    "encoded_car_name = label_encoder.fit_transform(df['car_name'])\n",
    "\n",
    "df['car_name'] = encoded_car_name"
   ]
  },
  {
   "cell_type": "markdown",
   "id": "72dd3077",
   "metadata": {
    "papermill": {
     "duration": 0.016711,
     "end_time": "2024-03-20T07:08:35.345199",
     "exception": false,
     "start_time": "2024-03-20T07:08:35.328488",
     "status": "completed"
    },
    "tags": []
   },
   "source": [
    "## `fuel_type`"
   ]
  },
  {
   "cell_type": "code",
   "execution_count": 21,
   "id": "096a2832",
   "metadata": {
    "execution": {
     "iopub.execute_input": "2024-03-20T07:08:35.381677Z",
     "iopub.status.busy": "2024-03-20T07:08:35.381134Z",
     "iopub.status.idle": "2024-03-20T07:08:35.390492Z",
     "shell.execute_reply": "2024-03-20T07:08:35.388985Z"
    },
    "papermill": {
     "duration": 0.030717,
     "end_time": "2024-03-20T07:08:35.393029",
     "exception": false,
     "start_time": "2024-03-20T07:08:35.362312",
     "status": "completed"
    },
    "tags": []
   },
   "outputs": [],
   "source": [
    "# Instantiate LabelEncoder\n",
    "label_encoder = LabelEncoder()\n",
    "\n",
    "# Fit and transform fuel_type\n",
    "encoded_fuel_type = label_encoder.fit_transform(df['fuel_type'])\n",
    "\n",
    "# Replace the original 'fuel_type' column with the encoded values\n",
    "df['fuel_type'] = encoded_fuel_type"
   ]
  },
  {
   "cell_type": "markdown",
   "id": "3204a798",
   "metadata": {
    "papermill": {
     "duration": 0.017529,
     "end_time": "2024-03-20T07:08:35.427875",
     "exception": false,
     "start_time": "2024-03-20T07:08:35.410346",
     "status": "completed"
    },
    "tags": []
   },
   "source": [
    "## `transmission`"
   ]
  },
  {
   "cell_type": "code",
   "execution_count": 22,
   "id": "743ff75b",
   "metadata": {
    "execution": {
     "iopub.execute_input": "2024-03-20T07:08:35.465564Z",
     "iopub.status.busy": "2024-03-20T07:08:35.464658Z",
     "iopub.status.idle": "2024-03-20T07:08:35.472637Z",
     "shell.execute_reply": "2024-03-20T07:08:35.471529Z"
    },
    "papermill": {
     "duration": 0.030056,
     "end_time": "2024-03-20T07:08:35.475767",
     "exception": false,
     "start_time": "2024-03-20T07:08:35.445711",
     "status": "completed"
    },
    "tags": []
   },
   "outputs": [],
   "source": [
    "# Instantiate LabelEncoder\n",
    "label_encoder = LabelEncoder()\n",
    "\n",
    "# Fit and transform transmission\n",
    "encoded_transmission = label_encoder.fit_transform(df['transmission'])\n",
    "\n",
    "# Replace the original 'transmission' column with the encoded values\n",
    "df['transmission'] = encoded_transmission"
   ]
  },
  {
   "cell_type": "markdown",
   "id": "7822180b",
   "metadata": {
    "execution": {
     "iopub.execute_input": "2024-03-20T03:50:05.531259Z",
     "iopub.status.busy": "2024-03-20T03:50:05.530759Z",
     "iopub.status.idle": "2024-03-20T03:50:05.557631Z",
     "shell.execute_reply": "2024-03-20T03:50:05.556225Z",
     "shell.execute_reply.started": "2024-03-20T03:50:05.531218Z"
    },
    "papermill": {
     "duration": 0.016672,
     "end_time": "2024-03-20T07:08:35.509592",
     "exception": false,
     "start_time": "2024-03-20T07:08:35.492920",
     "status": "completed"
    },
    "tags": []
   },
   "source": [
    "## `ownership`"
   ]
  },
  {
   "cell_type": "code",
   "execution_count": 23,
   "id": "d5da6b78",
   "metadata": {
    "execution": {
     "iopub.execute_input": "2024-03-20T07:08:35.545943Z",
     "iopub.status.busy": "2024-03-20T07:08:35.545417Z",
     "iopub.status.idle": "2024-03-20T07:08:35.554589Z",
     "shell.execute_reply": "2024-03-20T07:08:35.553247Z"
    },
    "papermill": {
     "duration": 0.030432,
     "end_time": "2024-03-20T07:08:35.556939",
     "exception": false,
     "start_time": "2024-03-20T07:08:35.526507",
     "status": "completed"
    },
    "tags": []
   },
   "outputs": [],
   "source": [
    "# Instantiate LabelEncoder\n",
    "label_encoder = LabelEncoder()\n",
    "\n",
    "# Fit and transform ownership\n",
    "encoded_ownership = label_encoder.fit_transform(df['ownership'])\n",
    "\n",
    "# Replace the original 'ownership' column with the encoded values\n",
    "df['ownership'] = encoded_ownership"
   ]
  },
  {
   "cell_type": "markdown",
   "id": "1f659c20",
   "metadata": {
    "execution": {
     "iopub.execute_input": "2024-03-20T03:51:09.098637Z",
     "iopub.status.busy": "2024-03-20T03:51:09.098148Z",
     "iopub.status.idle": "2024-03-20T03:51:09.128469Z",
     "shell.execute_reply": "2024-03-20T03:51:09.127083Z",
     "shell.execute_reply.started": "2024-03-20T03:51:09.098589Z"
    },
    "papermill": {
     "duration": 0.016543,
     "end_time": "2024-03-20T07:08:35.590455",
     "exception": false,
     "start_time": "2024-03-20T07:08:35.573912",
     "status": "completed"
    },
    "tags": []
   },
   "source": [
    "## `company_name`"
   ]
  },
  {
   "cell_type": "code",
   "execution_count": 24,
   "id": "8e2174d8",
   "metadata": {
    "execution": {
     "iopub.execute_input": "2024-03-20T07:08:35.626960Z",
     "iopub.status.busy": "2024-03-20T07:08:35.626069Z",
     "iopub.status.idle": "2024-03-20T07:08:35.634480Z",
     "shell.execute_reply": "2024-03-20T07:08:35.633525Z"
    },
    "papermill": {
     "duration": 0.030127,
     "end_time": "2024-03-20T07:08:35.637491",
     "exception": false,
     "start_time": "2024-03-20T07:08:35.607364",
     "status": "completed"
    },
    "tags": []
   },
   "outputs": [],
   "source": [
    "# Instantiate LabelEncoder\n",
    "label_encoder = LabelEncoder()\n",
    "\n",
    "# Fit and transform company_name\n",
    "encoded_company_name = label_encoder.fit_transform(df['company_name'])\n",
    "\n",
    "# Replace the original 'company_name' column with the encoded values\n",
    "df['company_name'] = encoded_company_name"
   ]
  },
  {
   "cell_type": "markdown",
   "id": "7e97ee6a",
   "metadata": {
    "execution": {
     "iopub.status.busy": "2024-03-20T03:59:57.776555Z"
    },
    "papermill": {
     "duration": 0.017481,
     "end_time": "2024-03-20T07:08:35.672836",
     "exception": false,
     "start_time": "2024-03-20T07:08:35.655355",
     "status": "completed"
    },
    "tags": []
   },
   "source": [
    "## `manufacture_year`"
   ]
  },
  {
   "cell_type": "code",
   "execution_count": 25,
   "id": "6e27844d",
   "metadata": {
    "execution": {
     "iopub.execute_input": "2024-03-20T07:08:35.709522Z",
     "iopub.status.busy": "2024-03-20T07:08:35.708604Z",
     "iopub.status.idle": "2024-03-20T07:08:35.717504Z",
     "shell.execute_reply": "2024-03-20T07:08:35.716485Z"
    },
    "papermill": {
     "duration": 0.030335,
     "end_time": "2024-03-20T07:08:35.720221",
     "exception": false,
     "start_time": "2024-03-20T07:08:35.689886",
     "status": "completed"
    },
    "tags": []
   },
   "outputs": [],
   "source": [
    "# Extracting the year from the 'manufacture_date' column and storing it in a new column 'manufacture_year'\n",
    "df['manufacture_year'] = df['manufacture_date'].dt.year\n",
    "\n",
    "# Dropping the 'manufacture_date' column\n",
    "df = df.drop(columns=['manufacture_date', 'manufacture'])"
   ]
  },
  {
   "cell_type": "markdown",
   "id": "369b5d9b",
   "metadata": {
    "papermill": {
     "duration": 0.016561,
     "end_time": "2024-03-20T07:08:35.753799",
     "exception": false,
     "start_time": "2024-03-20T07:08:35.737238",
     "status": "completed"
    },
    "tags": []
   },
   "source": [
    "# Checking Outlier in Dataset"
   ]
  },
  {
   "cell_type": "code",
   "execution_count": 26,
   "id": "c49707fa",
   "metadata": {
    "execution": {
     "iopub.execute_input": "2024-03-20T07:08:35.790709Z",
     "iopub.status.busy": "2024-03-20T07:08:35.789526Z",
     "iopub.status.idle": "2024-03-20T07:08:36.089299Z",
     "shell.execute_reply": "2024-03-20T07:08:36.087749Z"
    },
    "papermill": {
     "duration": 0.321311,
     "end_time": "2024-03-20T07:08:36.092022",
     "exception": false,
     "start_time": "2024-03-20T07:08:35.770711",
     "status": "completed"
    },
    "tags": []
   },
   "outputs": [
    {
     "data": {
      "image/png": "[encoded data removed]",
      "text/plain": [
       "<Figure size 800x600 with 1 Axes>"
      ]
     },
     "metadata": {},
     "output_type": "display_data"
    }
   ],
   "source": [
    "# Car_name Column\n",
    "plt.figure(figsize=(8, 6))\n",
    "sns.boxplot(x=\"car_name\", data=df)\n",
    "plt.title(\"Boxplot of Car Names\")\n",
    "plt.xlabel(\"Car Name\")\n",
    "plt.ylabel(\"Car Prices (in Rupees)\")\n",
    "plt.show()"
   ]
  },
  {
   "cell_type": "code",
   "execution_count": 27,
   "id": "2f04fcfb",
   "metadata": {
    "execution": {
     "iopub.execute_input": "2024-03-20T07:08:36.131675Z",
     "iopub.status.busy": "2024-03-20T07:08:36.130259Z",
     "iopub.status.idle": "2024-03-20T07:08:36.402163Z",
     "shell.execute_reply": "2024-03-20T07:08:36.400577Z"
    },
    "papermill": {
     "duration": 0.294918,
     "end_time": "2024-03-20T07:08:36.405984",
     "exception": false,
     "start_time": "2024-03-20T07:08:36.111066",
     "status": "completed"
    },
    "tags": []
   },
   "outputs": [
    {
     "data": {
      "image/png": "[encoded data removed]",
      "text/plain": [
       "<Figure size 800x600 with 1 Axes>"
      ]
     },
     "metadata": {},
     "output_type": "display_data"
    }
   ],
   "source": [
    "# car_prices_in_rupee Column\n",
    "plt.figure(figsize=(8, 6))\n",
    "sns.boxplot(x=\"car_prices_in_rupee\", data=df)\n",
    "plt.title(\"Boxplot of Car Prices\")\n",
    "plt.xlabel(\"Car Prices (in Rupees)\")\n",
    "plt.show()\n"
   ]
  },
  {
   "cell_type": "code",
   "execution_count": 28,
   "id": "235c9573",
   "metadata": {
    "execution": {
     "iopub.execute_input": "2024-03-20T07:08:36.457713Z",
     "iopub.status.busy": "2024-03-20T07:08:36.457179Z",
     "iopub.status.idle": "2024-03-20T07:08:36.710336Z",
     "shell.execute_reply": "2024-03-20T07:08:36.708356Z"
    },
    "papermill": {
     "duration": 0.277439,
     "end_time": "2024-03-20T07:08:36.713767",
     "exception": false,
     "start_time": "2024-03-20T07:08:36.436328",
     "status": "completed"
    },
    "tags": []
   },
   "outputs": [
    {
     "data": {
      "image/png": "[encoded data removed]",
      "text/plain": [
       "<Figure size 800x600 with 1 Axes>"
      ]
     },
     "metadata": {},
     "output_type": "display_data"
    }
   ],
   "source": [
    "# fuel_type Column\n",
    "plt.figure(figsize=(8, 6))\n",
    "sns.boxplot(x=\"fuel_type\", data=df)\n",
    "plt.title(\"Boxplot of Fuel Type\")\n",
    "plt.xlabel(\"Fuel Type\")\n",
    "plt.show()\n"
   ]
  },
  {
   "cell_type": "code",
   "execution_count": 29,
   "id": "b25a0b45",
   "metadata": {
    "execution": {
     "iopub.execute_input": "2024-03-20T07:08:36.758224Z",
     "iopub.status.busy": "2024-03-20T07:08:36.757322Z",
     "iopub.status.idle": "2024-03-20T07:08:36.990318Z",
     "shell.execute_reply": "2024-03-20T07:08:36.989009Z"
    },
    "papermill": {
     "duration": 0.256186,
     "end_time": "2024-03-20T07:08:36.993424",
     "exception": false,
     "start_time": "2024-03-20T07:08:36.737238",
     "status": "completed"
    },
    "tags": []
   },
   "outputs": [
    {
     "data": {
      "image/png": "[encoded data removed]",
      "text/plain": [
       "<Figure size 800x600 with 1 Axes>"
      ]
     },
     "metadata": {},
     "output_type": "display_data"
    }
   ],
   "source": [
    "# engine Column\n",
    "plt.figure(figsize=(8, 6))\n",
    "sns.boxplot(x=\"engine\", data=df)\n",
    "plt.title(\"Boxplot of Engine\")\n",
    "plt.xlabel(\"Engine\")\n",
    "plt.show()\n"
   ]
  },
  {
   "cell_type": "markdown",
   "id": "780665ae",
   "metadata": {
    "papermill": {
     "duration": 0.024267,
     "end_time": "2024-03-20T07:08:37.039140",
     "exception": false,
     "start_time": "2024-03-20T07:08:37.014873",
     "status": "completed"
    },
    "tags": []
   },
   "source": [
    "# Removing Outlier"
   ]
  },
  {
   "cell_type": "code",
   "execution_count": 30,
   "id": "db0158ab",
   "metadata": {
    "execution": {
     "iopub.execute_input": "2024-03-20T07:08:37.082415Z",
     "iopub.status.busy": "2024-03-20T07:08:37.080630Z",
     "iopub.status.idle": "2024-03-20T07:08:37.090285Z",
     "shell.execute_reply": "2024-03-20T07:08:37.089142Z"
    },
    "papermill": {
     "duration": 0.033956,
     "end_time": "2024-03-20T07:08:37.093316",
     "exception": false,
     "start_time": "2024-03-20T07:08:37.059360",
     "status": "completed"
    },
    "tags": []
   },
   "outputs": [],
   "source": [
    "# Calculate the first quartile (Q1)\n",
    "q1 = np.quantile(df['engine'], 0.25)\n",
    "\n",
    "# Calculate the third quartile (Q3)\n",
    "q3 = np.quantile(df['engine'], 0.75)\n",
    "\n",
    "# Calculate the interquartile range (IQR)\n",
    "iqr = q3 - q1\n"
   ]
  },
  {
   "cell_type": "code",
   "execution_count": 31,
   "id": "b97d22dc",
   "metadata": {
    "execution": {
     "iopub.execute_input": "2024-03-20T07:08:37.133222Z",
     "iopub.status.busy": "2024-03-20T07:08:37.132725Z",
     "iopub.status.idle": "2024-03-20T07:08:37.140972Z",
     "shell.execute_reply": "2024-03-20T07:08:37.139578Z"
    },
    "papermill": {
     "duration": 0.031044,
     "end_time": "2024-03-20T07:08:37.143643",
     "exception": false,
     "start_time": "2024-03-20T07:08:37.112599",
     "status": "completed"
    },
    "tags": []
   },
   "outputs": [],
   "source": [
    "# Calculate the lower bound of the range\n",
    "min_range = q1 - (1.5 * iqr)\n",
    "\n",
    "# Calculate the upper bound of the range\n",
    "max_range = q3 + (1.5 * iqr)\n",
    "\n",
    "# Filter the DataFrame to remove outliers\n",
    "df = df[df['engine'] <= max_range]\n"
   ]
  },
  {
   "cell_type": "markdown",
   "id": "b53429f1",
   "metadata": {
    "papermill": {
     "duration": 0.01814,
     "end_time": "2024-03-20T07:08:37.180861",
     "exception": false,
     "start_time": "2024-03-20T07:08:37.162721",
     "status": "completed"
    },
    "tags": []
   },
   "source": [
    "# Scalling"
   ]
  },
  {
   "cell_type": "code",
   "execution_count": 32,
   "id": "08255d78",
   "metadata": {
    "execution": {
     "iopub.execute_input": "2024-03-20T07:08:37.221407Z",
     "iopub.status.busy": "2024-03-20T07:08:37.220419Z",
     "iopub.status.idle": "2024-03-20T07:08:37.240929Z",
     "shell.execute_reply": "2024-03-20T07:08:37.239608Z"
    },
    "papermill": {
     "duration": 0.044568,
     "end_time": "2024-03-20T07:08:37.243870",
     "exception": false,
     "start_time": "2024-03-20T07:08:37.199302",
     "status": "completed"
    },
    "tags": []
   },
   "outputs": [
    {
     "data": {
      "text/html": [
       "<div>\n",
       "<style scoped>\n",
       "    .dataframe tbody tr th:only-of-type {\n",
       "        vertical-align: middle;\n",
       "    }\n",
       "\n",
       "    .dataframe tbody tr th {\n",
       "        vertical-align: top;\n",
       "    }\n",
       "\n",
       "    .dataframe thead th {\n",
       "        text-align: right;\n",
       "    }\n",
       "</style>\n",
       "<table border=\"1\" class=\"dataframe\">\n",
       "  <thead>\n",
       "    <tr style=\"text-align: right;\">\n",
       "      <th></th>\n",
       "      <th>kms_driven</th>\n",
       "      <th>engine</th>\n",
       "      <th>Seats</th>\n",
       "    </tr>\n",
       "  </thead>\n",
       "  <tbody>\n",
       "    <tr>\n",
       "      <th>0</th>\n",
       "      <td>-1.195998</td>\n",
       "      <td>-0.270230</td>\n",
       "      <td>-0.341055</td>\n",
       "    </tr>\n",
       "    <tr>\n",
       "      <th>1</th>\n",
       "      <td>-0.876395</td>\n",
       "      <td>-0.573848</td>\n",
       "      <td>-0.341055</td>\n",
       "    </tr>\n",
       "    <tr>\n",
       "      <th>2</th>\n",
       "      <td>-0.329235</td>\n",
       "      <td>-0.578484</td>\n",
       "      <td>-0.341055</td>\n",
       "    </tr>\n",
       "    <tr>\n",
       "      <th>3</th>\n",
       "      <td>-0.101225</td>\n",
       "      <td>-0.578484</td>\n",
       "      <td>-0.341055</td>\n",
       "    </tr>\n",
       "    <tr>\n",
       "      <th>4</th>\n",
       "      <td>0.525219</td>\n",
       "      <td>-0.117262</td>\n",
       "      <td>-0.341055</td>\n",
       "    </tr>\n",
       "  </tbody>\n",
       "</table>\n",
       "</div>"
      ],
      "text/plain": [
       "   kms_driven    engine     Seats\n",
       "0   -1.195998 -0.270230 -0.341055\n",
       "1   -0.876395 -0.573848 -0.341055\n",
       "2   -0.329235 -0.578484 -0.341055\n",
       "3   -0.101225 -0.578484 -0.341055\n",
       "4    0.525219 -0.117262 -0.341055"
      ]
     },
     "execution_count": 32,
     "metadata": {},
     "output_type": "execute_result"
    }
   ],
   "source": [
    "# Instantiate StandardScaler\n",
    "scaler = StandardScaler()\n",
    "\n",
    "# Fit and transform data\n",
    "scaled_data = scaler.fit_transform(df[['kms_driven', 'engine', 'Seats']])\n",
    "\n",
    "# Convert the scaled data back to a DataFrame\n",
    "scaled_df = pd.DataFrame(scaled_data, columns=df[['kms_driven', 'engine', 'Seats']].columns)\n",
    "\n",
    "scaled_df.head()"
   ]
  }
 ],
 "metadata": {
  "kaggle": {
   "accelerator": "none",
   "dataSources": [
    {
     "datasetId": 4632737,
     "sourceId": 7890789,
     "sourceType": "datasetVersion"
    }
   ],
   "dockerImageVersionId": 30664,
   "isGpuEnabled": false,
   "isInternetEnabled": true,
   "language": "python",
   "sourceType": "notebook"
  },
  "kernelspec": {
   "display_name": "Python 3",
   "language": "python",
   "name": "python3"
  },
  "language_info": {
   "codemirror_mode": {
    "name": "ipython",
    "version": 3
   },
   "file_extension": ".py",
   "mimetype": "text/x-python",
   "name": "python",
   "nbconvert_exporter": "python",
   "pygments_lexer": "ipython3",
   "version": "3.10.13"
  },
  "papermill": {
   "default_parameters": {},
   "duration": 10.720846,
   "end_time": "2024-03-20T07:08:37.987318",
   "environment_variables": {},
   "exception": null,
   "input_path": "__notebook__.ipynb",
   "output_path": "__notebook__.ipynb",
   "parameters": {},
   "start_time": "2024-03-20T07:08:27.266472",
   "version": "2.5.0"
  }
 },
 "nbformat": 4,
 "nbformat_minor": 5
}
